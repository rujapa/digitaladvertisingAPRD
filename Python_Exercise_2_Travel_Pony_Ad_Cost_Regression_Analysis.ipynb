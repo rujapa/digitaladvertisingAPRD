{
  "nbformat": 4,
  "nbformat_minor": 0,
  "metadata": {
    "colab": {
      "name": "Python Exercise 2_Travel Pony Ad Cost Regression Analysis.ipynb",
      "provenance": []
    },
    "kernelspec": {
      "display_name": "Python 3",
      "language": "python",
      "name": "python3"
    },
    "language_info": {
      "codemirror_mode": {
        "name": "ipython",
        "version": 3
      },
      "file_extension": ".py",
      "mimetype": "text/x-python",
      "name": "python",
      "nbconvert_exporter": "python",
      "pygments_lexer": "ipython3",
      "version": "3.7.3"
    }
  },
  "cells": [
    {
      "cell_type": "markdown",
      "metadata": {
        "id": "0apzRrbMQPwn",
        "colab_type": "text"
      },
      "source": [
        "**Python Exercise 2: Travel Pony Ad Cost Regression Analysis**  \n",
        "Objective : Use multiple regression to analyze data"
      ]
    },
    {
      "cell_type": "code",
      "metadata": {
        "colab_type": "code",
        "id": "fhKRPJlmZdYW",
        "colab": {}
      },
      "source": [
        "import numpy as np\n",
        "import pandas as pd\n",
        "import seaborn as sns\n",
        "import statsmodels.api as sm\n",
        "import matplotlib.pyplot as plt\n",
        "from IPython.core.interactiveshell import InteractiveShell\n",
        "InteractiveShell.ast_node_interactivity = \"all\" "
      ],
      "execution_count": 0,
      "outputs": []
    },
    {
      "cell_type": "code",
      "metadata": {
        "colab_type": "code",
        "id": "7RYEfqQjZkJJ",
        "colab": {}
      },
      "source": [
        "#import file\n",
        "from google.colab import drive\n",
        "drive.mount('/content/drive')\n",
        "df=pd.read_csv(open('drive/My Drive/APRD Digital ads/Homework/Travel Pony Facebook.csv','rb'))"
      ],
      "execution_count": 0,
      "outputs": []
    },
    {
      "cell_type": "code",
      "metadata": {
        "colab_type": "code",
        "id": "Q6ivqWXoOMSN",
        "outputId": "cb8cb2cd-f045-4c6c-c465-8b365b0aee9e",
        "colab": {
          "base_uri": "https://localhost:8080/",
          "height": 606
        }
      },
      "source": [
        "df"
      ],
      "execution_count": 0,
      "outputs": [
        {
          "output_type": "execute_result",
          "data": {
            "text/html": [
              "<div>\n",
              "<style scoped>\n",
              "    .dataframe tbody tr th:only-of-type {\n",
              "        vertical-align: middle;\n",
              "    }\n",
              "\n",
              "    .dataframe tbody tr th {\n",
              "        vertical-align: top;\n",
              "    }\n",
              "\n",
              "    .dataframe thead th {\n",
              "        text-align: right;\n",
              "    }\n",
              "</style>\n",
              "<table border=\"1\" class=\"dataframe\">\n",
              "  <thead>\n",
              "    <tr style=\"text-align: right;\">\n",
              "      <th></th>\n",
              "      <th>Start Date</th>\n",
              "      <th>End Date</th>\n",
              "      <th>Account</th>\n",
              "      <th>Campaign Name</th>\n",
              "      <th>Reach</th>\n",
              "      <th>Frequency</th>\n",
              "      <th>Impressions</th>\n",
              "      <th>Clicks</th>\n",
              "      <th>Unique Clicks</th>\n",
              "      <th>Amount Spent (USD)</th>\n",
              "      <th>Page Likes</th>\n",
              "      <th>Page Engagement</th>\n",
              "      <th>Post Engagement</th>\n",
              "      <th>Post Likes</th>\n",
              "      <th>Post Comments</th>\n",
              "      <th>Post Shares</th>\n",
              "      <th>Photo Views</th>\n",
              "      <th>Website Clicks</th>\n",
              "      <th>Cost per Page Like (USD)</th>\n",
              "      <th>Cost per Page Engagement (USD)</th>\n",
              "    </tr>\n",
              "  </thead>\n",
              "  <tbody>\n",
              "    <tr>\n",
              "      <th>0</th>\n",
              "      <td>2013-12-02</td>\n",
              "      <td>2013-12-02</td>\n",
              "      <td>Bob Jackson</td>\n",
              "      <td>Cyber Weekend</td>\n",
              "      <td>278117</td>\n",
              "      <td>2.314303</td>\n",
              "      <td>643647</td>\n",
              "      <td>336</td>\n",
              "      <td>313</td>\n",
              "      <td>300.00</td>\n",
              "      <td>3</td>\n",
              "      <td>246</td>\n",
              "      <td>243</td>\n",
              "      <td>0</td>\n",
              "      <td>0</td>\n",
              "      <td>0</td>\n",
              "      <td>0</td>\n",
              "      <td>243</td>\n",
              "      <td>100.00</td>\n",
              "      <td>1.219512</td>\n",
              "    </tr>\n",
              "    <tr>\n",
              "      <th>1</th>\n",
              "      <td>2013-12-01</td>\n",
              "      <td>2013-12-01</td>\n",
              "      <td>Bob Jackson</td>\n",
              "      <td>Cyber Weekend</td>\n",
              "      <td>221255</td>\n",
              "      <td>2.079090</td>\n",
              "      <td>460009</td>\n",
              "      <td>376</td>\n",
              "      <td>348</td>\n",
              "      <td>300.00</td>\n",
              "      <td>6</td>\n",
              "      <td>215</td>\n",
              "      <td>209</td>\n",
              "      <td>0</td>\n",
              "      <td>0</td>\n",
              "      <td>0</td>\n",
              "      <td>0</td>\n",
              "      <td>209</td>\n",
              "      <td>50.00</td>\n",
              "      <td>1.395349</td>\n",
              "    </tr>\n",
              "    <tr>\n",
              "      <th>2</th>\n",
              "      <td>2013-11-30</td>\n",
              "      <td>2013-11-30</td>\n",
              "      <td>Bob Jackson</td>\n",
              "      <td>Cyber Weekend</td>\n",
              "      <td>267915</td>\n",
              "      <td>2.499069</td>\n",
              "      <td>669538</td>\n",
              "      <td>383</td>\n",
              "      <td>345</td>\n",
              "      <td>300.00</td>\n",
              "      <td>2</td>\n",
              "      <td>252</td>\n",
              "      <td>250</td>\n",
              "      <td>0</td>\n",
              "      <td>0</td>\n",
              "      <td>0</td>\n",
              "      <td>0</td>\n",
              "      <td>250</td>\n",
              "      <td>150.00</td>\n",
              "      <td>1.190476</td>\n",
              "    </tr>\n",
              "    <tr>\n",
              "      <th>3</th>\n",
              "      <td>2013-11-29</td>\n",
              "      <td>2013-11-29</td>\n",
              "      <td>Bob Jackson</td>\n",
              "      <td>Cyber Weekend</td>\n",
              "      <td>280332</td>\n",
              "      <td>2.365406</td>\n",
              "      <td>663099</td>\n",
              "      <td>301</td>\n",
              "      <td>275</td>\n",
              "      <td>300.00</td>\n",
              "      <td>3</td>\n",
              "      <td>257</td>\n",
              "      <td>254</td>\n",
              "      <td>0</td>\n",
              "      <td>0</td>\n",
              "      <td>0</td>\n",
              "      <td>0</td>\n",
              "      <td>254</td>\n",
              "      <td>100.00</td>\n",
              "      <td>1.167315</td>\n",
              "    </tr>\n",
              "    <tr>\n",
              "      <th>4</th>\n",
              "      <td>2013-11-22</td>\n",
              "      <td>2013-11-22</td>\n",
              "      <td>Bob Jackson</td>\n",
              "      <td>TravelPony: General Ads</td>\n",
              "      <td>14269</td>\n",
              "      <td>1.000420</td>\n",
              "      <td>14275</td>\n",
              "      <td>64</td>\n",
              "      <td>61</td>\n",
              "      <td>35.18</td>\n",
              "      <td>2</td>\n",
              "      <td>14</td>\n",
              "      <td>12</td>\n",
              "      <td>0</td>\n",
              "      <td>0</td>\n",
              "      <td>0</td>\n",
              "      <td>0</td>\n",
              "      <td>12</td>\n",
              "      <td>17.59</td>\n",
              "      <td>2.512857</td>\n",
              "    </tr>\n",
              "    <tr>\n",
              "      <th>...</th>\n",
              "      <td>...</td>\n",
              "      <td>...</td>\n",
              "      <td>...</td>\n",
              "      <td>...</td>\n",
              "      <td>...</td>\n",
              "      <td>...</td>\n",
              "      <td>...</td>\n",
              "      <td>...</td>\n",
              "      <td>...</td>\n",
              "      <td>...</td>\n",
              "      <td>...</td>\n",
              "      <td>...</td>\n",
              "      <td>...</td>\n",
              "      <td>...</td>\n",
              "      <td>...</td>\n",
              "      <td>...</td>\n",
              "      <td>...</td>\n",
              "      <td>...</td>\n",
              "      <td>...</td>\n",
              "      <td>...</td>\n",
              "    </tr>\n",
              "    <tr>\n",
              "      <th>3700</th>\n",
              "      <td>2013-06-11</td>\n",
              "      <td>2013-06-11</td>\n",
              "      <td>Bob Jackson</td>\n",
              "      <td>Ad 1</td>\n",
              "      <td>298</td>\n",
              "      <td>1.003356</td>\n",
              "      <td>299</td>\n",
              "      <td>2</td>\n",
              "      <td>1</td>\n",
              "      <td>1.05</td>\n",
              "      <td>0</td>\n",
              "      <td>1</td>\n",
              "      <td>1</td>\n",
              "      <td>1</td>\n",
              "      <td>0</td>\n",
              "      <td>0</td>\n",
              "      <td>0</td>\n",
              "      <td>0</td>\n",
              "      <td>0.00</td>\n",
              "      <td>1.050000</td>\n",
              "    </tr>\n",
              "    <tr>\n",
              "      <th>3701</th>\n",
              "      <td>2013-06-10</td>\n",
              "      <td>2013-06-10</td>\n",
              "      <td>Bob Jackson</td>\n",
              "      <td>Ad 1</td>\n",
              "      <td>514</td>\n",
              "      <td>1.060311</td>\n",
              "      <td>545</td>\n",
              "      <td>3</td>\n",
              "      <td>3</td>\n",
              "      <td>1.60</td>\n",
              "      <td>0</td>\n",
              "      <td>3</td>\n",
              "      <td>3</td>\n",
              "      <td>3</td>\n",
              "      <td>0</td>\n",
              "      <td>0</td>\n",
              "      <td>0</td>\n",
              "      <td>0</td>\n",
              "      <td>0.00</td>\n",
              "      <td>0.533333</td>\n",
              "    </tr>\n",
              "    <tr>\n",
              "      <th>3702</th>\n",
              "      <td>2013-06-09</td>\n",
              "      <td>2013-06-09</td>\n",
              "      <td>Bob Jackson</td>\n",
              "      <td>Ad 1</td>\n",
              "      <td>111</td>\n",
              "      <td>1.000000</td>\n",
              "      <td>111</td>\n",
              "      <td>1</td>\n",
              "      <td>1</td>\n",
              "      <td>0.99</td>\n",
              "      <td>0</td>\n",
              "      <td>1</td>\n",
              "      <td>1</td>\n",
              "      <td>1</td>\n",
              "      <td>0</td>\n",
              "      <td>0</td>\n",
              "      <td>0</td>\n",
              "      <td>0</td>\n",
              "      <td>0.00</td>\n",
              "      <td>0.990000</td>\n",
              "    </tr>\n",
              "    <tr>\n",
              "      <th>3703</th>\n",
              "      <td>2013-06-08</td>\n",
              "      <td>2013-06-08</td>\n",
              "      <td>Bob Jackson</td>\n",
              "      <td>Ad 1</td>\n",
              "      <td>143</td>\n",
              "      <td>1.000000</td>\n",
              "      <td>143</td>\n",
              "      <td>3</td>\n",
              "      <td>3</td>\n",
              "      <td>0.95</td>\n",
              "      <td>0</td>\n",
              "      <td>3</td>\n",
              "      <td>3</td>\n",
              "      <td>3</td>\n",
              "      <td>0</td>\n",
              "      <td>0</td>\n",
              "      <td>0</td>\n",
              "      <td>0</td>\n",
              "      <td>0.00</td>\n",
              "      <td>0.316667</td>\n",
              "    </tr>\n",
              "    <tr>\n",
              "      <th>3704</th>\n",
              "      <td>2013-06-07</td>\n",
              "      <td>2013-06-07</td>\n",
              "      <td>Bob Jackson</td>\n",
              "      <td>Ad 1</td>\n",
              "      <td>4711</td>\n",
              "      <td>1.087243</td>\n",
              "      <td>5122</td>\n",
              "      <td>1</td>\n",
              "      <td>1</td>\n",
              "      <td>2.25</td>\n",
              "      <td>0</td>\n",
              "      <td>0</td>\n",
              "      <td>0</td>\n",
              "      <td>0</td>\n",
              "      <td>0</td>\n",
              "      <td>0</td>\n",
              "      <td>0</td>\n",
              "      <td>0</td>\n",
              "      <td>0.00</td>\n",
              "      <td>0.000000</td>\n",
              "    </tr>\n",
              "  </tbody>\n",
              "</table>\n",
              "<p>3705 rows × 20 columns</p>\n",
              "</div>"
            ],
            "text/plain": [
              "      Start Date  ... Cost per Page Engagement (USD)\n",
              "0     2013-12-02  ...                       1.219512\n",
              "1     2013-12-01  ...                       1.395349\n",
              "2     2013-11-30  ...                       1.190476\n",
              "3     2013-11-29  ...                       1.167315\n",
              "4     2013-11-22  ...                       2.512857\n",
              "...          ...  ...                            ...\n",
              "3700  2013-06-11  ...                       1.050000\n",
              "3701  2013-06-10  ...                       0.533333\n",
              "3702  2013-06-09  ...                       0.990000\n",
              "3703  2013-06-08  ...                       0.316667\n",
              "3704  2013-06-07  ...                       0.000000\n",
              "\n",
              "[3705 rows x 20 columns]"
            ]
          },
          "metadata": {
            "tags": []
          },
          "execution_count": 66
        }
      ]
    },
    {
      "cell_type": "markdown",
      "metadata": {
        "colab_type": "text",
        "id": "i-0nvCu7PG_L"
      },
      "source": [
        "Question 1 Create scatter plots for spend and: reach, frequency, impressions and clicks. Do you see a linear relationships? As a result, do you think linear regression will work for this problem?"
      ]
    },
    {
      "cell_type": "code",
      "metadata": {
        "colab_type": "code",
        "id": "NqIFWT4zPFn1",
        "colab": {}
      },
      "source": [
        "#remove rows that have amount spent \n",
        "df1 = df[df['Amount Spent (USD)'] > 0]"
      ],
      "execution_count": 0,
      "outputs": []
    },
    {
      "cell_type": "code",
      "metadata": {
        "colab_type": "code",
        "id": "CLGyCyI7Zm6Z",
        "outputId": "e664ab65-a4a7-492e-8f28-883655ceb496",
        "colab": {
          "base_uri": "https://localhost:8080/",
          "height": 296
        }
      },
      "source": [
        "#graph a histogram of Amount Spent using Seaborn\n",
        "sns.set_style('darkgrid')\n",
        "sns.distplot(df1['Amount Spent (USD)'])"
      ],
      "execution_count": 0,
      "outputs": [
        {
          "output_type": "execute_result",
          "data": {
            "text/plain": [
              "<matplotlib.axes._subplots.AxesSubplot at 0x7feecfb26be0>"
            ]
          },
          "metadata": {
            "tags": []
          },
          "execution_count": 68
        },
        {
          "output_type": "display_data",
          "data": {
            "image/png": "[encoded data removed]",
            "text/plain": [
              "<Figure size 432x288 with 1 Axes>"
            ]
          },
          "metadata": {
            "tags": []
          }
        }
      ]
    },
    {
      "cell_type": "code",
      "metadata": {
        "colab_type": "code",
        "id": "9i-yyzAVOOQh",
        "outputId": "ef72f87e-6f44-4b74-c42f-f50569c7fed0",
        "colab": {
          "base_uri": "https://localhost:8080/",
          "height": 882
        }
      },
      "source": [
        "sns.jointplot('Amount Spent (USD)','Reach',data=df1,kind='scatter')\n",
        "sns.jointplot('Amount Spent (USD)','Reach',data=df1,kind='reg')"
      ],
      "execution_count": 0,
      "outputs": [
        {
          "output_type": "execute_result",
          "data": {
            "text/plain": [
              "<seaborn.axisgrid.JointGrid at 0x7feecf98a550>"
            ]
          },
          "metadata": {
            "tags": []
          },
          "execution_count": 69
        },
        {
          "output_type": "execute_result",
          "data": {
            "text/plain": [
              "<seaborn.axisgrid.JointGrid at 0x7feecf815470>"
            ]
          },
          "metadata": {
            "tags": []
          },
          "execution_count": 69
        },
        {
          "output_type": "display_data",
          "data": {
            "image/png": "[encoded data removed]",
            "text/plain": [
              "<Figure size 432x432 with 3 Axes>"
            ]
          },
          "metadata": {
            "tags": []
          }
        },
        {
          "output_type": "display_data",
          "data": {
            "image/png": "[encoded data removed]",
            "text/plain": [
              "<Figure size 432x432 with 3 Axes>"
            ]
          },
          "metadata": {
            "tags": []
          }
        }
      ]
    },
    {
      "cell_type": "code",
      "metadata": {
        "colab_type": "code",
        "id": "epi0E-NDWjI2",
        "outputId": "9d2f8d66-db70-43b6-af36-7ece121415e0",
        "colab": {
          "base_uri": "https://localhost:8080/",
          "height": 458
        }
      },
      "source": [
        "sns.jointplot('Amount Spent (USD)','Frequency',data=df1,kind='reg')"
      ],
      "execution_count": 0,
      "outputs": [
        {
          "output_type": "execute_result",
          "data": {
            "text/plain": [
              "<seaborn.axisgrid.JointGrid at 0x7feecf495470>"
            ]
          },
          "metadata": {
            "tags": []
          },
          "execution_count": 70
        },
        {
          "output_type": "display_data",
          "data": {
            "image/png": "[encoded data removed]",
            "text/plain": [
              "<Figure size 432x432 with 3 Axes>"
            ]
          },
          "metadata": {
            "tags": []
          }
        }
      ]
    },
    {
      "cell_type": "code",
      "metadata": {
        "colab_type": "code",
        "id": "LQkqc6O4W3tC",
        "outputId": "58257bcf-443b-4a02-c2ad-4e9e25313a68",
        "colab": {
          "base_uri": "https://localhost:8080/",
          "height": 458
        }
      },
      "source": [
        "sns.jointplot('Amount Spent (USD)','Impressions',data=df1,kind='reg')"
      ],
      "execution_count": 0,
      "outputs": [
        {
          "output_type": "execute_result",
          "data": {
            "text/plain": [
              "<seaborn.axisgrid.JointGrid at 0x7feecf3d40b8>"
            ]
          },
          "metadata": {
            "tags": []
          },
          "execution_count": 71
        },
        {
          "output_type": "display_data",
          "data": {
            "image/png": "[encoded data removed]",
            "text/plain": [
              "<Figure size 432x432 with 3 Axes>"
            ]
          },
          "metadata": {
            "tags": []
          }
        }
      ]
    },
    {
      "cell_type": "code",
      "metadata": {
        "colab_type": "code",
        "id": "_bBwYUt5XBM-",
        "outputId": "4f522b96-61c1-446e-bd48-ab8548262c9a",
        "colab": {
          "base_uri": "https://localhost:8080/",
          "height": 458
        }
      },
      "source": [
        "sns.jointplot('Amount Spent (USD)','Clicks',data=df1,kind='reg')"
      ],
      "execution_count": 0,
      "outputs": [
        {
          "output_type": "execute_result",
          "data": {
            "text/plain": [
              "<seaborn.axisgrid.JointGrid at 0x7feecf447748>"
            ]
          },
          "metadata": {
            "tags": []
          },
          "execution_count": 72
        },
        {
          "output_type": "display_data",
          "data": {
            "image/png": "[encoded data removed]",
            "text/plain": [
              "<Figure size 432x432 with 3 Axes>"
            ]
          },
          "metadata": {
            "tags": []
          }
        }
      ]
    },
    {
      "cell_type": "markdown",
      "metadata": {
        "colab_type": "text",
        "id": "tczWDLtRYGSn"
      },
      "source": [
        "Question 2 build a multiple regression"
      ]
    },
    {
      "cell_type": "code",
      "metadata": {
        "colab_type": "code",
        "id": "LCImSZMRgwA7",
        "colab": {}
      },
      "source": [
        "#import library\n",
        "import pandas as pd\n",
        "import numpy as np\n",
        "import itertools\n",
        "from itertools import chain, combinations\n",
        "import statsmodels.formula.api as smf\n",
        "import scipy.stats as scipystats\n",
        "import statsmodels.api as sm\n",
        "import statsmodels.stats.stattools as stools\n",
        "import statsmodels.stats as stats\n",
        "from statsmodels.graphics.regressionplots import *\n",
        "import matplotlib.pyplot as plt\n",
        "import seaborn as sns\n",
        "import copy\n",
        "import math\n",
        "import time\n",
        "%matplotlib inline"
      ],
      "execution_count": 0,
      "outputs": []
    },
    {
      "cell_type": "code",
      "metadata": {
        "colab_type": "code",
        "id": "8qs5J1orZNJD",
        "outputId": "968692b5-551c-4262-8eea-5c27e094770f",
        "colab": {
          "base_uri": "https://localhost:8080/",
          "height": 34
        }
      },
      "source": [
        "type(df)"
      ],
      "execution_count": 0,
      "outputs": [
        {
          "output_type": "execute_result",
          "data": {
            "text/plain": [
              "pandas.core.frame.DataFrame"
            ]
          },
          "metadata": {
            "tags": []
          },
          "execution_count": 8
        }
      ]
    },
    {
      "cell_type": "code",
      "metadata": {
        "colab_type": "code",
        "id": "pD8sT1_kmbVZ",
        "colab": {}
      },
      "source": [
        "name = df1['Campaign Name']"
      ],
      "execution_count": 0,
      "outputs": []
    },
    {
      "cell_type": "code",
      "metadata": {
        "colab_type": "code",
        "id": "d1Rcp0BZ9wi3",
        "colab": {}
      },
      "source": [
        "#remove text that we dont use\n",
        "a=df1['Campaign Name'].str.replace(\"-\",\"\")\n",
        "a=a.str.replace('\\d+',\"\")\n",
        "df1.loc['Campaign Name']=a.str.replace('[^a-zA-Z0-9:\\s+]',\"\")"
      ],
      "execution_count": 0,
      "outputs": []
    },
    {
      "cell_type": "code",
      "metadata": {
        "colab_type": "code",
        "id": "xI23bphGFJ_T",
        "outputId": "f6e02473-32b0-428d-a58a-5c85655dd2a4",
        "colab": {
          "base_uri": "https://localhost:8080/",
          "height": 102
        }
      },
      "source": [
        "#Build a multiple regression by creating dummy variables\n",
        "campaign = pd.get_dummies(df1['Campaign Name'])\n",
        "df2 = pd.concat([df1, campaign], axis=1)\n",
        "df2['Campaign Name'].unique()"
      ],
      "execution_count": 0,
      "outputs": [
        {
          "output_type": "execute_result",
          "data": {
            "text/plain": [
              "array(['Cyber Weekend', 'TravelPony: General Ads',\n",
              "       'TravelPony: Conversion Test',\n",
              "       'Post: You need to get some real sun and we are here to',\n",
              "       'Nanigans', 'SimpleMultiFillCampaign', 'http:travelponyClicksUS',\n",
              "       'TravelponyPage LikesUS', 'Ad ', nan], dtype=object)"
            ]
          },
          "metadata": {
            "tags": []
          },
          "execution_count": 33
        }
      ]
    },
    {
      "cell_type": "code",
      "metadata": {
        "colab_type": "code",
        "id": "FzJo5FNR-i3i",
        "colab": {}
      },
      "source": [
        "X = df2[['Reach','Frequency','Impressions','Clicks','Unique Clicks','Page Likes','Page Engagement','Post Engagement','Post Likes','Post Comments','Post Shares','Photo Views','Website Clicks','Cyber Weekend', 'TravelPony: General Ads',\n",
        "       'TravelPony: Conversion Test',\n",
        "       'Post: You need to get some real sun and we are here to',\n",
        "       'Nanigans', 'SimpleMultiFillCampaign', 'http:travelponyClicksUS',\n",
        "       'TravelponyPage LikesUS', 'Ad ']]\n",
        "Y = df2['Amount Spent (USD)']"
      ],
      "execution_count": 0,
      "outputs": []
    },
    {
      "cell_type": "code",
      "metadata": {
        "colab_type": "code",
        "id": "BupaUHmO2MkC",
        "outputId": "1a72e036-18c2-4d4c-f3a0-1514b96ea117",
        "colab": {
          "base_uri": "https://localhost:8080/",
          "height": 1000
        }
      },
      "source": [
        "model = sm.OLS(df2['Amount Spent (USD)'], X).fit()\n",
        "model.summary()"
      ],
      "execution_count": 0,
      "outputs": [
        {
          "output_type": "execute_result",
          "data": {
            "text/html": [
              "<table class=\"simpletable\">\n",
              "<caption>OLS Regression Results</caption>\n",
              "<tr>\n",
              "  <th>Dep. Variable:</th>    <td>Amount Spent (USD)</td> <th>  R-squared:         </th> <td>   0.935</td> \n",
              "</tr>\n",
              "<tr>\n",
              "  <th>Model:</th>                    <td>OLS</td>        <th>  Adj. R-squared:    </th> <td>   0.934</td> \n",
              "</tr>\n",
              "<tr>\n",
              "  <th>Method:</th>              <td>Least Squares</td>   <th>  F-statistic:       </th> <td>   1282.</td> \n",
              "</tr>\n",
              "<tr>\n",
              "  <th>Date:</th>              <td>Wed, 20 Nov 2019</td>  <th>  Prob (F-statistic):</th>  <td>  0.00</td>  \n",
              "</tr>\n",
              "<tr>\n",
              "  <th>Time:</th>                  <td>11:42:01</td>      <th>  Log-Likelihood:    </th> <td> -6484.6</td> \n",
              "</tr>\n",
              "<tr>\n",
              "  <th>No. Observations:</th>       <td>  1802</td>       <th>  AIC:               </th> <td>1.301e+04</td>\n",
              "</tr>\n",
              "<tr>\n",
              "  <th>Df Residuals:</th>           <td>  1781</td>       <th>  BIC:               </th> <td>1.313e+04</td>\n",
              "</tr>\n",
              "<tr>\n",
              "  <th>Df Model:</th>               <td>    20</td>       <th>                     </th>     <td> </td>    \n",
              "</tr>\n",
              "<tr>\n",
              "  <th>Covariance Type:</th>       <td>nonrobust</td>     <th>                     </th>     <td> </td>    \n",
              "</tr>\n",
              "</table>\n",
              "<table class=\"simpletable\">\n",
              "<tr>\n",
              "                             <td></td>                               <th>coef</th>     <th>std err</th>      <th>t</th>      <th>P>|t|</th>  <th>[0.025</th>    <th>0.975]</th>  \n",
              "</tr>\n",
              "<tr>\n",
              "  <th>Reach</th>                                                  <td>    0.0031</td> <td>    0.000</td> <td>   20.623</td> <td> 0.000</td> <td>    0.003</td> <td>    0.003</td>\n",
              "</tr>\n",
              "<tr>\n",
              "  <th>Frequency</th>                                              <td>    8.0177</td> <td>    3.337</td> <td>    2.403</td> <td> 0.016</td> <td>    1.474</td> <td>   14.562</td>\n",
              "</tr>\n",
              "<tr>\n",
              "  <th>Impressions</th>                                            <td>   -0.0008</td> <td> 8.08e-05</td> <td>   -9.964</td> <td> 0.000</td> <td>   -0.001</td> <td>   -0.001</td>\n",
              "</tr>\n",
              "<tr>\n",
              "  <th>Clicks</th>                                                 <td>   -0.3369</td> <td>    0.110</td> <td>   -3.073</td> <td> 0.002</td> <td>   -0.552</td> <td>   -0.122</td>\n",
              "</tr>\n",
              "<tr>\n",
              "  <th>Unique Clicks</th>                                          <td>    0.5557</td> <td>    0.122</td> <td>    4.569</td> <td> 0.000</td> <td>    0.317</td> <td>    0.794</td>\n",
              "</tr>\n",
              "<tr>\n",
              "  <th>Page Likes</th>                                             <td>   23.2839</td> <td>    8.919</td> <td>    2.611</td> <td> 0.009</td> <td>    5.791</td> <td>   40.777</td>\n",
              "</tr>\n",
              "<tr>\n",
              "  <th>Page Engagement</th>                                        <td>  -20.1012</td> <td>    8.916</td> <td>   -2.255</td> <td> 0.024</td> <td>  -37.588</td> <td>   -2.615</td>\n",
              "</tr>\n",
              "<tr>\n",
              "  <th>Post Engagement</th>                                        <td>   17.1443</td> <td>    7.431</td> <td>    2.307</td> <td> 0.021</td> <td>    2.571</td> <td>   31.718</td>\n",
              "</tr>\n",
              "<tr>\n",
              "  <th>Post Likes</th>                                             <td>    2.3301</td> <td>    1.491</td> <td>    1.563</td> <td> 0.118</td> <td>   -0.594</td> <td>    5.254</td>\n",
              "</tr>\n",
              "<tr>\n",
              "  <th>Post Comments</th>                                          <td>    3.5094</td> <td>    1.551</td> <td>    2.263</td> <td> 0.024</td> <td>    0.468</td> <td>    6.551</td>\n",
              "</tr>\n",
              "<tr>\n",
              "  <th>Post Shares</th>                                            <td>    4.8389</td> <td>    1.513</td> <td>    3.198</td> <td> 0.001</td> <td>    1.871</td> <td>    7.807</td>\n",
              "</tr>\n",
              "<tr>\n",
              "  <th>Photo Views</th>                                            <td>    3.1375</td> <td>    1.489</td> <td>    2.107</td> <td> 0.035</td> <td>    0.217</td> <td>    6.058</td>\n",
              "</tr>\n",
              "<tr>\n",
              "  <th>Website Clicks</th>                                         <td>    3.3284</td> <td>    1.489</td> <td>    2.235</td> <td> 0.026</td> <td>    0.408</td> <td>    6.249</td>\n",
              "</tr>\n",
              "<tr>\n",
              "  <th>Cyber Weekend</th>                                          <td> -210.0978</td> <td>   26.172</td> <td>   -8.028</td> <td> 0.000</td> <td> -261.429</td> <td> -158.766</td>\n",
              "</tr>\n",
              "<tr>\n",
              "  <th>TravelPony: General Ads</th>                                <td>  -34.0630</td> <td>    6.690</td> <td>   -5.091</td> <td> 0.000</td> <td>  -47.185</td> <td>  -20.941</td>\n",
              "</tr>\n",
              "<tr>\n",
              "  <th>TravelPony: Conversion Test</th>                            <td>   45.4009</td> <td>    5.816</td> <td>    7.806</td> <td> 0.000</td> <td>   33.993</td> <td>   56.808</td>\n",
              "</tr>\n",
              "<tr>\n",
              "  <th>Post: You need to get some real sun and we are here to</th> <td>  -25.4838</td> <td>    7.772</td> <td>   -3.279</td> <td> 0.001</td> <td>  -40.726</td> <td>  -10.241</td>\n",
              "</tr>\n",
              "<tr>\n",
              "  <th>Nanigans</th>                                               <td>  -11.1471</td> <td>    3.438</td> <td>   -3.242</td> <td> 0.001</td> <td>  -17.891</td> <td>   -4.403</td>\n",
              "</tr>\n",
              "<tr>\n",
              "  <th>SimpleMultiFillCampaign</th>                                <td>   -8.8824</td> <td>    3.374</td> <td>   -2.632</td> <td> 0.009</td> <td>  -15.500</td> <td>   -2.265</td>\n",
              "</tr>\n",
              "<tr>\n",
              "  <th>http:travelponyClicksUS</th>                                <td>  -26.2998</td> <td>   11.525</td> <td>   -2.282</td> <td> 0.023</td> <td>  -48.904</td> <td>   -3.695</td>\n",
              "</tr>\n",
              "<tr>\n",
              "  <th>TravelponyPage LikesUS</th>                                 <td>  -15.2335</td> <td>    5.554</td> <td>   -2.743</td> <td> 0.006</td> <td>  -26.127</td> <td>   -4.340</td>\n",
              "</tr>\n",
              "<tr>\n",
              "  <th>Ad </th>                                                    <td>   -8.7199</td> <td>    4.648</td> <td>   -1.876</td> <td> 0.061</td> <td>  -17.836</td> <td>    0.396</td>\n",
              "</tr>\n",
              "</table>\n",
              "<table class=\"simpletable\">\n",
              "<tr>\n",
              "  <th>Omnibus:</th>       <td>734.641</td> <th>  Durbin-Watson:     </th> <td>   1.690</td> \n",
              "</tr>\n",
              "<tr>\n",
              "  <th>Prob(Omnibus):</th> <td> 0.000</td>  <th>  Jarque-Bera (JB):  </th> <td>20578.497</td>\n",
              "</tr>\n",
              "<tr>\n",
              "  <th>Skew:</th>          <td> 1.310</td>  <th>  Prob(JB):          </th> <td>    0.00</td> \n",
              "</tr>\n",
              "<tr>\n",
              "  <th>Kurtosis:</th>      <td>19.347</td>  <th>  Cond. No.          </th> <td>7.25e+18</td> \n",
              "</tr>\n",
              "</table><br/><br/>Warnings:<br/>[1] Standard Errors assume that the covariance matrix of the errors is correctly specified.<br/>[2] The smallest eigenvalue is 3.67e-26. This might indicate that there are<br/>strong multicollinearity problems or that the design matrix is singular."
            ],
            "text/plain": [
              "<class 'statsmodels.iolib.summary.Summary'>\n",
              "\"\"\"\n",
              "                            OLS Regression Results                            \n",
              "==============================================================================\n",
              "Dep. Variable:     Amount Spent (USD)   R-squared:                       0.935\n",
              "Model:                            OLS   Adj. R-squared:                  0.934\n",
              "Method:                 Least Squares   F-statistic:                     1282.\n",
              "Date:                Wed, 20 Nov 2019   Prob (F-statistic):               0.00\n",
              "Time:                        11:42:01   Log-Likelihood:                -6484.6\n",
              "No. Observations:                1802   AIC:                         1.301e+04\n",
              "Df Residuals:                    1781   BIC:                         1.313e+04\n",
              "Df Model:                          20                                         \n",
              "Covariance Type:            nonrobust                                         \n",
              "==========================================================================================================================\n",
              "                                                             coef    std err          t      P>|t|      [0.025      0.975]\n",
              "--------------------------------------------------------------------------------------------------------------------------\n",
              "Reach                                                      0.0031      0.000     20.623      0.000       0.003       0.003\n",
              "Frequency                                                  8.0177      3.337      2.403      0.016       1.474      14.562\n",
              "Impressions                                               -0.0008   8.08e-05     -9.964      0.000      -0.001      -0.001\n",
              "Clicks                                                    -0.3369      0.110     -3.073      0.002      -0.552      -0.122\n",
              "Unique Clicks                                              0.5557      0.122      4.569      0.000       0.317       0.794\n",
              "Page Likes                                                23.2839      8.919      2.611      0.009       5.791      40.777\n",
              "Page Engagement                                          -20.1012      8.916     -2.255      0.024     -37.588      -2.615\n",
              "Post Engagement                                           17.1443      7.431      2.307      0.021       2.571      31.718\n",
              "Post Likes                                                 2.3301      1.491      1.563      0.118      -0.594       5.254\n",
              "Post Comments                                              3.5094      1.551      2.263      0.024       0.468       6.551\n",
              "Post Shares                                                4.8389      1.513      3.198      0.001       1.871       7.807\n",
              "Photo Views                                                3.1375      1.489      2.107      0.035       0.217       6.058\n",
              "Website Clicks                                             3.3284      1.489      2.235      0.026       0.408       6.249\n",
              "Cyber Weekend                                           -210.0978     26.172     -8.028      0.000    -261.429    -158.766\n",
              "TravelPony: General Ads                                  -34.0630      6.690     -5.091      0.000     -47.185     -20.941\n",
              "TravelPony: Conversion Test                               45.4009      5.816      7.806      0.000      33.993      56.808\n",
              "Post: You need to get some real sun and we are here to   -25.4838      7.772     -3.279      0.001     -40.726     -10.241\n",
              "Nanigans                                                 -11.1471      3.438     -3.242      0.001     -17.891      -4.403\n",
              "SimpleMultiFillCampaign                                   -8.8824      3.374     -2.632      0.009     -15.500      -2.265\n",
              "http:travelponyClicksUS                                  -26.2998     11.525     -2.282      0.023     -48.904      -3.695\n",
              "TravelponyPage LikesUS                                   -15.2335      5.554     -2.743      0.006     -26.127      -4.340\n",
              "Ad                                                        -8.7199      4.648     -1.876      0.061     -17.836       0.396\n",
              "==============================================================================\n",
              "Omnibus:                      734.641   Durbin-Watson:                   1.690\n",
              "Prob(Omnibus):                  0.000   Jarque-Bera (JB):            20578.497\n",
              "Skew:                           1.310   Prob(JB):                         0.00\n",
              "Kurtosis:                      19.347   Cond. No.                     7.25e+18\n",
              "==============================================================================\n",
              "\n",
              "Warnings:\n",
              "[1] Standard Errors assume that the covariance matrix of the errors is correctly specified.\n",
              "[2] The smallest eigenvalue is 3.67e-26. This might indicate that there are\n",
              "strong multicollinearity problems or that the design matrix is singular.\n",
              "\"\"\""
            ]
          },
          "metadata": {
            "tags": []
          },
          "execution_count": 23
        }
      ]
    },
    {
      "cell_type": "markdown",
      "metadata": {
        "id": "2okC0zm57Wty",
        "colab_type": "text"
      },
      "source": [
        "Question 3 What are the three predictors with the highest predictive value "
      ]
    },
    {
      "cell_type": "code",
      "metadata": {
        "colab_type": "code",
        "id": "B3txf0S848Qe",
        "outputId": "8e2ce915-580d-4d09-d861-0b05915cff5a",
        "colab": {
          "base_uri": "https://localhost:8080/",
          "height": 17
        }
      },
      "source": [
        "#Page Likes, Post Engagement, and Frequency are top three predictors for Amount Spent\n",
        "df4 = []\n",
        "df4 = pd.concat([model.params, model.pvalues, ],axis=1)\n",
        "df4.columns = ['Coef', 'Pvalue']\n",
        "df4.sort_values('Coef', inplace = True, ascending=False) #rank them from high to low\n",
        "df4.head(3)"
      ],
      "execution_count": 0,
      "outputs": [
        {
          "output_type": "execute_result",
          "data": {
            "text/html": [
              "<div>\n",
              "<style scoped>\n",
              "    .dataframe tbody tr th:only-of-type {\n",
              "        vertical-align: middle;\n",
              "    }\n",
              "\n",
              "    .dataframe tbody tr th {\n",
              "        vertical-align: top;\n",
              "    }\n",
              "\n",
              "    .dataframe thead th {\n",
              "        text-align: right;\n",
              "    }\n",
              "</style>\n",
              "<table border=\"1\" class=\"dataframe\">\n",
              "  <thead>\n",
              "    <tr style=\"text-align: right;\">\n",
              "      <th></th>\n",
              "      <th>Coef</th>\n",
              "      <th>Pvalue</th>\n",
              "    </tr>\n",
              "  </thead>\n",
              "  <tbody>\n",
              "    <tr>\n",
              "      <th>TravelPony: Conversion Test</th>\n",
              "      <td>45.400855</td>\n",
              "      <td>1.000268e-14</td>\n",
              "    </tr>\n",
              "    <tr>\n",
              "      <th>Page Likes</th>\n",
              "      <td>23.283870</td>\n",
              "      <td>9.115606e-03</td>\n",
              "    </tr>\n",
              "    <tr>\n",
              "      <th>Post Engagement</th>\n",
              "      <td>17.144252</td>\n",
              "      <td>2.115573e-02</td>\n",
              "    </tr>\n",
              "  </tbody>\n",
              "</table>\n",
              "</div>"
            ],
            "text/plain": [
              "                                  Coef        Pvalue\n",
              "TravelPony: Conversion Test  45.400855  1.000268e-14\n",
              "Page Likes                   23.283870  9.115606e-03\n",
              "Post Engagement              17.144252  2.115573e-02"
            ]
          },
          "metadata": {
            "tags": []
          },
          "execution_count": 34
        }
      ]
    },
    {
      "cell_type": "code",
      "metadata": {
        "colab_type": "code",
        "id": "Cy9TSENr6dxw",
        "colab": {}
      },
      "source": [
        ""
      ],
      "execution_count": 0,
      "outputs": []
    }
  ]
}