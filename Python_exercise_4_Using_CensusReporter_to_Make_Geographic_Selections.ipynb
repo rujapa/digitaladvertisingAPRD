{
  "nbformat": 4,
  "nbformat_minor": 0,
  "metadata": {
    "colab": {
      "name": "Python exercise 4 - Using CensusReporter to Make Geographic Selections.ipynb ",
      "provenance": [],
      "collapsed_sections": []
    },
    "kernelspec": {
      "name": "python3",
      "display_name": "Python 3"
    }
  },
  "cells": [
    {
      "cell_type": "markdown",
      "metadata": {
        "id": "dzyBOtplT7nl",
        "colab_type": "text"
      },
      "source": [
        "**Python Exercise 4: Using CensusReporter to Make Geographic Selections**\n"
      ]
    },
    {
      "cell_type": "code",
      "metadata": {
        "id": "er6vjpoMdfP3",
        "colab_type": "code",
        "colab": {}
      },
      "source": [
        "#import library\n",
        "import numpy as np\n",
        "import pandas as pd\n",
        "import seaborn as sns\n",
        "import statsmodels.api as sm\n",
        "import matplotlib.pyplot as plt\n",
        "import json\n",
        "import requests\n",
        "from time import sleep\n",
        "from statistics import mean\n",
        "import csv\n",
        "\n",
        "from IPython.core.interactiveshell import InteractiveShell\n",
        "InteractiveShell.ast_node_interactivity = \"all\""
      ],
      "execution_count": 0,
      "outputs": []
    },
    {
      "cell_type": "code",
      "metadata": {
        "id": "-Fafg0FSdgiZ",
        "colab_type": "code",
        "outputId": "afe5c248-cb6a-40d1-bbdd-0e309f2709f1",
        "colab": {
          "base_uri": "https://localhost:8080/",
          "height": 34
        }
      },
      "source": [
        "##import csv file \n",
        "from google.colab import drive\n",
        "drive.mount('/content/drive')\n",
        "msas=pd.read_csv(open('drive/My Drive/APRD Digital ads/Homework/msas.csv','rb'))"
      ],
      "execution_count": 0,
      "outputs": [
        {
          "output_type": "stream",
          "text": [
            "Drive already mounted at /content/drive; to attempt to forcibly remount, call drive.mount(\"/content/drive\", force_remount=True).\n"
          ],
          "name": "stdout"
        }
      ]
    },
    {
      "cell_type": "code",
      "metadata": {
        "id": "zb_CalnveUaP",
        "colab_type": "code",
        "outputId": "3fe69ae6-1068-4d30-8e6a-22b446863cd7",
        "colab": {
          "base_uri": "https://localhost:8080/",
          "height": 419
        }
      },
      "source": [
        "msas"
      ],
      "execution_count": 0,
      "outputs": [
        {
          "output_type": "execute_result",
          "data": {
            "text/html": [
              "<div>\n",
              "<style scoped>\n",
              "    .dataframe tbody tr th:only-of-type {\n",
              "        vertical-align: middle;\n",
              "    }\n",
              "\n",
              "    .dataframe tbody tr th {\n",
              "        vertical-align: top;\n",
              "    }\n",
              "\n",
              "    .dataframe thead th {\n",
              "        text-align: right;\n",
              "    }\n",
              "</style>\n",
              "<table border=\"1\" class=\"dataframe\">\n",
              "  <thead>\n",
              "    <tr style=\"text-align: right;\">\n",
              "      <th></th>\n",
              "      <th>CBSA</th>\n",
              "      <th>NAME</th>\n",
              "      <th>POPESTIMATE2017</th>\n",
              "    </tr>\n",
              "  </thead>\n",
              "  <tbody>\n",
              "    <tr>\n",
              "      <th>0</th>\n",
              "      <td>10180</td>\n",
              "      <td>Abilene, TX</td>\n",
              "      <td>170219</td>\n",
              "    </tr>\n",
              "    <tr>\n",
              "      <th>1</th>\n",
              "      <td>10420</td>\n",
              "      <td>Akron, OH</td>\n",
              "      <td>703505</td>\n",
              "    </tr>\n",
              "    <tr>\n",
              "      <th>2</th>\n",
              "      <td>10500</td>\n",
              "      <td>Albany, GA</td>\n",
              "      <td>151434</td>\n",
              "    </tr>\n",
              "    <tr>\n",
              "      <th>3</th>\n",
              "      <td>10540</td>\n",
              "      <td>Albany, OR</td>\n",
              "      <td>125047</td>\n",
              "    </tr>\n",
              "    <tr>\n",
              "      <th>4</th>\n",
              "      <td>10580</td>\n",
              "      <td>Albany-Schenectady-Troy, NY</td>\n",
              "      <td>886188</td>\n",
              "    </tr>\n",
              "    <tr>\n",
              "      <th>...</th>\n",
              "      <td>...</td>\n",
              "      <td>...</td>\n",
              "      <td>...</td>\n",
              "    </tr>\n",
              "    <tr>\n",
              "      <th>377</th>\n",
              "      <td>49420</td>\n",
              "      <td>Yakima, WA</td>\n",
              "      <td>250193</td>\n",
              "    </tr>\n",
              "    <tr>\n",
              "      <th>378</th>\n",
              "      <td>49620</td>\n",
              "      <td>York-Hanover, PA</td>\n",
              "      <td>446078</td>\n",
              "    </tr>\n",
              "    <tr>\n",
              "      <th>379</th>\n",
              "      <td>49660</td>\n",
              "      <td>Youngstown-Warren-Boardman, OH-PA</td>\n",
              "      <td>541926</td>\n",
              "    </tr>\n",
              "    <tr>\n",
              "      <th>380</th>\n",
              "      <td>49700</td>\n",
              "      <td>Yuba City, CA</td>\n",
              "      <td>173679</td>\n",
              "    </tr>\n",
              "    <tr>\n",
              "      <th>381</th>\n",
              "      <td>49740</td>\n",
              "      <td>Yuma, AZ</td>\n",
              "      <td>207534</td>\n",
              "    </tr>\n",
              "  </tbody>\n",
              "</table>\n",
              "<p>382 rows × 3 columns</p>\n",
              "</div>"
            ],
            "text/plain": [
              "      CBSA                               NAME  POPESTIMATE2017\n",
              "0    10180                        Abilene, TX           170219\n",
              "1    10420                          Akron, OH           703505\n",
              "2    10500                         Albany, GA           151434\n",
              "3    10540                         Albany, OR           125047\n",
              "4    10580        Albany-Schenectady-Troy, NY           886188\n",
              "..     ...                                ...              ...\n",
              "377  49420                         Yakima, WA           250193\n",
              "378  49620                   York-Hanover, PA           446078\n",
              "379  49660  Youngstown-Warren-Boardman, OH-PA           541926\n",
              "380  49700                      Yuba City, CA           173679\n",
              "381  49740                           Yuma, AZ           207534\n",
              "\n",
              "[382 rows x 3 columns]"
            ]
          },
          "metadata": {
            "tags": []
          },
          "execution_count": 108
        }
      ]
    },
    {
      "cell_type": "code",
      "metadata": {
        "id": "R-7uiU9Zdpbv",
        "colab_type": "code",
        "colab": {}
      },
      "source": [
        "#parameter 1 HHincome 50k-74.9k\n",
        "#parameter 2 18-34\n",
        "#parameter 3 large hispanic populations \n",
        "tableids = ['B01001', 'B03002', 'B19001']\n",
        "#join your list together in a way that the api accepts\n",
        "tableidstring = ','.join(tableids)"
      ],
      "execution_count": 0,
      "outputs": []
    },
    {
      "cell_type": "code",
      "metadata": {
        "id": "tPCyI27SdiK9",
        "colab_type": "code",
        "colab": {}
      },
      "source": [
        "geoids = \"31000US\" + msas[\"CBSA\"].astype(str)\n",
        "half = geoids[:len(geoids)//2]\n",
        "rest = geoids[len(geoids)//2:]"
      ],
      "execution_count": 0,
      "outputs": []
    },
    {
      "cell_type": "code",
      "metadata": {
        "id": "07KJ1xildn7h",
        "colab_type": "code",
        "colab": {}
      },
      "source": [
        "half = ','.join(half)\n",
        "rest = ','.join(rest)"
      ],
      "execution_count": 0,
      "outputs": []
    },
    {
      "cell_type": "code",
      "metadata": {
        "id": "_8yWD61v3vb6",
        "colab_type": "code",
        "colab": {}
      },
      "source": [
        "for cbsa in listCBSA:\n",
        "  url = 'http://api.censusreporter.org/1.0/data/show/latest?table_ids=%s&geo_ids=31000US%s' % (tableidstring, cbsa)\n",
        "  \n",
        "response = requests.get(url)\n",
        "a = json.loads(response.text)\n",
        "a"
      ],
      "execution_count": 0,
      "outputs": []
    },
    {
      "cell_type": "code",
      "metadata": {
        "id": "hXTkwYySdrNP",
        "colab_type": "code",
        "outputId": "99d150b2-8078-4d97-cacf-5c5b754e1a54",
        "colab": {
          "base_uri": "https://localhost:8080/",
          "height": 34
        }
      },
      "source": [
        "#iterate over each of your metro areas and get the right data for each metro.\n",
        "A = 'http://api.censusreporter.org/1.0/data/show/latest?table_ids=%s&geo_ids=%s' % (tableidstring, half)\n",
        "response1 = requests.get(A)\n",
        "jsondata = response1.json()\n",
        "response1.status_code \n",
        "\n",
        "\n",
        "B= 'http://api.censusreporter.org/1.0/data/show/latest?table_ids=%s&geo_ids=%s' % (tableidstring, rest)\n",
        "response2 = requests.get(B)\n",
        "jsondata2 = response2.json()\n",
        "response2.status_code "
      ],
      "execution_count": 0,
      "outputs": [
        {
          "output_type": "execute_result",
          "data": {
            "text/plain": [
              "200"
            ]
          },
          "metadata": {
            "tags": []
          },
          "execution_count": 112
        },
        {
          "output_type": "execute_result",
          "data": {
            "text/plain": [
              "200"
            ]
          },
          "metadata": {
            "tags": []
          },
          "execution_count": 112
        }
      ]
    },
    {
      "cell_type": "code",
      "metadata": {
        "id": "AoYWdLOPdsQ_",
        "colab_type": "code",
        "colab": {}
      },
      "source": [
        "tableQ1 = ['B19001']\n",
        "q1 = ','.join(tableids)"
      ],
      "execution_count": 0,
      "outputs": []
    },
    {
      "cell_type": "code",
      "metadata": {
        "id": "5CRp7_jOdt8U",
        "colab_type": "code",
        "colab": {}
      },
      "source": [
        "#parse it with json.loads():\n",
        "urlq1a = 'http://api.censusreporter.org/1.0/data/show/latest?table_ids=%s&geo_ids=%s' % (q1, half)\n",
        "loadjson1 = requests.get(urlq1a)\n",
        "parsjson1 = json.loads(loadjson1.text)\n",
        "\n",
        "urlq1b = 'http://api.censusreporter.org/1.0/data/show/latest?table_ids=%s&geo_ids=%s' % (q1, rest)\n",
        "loadjson2 = requests.get(urlq1b)\n",
        "parsjson2 = json.loads(loadjson2.text)"
      ],
      "execution_count": 0,
      "outputs": []
    },
    {
      "cell_type": "markdown",
      "metadata": {
        "id": "bvdTP8sXfe0_",
        "colab_type": "text"
      },
      "source": [
        "What city has the highest count of the audience you chose for parameter #1?"
      ]
    },
    {
      "cell_type": "code",
      "metadata": {
        "id": "DJZVGMk0dvPF",
        "colab_type": "code",
        "colab": {}
      },
      "source": [
        "df2 = pd.DataFrame(columns=['country', 'population'], index=list(range(1,len(geoids))))\n",
        "for i in list(range(1,len(geoids)//2)):\n",
        "    df2['country'][i]=[geoids[i]]\n",
        "    df2['population'][i] = parsjson1['data'][geoids[i]]['B19001']['estimate']['B19001011'] + parsjson1['data'][geoids[i]]['B19001']['estimate']['B19001012']\n",
        "\n",
        "for i in list(range(192,len(geoids))):\n",
        "    df2['country'][i]=[geoids[i]]\n",
        "    df2['population'][i] = parsjson2['data'][geoids[i]]['B19001']['estimate']['B19001011'] + parsjson2['data'][geoids[i]]['B19001']['estimate']['B19001012']"
      ],
      "execution_count": 0,
      "outputs": []
    },
    {
      "cell_type": "code",
      "metadata": {
        "id": "ptyHN8xGdwt_",
        "colab_type": "code",
        "outputId": "cdb8ae20-c88d-4e1f-d602-47600aa02212",
        "colab": {
          "base_uri": "https://localhost:8080/",
          "height": 51
        }
      },
      "source": [
        "#find the maximum population\n",
        "print(df2.loc[df2['population'] == max(df2['population'])])"
      ],
      "execution_count": 0,
      "outputs": [
        {
          "output_type": "stream",
          "text": [
            "            country   population\n",
            "249  [31000US35620]  1.01121e+06\n"
          ],
          "name": "stdout"
        }
      ]
    },
    {
      "cell_type": "code",
      "metadata": {
        "id": "6vPaOHddffYm",
        "colab_type": "code",
        "outputId": "37498cb3-d5b0-4a78-ed42-2d83f6184d74",
        "colab": {
          "base_uri": "https://localhost:8080/",
          "height": 51
        }
      },
      "source": [
        "print (msas.loc[msas['CBSA'] == 35620]) "
      ],
      "execution_count": 0,
      "outputs": [
        {
          "output_type": "stream",
          "text": [
            "      CBSA                                   NAME  POPESTIMATE2017\n",
            "249  35620  New York-Newark-Jersey City, NY-NJ-PA         20320876\n"
          ],
          "name": "stdout"
        }
      ]
    },
    {
      "cell_type": "markdown",
      "metadata": {
        "id": "AbnnN3r4gzIO",
        "colab_type": "text"
      },
      "source": [
        "What city has the highest count of the audience you chose for parameter #2?"
      ]
    },
    {
      "cell_type": "code",
      "metadata": {
        "id": "8la4oxEzgadL",
        "colab_type": "code",
        "colab": {}
      },
      "source": [
        "tableq2 = ['B01001']\n",
        "tableq2a = ','.join(tableq2)"
      ],
      "execution_count": 0,
      "outputs": []
    },
    {
      "cell_type": "code",
      "metadata": {
        "id": "dM7Da7szkHcl",
        "colab_type": "code",
        "colab": {}
      },
      "source": [
        "urlQ2a = 'http://api.censusreporter.org/1.0/data/show/latest?table_ids=%s&geo_ids=%s' % (tableq2a, half)\n",
        "loadjsonq2 = requests.get(urlQ2a)\n",
        "parsjsonq2 = json.loads(loadjsonq2.text)"
      ],
      "execution_count": 0,
      "outputs": []
    },
    {
      "cell_type": "code",
      "metadata": {
        "id": "6ohdh79Sg4LA",
        "colab_type": "code",
        "colab": {}
      },
      "source": [
        "urlQ2b = 'http://api.censusreporter.org/1.0/data/show/latest?table_ids=%s&geo_ids=%s' % (tableq2a, rest)\n",
        "loadjsonq2b = requests.get(urlQ2b)\n",
        "parsjsonq2b = json.loads(loadjsonq2b.text)"
      ],
      "execution_count": 0,
      "outputs": []
    },
    {
      "cell_type": "code",
      "metadata": {
        "id": "q07pi5W_hFq8",
        "colab_type": "code",
        "colab": {}
      },
      "source": [
        "age = ['B01001003','B01001004','B01001005','B01001006','B01001007','B01001008','B01001009','B01001010','B01001011','B01001012']\n",
        "#create a new dataframe\n",
        "df3 = pd.DataFrame(columns=['location', 'population'], index=list(range(1,len(geoids))))\n",
        "\n",
        "for i in list(range(1,len(geoids)//2)):\n",
        "    df3['location'][i]=[geoids[i]]\n",
        "    df3['population'][i] = parsjsonq2['data'][geoids[i]]['B01001']['estimate'][age[0]] + parsjsonq2['data'][geoids[i]]['B01001']['estimate'][age[1]] + parsjsonq2['data'][geoids[i]]['B01001']['estimate'][age[2]] + parsjsonq2['data'][geoids[i]]['B01001']['estimate'][age[3]] + parsjsonq2['data'][geoids[i]]['B01001']['estimate'][age[4]] + parsjsonq2['data'][geoids[i]]['B01001']['estimate'][age[5]] + parsjsonq2['data'][geoids[i]]['B01001']['estimate'][age[6]] + parsjsonq2['data'][geoids[i]]['B01001']['estimate'][age[7]] + parsjsonq2['data'][geoids[i]]['B01001']['estimate'][age[8]] + parsjsonq2['data'][geoids[i]]['B01001']['estimate'][age_range[9]]\n",
        "    \n",
        "for i in list(range(192,len(geoids))):\n",
        "    df3['location'][i]=[geoids[i]]\n",
        "    df3['population'][i] = parsjsonq2b['data'][geoids[i]]['B01001']['estimate'][age[0]] + parsjsonq2b['data'][geoids[i]]['B01001']['estimate'][age[1]] + parsjsonq2b['data'][geoids[i]]['B01001']['estimate'][age[2]] + parsjsonq2b['data'][geoids[i]]['B01001']['estimate'][age[3]] + parsjsonq2b['data'][geoids[i]]['B01001']['estimate'][age[4]] + parsjsonq2b['data'][geoids[i]]['B01001']['estimate'][age[5]] + parsjsonq2b['data'][geoids[i]]['B01001']['estimate'][age[6]] + parsjsonq2b['data'][geoids[i]]['B01001']['estimate'][age[7]] + parsjsonq2b['data'][geoids[i]]['B01001']['estimate'][age[8]] + parsjsonq2b['data'][geoids[i]]['B01001']['estimate'][age[9]]  "
      ],
      "execution_count": 0,
      "outputs": []
    },
    {
      "cell_type": "code",
      "metadata": {
        "id": "P5vuQSQThgEy",
        "colab_type": "code",
        "outputId": "7aa58ca6-d66e-414d-e786-9459748099fe",
        "colab": {
          "base_uri": "https://localhost:8080/",
          "height": 51
        }
      },
      "source": [
        "print (df3.loc[df3['population'] == max(df3['population'])])"
      ],
      "execution_count": 0,
      "outputs": [
        {
          "output_type": "stream",
          "text": [
            "           location   population\n",
            "249  [31000US35620]  4.52128e+06\n"
          ],
          "name": "stdout"
        }
      ]
    },
    {
      "cell_type": "code",
      "metadata": {
        "id": "wV-_uuXai5nY",
        "colab_type": "code",
        "outputId": "7c2729c5-2223-4c9f-f2e9-33f413fe3fec",
        "colab": {
          "base_uri": "https://localhost:8080/",
          "height": 51
        }
      },
      "source": [
        "print (msas.loc[alldata['CBSA'] == 35620])"
      ],
      "execution_count": 0,
      "outputs": [
        {
          "output_type": "stream",
          "text": [
            "      CBSA                                   NAME  POPESTIMATE2017\n",
            "249  35620  New York-Newark-Jersey City, NY-NJ-PA         20320876\n"
          ],
          "name": "stdout"
        }
      ]
    },
    {
      "cell_type": "markdown",
      "metadata": {
        "id": "LmgjpGL8kAfO",
        "colab_type": "text"
      },
      "source": [
        "What city has the highest count of the audience you chose for parameter #3?"
      ]
    },
    {
      "cell_type": "code",
      "metadata": {
        "id": "RzMZ8EEGj32h",
        "colab_type": "code",
        "colab": {}
      },
      "source": [
        "tableq3 = ['B03002']\n",
        "tableq3a = ','.join(tableq3)"
      ],
      "execution_count": 0,
      "outputs": []
    },
    {
      "cell_type": "code",
      "metadata": {
        "id": "VPH7s0CBkCjt",
        "colab_type": "code",
        "colab": {}
      },
      "source": [
        "urlq2a = 'http://api.censusreporter.org/1.0/data/show/latest?table_ids=%s&geo_ids=%s' % (tableq3a, half)\n",
        "loadjsonq3 = requests.get(urlq2a)\n",
        "parsjsonq3 = json.loads(loadjsonq3.text)"
      ],
      "execution_count": 0,
      "outputs": []
    },
    {
      "cell_type": "code",
      "metadata": {
        "id": "tyHZEImKkD4G",
        "colab_type": "code",
        "colab": {}
      },
      "source": [
        "urlq2b = 'http://api.censusreporter.org/1.0/data/show/latest?table_ids=%s&geo_ids=%s' % (tableq3a, rest)\n",
        "loadjsonq3b = requests.get(urlq2b)\n",
        "parsjsonq3b = json.loads(loadjsonq3b.text)"
      ],
      "execution_count": 0,
      "outputs": []
    },
    {
      "cell_type": "code",
      "metadata": {
        "id": "URJ5UvImkGOO",
        "colab_type": "code",
        "colab": {}
      },
      "source": [
        "#create a new dataframe\n",
        "df4 = pd.DataFrame(columns=['location', 'population'], index=list(range(1,len(geoids))))\n",
        "\n",
        "for i in list(range(1,len(geoids)//2)):\n",
        "    df4['location'][i]=[geoids[i]]\n",
        "    df4['population'][i] = parsjsonq3['data'][geoids[i]]['B03002']['estimate']['B03002012'] \n",
        "\n",
        "for i in list(range(192,len(geoids))):\n",
        "    df4['location'][i]=[geoids[i]]\n",
        "    df4['population'][i] = parsjsonq3b['data'][geoids[i]]['B03002']['estimate']['B03002012'] "
      ],
      "execution_count": 0,
      "outputs": []
    },
    {
      "cell_type": "code",
      "metadata": {
        "id": "jD6-WJIskoKX",
        "colab_type": "code",
        "outputId": "40e4d6a0-abf0-483e-fc6f-7b0f114aaab1",
        "colab": {
          "base_uri": "https://localhost:8080/",
          "height": 51
        }
      },
      "source": [
        "#print the highest count of audience city\n",
        "print(df4.loc[dfHP['population'] == max(df4['population'])])"
      ],
      "execution_count": 0,
      "outputs": [
        {
          "output_type": "stream",
          "text": [
            "           location   population\n",
            "210  [31000US31080]  5.97275e+06\n"
          ],
          "name": "stdout"
        }
      ]
    },
    {
      "cell_type": "code",
      "metadata": {
        "id": "X3esxyFpkoeo",
        "colab_type": "code",
        "outputId": "de5a52c8-b526-4bb6-b8e3-1e973375e32f",
        "colab": {
          "base_uri": "https://localhost:8080/",
          "height": 51
        }
      },
      "source": [
        "print(msas.loc[msas['CBSA'] == 31080])"
      ],
      "execution_count": 0,
      "outputs": [
        {
          "output_type": "stream",
          "text": [
            "      CBSA                                NAME  POPESTIMATE2017\n",
            "210  31080  Los Angeles-Long Beach-Anaheim, CA         13353907\n"
          ],
          "name": "stdout"
        }
      ]
    },
    {
      "cell_type": "markdown",
      "metadata": {
        "id": "Mp2siuyRl6VF",
        "colab_type": "text"
      },
      "source": [
        "What city has the highest mean percentage across all three categories?"
      ]
    },
    {
      "cell_type": "code",
      "metadata": {
        "id": "RqDI29V5l6tx",
        "colab_type": "code",
        "colab": {}
      },
      "source": [
        "#create a new dataframe\n",
        "df5 = pd.DataFrame(columns=['Household', 'AR', 'HP'])\n",
        "Household = df2['population']\n",
        "AR = df3['population']\n",
        "HP = df4['population']"
      ],
      "execution_count": 0,
      "outputs": []
    },
    {
      "cell_type": "code",
      "metadata": {
        "id": "ePQQFlxWmAvs",
        "colab_type": "code",
        "outputId": "e2829b7e-f028-405d-e2cd-8711f2004093",
        "colab": {
          "base_uri": "https://localhost:8080/",
          "height": 1000
        }
      },
      "source": [
        "for i, row in df5.iterrows():\n",
        "    HHPercent = pd.Series(df5['Household'][i]/max(df5['Household'])).astype(float)\n",
        "    ARPercent = pd.Series(df5['AR'][i]/max(df5['AR'])).astype(float)\n",
        "    HPPercent = pd.Series(df5['HP'][i]/max(df5['HP'])).astype(float)\n",
        "    Household.append(HHPercent)\n",
        "    AR.append(ARPercent)\n",
        "    HP.append(HPPercent)"
      ],
      "execution_count": 0,
      "outputs": [
        {
          "output_type": "execute_result",
          "data": {
            "text/plain": [
              "1          50800\n",
              "2          11081\n",
              "3          10791\n",
              "4          61111\n",
              "5          64723\n",
              "         ...    \n",
              "378        34417\n",
              "379        42222\n",
              "380         9561\n",
              "381        13346\n",
              "0      0.0502368\n",
              "Length: 382, dtype: object"
            ]
          },
          "metadata": {
            "tags": []
          },
          "execution_count": 147
        },
        {
          "output_type": "execute_result",
          "data": {
            "text/plain": [
              "1         153784\n",
              "2          36663\n",
              "3          27744\n",
              "4         198300\n",
              "5         212376\n",
              "         ...    \n",
              "378        98108\n",
              "379       111568\n",
              "380        45752\n",
              "381        57292\n",
              "0      0.0340134\n",
              "Length: 382, dtype: object"
            ]
          },
          "metadata": {
            "tags": []
          },
          "execution_count": 147
        },
        {
          "output_type": "execute_result",
          "data": {
            "text/plain": [
              "1           13318\n",
              "2            4057\n",
              "3           10483\n",
              "4           42999\n",
              "5          438681\n",
              "          ...    \n",
              "378         30643\n",
              "379         17895\n",
              "380         49389\n",
              "381        128465\n",
              "0      0.00222979\n",
              "Length: 382, dtype: object"
            ]
          },
          "metadata": {
            "tags": []
          },
          "execution_count": 147
        },
        {
          "output_type": "execute_result",
          "data": {
            "text/plain": [
              "1          50800\n",
              "2          11081\n",
              "3          10791\n",
              "4          61111\n",
              "5          64723\n",
              "         ...    \n",
              "378        34417\n",
              "379        42222\n",
              "380         9561\n",
              "381        13346\n",
              "0      0.0109582\n",
              "Length: 382, dtype: object"
            ]
          },
          "metadata": {
            "tags": []
          },
          "execution_count": 147
        },
        {
          "output_type": "execute_result",
          "data": {
            "text/plain": [
              "1          153784\n",
              "2           36663\n",
              "3           27744\n",
              "4          198300\n",
              "5          212376\n",
              "          ...    \n",
              "378         98108\n",
              "379        111568\n",
              "380         45752\n",
              "381         57292\n",
              "0      0.00810899\n",
              "Length: 382, dtype: object"
            ]
          },
          "metadata": {
            "tags": []
          },
          "execution_count": 147
        },
        {
          "output_type": "execute_result",
          "data": {
            "text/plain": [
              "1            13318\n",
              "2             4057\n",
              "3            10483\n",
              "4            42999\n",
              "5           438681\n",
              "          ...     \n",
              "378          30643\n",
              "379          17895\n",
              "380          49389\n",
              "381         128465\n",
              "0      0.000679251\n",
              "Length: 382, dtype: object"
            ]
          },
          "metadata": {
            "tags": []
          },
          "execution_count": 147
        },
        {
          "output_type": "execute_result",
          "data": {
            "text/plain": [
              "1          50800\n",
              "2          11081\n",
              "3          10791\n",
              "4          61111\n",
              "5          64723\n",
              "         ...    \n",
              "378        34417\n",
              "379        42222\n",
              "380         9561\n",
              "381        13346\n",
              "0      0.0106714\n",
              "Length: 382, dtype: object"
            ]
          },
          "metadata": {
            "tags": []
          },
          "execution_count": 147
        },
        {
          "output_type": "execute_result",
          "data": {
            "text/plain": [
              "1          153784\n",
              "2           36663\n",
              "3           27744\n",
              "4          198300\n",
              "5          212376\n",
              "          ...    \n",
              "378         98108\n",
              "379        111568\n",
              "380         45752\n",
              "381         57292\n",
              "0      0.00613632\n",
              "Length: 382, dtype: object"
            ]
          },
          "metadata": {
            "tags": []
          },
          "execution_count": 147
        },
        {
          "output_type": "execute_result",
          "data": {
            "text/plain": [
              "1           13318\n",
              "2            4057\n",
              "3           10483\n",
              "4           42999\n",
              "5          438681\n",
              "          ...    \n",
              "378         30643\n",
              "379         17895\n",
              "380         49389\n",
              "381        128465\n",
              "0      0.00175514\n",
              "Length: 382, dtype: object"
            ]
          },
          "metadata": {
            "tags": []
          },
          "execution_count": 147
        },
        {
          "output_type": "execute_result",
          "data": {
            "text/plain": [
              "1          50800\n",
              "2          11081\n",
              "3          10791\n",
              "4          61111\n",
              "5          64723\n",
              "         ...    \n",
              "378        34417\n",
              "379        42222\n",
              "380         9561\n",
              "381        13346\n",
              "0      0.0604335\n",
              "Length: 382, dtype: object"
            ]
          },
          "metadata": {
            "tags": []
          },
          "execution_count": 147
        },
        {
          "output_type": "execute_result",
          "data": {
            "text/plain": [
              "1         153784\n",
              "2          36663\n",
              "3          27744\n",
              "4         198300\n",
              "5         212376\n",
              "         ...    \n",
              "378        98108\n",
              "379       111568\n",
              "380        45752\n",
              "381        57292\n",
              "0      0.0438593\n",
              "Length: 382, dtype: object"
            ]
          },
          "metadata": {
            "tags": []
          },
          "execution_count": 147
        },
        {
          "output_type": "execute_result",
          "data": {
            "text/plain": [
              "1          13318\n",
              "2           4057\n",
              "3          10483\n",
              "4          42999\n",
              "5         438681\n",
              "         ...    \n",
              "378        30643\n",
              "379        17895\n",
              "380        49389\n",
              "381       128465\n",
              "0      0.0071992\n",
              "Length: 382, dtype: object"
            ]
          },
          "metadata": {
            "tags": []
          },
          "execution_count": 147
        },
        {
          "output_type": "execute_result",
          "data": {
            "text/plain": [
              "1          50800\n",
              "2          11081\n",
              "3          10791\n",
              "4          61111\n",
              "5          64723\n",
              "         ...    \n",
              "378        34417\n",
              "379        42222\n",
              "380         9561\n",
              "381        13346\n",
              "0      0.0640055\n",
              "Length: 382, dtype: object"
            ]
          },
          "metadata": {
            "tags": []
          },
          "execution_count": 147
        },
        {
          "output_type": "execute_result",
          "data": {
            "text/plain": [
              "1         153784\n",
              "2          36663\n",
              "3          27744\n",
              "4         198300\n",
              "5         212376\n",
              "         ...    \n",
              "378        98108\n",
              "379       111568\n",
              "380        45752\n",
              "381        57292\n",
              "0      0.0469726\n",
              "Length: 382, dtype: object"
            ]
          },
          "metadata": {
            "tags": []
          },
          "execution_count": 147
        },
        {
          "output_type": "execute_result",
          "data": {
            "text/plain": [
              "1          13318\n",
              "2           4057\n",
              "3          10483\n",
              "4          42999\n",
              "5         438681\n",
              "         ...    \n",
              "378        30643\n",
              "379        17895\n",
              "380        49389\n",
              "381       128465\n",
              "0      0.0734471\n",
              "Length: 382, dtype: object"
            ]
          },
          "metadata": {
            "tags": []
          },
          "execution_count": 147
        },
        {
          "output_type": "execute_result",
          "data": {
            "text/plain": [
              "1           50800\n",
              "2           11081\n",
              "3           10791\n",
              "4           61111\n",
              "5           64723\n",
              "          ...    \n",
              "378         34417\n",
              "379         42222\n",
              "380          9561\n",
              "381         13346\n",
              "0      0.00767397\n",
              "Length: 382, dtype: object"
            ]
          },
          "metadata": {
            "tags": []
          },
          "execution_count": 147
        },
        {
          "output_type": "execute_result",
          "data": {
            "text/plain": [
              "1          153784\n",
              "2           36663\n",
              "3           27744\n",
              "4          198300\n",
              "5          212376\n",
              "          ...    \n",
              "378         98108\n",
              "379        111568\n",
              "380         45752\n",
              "381         57292\n",
              "0      0.00817247\n",
              "Length: 382, dtype: object"
            ]
          },
          "metadata": {
            "tags": []
          },
          "execution_count": 147
        },
        {
          "output_type": "execute_result",
          "data": {
            "text/plain": [
              "1            13318\n",
              "2             4057\n",
              "3            10483\n",
              "4            42999\n",
              "5           438681\n",
              "          ...     \n",
              "378          30643\n",
              "379          17895\n",
              "380          49389\n",
              "381         128465\n",
              "0      0.000844335\n",
              "Length: 382, dtype: object"
            ]
          },
          "metadata": {
            "tags": []
          },
          "execution_count": 147
        },
        {
          "output_type": "execute_result",
          "data": {
            "text/plain": [
              "1          50800\n",
              "2          11081\n",
              "3          10791\n",
              "4          61111\n",
              "5          64723\n",
              "         ...    \n",
              "378        34417\n",
              "379        42222\n",
              "380         9561\n",
              "381        13346\n",
              "0      0.0537613\n",
              "Length: 382, dtype: object"
            ]
          },
          "metadata": {
            "tags": []
          },
          "execution_count": 147
        },
        {
          "output_type": "execute_result",
          "data": {
            "text/plain": [
              "1         153784\n",
              "2          36663\n",
              "3          27744\n",
              "4         198300\n",
              "5         212376\n",
              "         ...    \n",
              "378        98108\n",
              "379       111568\n",
              "380        45752\n",
              "381        57292\n",
              "0      0.0406856\n",
              "Length: 382, dtype: object"
            ]
          },
          "metadata": {
            "tags": []
          },
          "execution_count": 147
        },
        {
          "output_type": "execute_result",
          "data": {
            "text/plain": [
              "1          13318\n",
              "2           4057\n",
              "3          10483\n",
              "4          42999\n",
              "5         438681\n",
              "         ...    \n",
              "378        30643\n",
              "379        17895\n",
              "380        49389\n",
              "381       128465\n",
              "0      0.0220002\n",
              "Length: 382, dtype: object"
            ]
          },
          "metadata": {
            "tags": []
          },
          "execution_count": 147
        },
        {
          "output_type": "execute_result",
          "data": {
            "text/plain": [
              "1           50800\n",
              "2           11081\n",
              "3           10791\n",
              "4           61111\n",
              "5           64723\n",
              "          ...    \n",
              "378         34417\n",
              "379         42222\n",
              "380          9561\n",
              "381         13346\n",
              "0      0.00850961\n",
              "Length: 382, dtype: object"
            ]
          },
          "metadata": {
            "tags": []
          },
          "execution_count": 147
        },
        {
          "output_type": "execute_result",
          "data": {
            "text/plain": [
              "1          153784\n",
              "2           36663\n",
              "3           27744\n",
              "4          198300\n",
              "5          212376\n",
              "          ...    \n",
              "378         98108\n",
              "379        111568\n",
              "380         45752\n",
              "381         57292\n",
              "0      0.00553273\n",
              "Length: 382, dtype: object"
            ]
          },
          "metadata": {
            "tags": []
          },
          "execution_count": 147
        },
        {
          "output_type": "execute_result",
          "data": {
            "text/plain": [
              "1            13318\n",
              "2             4057\n",
              "3            10483\n",
              "4            42999\n",
              "5           438681\n",
              "          ...     \n",
              "378          30643\n",
              "379          17895\n",
              "380          49389\n",
              "381         128465\n",
              "0      0.000245615\n",
              "Length: 382, dtype: object"
            ]
          },
          "metadata": {
            "tags": []
          },
          "execution_count": 147
        },
        {
          "output_type": "execute_result",
          "data": {
            "text/plain": [
              "1          50800\n",
              "2          11081\n",
              "3          10791\n",
              "4          61111\n",
              "5          64723\n",
              "         ...    \n",
              "378        34417\n",
              "379        42222\n",
              "380         9561\n",
              "381        13346\n",
              "0      0.0193966\n",
              "Length: 382, dtype: object"
            ]
          },
          "metadata": {
            "tags": []
          },
          "execution_count": 147
        },
        {
          "output_type": "execute_result",
          "data": {
            "text/plain": [
              "1         153784\n",
              "2          36663\n",
              "3          27744\n",
              "4         198300\n",
              "5         212376\n",
              "         ...    \n",
              "378        98108\n",
              "379       111568\n",
              "380        45752\n",
              "381        57292\n",
              "0      0.0152871\n",
              "Length: 382, dtype: object"
            ]
          },
          "metadata": {
            "tags": []
          },
          "execution_count": 147
        },
        {
          "output_type": "execute_result",
          "data": {
            "text/plain": [
              "1          13318\n",
              "2           4057\n",
              "3          10483\n",
              "4          42999\n",
              "5         438681\n",
              "         ...    \n",
              "378        30643\n",
              "379        17895\n",
              "380        49389\n",
              "381       128465\n",
              "0      0.0122178\n",
              "Length: 382, dtype: object"
            ]
          },
          "metadata": {
            "tags": []
          },
          "execution_count": 147
        },
        {
          "output_type": "execute_result",
          "data": {
            "text/plain": [
              "1           50800\n",
              "2           11081\n",
              "3           10791\n",
              "4           61111\n",
              "5           64723\n",
              "          ...    \n",
              "378         34417\n",
              "379         42222\n",
              "380          9561\n",
              "381         13346\n",
              "0      0.00739016\n",
              "Length: 382, dtype: object"
            ]
          },
          "metadata": {
            "tags": []
          },
          "execution_count": 147
        },
        {
          "output_type": "execute_result",
          "data": {
            "text/plain": [
              "1          153784\n",
              "2           36663\n",
              "3           27744\n",
              "4          198300\n",
              "5          212376\n",
              "          ...    \n",
              "378         98108\n",
              "379        111568\n",
              "380         45752\n",
              "381         57292\n",
              "0      0.00702501\n",
              "Length: 382, dtype: object"
            ]
          },
          "metadata": {
            "tags": []
          },
          "execution_count": 147
        },
        {
          "output_type": "execute_result",
          "data": {
            "text/plain": [
              "1            13318\n",
              "2             4057\n",
              "3            10483\n",
              "4            42999\n",
              "5           438681\n",
              "          ...     \n",
              "378          30643\n",
              "379          17895\n",
              "380          49389\n",
              "381         128465\n",
              "0      0.000524549\n",
              "Length: 382, dtype: object"
            ]
          },
          "metadata": {
            "tags": []
          },
          "execution_count": 147
        },
        {
          "output_type": "execute_result",
          "data": {
            "text/plain": [
              "1          50800\n",
              "2          11081\n",
              "3          10791\n",
              "4          61111\n",
              "5          64723\n",
              "         ...    \n",
              "378        34417\n",
              "379        42222\n",
              "380         9561\n",
              "381        13346\n",
              "0      0.0255031\n",
              "Length: 382, dtype: object"
            ]
          },
          "metadata": {
            "tags": []
          },
          "execution_count": 147
        },
        {
          "output_type": "execute_result",
          "data": {
            "text/plain": [
              "1         153784\n",
              "2          36663\n",
              "3          27744\n",
              "4         198300\n",
              "5         212376\n",
              "         ...    \n",
              "378        98108\n",
              "379       111568\n",
              "380        45752\n",
              "381        57292\n",
              "0      0.0232598\n",
              "Length: 382, dtype: object"
            ]
          },
          "metadata": {
            "tags": []
          },
          "execution_count": 147
        },
        {
          "output_type": "execute_result",
          "data": {
            "text/plain": [
              "1          13318\n",
              "2           4057\n",
              "3          10483\n",
              "4          42999\n",
              "5         438681\n",
              "         ...    \n",
              "378        30643\n",
              "379        17895\n",
              "380        49389\n",
              "381       128465\n",
              "0      0.0052038\n",
              "Length: 382, dtype: object"
            ]
          },
          "metadata": {
            "tags": []
          },
          "execution_count": 147
        },
        {
          "output_type": "execute_result",
          "data": {
            "text/plain": [
              "1         50800\n",
              "2         11081\n",
              "3         10791\n",
              "4         61111\n",
              "5         64723\n",
              "         ...   \n",
              "378       34417\n",
              "379       42222\n",
              "380        9561\n",
              "381       13346\n",
              "0      0.021227\n",
              "Length: 382, dtype: object"
            ]
          },
          "metadata": {
            "tags": []
          },
          "execution_count": 147
        },
        {
          "output_type": "execute_result",
          "data": {
            "text/plain": [
              "1         153784\n",
              "2          36663\n",
              "3          27744\n",
              "4         198300\n",
              "5         212376\n",
              "         ...    \n",
              "378        98108\n",
              "379       111568\n",
              "380        45752\n",
              "381        57292\n",
              "0      0.0217675\n",
              "Length: 382, dtype: object"
            ]
          },
          "metadata": {
            "tags": []
          },
          "execution_count": 147
        },
        {
          "output_type": "execute_result",
          "data": {
            "text/plain": [
              "1           13318\n",
              "2            4057\n",
              "3           10483\n",
              "4           42999\n",
              "5          438681\n",
              "          ...    \n",
              "378         30643\n",
              "379         17895\n",
              "380         49389\n",
              "381        128465\n",
              "0      0.00274664\n",
              "Length: 382, dtype: object"
            ]
          },
          "metadata": {
            "tags": []
          },
          "execution_count": 147
        },
        {
          "output_type": "execute_result",
          "data": {
            "text/plain": [
              "1           50800\n",
              "2           11081\n",
              "3           10791\n",
              "4           61111\n",
              "5           64723\n",
              "          ...    \n",
              "378         34417\n",
              "379         42222\n",
              "380          9561\n",
              "381         13346\n",
              "0      0.00787176\n",
              "Length: 382, dtype: object"
            ]
          },
          "metadata": {
            "tags": []
          },
          "execution_count": 147
        },
        {
          "output_type": "execute_result",
          "data": {
            "text/plain": [
              "1          153784\n",
              "2           36663\n",
              "3           27744\n",
              "4          198300\n",
              "5          212376\n",
              "          ...    \n",
              "378         98108\n",
              "379        111568\n",
              "380         45752\n",
              "381         57292\n",
              "0      0.00573488\n",
              "Length: 382, dtype: object"
            ]
          },
          "metadata": {
            "tags": []
          },
          "execution_count": 147
        },
        {
          "output_type": "execute_result",
          "data": {
            "text/plain": [
              "1            13318\n",
              "2             4057\n",
              "3            10483\n",
              "4            42999\n",
              "5           438681\n",
              "          ...     \n",
              "378          30643\n",
              "379          17895\n",
              "380          49389\n",
              "381         128465\n",
              "0      0.000689967\n",
              "Length: 382, dtype: object"
            ]
          },
          "metadata": {
            "tags": []
          },
          "execution_count": 147
        },
        {
          "output_type": "execute_result",
          "data": {
            "text/plain": [
              "1          50800\n",
              "2          11081\n",
              "3          10791\n",
              "4          61111\n",
              "5          64723\n",
              "         ...    \n",
              "378        34417\n",
              "379        42222\n",
              "380         9561\n",
              "381        13346\n",
              "0      0.0185283\n",
              "Length: 382, dtype: object"
            ]
          },
          "metadata": {
            "tags": []
          },
          "execution_count": 147
        },
        {
          "output_type": "execute_result",
          "data": {
            "text/plain": [
              "1         153784\n",
              "2          36663\n",
              "3          27744\n",
              "4         198300\n",
              "5         212376\n",
              "         ...    \n",
              "378        98108\n",
              "379       111568\n",
              "380        45752\n",
              "381        57292\n",
              "0      0.0120081\n",
              "Length: 382, dtype: object"
            ]
          },
          "metadata": {
            "tags": []
          },
          "execution_count": 147
        },
        {
          "output_type": "execute_result",
          "data": {
            "text/plain": [
              "1           13318\n",
              "2            4057\n",
              "3           10483\n",
              "4           42999\n",
              "5          438681\n",
              "          ...    \n",
              "378         30643\n",
              "379         17895\n",
              "380         49389\n",
              "381        128465\n",
              "0      0.00162153\n",
              "Length: 382, dtype: object"
            ]
          },
          "metadata": {
            "tags": []
          },
          "execution_count": 147
        },
        {
          "output_type": "execute_result",
          "data": {
            "text/plain": [
              "1          50800\n",
              "2          11081\n",
              "3          10791\n",
              "4          61111\n",
              "5          64723\n",
              "         ...    \n",
              "378        34417\n",
              "379        42222\n",
              "380         9561\n",
              "381        13346\n",
              "0      0.0350471\n",
              "Length: 382, dtype: object"
            ]
          },
          "metadata": {
            "tags": []
          },
          "execution_count": 147
        },
        {
          "output_type": "execute_result",
          "data": {
            "text/plain": [
              "1         153784\n",
              "2          36663\n",
              "3          27744\n",
              "4         198300\n",
              "5         212376\n",
              "         ...    \n",
              "378        98108\n",
              "379       111568\n",
              "380        45752\n",
              "381        57292\n",
              "0      0.0197409\n",
              "Length: 382, dtype: object"
            ]
          },
          "metadata": {
            "tags": []
          },
          "execution_count": 147
        },
        {
          "output_type": "execute_result",
          "data": {
            "text/plain": [
              "1           13318\n",
              "2            4057\n",
              "3           10483\n",
              "4           42999\n",
              "5          438681\n",
              "          ...    \n",
              "378         30643\n",
              "379         17895\n",
              "380         49389\n",
              "381        128465\n",
              "0      0.00505295\n",
              "Length: 382, dtype: object"
            ]
          },
          "metadata": {
            "tags": []
          },
          "execution_count": 147
        },
        {
          "output_type": "execute_result",
          "data": {
            "text/plain": [
              "1          50800\n",
              "2          11081\n",
              "3          10791\n",
              "4          61111\n",
              "5          64723\n",
              "         ...    \n",
              "378        34417\n",
              "379        42222\n",
              "380         9561\n",
              "381        13346\n",
              "0      0.0128064\n",
              "Length: 382, dtype: object"
            ]
          },
          "metadata": {
            "tags": []
          },
          "execution_count": 147
        },
        {
          "output_type": "execute_result",
          "data": {
            "text/plain": [
              "1         153784\n",
              "2          36663\n",
              "3          27744\n",
              "4         198300\n",
              "5         212376\n",
              "         ...    \n",
              "378        98108\n",
              "379       111568\n",
              "380        45752\n",
              "381        57292\n",
              "0      0.0125655\n",
              "Length: 382, dtype: object"
            ]
          },
          "metadata": {
            "tags": []
          },
          "execution_count": 147
        },
        {
          "output_type": "execute_result",
          "data": {
            "text/plain": [
              "1           13318\n",
              "2            4057\n",
              "3           10483\n",
              "4           42999\n",
              "5          438681\n",
              "          ...    \n",
              "378         30643\n",
              "379         17895\n",
              "380         49389\n",
              "381        128465\n",
              "0      0.00282131\n",
              "Length: 382, dtype: object"
            ]
          },
          "metadata": {
            "tags": []
          },
          "execution_count": 147
        },
        {
          "output_type": "execute_result",
          "data": {
            "text/plain": [
              "1         50800\n",
              "2         11081\n",
              "3         10791\n",
              "4         61111\n",
              "5         64723\n",
              "         ...   \n",
              "378       34417\n",
              "379       42222\n",
              "380        9561\n",
              "381       13346\n",
              "0      0.377473\n",
              "Length: 382, dtype: object"
            ]
          },
          "metadata": {
            "tags": []
          },
          "execution_count": 147
        },
        {
          "output_type": "execute_result",
          "data": {
            "text/plain": [
              "1        153784\n",
              "2         36663\n",
              "3         27744\n",
              "4        198300\n",
              "5        212376\n",
              "         ...   \n",
              "378       98108\n",
              "379      111568\n",
              "380       45752\n",
              "381       57292\n",
              "0      0.314735\n",
              "Length: 382, dtype: object"
            ]
          },
          "metadata": {
            "tags": []
          },
          "execution_count": 147
        },
        {
          "output_type": "execute_result",
          "data": {
            "text/plain": [
              "1         13318\n",
              "2          4057\n",
              "3         10483\n",
              "4         42999\n",
              "5        438681\n",
              "         ...   \n",
              "378       30643\n",
              "379       17895\n",
              "380       49389\n",
              "381      128465\n",
              "0      0.100462\n",
              "Length: 382, dtype: object"
            ]
          },
          "metadata": {
            "tags": []
          },
          "execution_count": 147
        },
        {
          "output_type": "execute_result",
          "data": {
            "text/plain": [
              "1          50800\n",
              "2          11081\n",
              "3          10791\n",
              "4          61111\n",
              "5          64723\n",
              "         ...    \n",
              "378        34417\n",
              "379        42222\n",
              "380         9561\n",
              "381        13346\n",
              "0      0.0183711\n",
              "Length: 382, dtype: object"
            ]
          },
          "metadata": {
            "tags": []
          },
          "execution_count": 147
        },
        {
          "output_type": "execute_result",
          "data": {
            "text/plain": [
              "1         153784\n",
              "2          36663\n",
              "3          27744\n",
              "4         198300\n",
              "5         212376\n",
              "         ...    \n",
              "378        98108\n",
              "379       111568\n",
              "380        45752\n",
              "381        57292\n",
              "0      0.0126889\n",
              "Length: 382, dtype: object"
            ]
          },
          "metadata": {
            "tags": []
          },
          "execution_count": 147
        },
        {
          "output_type": "execute_result",
          "data": {
            "text/plain": [
              "1           13318\n",
              "2            4057\n",
              "3           10483\n",
              "4           42999\n",
              "5          438681\n",
              "          ...    \n",
              "378         30643\n",
              "379         17895\n",
              "380         49389\n",
              "381        128465\n",
              "0      0.00845674\n",
              "Length: 382, dtype: object"
            ]
          },
          "metadata": {
            "tags": []
          },
          "execution_count": 147
        },
        {
          "output_type": "execute_result",
          "data": {
            "text/plain": [
              "1           50800\n",
              "2           11081\n",
              "3           10791\n",
              "4           61111\n",
              "5           64723\n",
              "          ...    \n",
              "378         34417\n",
              "379         42222\n",
              "380          9561\n",
              "381         13346\n",
              "0      0.00736247\n",
              "Length: 382, dtype: object"
            ]
          },
          "metadata": {
            "tags": []
          },
          "execution_count": 147
        },
        {
          "output_type": "execute_result",
          "data": {
            "text/plain": [
              "1          153784\n",
              "2           36663\n",
              "3           27744\n",
              "4          198300\n",
              "5          212376\n",
              "          ...    \n",
              "378         98108\n",
              "379        111568\n",
              "380         45752\n",
              "381         57292\n",
              "0      0.00988526\n",
              "Length: 382, dtype: object"
            ]
          },
          "metadata": {
            "tags": []
          },
          "execution_count": 147
        },
        {
          "output_type": "execute_result",
          "data": {
            "text/plain": [
              "1            13318\n",
              "2             4057\n",
              "3            10483\n",
              "4            42999\n",
              "5           438681\n",
              "          ...     \n",
              "378          30643\n",
              "379          17895\n",
              "380          49389\n",
              "381         128465\n",
              "0      0.000973253\n",
              "Length: 382, dtype: object"
            ]
          },
          "metadata": {
            "tags": []
          },
          "execution_count": 147
        },
        {
          "output_type": "execute_result",
          "data": {
            "text/plain": [
              "1          50800\n",
              "2          11081\n",
              "3          10791\n",
              "4          61111\n",
              "5          64723\n",
              "         ...    \n",
              "378        34417\n",
              "379        42222\n",
              "380         9561\n",
              "381        13346\n",
              "0      0.0382314\n",
              "Length: 382, dtype: object"
            ]
          },
          "metadata": {
            "tags": []
          },
          "execution_count": 147
        },
        {
          "output_type": "execute_result",
          "data": {
            "text/plain": [
              "1         153784\n",
              "2          36663\n",
              "3          27744\n",
              "4         198300\n",
              "5         212376\n",
              "         ...    \n",
              "378        98108\n",
              "379       111568\n",
              "380        45752\n",
              "381        57292\n",
              "0      0.0316846\n",
              "Length: 382, dtype: object"
            ]
          },
          "metadata": {
            "tags": []
          },
          "execution_count": 147
        },
        {
          "output_type": "execute_result",
          "data": {
            "text/plain": [
              "1           13318\n",
              "2            4057\n",
              "3           10483\n",
              "4           42999\n",
              "5          438681\n",
              "          ...    \n",
              "378         30643\n",
              "379         17895\n",
              "380         49389\n",
              "381        128465\n",
              "0      0.00513231\n",
              "Length: 382, dtype: object"
            ]
          },
          "metadata": {
            "tags": []
          },
          "execution_count": 147
        },
        {
          "output_type": "execute_result",
          "data": {
            "text/plain": [
              "1         50800\n",
              "2         11081\n",
              "3         10791\n",
              "4         61111\n",
              "5         64723\n",
              "         ...   \n",
              "378       34417\n",
              "379       42222\n",
              "380        9561\n",
              "381       13346\n",
              "0      0.133896\n",
              "Length: 382, dtype: object"
            ]
          },
          "metadata": {
            "tags": []
          },
          "execution_count": 147
        },
        {
          "output_type": "execute_result",
          "data": {
            "text/plain": [
              "1        153784\n",
              "2         36663\n",
              "3         27744\n",
              "4        198300\n",
              "5        212376\n",
              "         ...   \n",
              "378       98108\n",
              "379      111568\n",
              "380       45752\n",
              "381       57292\n",
              "0      0.122854\n",
              "Length: 382, dtype: object"
            ]
          },
          "metadata": {
            "tags": []
          },
          "execution_count": 147
        },
        {
          "output_type": "execute_result",
          "data": {
            "text/plain": [
              "1         13318\n",
              "2          4057\n",
              "3         10483\n",
              "4         42999\n",
              "5        438681\n",
              "         ...   \n",
              "378       30643\n",
              "379       17895\n",
              "380       49389\n",
              "381      128465\n",
              "0      0.107792\n",
              "Length: 382, dtype: object"
            ]
          },
          "metadata": {
            "tags": []
          },
          "execution_count": 147
        },
        {
          "output_type": "execute_result",
          "data": {
            "text/plain": [
              "1          50800\n",
              "2          11081\n",
              "3          10791\n",
              "4          61111\n",
              "5          64723\n",
              "         ...    \n",
              "378        34417\n",
              "379        42222\n",
              "380         9561\n",
              "381        13346\n",
              "0      0.0469556\n",
              "Length: 382, dtype: object"
            ]
          },
          "metadata": {
            "tags": []
          },
          "execution_count": 147
        },
        {
          "output_type": "execute_result",
          "data": {
            "text/plain": [
              "1         153784\n",
              "2          36663\n",
              "3          27744\n",
              "4         198300\n",
              "5         212376\n",
              "         ...    \n",
              "378        98108\n",
              "379       111568\n",
              "380        45752\n",
              "381        57292\n",
              "0      0.0564916\n",
              "Length: 382, dtype: object"
            ]
          },
          "metadata": {
            "tags": []
          },
          "execution_count": 147
        },
        {
          "output_type": "execute_result",
          "data": {
            "text/plain": [
              "1          13318\n",
              "2           4057\n",
              "3          10483\n",
              "4          42999\n",
              "5         438681\n",
              "         ...    \n",
              "378        30643\n",
              "379        17895\n",
              "380        49389\n",
              "381       128465\n",
              "0      0.0768334\n",
              "Length: 382, dtype: object"
            ]
          },
          "metadata": {
            "tags": []
          },
          "execution_count": 147
        },
        {
          "output_type": "execute_result",
          "data": {
            "text/plain": [
              "1         50800\n",
              "2         11081\n",
              "3         10791\n",
              "4         61111\n",
              "5         64723\n",
              "         ...   \n",
              "378       34417\n",
              "379       42222\n",
              "380        9561\n",
              "381       13346\n",
              "0      0.164785\n",
              "Length: 382, dtype: object"
            ]
          },
          "metadata": {
            "tags": []
          },
          "execution_count": 147
        },
        {
          "output_type": "execute_result",
          "data": {
            "text/plain": [
              "1        153784\n",
              "2         36663\n",
              "3         27744\n",
              "4        198300\n",
              "5        212376\n",
              "         ...   \n",
              "378       98108\n",
              "379      111568\n",
              "380       45752\n",
              "381       57292\n",
              "0      0.140439\n",
              "Length: 382, dtype: object"
            ]
          },
          "metadata": {
            "tags": []
          },
          "execution_count": 147
        },
        {
          "output_type": "execute_result",
          "data": {
            "text/plain": [
              "1          13318\n",
              "2           4057\n",
              "3          10483\n",
              "4          42999\n",
              "5         438681\n",
              "         ...    \n",
              "378        30643\n",
              "379        17895\n",
              "380        49389\n",
              "381       128465\n",
              "0      0.0255437\n",
              "Length: 382, dtype: object"
            ]
          },
          "metadata": {
            "tags": []
          },
          "execution_count": 147
        },
        {
          "output_type": "execute_result",
          "data": {
            "text/plain": [
              "1          50800\n",
              "2          11081\n",
              "3          10791\n",
              "4          61111\n",
              "5          64723\n",
              "         ...    \n",
              "378        34417\n",
              "379        42222\n",
              "380         9561\n",
              "381        13346\n",
              "0      0.0100543\n",
              "Length: 382, dtype: object"
            ]
          },
          "metadata": {
            "tags": []
          },
          "execution_count": 147
        },
        {
          "output_type": "execute_result",
          "data": {
            "text/plain": [
              "1          153784\n",
              "2           36663\n",
              "3           27744\n",
              "4          198300\n",
              "5          212376\n",
              "          ...    \n",
              "378         98108\n",
              "379        111568\n",
              "380         45752\n",
              "381         57292\n",
              "0      0.00722805\n",
              "Length: 382, dtype: object"
            ]
          },
          "metadata": {
            "tags": []
          },
          "execution_count": 147
        },
        {
          "output_type": "execute_result",
          "data": {
            "text/plain": [
              "1            13318\n",
              "2             4057\n",
              "3            10483\n",
              "4            42999\n",
              "5           438681\n",
              "          ...     \n",
              "378          30643\n",
              "379          17895\n",
              "380          49389\n",
              "381         128465\n",
              "0      0.000323971\n",
              "Length: 382, dtype: object"
            ]
          },
          "metadata": {
            "tags": []
          },
          "execution_count": 147
        },
        {
          "output_type": "execute_result",
          "data": {
            "text/plain": [
              "1          50800\n",
              "2          11081\n",
              "3          10791\n",
              "4          61111\n",
              "5          64723\n",
              "         ...    \n",
              "378        34417\n",
              "379        42222\n",
              "380         9561\n",
              "381        13346\n",
              "0      0.0159205\n",
              "Length: 382, dtype: object"
            ]
          },
          "metadata": {
            "tags": []
          },
          "execution_count": 147
        },
        {
          "output_type": "execute_result",
          "data": {
            "text/plain": [
              "1          153784\n",
              "2           36663\n",
              "3           27744\n",
              "4          198300\n",
              "5          212376\n",
              "          ...    \n",
              "378         98108\n",
              "379        111568\n",
              "380         45752\n",
              "381         57292\n",
              "0      0.00782766\n",
              "Length: 382, dtype: object"
            ]
          },
          "metadata": {
            "tags": []
          },
          "execution_count": 147
        },
        {
          "output_type": "execute_result",
          "data": {
            "text/plain": [
              "1            13318\n",
              "2             4057\n",
              "3            10483\n",
              "4            42999\n",
              "5           438681\n",
              "          ...     \n",
              "378          30643\n",
              "379          17895\n",
              "380          49389\n",
              "381         128465\n",
              "0      0.000982629\n",
              "Length: 382, dtype: object"
            ]
          },
          "metadata": {
            "tags": []
          },
          "execution_count": 147
        },
        {
          "output_type": "execute_result",
          "data": {
            "text/plain": [
              "1          50800\n",
              "2          11081\n",
              "3          10791\n",
              "4          61111\n",
              "5          64723\n",
              "         ...    \n",
              "378        34417\n",
              "379        42222\n",
              "380         9561\n",
              "381        13346\n",
              "0      0.0494378\n",
              "Length: 382, dtype: object"
            ]
          },
          "metadata": {
            "tags": []
          },
          "execution_count": 147
        },
        {
          "output_type": "execute_result",
          "data": {
            "text/plain": [
              "1         153784\n",
              "2          36663\n",
              "3          27744\n",
              "4         198300\n",
              "5         212376\n",
              "         ...    \n",
              "378        98108\n",
              "379       111568\n",
              "380        45752\n",
              "381        57292\n",
              "0      0.0452275\n",
              "Length: 382, dtype: object"
            ]
          },
          "metadata": {
            "tags": []
          },
          "execution_count": 147
        },
        {
          "output_type": "execute_result",
          "data": {
            "text/plain": [
              "1           13318\n",
              "2            4057\n",
              "3           10483\n",
              "4           42999\n",
              "5          438681\n",
              "          ...    \n",
              "378         30643\n",
              "379         17895\n",
              "380         49389\n",
              "381        128465\n",
              "0      0.00527981\n",
              "Length: 382, dtype: object"
            ]
          },
          "metadata": {
            "tags": []
          },
          "execution_count": 147
        },
        {
          "output_type": "execute_result",
          "data": {
            "text/plain": [
              "1          50800\n",
              "2          11081\n",
              "3          10791\n",
              "4          61111\n",
              "5          64723\n",
              "         ...    \n",
              "378        34417\n",
              "379        42222\n",
              "380         9561\n",
              "381        13346\n",
              "0      0.0108138\n",
              "Length: 382, dtype: object"
            ]
          },
          "metadata": {
            "tags": []
          },
          "execution_count": 147
        },
        {
          "output_type": "execute_result",
          "data": {
            "text/plain": [
              "1          153784\n",
              "2           36663\n",
              "3           27744\n",
              "4          198300\n",
              "5          212376\n",
              "          ...    \n",
              "378         98108\n",
              "379        111568\n",
              "380         45752\n",
              "381         57292\n",
              "0      0.00661074\n",
              "Length: 382, dtype: object"
            ]
          },
          "metadata": {
            "tags": []
          },
          "execution_count": 147
        },
        {
          "output_type": "execute_result",
          "data": {
            "text/plain": [
              "1           13318\n",
              "2            4057\n",
              "3           10483\n",
              "4           42999\n",
              "5          438681\n",
              "          ...    \n",
              "378         30643\n",
              "379         17895\n",
              "380         49389\n",
              "381        128465\n",
              "0      0.00112327\n",
              "Length: 382, dtype: object"
            ]
          },
          "metadata": {
            "tags": []
          },
          "execution_count": 147
        },
        {
          "output_type": "execute_result",
          "data": {
            "text/plain": [
              "1           50800\n",
              "2           11081\n",
              "3           10791\n",
              "4           61111\n",
              "5           64723\n",
              "          ...    \n",
              "378         34417\n",
              "379         42222\n",
              "380          9561\n",
              "381         13346\n",
              "0      0.00910197\n",
              "Length: 382, dtype: object"
            ]
          },
          "metadata": {
            "tags": []
          },
          "execution_count": 147
        },
        {
          "output_type": "execute_result",
          "data": {
            "text/plain": [
              "1          153784\n",
              "2           36663\n",
              "3           27744\n",
              "4          198300\n",
              "5          212376\n",
              "          ...    \n",
              "378         98108\n",
              "379        111568\n",
              "380         45752\n",
              "381         57292\n",
              "0      0.00466196\n",
              "Length: 382, dtype: object"
            ]
          },
          "metadata": {
            "tags": []
          },
          "execution_count": 147
        },
        {
          "output_type": "execute_result",
          "data": {
            "text/plain": [
              "1            13318\n",
              "2             4057\n",
              "3            10483\n",
              "4            42999\n",
              "5           438681\n",
              "          ...     \n",
              "378          30643\n",
              "379          17895\n",
              "380          49389\n",
              "381         128465\n",
              "0      0.000908794\n",
              "Length: 382, dtype: object"
            ]
          },
          "metadata": {
            "tags": []
          },
          "execution_count": 147
        },
        {
          "output_type": "execute_result",
          "data": {
            "text/plain": [
              "1          50800\n",
              "2          11081\n",
              "3          10791\n",
              "4          61111\n",
              "5          64723\n",
              "         ...    \n",
              "378        34417\n",
              "379        42222\n",
              "380         9561\n",
              "381        13346\n",
              "0      0.0227213\n",
              "Length: 382, dtype: object"
            ]
          },
          "metadata": {
            "tags": []
          },
          "execution_count": 147
        },
        {
          "output_type": "execute_result",
          "data": {
            "text/plain": [
              "1         153784\n",
              "2          36663\n",
              "3          27744\n",
              "4         198300\n",
              "5         212376\n",
              "         ...    \n",
              "378        98108\n",
              "379       111568\n",
              "380        45752\n",
              "381        57292\n",
              "0      0.0220491\n",
              "Length: 382, dtype: object"
            ]
          },
          "metadata": {
            "tags": []
          },
          "execution_count": 147
        },
        {
          "output_type": "execute_result",
          "data": {
            "text/plain": [
              "1           13318\n",
              "2            4057\n",
              "3           10483\n",
              "4           42999\n",
              "5          438681\n",
              "          ...    \n",
              "378         30643\n",
              "379         17895\n",
              "380         49389\n",
              "381        128465\n",
              "0      0.00990565\n",
              "Length: 382, dtype: object"
            ]
          },
          "metadata": {
            "tags": []
          },
          "execution_count": 147
        },
        {
          "output_type": "execute_result",
          "data": {
            "text/plain": [
              "1          50800\n",
              "2          11081\n",
              "3          10791\n",
              "4          61111\n",
              "5          64723\n",
              "         ...    \n",
              "378        34417\n",
              "379        42222\n",
              "380         9561\n",
              "381        13346\n",
              "0      0.0083049\n",
              "Length: 382, dtype: object"
            ]
          },
          "metadata": {
            "tags": []
          },
          "execution_count": 147
        },
        {
          "output_type": "execute_result",
          "data": {
            "text/plain": [
              "1          153784\n",
              "2           36663\n",
              "3           27744\n",
              "4          198300\n",
              "5          212376\n",
              "          ...    \n",
              "378         98108\n",
              "379        111568\n",
              "380         45752\n",
              "381         57292\n",
              "0      0.00530713\n",
              "Length: 382, dtype: object"
            ]
          },
          "metadata": {
            "tags": []
          },
          "execution_count": 147
        },
        {
          "output_type": "execute_result",
          "data": {
            "text/plain": [
              "1            13318\n",
              "2             4057\n",
              "3            10483\n",
              "4            42999\n",
              "5           438681\n",
              "          ...     \n",
              "378          30643\n",
              "379          17895\n",
              "380          49389\n",
              "381         128465\n",
              "0      0.000283287\n",
              "Length: 382, dtype: object"
            ]
          },
          "metadata": {
            "tags": []
          },
          "execution_count": 147
        },
        {
          "output_type": "execute_result",
          "data": {
            "text/plain": [
              "1          50800\n",
              "2          11081\n",
              "3          10791\n",
              "4          61111\n",
              "5          64723\n",
              "         ...    \n",
              "378        34417\n",
              "379        42222\n",
              "380         9561\n",
              "381        13346\n",
              "0      0.0181753\n",
              "Length: 382, dtype: object"
            ]
          },
          "metadata": {
            "tags": []
          },
          "execution_count": 147
        },
        {
          "output_type": "execute_result",
          "data": {
            "text/plain": [
              "1       153784\n",
              "2        36663\n",
              "3        27744\n",
              "4       198300\n",
              "5       212376\n",
              "        ...   \n",
              "378      98108\n",
              "379     111568\n",
              "380      45752\n",
              "381      57292\n",
              "0      0.01184\n",
              "Length: 382, dtype: object"
            ]
          },
          "metadata": {
            "tags": []
          },
          "execution_count": 147
        },
        {
          "output_type": "execute_result",
          "data": {
            "text/plain": [
              "1           13318\n",
              "2            4057\n",
              "3           10483\n",
              "4           42999\n",
              "5          438681\n",
              "          ...    \n",
              "378         30643\n",
              "379         17895\n",
              "380         49389\n",
              "381        128465\n",
              "0      0.00321426\n",
              "Length: 382, dtype: object"
            ]
          },
          "metadata": {
            "tags": []
          },
          "execution_count": 147
        },
        {
          "output_type": "execute_result",
          "data": {
            "text/plain": [
              "1          50800\n",
              "2          11081\n",
              "3          10791\n",
              "4          61111\n",
              "5          64723\n",
              "         ...    \n",
              "378        34417\n",
              "379        42222\n",
              "380         9561\n",
              "381        13346\n",
              "0      0.0154785\n",
              "Length: 382, dtype: object"
            ]
          },
          "metadata": {
            "tags": []
          },
          "execution_count": 147
        },
        {
          "output_type": "execute_result",
          "data": {
            "text/plain": [
              "1         153784\n",
              "2          36663\n",
              "3          27744\n",
              "4         198300\n",
              "5         212376\n",
              "         ...    \n",
              "378        98108\n",
              "379       111568\n",
              "380        45752\n",
              "381        57292\n",
              "0      0.0084527\n",
              "Length: 382, dtype: object"
            ]
          },
          "metadata": {
            "tags": []
          },
          "execution_count": 147
        },
        {
          "output_type": "execute_result",
          "data": {
            "text/plain": [
              "1           13318\n",
              "2            4057\n",
              "3           10483\n",
              "4           42999\n",
              "5          438681\n",
              "          ...    \n",
              "378         30643\n",
              "379         17895\n",
              "380         49389\n",
              "381        128465\n",
              "0      0.00229107\n",
              "Length: 382, dtype: object"
            ]
          },
          "metadata": {
            "tags": []
          },
          "execution_count": 147
        },
        {
          "output_type": "execute_result",
          "data": {
            "text/plain": [
              "1          50800\n",
              "2          11081\n",
              "3          10791\n",
              "4          61111\n",
              "5          64723\n",
              "         ...    \n",
              "378        34417\n",
              "379        42222\n",
              "380         9561\n",
              "381        13346\n",
              "0      0.0137647\n",
              "Length: 382, dtype: object"
            ]
          },
          "metadata": {
            "tags": []
          },
          "execution_count": 147
        },
        {
          "output_type": "execute_result",
          "data": {
            "text/plain": [
              "1          153784\n",
              "2           36663\n",
              "3           27744\n",
              "4          198300\n",
              "5          212376\n",
              "          ...    \n",
              "378         98108\n",
              "379        111568\n",
              "380         45752\n",
              "381         57292\n",
              "0      0.00841997\n",
              "Length: 382, dtype: object"
            ]
          },
          "metadata": {
            "tags": []
          },
          "execution_count": 147
        },
        {
          "output_type": "execute_result",
          "data": {
            "text/plain": [
              "1           13318\n",
              "2            4057\n",
              "3           10483\n",
              "4           42999\n",
              "5          438681\n",
              "          ...    \n",
              "378         30643\n",
              "379         17895\n",
              "380         49389\n",
              "381        128465\n",
              "0      0.00145226\n",
              "Length: 382, dtype: object"
            ]
          },
          "metadata": {
            "tags": []
          },
          "execution_count": 147
        },
        {
          "output_type": "execute_result",
          "data": {
            "text/plain": [
              "1          50800\n",
              "2          11081\n",
              "3          10791\n",
              "4          61111\n",
              "5          64723\n",
              "         ...    \n",
              "378        34417\n",
              "379        42222\n",
              "380         9561\n",
              "381        13346\n",
              "0      0.0176155\n",
              "Length: 382, dtype: object"
            ]
          },
          "metadata": {
            "tags": []
          },
          "execution_count": 147
        },
        {
          "output_type": "execute_result",
          "data": {
            "text/plain": [
              "1        153784\n",
              "2         36663\n",
              "3         27744\n",
              "4        198300\n",
              "5        212376\n",
              "         ...   \n",
              "378       98108\n",
              "379      111568\n",
              "380       45752\n",
              "381       57292\n",
              "0      0.011623\n",
              "Length: 382, dtype: object"
            ]
          },
          "metadata": {
            "tags": []
          },
          "execution_count": 147
        },
        {
          "output_type": "execute_result",
          "data": {
            "text/plain": [
              "1           13318\n",
              "2            4057\n",
              "3           10483\n",
              "4           42999\n",
              "5          438681\n",
              "          ...    \n",
              "378         30643\n",
              "379         17895\n",
              "380         49389\n",
              "381        128465\n",
              "0      0.00145628\n",
              "Length: 382, dtype: object"
            ]
          },
          "metadata": {
            "tags": []
          },
          "execution_count": 147
        },
        {
          "output_type": "execute_result",
          "data": {
            "text/plain": [
              "1          50800\n",
              "2          11081\n",
              "3          10791\n",
              "4          61111\n",
              "5          64723\n",
              "         ...    \n",
              "378        34417\n",
              "379        42222\n",
              "380         9561\n",
              "381        13346\n",
              "0      0.0763293\n",
              "Length: 382, dtype: object"
            ]
          },
          "metadata": {
            "tags": []
          },
          "execution_count": 147
        },
        {
          "output_type": "execute_result",
          "data": {
            "text/plain": [
              "1        153784\n",
              "2         36663\n",
              "3         27744\n",
              "4        198300\n",
              "5        212376\n",
              "         ...   \n",
              "378       98108\n",
              "379      111568\n",
              "380       45752\n",
              "381       57292\n",
              "0      0.057618\n",
              "Length: 382, dtype: object"
            ]
          },
          "metadata": {
            "tags": []
          },
          "execution_count": 147
        },
        {
          "output_type": "execute_result",
          "data": {
            "text/plain": [
              "1           13318\n",
              "2            4057\n",
              "3           10483\n",
              "4           42999\n",
              "5          438681\n",
              "          ...    \n",
              "378         30643\n",
              "379         17895\n",
              "380         49389\n",
              "381        128465\n",
              "0      0.00826587\n",
              "Length: 382, dtype: object"
            ]
          },
          "metadata": {
            "tags": []
          },
          "execution_count": 147
        },
        {
          "output_type": "execute_result",
          "data": {
            "text/plain": [
              "1          50800\n",
              "2          11081\n",
              "3          10791\n",
              "4          61111\n",
              "5          64723\n",
              "         ...    \n",
              "378        34417\n",
              "379        42222\n",
              "380         9561\n",
              "381        13346\n",
              "0      0.0109018\n",
              "Length: 382, dtype: object"
            ]
          },
          "metadata": {
            "tags": []
          },
          "execution_count": 147
        },
        {
          "output_type": "execute_result",
          "data": {
            "text/plain": [
              "1          153784\n",
              "2           36663\n",
              "3           27744\n",
              "4          198300\n",
              "5          212376\n",
              "          ...    \n",
              "378         98108\n",
              "379        111568\n",
              "380         45752\n",
              "381         57292\n",
              "0      0.00722539\n",
              "Length: 382, dtype: object"
            ]
          },
          "metadata": {
            "tags": []
          },
          "execution_count": 147
        },
        {
          "output_type": "execute_result",
          "data": {
            "text/plain": [
              "1           13318\n",
              "2            4057\n",
              "3           10483\n",
              "4           42999\n",
              "5          438681\n",
              "          ...    \n",
              "378         30643\n",
              "379         17895\n",
              "380         49389\n",
              "381        128465\n",
              "0      0.00051015\n",
              "Length: 382, dtype: object"
            ]
          },
          "metadata": {
            "tags": []
          },
          "execution_count": 147
        },
        {
          "output_type": "execute_result",
          "data": {
            "text/plain": [
              "1          50800\n",
              "2          11081\n",
              "3          10791\n",
              "4          61111\n",
              "5          64723\n",
              "         ...    \n",
              "378        34417\n",
              "379        42222\n",
              "380         9561\n",
              "381        13346\n",
              "0      0.0137904\n",
              "Length: 382, dtype: object"
            ]
          },
          "metadata": {
            "tags": []
          },
          "execution_count": 147
        },
        {
          "output_type": "execute_result",
          "data": {
            "text/plain": [
              "1         153784\n",
              "2          36663\n",
              "3          27744\n",
              "4         198300\n",
              "5         212376\n",
              "         ...    \n",
              "378        98108\n",
              "379       111568\n",
              "380        45752\n",
              "381        57292\n",
              "0      0.0110329\n",
              "Length: 382, dtype: object"
            ]
          },
          "metadata": {
            "tags": []
          },
          "execution_count": 147
        },
        {
          "output_type": "execute_result",
          "data": {
            "text/plain": [
              "1            13318\n",
              "2             4057\n",
              "3            10483\n",
              "4            42999\n",
              "5           438681\n",
              "          ...     \n",
              "378          30643\n",
              "379          17895\n",
              "380          49389\n",
              "381         128465\n",
              "0      0.000795278\n",
              "Length: 382, dtype: object"
            ]
          },
          "metadata": {
            "tags": []
          },
          "execution_count": 147
        },
        {
          "output_type": "execute_result",
          "data": {
            "text/plain": [
              "1          50800\n",
              "2          11081\n",
              "3          10791\n",
              "4          61111\n",
              "5          64723\n",
              "         ...    \n",
              "378        34417\n",
              "379        42222\n",
              "380         9561\n",
              "381        13346\n",
              "0      0.0128223\n",
              "Length: 382, dtype: object"
            ]
          },
          "metadata": {
            "tags": []
          },
          "execution_count": 147
        },
        {
          "output_type": "execute_result",
          "data": {
            "text/plain": [
              "1         153784\n",
              "2          36663\n",
              "3          27744\n",
              "4         198300\n",
              "5         212376\n",
              "         ...    \n",
              "378        98108\n",
              "379       111568\n",
              "380        45752\n",
              "381        57292\n",
              "0      0.0107341\n",
              "Length: 382, dtype: object"
            ]
          },
          "metadata": {
            "tags": []
          },
          "execution_count": 147
        },
        {
          "output_type": "execute_result",
          "data": {
            "text/plain": [
              "1          13318\n",
              "2           4057\n",
              "3          10483\n",
              "4          42999\n",
              "5         438681\n",
              "         ...    \n",
              "378        30643\n",
              "379        17895\n",
              "380        49389\n",
              "381       128465\n",
              "0      0.0014449\n",
              "Length: 382, dtype: object"
            ]
          },
          "metadata": {
            "tags": []
          },
          "execution_count": 147
        },
        {
          "output_type": "execute_result",
          "data": {
            "text/plain": [
              "1          50800\n",
              "2          11081\n",
              "3          10791\n",
              "4          61111\n",
              "5          64723\n",
              "         ...    \n",
              "378        34417\n",
              "379        42222\n",
              "380         9561\n",
              "381        13346\n",
              "0      0.0112469\n",
              "Length: 382, dtype: object"
            ]
          },
          "metadata": {
            "tags": []
          },
          "execution_count": 147
        },
        {
          "output_type": "execute_result",
          "data": {
            "text/plain": [
              "1         153784\n",
              "2          36663\n",
              "3          27744\n",
              "4         198300\n",
              "5         212376\n",
              "         ...    \n",
              "378        98108\n",
              "379       111568\n",
              "380        45752\n",
              "381        57292\n",
              "0      0.0102719\n",
              "Length: 382, dtype: object"
            ]
          },
          "metadata": {
            "tags": []
          },
          "execution_count": 147
        },
        {
          "output_type": "execute_result",
          "data": {
            "text/plain": [
              "1            13318\n",
              "2             4057\n",
              "3            10483\n",
              "4            42999\n",
              "5           438681\n",
              "          ...     \n",
              "378          30643\n",
              "379          17895\n",
              "380          49389\n",
              "381         128465\n",
              "0      0.000844335\n",
              "Length: 382, dtype: object"
            ]
          },
          "metadata": {
            "tags": []
          },
          "execution_count": 147
        },
        {
          "output_type": "execute_result",
          "data": {
            "text/plain": [
              "1           50800\n",
              "2           11081\n",
              "3           10791\n",
              "4           61111\n",
              "5           64723\n",
              "          ...    \n",
              "378         34417\n",
              "379         42222\n",
              "380          9561\n",
              "381         13346\n",
              "0      0.00603337\n",
              "Length: 382, dtype: object"
            ]
          },
          "metadata": {
            "tags": []
          },
          "execution_count": 147
        },
        {
          "output_type": "execute_result",
          "data": {
            "text/plain": [
              "1          153784\n",
              "2           36663\n",
              "3           27744\n",
              "4          198300\n",
              "5          212376\n",
              "          ...    \n",
              "378         98108\n",
              "379        111568\n",
              "380         45752\n",
              "381         57292\n",
              "0      0.00403536\n",
              "Length: 382, dtype: object"
            ]
          },
          "metadata": {
            "tags": []
          },
          "execution_count": 147
        },
        {
          "output_type": "execute_result",
          "data": {
            "text/plain": [
              "1            13318\n",
              "2             4057\n",
              "3            10483\n",
              "4            42999\n",
              "5           438681\n",
              "          ...     \n",
              "378          30643\n",
              "379          17895\n",
              "380          49389\n",
              "381         128465\n",
              "0      0.000366163\n",
              "Length: 382, dtype: object"
            ]
          },
          "metadata": {
            "tags": []
          },
          "execution_count": 147
        },
        {
          "output_type": "execute_result",
          "data": {
            "text/plain": [
              "1          50800\n",
              "2          11081\n",
              "3          10791\n",
              "4          61111\n",
              "5          64723\n",
              "         ...    \n",
              "378        34417\n",
              "379        42222\n",
              "380         9561\n",
              "381        13346\n",
              "0      0.0559656\n",
              "Length: 382, dtype: object"
            ]
          },
          "metadata": {
            "tags": []
          },
          "execution_count": 147
        },
        {
          "output_type": "execute_result",
          "data": {
            "text/plain": [
              "1         153784\n",
              "2          36663\n",
              "3          27744\n",
              "4         198300\n",
              "5         212376\n",
              "         ...    \n",
              "378        98108\n",
              "379       111568\n",
              "380        45752\n",
              "381        57292\n",
              "0      0.0394605\n",
              "Length: 382, dtype: object"
            ]
          },
          "metadata": {
            "tags": []
          },
          "execution_count": 147
        },
        {
          "output_type": "execute_result",
          "data": {
            "text/plain": [
              "1          13318\n",
              "2           4057\n",
              "3          10483\n",
              "4          42999\n",
              "5         438681\n",
              "         ...    \n",
              "378        30643\n",
              "379        17895\n",
              "380        49389\n",
              "381       128465\n",
              "0      0.0151391\n",
              "Length: 382, dtype: object"
            ]
          },
          "metadata": {
            "tags": []
          },
          "execution_count": 147
        },
        {
          "output_type": "execute_result",
          "data": {
            "text/plain": [
              "1         50800\n",
              "2         11081\n",
              "3         10791\n",
              "4         61111\n",
              "5         64723\n",
              "         ...   \n",
              "378       34417\n",
              "379       42222\n",
              "380        9561\n",
              "381       13346\n",
              "0      0.249924\n",
              "Length: 382, dtype: object"
            ]
          },
          "metadata": {
            "tags": []
          },
          "execution_count": 147
        },
        {
          "output_type": "execute_result",
          "data": {
            "text/plain": [
              "1        153784\n",
              "2         36663\n",
              "3         27744\n",
              "4        198300\n",
              "5        212376\n",
              "         ...   \n",
              "378       98108\n",
              "379      111568\n",
              "380       45752\n",
              "381       57292\n",
              "0      0.244737\n",
              "Length: 382, dtype: object"
            ]
          },
          "metadata": {
            "tags": []
          },
          "execution_count": 147
        },
        {
          "output_type": "execute_result",
          "data": {
            "text/plain": [
              "1          13318\n",
              "2           4057\n",
              "3          10483\n",
              "4          42999\n",
              "5         438681\n",
              "         ...    \n",
              "378        30643\n",
              "379        17895\n",
              "380        49389\n",
              "381       128465\n",
              "0      0.0846305\n",
              "Length: 382, dtype: object"
            ]
          },
          "metadata": {
            "tags": []
          },
          "execution_count": 147
        },
        {
          "output_type": "execute_result",
          "data": {
            "text/plain": [
              "1          50800\n",
              "2          11081\n",
              "3          10791\n",
              "4          61111\n",
              "5          64723\n",
              "         ...    \n",
              "378        34417\n",
              "379        42222\n",
              "380         9561\n",
              "381        13346\n",
              "0      0.0179884\n",
              "Length: 382, dtype: object"
            ]
          },
          "metadata": {
            "tags": []
          },
          "execution_count": 147
        },
        {
          "output_type": "execute_result",
          "data": {
            "text/plain": [
              "1         153784\n",
              "2          36663\n",
              "3          27744\n",
              "4         198300\n",
              "5         212376\n",
              "         ...    \n",
              "378        98108\n",
              "379       111568\n",
              "380        45752\n",
              "381        57292\n",
              "0      0.0179569\n",
              "Length: 382, dtype: object"
            ]
          },
          "metadata": {
            "tags": []
          },
          "execution_count": 147
        },
        {
          "output_type": "execute_result",
          "data": {
            "text/plain": [
              "1           13318\n",
              "2            4057\n",
              "3           10483\n",
              "4           42999\n",
              "5          438681\n",
              "          ...    \n",
              "378         30643\n",
              "379         17895\n",
              "380         49389\n",
              "381        128465\n",
              "0      0.00729279\n",
              "Length: 382, dtype: object"
            ]
          },
          "metadata": {
            "tags": []
          },
          "execution_count": 147
        },
        {
          "output_type": "execute_result",
          "data": {
            "text/plain": [
              "1          50800\n",
              "2          11081\n",
              "3          10791\n",
              "4          61111\n",
              "5          64723\n",
              "         ...    \n",
              "378        34417\n",
              "379        42222\n",
              "380         9561\n",
              "381        13346\n",
              "0      0.0127333\n",
              "Length: 382, dtype: object"
            ]
          },
          "metadata": {
            "tags": []
          },
          "execution_count": 147
        },
        {
          "output_type": "execute_result",
          "data": {
            "text/plain": [
              "1          153784\n",
              "2           36663\n",
              "3           27744\n",
              "4          198300\n",
              "5          212376\n",
              "          ...    \n",
              "378         98108\n",
              "379        111568\n",
              "380         45752\n",
              "381         57292\n",
              "0      0.00968311\n",
              "Length: 382, dtype: object"
            ]
          },
          "metadata": {
            "tags": []
          },
          "execution_count": 147
        },
        {
          "output_type": "execute_result",
          "data": {
            "text/plain": [
              "1           13318\n",
              "2            4057\n",
              "3           10483\n",
              "4           42999\n",
              "5          438681\n",
              "          ...    \n",
              "378         30643\n",
              "379         17895\n",
              "380         49389\n",
              "381        128465\n",
              "0      0.00120849\n",
              "Length: 382, dtype: object"
            ]
          },
          "metadata": {
            "tags": []
          },
          "execution_count": 147
        },
        {
          "output_type": "execute_result",
          "data": {
            "text/plain": [
              "1          50800\n",
              "2          11081\n",
              "3          10791\n",
              "4          61111\n",
              "5          64723\n",
              "         ...    \n",
              "378        34417\n",
              "379        42222\n",
              "380         9561\n",
              "381        13346\n",
              "0      0.0174711\n",
              "Length: 382, dtype: object"
            ]
          },
          "metadata": {
            "tags": []
          },
          "execution_count": 147
        },
        {
          "output_type": "execute_result",
          "data": {
            "text/plain": [
              "1         153784\n",
              "2          36663\n",
              "3          27744\n",
              "4         198300\n",
              "5         212376\n",
              "         ...    \n",
              "378        98108\n",
              "379       111568\n",
              "380        45752\n",
              "381        57292\n",
              "0      0.0143714\n",
              "Length: 382, dtype: object"
            ]
          },
          "metadata": {
            "tags": []
          },
          "execution_count": 147
        },
        {
          "output_type": "execute_result",
          "data": {
            "text/plain": [
              "1           13318\n",
              "2            4057\n",
              "3           10483\n",
              "4           42999\n",
              "5          438681\n",
              "          ...    \n",
              "378         30643\n",
              "379         17895\n",
              "380         49389\n",
              "381        128465\n",
              "0      0.00317341\n",
              "Length: 382, dtype: object"
            ]
          },
          "metadata": {
            "tags": []
          },
          "execution_count": 147
        },
        {
          "output_type": "execute_result",
          "data": {
            "text/plain": [
              "1          50800\n",
              "2          11081\n",
              "3          10791\n",
              "4          61111\n",
              "5          64723\n",
              "         ...    \n",
              "378        34417\n",
              "379        42222\n",
              "380         9561\n",
              "381        13346\n",
              "0      0.0453318\n",
              "Length: 382, dtype: object"
            ]
          },
          "metadata": {
            "tags": []
          },
          "execution_count": 147
        },
        {
          "output_type": "execute_result",
          "data": {
            "text/plain": [
              "1         153784\n",
              "2          36663\n",
              "3          27744\n",
              "4         198300\n",
              "5         212376\n",
              "         ...    \n",
              "378        98108\n",
              "379       111568\n",
              "380        45752\n",
              "381        57292\n",
              "0      0.0456196\n",
              "Length: 382, dtype: object"
            ]
          },
          "metadata": {
            "tags": []
          },
          "execution_count": 147
        },
        {
          "output_type": "execute_result",
          "data": {
            "text/plain": [
              "1          13318\n",
              "2           4057\n",
              "3          10483\n",
              "4          42999\n",
              "5         438681\n",
              "         ...    \n",
              "378        30643\n",
              "379        17895\n",
              "380        49389\n",
              "381       128465\n",
              "0      0.0302003\n",
              "Length: 382, dtype: object"
            ]
          },
          "metadata": {
            "tags": []
          },
          "execution_count": 147
        },
        {
          "output_type": "execute_result",
          "data": {
            "text/plain": [
              "1          50800\n",
              "2          11081\n",
              "3          10791\n",
              "4          61111\n",
              "5          64723\n",
              "         ...    \n",
              "378        34417\n",
              "379        42222\n",
              "380         9561\n",
              "381        13346\n",
              "0      0.0223594\n",
              "Length: 382, dtype: object"
            ]
          },
          "metadata": {
            "tags": []
          },
          "execution_count": 147
        },
        {
          "output_type": "execute_result",
          "data": {
            "text/plain": [
              "1         153784\n",
              "2          36663\n",
              "3          27744\n",
              "4         198300\n",
              "5         212376\n",
              "         ...    \n",
              "378        98108\n",
              "379       111568\n",
              "380        45752\n",
              "381        57292\n",
              "0      0.0252975\n",
              "Length: 382, dtype: object"
            ]
          },
          "metadata": {
            "tags": []
          },
          "execution_count": 147
        },
        {
          "output_type": "execute_result",
          "data": {
            "text/plain": [
              "1         13318\n",
              "2          4057\n",
              "3         10483\n",
              "4         42999\n",
              "5        438681\n",
              "         ...   \n",
              "378       30643\n",
              "379       17895\n",
              "380       49389\n",
              "381      128465\n",
              "0      0.062828\n",
              "Length: 382, dtype: object"
            ]
          },
          "metadata": {
            "tags": []
          },
          "execution_count": 147
        },
        {
          "output_type": "execute_result",
          "data": {
            "text/plain": [
              "1           50800\n",
              "2           11081\n",
              "3           10791\n",
              "4           61111\n",
              "5           64723\n",
              "          ...    \n",
              "378         34417\n",
              "379         42222\n",
              "380          9561\n",
              "381         13346\n",
              "0      0.00793505\n",
              "Length: 382, dtype: object"
            ]
          },
          "metadata": {
            "tags": []
          },
          "execution_count": 147
        },
        {
          "output_type": "execute_result",
          "data": {
            "text/plain": [
              "1          153784\n",
              "2           36663\n",
              "3           27744\n",
              "4          198300\n",
              "5          212376\n",
              "          ...    \n",
              "378         98108\n",
              "379        111568\n",
              "380         45752\n",
              "381         57292\n",
              "0      0.00502093\n",
              "Length: 382, dtype: object"
            ]
          },
          "metadata": {
            "tags": []
          },
          "execution_count": 147
        },
        {
          "output_type": "execute_result",
          "data": {
            "text/plain": [
              "1           13318\n",
              "2            4057\n",
              "3           10483\n",
              "4           42999\n",
              "5          438681\n",
              "          ...    \n",
              "378         30643\n",
              "379         17895\n",
              "380         49389\n",
              "381        128465\n",
              "0      0.00103955\n",
              "Length: 382, dtype: object"
            ]
          },
          "metadata": {
            "tags": []
          },
          "execution_count": 147
        },
        {
          "output_type": "execute_result",
          "data": {
            "text/plain": [
              "1          50800\n",
              "2          11081\n",
              "3          10791\n",
              "4          61111\n",
              "5          64723\n",
              "         ...    \n",
              "378        34417\n",
              "379        42222\n",
              "380         9561\n",
              "381        13346\n",
              "0      0.0856855\n",
              "Length: 382, dtype: object"
            ]
          },
          "metadata": {
            "tags": []
          },
          "execution_count": 147
        },
        {
          "output_type": "execute_result",
          "data": {
            "text/plain": [
              "1         153784\n",
              "2          36663\n",
              "3          27744\n",
              "4         198300\n",
              "5         212376\n",
              "         ...    \n",
              "378        98108\n",
              "379       111568\n",
              "380        45752\n",
              "381        57292\n",
              "0      0.0544514\n",
              "Length: 382, dtype: object"
            ]
          },
          "metadata": {
            "tags": []
          },
          "execution_count": 147
        },
        {
          "output_type": "execute_result",
          "data": {
            "text/plain": [
              "1           13318\n",
              "2            4057\n",
              "3           10483\n",
              "4           42999\n",
              "5          438681\n",
              "          ...    \n",
              "378         30643\n",
              "379         17895\n",
              "380         49389\n",
              "381        128465\n",
              "0      0.00902381\n",
              "Length: 382, dtype: object"
            ]
          },
          "metadata": {
            "tags": []
          },
          "execution_count": 147
        },
        {
          "output_type": "execute_result",
          "data": {
            "text/plain": [
              "1          50800\n",
              "2          11081\n",
              "3          10791\n",
              "4          61111\n",
              "5          64723\n",
              "         ...    \n",
              "378        34417\n",
              "379        42222\n",
              "380         9561\n",
              "381        13346\n",
              "0      0.0117493\n",
              "Length: 382, dtype: object"
            ]
          },
          "metadata": {
            "tags": []
          },
          "execution_count": 147
        },
        {
          "output_type": "execute_result",
          "data": {
            "text/plain": [
              "1          153784\n",
              "2           36663\n",
              "3           27744\n",
              "4          198300\n",
              "5          212376\n",
              "          ...    \n",
              "378         98108\n",
              "379        111568\n",
              "380         45752\n",
              "381         57292\n",
              "0      0.00827576\n",
              "Length: 382, dtype: object"
            ]
          },
          "metadata": {
            "tags": []
          },
          "execution_count": 147
        },
        {
          "output_type": "execute_result",
          "data": {
            "text/plain": [
              "1           13318\n",
              "2            4057\n",
              "3           10483\n",
              "4           42999\n",
              "5          438681\n",
              "          ...    \n",
              "378         30643\n",
              "379         17895\n",
              "380         49389\n",
              "381        128465\n",
              "0      0.00325696\n",
              "Length: 382, dtype: object"
            ]
          },
          "metadata": {
            "tags": []
          },
          "execution_count": 147
        },
        {
          "output_type": "execute_result",
          "data": {
            "text/plain": [
              "1          50800\n",
              "2          11081\n",
              "3          10791\n",
              "4          61111\n",
              "5          64723\n",
              "         ...    \n",
              "378        34417\n",
              "379        42222\n",
              "380         9561\n",
              "381        13346\n",
              "0      0.0145272\n",
              "Length: 382, dtype: object"
            ]
          },
          "metadata": {
            "tags": []
          },
          "execution_count": 147
        },
        {
          "output_type": "execute_result",
          "data": {
            "text/plain": [
              "1         153784\n",
              "2          36663\n",
              "3          27744\n",
              "4         198300\n",
              "5         212376\n",
              "         ...    \n",
              "378        98108\n",
              "379       111568\n",
              "380        45752\n",
              "381        57292\n",
              "0      0.0113158\n",
              "Length: 382, dtype: object"
            ]
          },
          "metadata": {
            "tags": []
          },
          "execution_count": 147
        },
        {
          "output_type": "execute_result",
          "data": {
            "text/plain": [
              "1            13318\n",
              "2             4057\n",
              "3            10483\n",
              "4            42999\n",
              "5           438681\n",
              "          ...     \n",
              "378          30643\n",
              "379          17895\n",
              "380          49389\n",
              "381         128465\n",
              "0      0.000731154\n",
              "Length: 382, dtype: object"
            ]
          },
          "metadata": {
            "tags": []
          },
          "execution_count": 147
        },
        {
          "output_type": "execute_result",
          "data": {
            "text/plain": [
              "1           50800\n",
              "2           11081\n",
              "3           10791\n",
              "4           61111\n",
              "5           64723\n",
              "          ...    \n",
              "378         34417\n",
              "379         42222\n",
              "380          9561\n",
              "381         13346\n",
              "0      0.00551913\n",
              "Length: 382, dtype: object"
            ]
          },
          "metadata": {
            "tags": []
          },
          "execution_count": 147
        },
        {
          "output_type": "execute_result",
          "data": {
            "text/plain": [
              "1          153784\n",
              "2           36663\n",
              "3           27744\n",
              "4          198300\n",
              "5          212376\n",
              "          ...    \n",
              "378         98108\n",
              "379        111568\n",
              "380         45752\n",
              "381         57292\n",
              "0      0.00576651\n",
              "Length: 382, dtype: object"
            ]
          },
          "metadata": {
            "tags": []
          },
          "execution_count": 147
        },
        {
          "output_type": "execute_result",
          "data": {
            "text/plain": [
              "1            13318\n",
              "2             4057\n",
              "3            10483\n",
              "4            42999\n",
              "5           438681\n",
              "          ...     \n",
              "378          30643\n",
              "379          17895\n",
              "380          49389\n",
              "381         128465\n",
              "0      0.000900255\n",
              "Length: 382, dtype: object"
            ]
          },
          "metadata": {
            "tags": []
          },
          "execution_count": 147
        },
        {
          "output_type": "execute_result",
          "data": {
            "text/plain": [
              "1          50800\n",
              "2          11081\n",
              "3          10791\n",
              "4          61111\n",
              "5          64723\n",
              "         ...    \n",
              "378        34417\n",
              "379        42222\n",
              "380         9561\n",
              "381        13346\n",
              "0      0.0307671\n",
              "Length: 382, dtype: object"
            ]
          },
          "metadata": {
            "tags": []
          },
          "execution_count": 147
        },
        {
          "output_type": "execute_result",
          "data": {
            "text/plain": [
              "1         153784\n",
              "2          36663\n",
              "3          27744\n",
              "4         198300\n",
              "5         212376\n",
              "         ...    \n",
              "378        98108\n",
              "379       111568\n",
              "380        45752\n",
              "381        57292\n",
              "0      0.0185715\n",
              "Length: 382, dtype: object"
            ]
          },
          "metadata": {
            "tags": []
          },
          "execution_count": 147
        },
        {
          "output_type": "execute_result",
          "data": {
            "text/plain": [
              "1           13318\n",
              "2            4057\n",
              "3           10483\n",
              "4           42999\n",
              "5          438681\n",
              "          ...    \n",
              "378         30643\n",
              "379         17895\n",
              "380         49389\n",
              "381        128465\n",
              "0      0.00126458\n",
              "Length: 382, dtype: object"
            ]
          },
          "metadata": {
            "tags": []
          },
          "execution_count": 147
        },
        {
          "output_type": "execute_result",
          "data": {
            "text/plain": [
              "1          50800\n",
              "2          11081\n",
              "3          10791\n",
              "4          61111\n",
              "5          64723\n",
              "         ...    \n",
              "378        34417\n",
              "379        42222\n",
              "380         9561\n",
              "381        13346\n",
              "0      0.0537534\n",
              "Length: 382, dtype: object"
            ]
          },
          "metadata": {
            "tags": []
          },
          "execution_count": 147
        },
        {
          "output_type": "execute_result",
          "data": {
            "text/plain": [
              "1         153784\n",
              "2          36663\n",
              "3          27744\n",
              "4         198300\n",
              "5         212376\n",
              "         ...    \n",
              "378        98108\n",
              "379       111568\n",
              "380        45752\n",
              "381        57292\n",
              "0      0.0301439\n",
              "Length: 382, dtype: object"
            ]
          },
          "metadata": {
            "tags": []
          },
          "execution_count": 147
        },
        {
          "output_type": "execute_result",
          "data": {
            "text/plain": [
              "1          13318\n",
              "2           4057\n",
              "3          10483\n",
              "4          42999\n",
              "5         438681\n",
              "         ...    \n",
              "378        30643\n",
              "379        17895\n",
              "380        49389\n",
              "381       128465\n",
              "0      0.0236983\n",
              "Length: 382, dtype: object"
            ]
          },
          "metadata": {
            "tags": []
          },
          "execution_count": 147
        },
        {
          "output_type": "execute_result",
          "data": {
            "text/plain": [
              "1           50800\n",
              "2           11081\n",
              "3           10791\n",
              "4           61111\n",
              "5           64723\n",
              "          ...    \n",
              "378         34417\n",
              "379         42222\n",
              "380          9561\n",
              "381         13346\n",
              "0      0.00675725\n",
              "Length: 382, dtype: object"
            ]
          },
          "metadata": {
            "tags": []
          },
          "execution_count": 147
        },
        {
          "output_type": "execute_result",
          "data": {
            "text/plain": [
              "1          153784\n",
              "2           36663\n",
              "3           27744\n",
              "4          198300\n",
              "5          212376\n",
              "          ...    \n",
              "378         98108\n",
              "379        111568\n",
              "380         45752\n",
              "381         57292\n",
              "0      0.00487429\n",
              "Length: 382, dtype: object"
            ]
          },
          "metadata": {
            "tags": []
          },
          "execution_count": 147
        },
        {
          "output_type": "execute_result",
          "data": {
            "text/plain": [
              "1            13318\n",
              "2             4057\n",
              "3            10483\n",
              "4            42999\n",
              "5           438681\n",
              "          ...     \n",
              "378          30643\n",
              "379          17895\n",
              "380          49389\n",
              "381         128465\n",
              "0      0.000334519\n",
              "Length: 382, dtype: object"
            ]
          },
          "metadata": {
            "tags": []
          },
          "execution_count": 147
        },
        {
          "output_type": "execute_result",
          "data": {
            "text/plain": [
              "1           50800\n",
              "2           11081\n",
              "3           10791\n",
              "4           61111\n",
              "5           64723\n",
              "          ...    \n",
              "378         34417\n",
              "379         42222\n",
              "380          9561\n",
              "381         13346\n",
              "0      0.00782627\n",
              "Length: 382, dtype: object"
            ]
          },
          "metadata": {
            "tags": []
          },
          "execution_count": 147
        },
        {
          "output_type": "execute_result",
          "data": {
            "text/plain": [
              "1         153784\n",
              "2          36663\n",
              "3          27744\n",
              "4         198300\n",
              "5         212376\n",
              "         ...    \n",
              "378        98108\n",
              "379       111568\n",
              "380        45752\n",
              "381        57292\n",
              "0      0.0067795\n",
              "Length: 382, dtype: object"
            ]
          },
          "metadata": {
            "tags": []
          },
          "execution_count": 147
        },
        {
          "output_type": "execute_result",
          "data": {
            "text/plain": [
              "1            13318\n",
              "2             4057\n",
              "3            10483\n",
              "4            42999\n",
              "5           438681\n",
              "          ...     \n",
              "378          30643\n",
              "379          17895\n",
              "380          49389\n",
              "381         128465\n",
              "0      0.000706375\n",
              "Length: 382, dtype: object"
            ]
          },
          "metadata": {
            "tags": []
          },
          "execution_count": 147
        },
        {
          "output_type": "execute_result",
          "data": {
            "text/plain": [
              "1           50800\n",
              "2           11081\n",
              "3           10791\n",
              "4           61111\n",
              "5           64723\n",
              "          ...    \n",
              "378         34417\n",
              "379         42222\n",
              "380          9561\n",
              "381         13346\n",
              "0      0.00450648\n",
              "Length: 382, dtype: object"
            ]
          },
          "metadata": {
            "tags": []
          },
          "execution_count": 147
        },
        {
          "output_type": "execute_result",
          "data": {
            "text/plain": [
              "1          153784\n",
              "2           36663\n",
              "3           27744\n",
              "4          198300\n",
              "5          212376\n",
              "          ...    \n",
              "378         98108\n",
              "379        111568\n",
              "380         45752\n",
              "381         57292\n",
              "0      0.00255857\n",
              "Length: 382, dtype: object"
            ]
          },
          "metadata": {
            "tags": []
          },
          "execution_count": 147
        },
        {
          "output_type": "execute_result",
          "data": {
            "text/plain": [
              "1           13318\n",
              "2            4057\n",
              "3           10483\n",
              "4           42999\n",
              "5          438681\n",
              "          ...    \n",
              "378         30643\n",
              "379         17895\n",
              "380         49389\n",
              "381        128465\n",
              "0      0.00212046\n",
              "Length: 382, dtype: object"
            ]
          },
          "metadata": {
            "tags": []
          },
          "execution_count": 147
        },
        {
          "output_type": "execute_result",
          "data": {
            "text/plain": [
              "1           50800\n",
              "2           11081\n",
              "3           10791\n",
              "4           61111\n",
              "5           64723\n",
              "          ...    \n",
              "378         34417\n",
              "379         42222\n",
              "380          9561\n",
              "381         13346\n",
              "0      0.00646058\n",
              "Length: 382, dtype: object"
            ]
          },
          "metadata": {
            "tags": []
          },
          "execution_count": 147
        },
        {
          "output_type": "execute_result",
          "data": {
            "text/plain": [
              "1          153784\n",
              "2           36663\n",
              "3           27744\n",
              "4          198300\n",
              "5          212376\n",
              "          ...    \n",
              "378         98108\n",
              "379        111568\n",
              "380         45752\n",
              "381         57292\n",
              "0      0.00415148\n",
              "Length: 382, dtype: object"
            ]
          },
          "metadata": {
            "tags": []
          },
          "execution_count": 147
        },
        {
          "output_type": "execute_result",
          "data": {
            "text/plain": [
              "1           13318\n",
              "2            4057\n",
              "3           10483\n",
              "4           42999\n",
              "5          438681\n",
              "          ...    \n",
              "378         30643\n",
              "379         17895\n",
              "380         49389\n",
              "381        128465\n",
              "0      0.00111607\n",
              "Length: 382, dtype: object"
            ]
          },
          "metadata": {
            "tags": []
          },
          "execution_count": 147
        },
        {
          "output_type": "execute_result",
          "data": {
            "text/plain": [
              "1          50800\n",
              "2          11081\n",
              "3          10791\n",
              "4          61111\n",
              "5          64723\n",
              "         ...    \n",
              "378        34417\n",
              "379        42222\n",
              "380         9561\n",
              "381        13346\n",
              "0      0.0227717\n",
              "Length: 382, dtype: object"
            ]
          },
          "metadata": {
            "tags": []
          },
          "execution_count": 147
        },
        {
          "output_type": "execute_result",
          "data": {
            "text/plain": [
              "1         153784\n",
              "2          36663\n",
              "3          27744\n",
              "4         198300\n",
              "5         212376\n",
              "         ...    \n",
              "378        98108\n",
              "379       111568\n",
              "380        45752\n",
              "381        57292\n",
              "0      0.0139852\n",
              "Length: 382, dtype: object"
            ]
          },
          "metadata": {
            "tags": []
          },
          "execution_count": 147
        },
        {
          "output_type": "execute_result",
          "data": {
            "text/plain": [
              "1           13318\n",
              "2            4057\n",
              "3           10483\n",
              "4           42999\n",
              "5          438681\n",
              "          ...    \n",
              "378         30643\n",
              "379         17895\n",
              "380         49389\n",
              "381        128465\n",
              "0      0.00125838\n",
              "Length: 382, dtype: object"
            ]
          },
          "metadata": {
            "tags": []
          },
          "execution_count": 147
        },
        {
          "output_type": "execute_result",
          "data": {
            "text/plain": [
              "1          50800\n",
              "2          11081\n",
              "3          10791\n",
              "4          61111\n",
              "5          64723\n",
              "         ...    \n",
              "378        34417\n",
              "379        42222\n",
              "380         9561\n",
              "381        13346\n",
              "0      0.0132465\n",
              "Length: 382, dtype: object"
            ]
          },
          "metadata": {
            "tags": []
          },
          "execution_count": 147
        },
        {
          "output_type": "execute_result",
          "data": {
            "text/plain": [
              "1          153784\n",
              "2           36663\n",
              "3           27744\n",
              "4          198300\n",
              "5          212376\n",
              "          ...    \n",
              "378         98108\n",
              "379        111568\n",
              "380         45752\n",
              "381         57292\n",
              "0      0.00720748\n",
              "Length: 382, dtype: object"
            ]
          },
          "metadata": {
            "tags": []
          },
          "execution_count": 147
        },
        {
          "output_type": "execute_result",
          "data": {
            "text/plain": [
              "1           13318\n",
              "2            4057\n",
              "3           10483\n",
              "4           42999\n",
              "5          438681\n",
              "          ...    \n",
              "378         30643\n",
              "379         17895\n",
              "380         49389\n",
              "381        128465\n",
              "0      0.00134996\n",
              "Length: 382, dtype: object"
            ]
          },
          "metadata": {
            "tags": []
          },
          "execution_count": 147
        },
        {
          "output_type": "execute_result",
          "data": {
            "text/plain": [
              "1          50800\n",
              "2          11081\n",
              "3          10791\n",
              "4          61111\n",
              "5          64723\n",
              "         ...    \n",
              "378        34417\n",
              "379        42222\n",
              "380         9561\n",
              "381        13346\n",
              "0      0.0180071\n",
              "Length: 382, dtype: object"
            ]
          },
          "metadata": {
            "tags": []
          },
          "execution_count": 147
        },
        {
          "output_type": "execute_result",
          "data": {
            "text/plain": [
              "1         153784\n",
              "2          36663\n",
              "3          27744\n",
              "4         198300\n",
              "5         212376\n",
              "         ...    \n",
              "378        98108\n",
              "379       111568\n",
              "380        45752\n",
              "381        57292\n",
              "0      0.0150537\n",
              "Length: 382, dtype: object"
            ]
          },
          "metadata": {
            "tags": []
          },
          "execution_count": 147
        },
        {
          "output_type": "execute_result",
          "data": {
            "text/plain": [
              "1           13318\n",
              "2            4057\n",
              "3           10483\n",
              "4           42999\n",
              "5          438681\n",
              "          ...    \n",
              "378         30643\n",
              "379         17895\n",
              "380         49389\n",
              "381        128465\n",
              "0      0.00210389\n",
              "Length: 382, dtype: object"
            ]
          },
          "metadata": {
            "tags": []
          },
          "execution_count": 147
        },
        {
          "output_type": "execute_result",
          "data": {
            "text/plain": [
              "1          50800\n",
              "2          11081\n",
              "3          10791\n",
              "4          61111\n",
              "5          64723\n",
              "         ...    \n",
              "378        34417\n",
              "379        42222\n",
              "380         9561\n",
              "381        13346\n",
              "0      0.0150285\n",
              "Length: 382, dtype: object"
            ]
          },
          "metadata": {
            "tags": []
          },
          "execution_count": 147
        },
        {
          "output_type": "execute_result",
          "data": {
            "text/plain": [
              "1          153784\n",
              "2           36663\n",
              "3           27744\n",
              "4          198300\n",
              "5          212376\n",
              "          ...    \n",
              "378         98108\n",
              "379        111568\n",
              "380         45752\n",
              "381         57292\n",
              "0      0.00933984\n",
              "Length: 382, dtype: object"
            ]
          },
          "metadata": {
            "tags": []
          },
          "execution_count": 147
        },
        {
          "output_type": "execute_result",
          "data": {
            "text/plain": [
              "1            13318\n",
              "2             4057\n",
              "3            10483\n",
              "4            42999\n",
              "5           438681\n",
              "          ...     \n",
              "378          30643\n",
              "379          17895\n",
              "380          49389\n",
              "381         128465\n",
              "0      0.000358126\n",
              "Length: 382, dtype: object"
            ]
          },
          "metadata": {
            "tags": []
          },
          "execution_count": 147
        },
        {
          "output_type": "execute_result",
          "data": {
            "text/plain": [
              "1          50800\n",
              "2          11081\n",
              "3          10791\n",
              "4          61111\n",
              "5          64723\n",
              "         ...    \n",
              "378        34417\n",
              "379        42222\n",
              "380         9561\n",
              "381        13346\n",
              "0      0.0531551\n",
              "Length: 382, dtype: object"
            ]
          },
          "metadata": {
            "tags": []
          },
          "execution_count": 147
        },
        {
          "output_type": "execute_result",
          "data": {
            "text/plain": [
              "1         153784\n",
              "2          36663\n",
              "3          27744\n",
              "4         198300\n",
              "5         212376\n",
              "         ...    \n",
              "378        98108\n",
              "379       111568\n",
              "380        45752\n",
              "381        57292\n",
              "0      0.0410687\n",
              "Length: 382, dtype: object"
            ]
          },
          "metadata": {
            "tags": []
          },
          "execution_count": 147
        },
        {
          "output_type": "execute_result",
          "data": {
            "text/plain": [
              "1           13318\n",
              "2            4057\n",
              "3           10483\n",
              "4           42999\n",
              "5          438681\n",
              "          ...    \n",
              "378         30643\n",
              "379         17895\n",
              "380         49389\n",
              "381        128465\n",
              "0      0.00669892\n",
              "Length: 382, dtype: object"
            ]
          },
          "metadata": {
            "tags": []
          },
          "execution_count": 147
        },
        {
          "output_type": "execute_result",
          "data": {
            "text/plain": [
              "1         50800\n",
              "2         11081\n",
              "3         10791\n",
              "4         61111\n",
              "5         64723\n",
              "         ...   \n",
              "378       34417\n",
              "379       42222\n",
              "380        9561\n",
              "381       13346\n",
              "0      0.172028\n",
              "Length: 382, dtype: object"
            ]
          },
          "metadata": {
            "tags": []
          },
          "execution_count": 147
        },
        {
          "output_type": "execute_result",
          "data": {
            "text/plain": [
              "1        153784\n",
              "2         36663\n",
              "3         27744\n",
              "4        198300\n",
              "5        212376\n",
              "         ...   \n",
              "378       98108\n",
              "379      111568\n",
              "380       45752\n",
              "381       57292\n",
              "0      0.132523\n",
              "Length: 382, dtype: object"
            ]
          },
          "metadata": {
            "tags": []
          },
          "execution_count": 147
        },
        {
          "output_type": "execute_result",
          "data": {
            "text/plain": [
              "1          13318\n",
              "2           4057\n",
              "3          10483\n",
              "4          42999\n",
              "5         438681\n",
              "         ...    \n",
              "378        30643\n",
              "379        17895\n",
              "380        49389\n",
              "381       128465\n",
              "0      0.0399678\n",
              "Length: 382, dtype: object"
            ]
          },
          "metadata": {
            "tags": []
          },
          "execution_count": 147
        },
        {
          "output_type": "execute_result",
          "data": {
            "text/plain": [
              "1          50800\n",
              "2          11081\n",
              "3          10791\n",
              "4          61111\n",
              "5          64723\n",
              "         ...    \n",
              "378        34417\n",
              "379        42222\n",
              "380         9561\n",
              "381        13346\n",
              "0      0.0143907\n",
              "Length: 382, dtype: object"
            ]
          },
          "metadata": {
            "tags": []
          },
          "execution_count": 147
        },
        {
          "output_type": "execute_result",
          "data": {
            "text/plain": [
              "1         153784\n",
              "2          36663\n",
              "3          27744\n",
              "4         198300\n",
              "5         212376\n",
              "         ...    \n",
              "378        98108\n",
              "379       111568\n",
              "380        45752\n",
              "381        57292\n",
              "0      0.0113273\n",
              "Length: 382, dtype: object"
            ]
          },
          "metadata": {
            "tags": []
          },
          "execution_count": 147
        },
        {
          "output_type": "execute_result",
          "data": {
            "text/plain": [
              "1          13318\n",
              "2           4057\n",
              "3          10483\n",
              "4          42999\n",
              "5         438681\n",
              "         ...    \n",
              "378        30643\n",
              "379        17895\n",
              "380        49389\n",
              "381       128465\n",
              "0      0.0019003\n",
              "Length: 382, dtype: object"
            ]
          },
          "metadata": {
            "tags": []
          },
          "execution_count": 147
        },
        {
          "output_type": "execute_result",
          "data": {
            "text/plain": [
              "1          50800\n",
              "2          11081\n",
              "3          10791\n",
              "4          61111\n",
              "5          64723\n",
              "         ...    \n",
              "378        34417\n",
              "379        42222\n",
              "380         9561\n",
              "381        13346\n",
              "0      0.0431908\n",
              "Length: 382, dtype: object"
            ]
          },
          "metadata": {
            "tags": []
          },
          "execution_count": 147
        },
        {
          "output_type": "execute_result",
          "data": {
            "text/plain": [
              "1         153784\n",
              "2          36663\n",
              "3          27744\n",
              "4         198300\n",
              "5         212376\n",
              "         ...    \n",
              "378        98108\n",
              "379       111568\n",
              "380        45752\n",
              "381        57292\n",
              "0      0.0271085\n",
              "Length: 382, dtype: object"
            ]
          },
          "metadata": {
            "tags": []
          },
          "execution_count": 147
        },
        {
          "output_type": "execute_result",
          "data": {
            "text/plain": [
              "1           13318\n",
              "2            4057\n",
              "3           10483\n",
              "4           42999\n",
              "5          438681\n",
              "          ...    \n",
              "378         30643\n",
              "379         17895\n",
              "380         49389\n",
              "381        128465\n",
              "0      0.00390239\n",
              "Length: 382, dtype: object"
            ]
          },
          "metadata": {
            "tags": []
          },
          "execution_count": 147
        },
        {
          "output_type": "execute_result",
          "data": {
            "text/plain": [
              "1           50800\n",
              "2           11081\n",
              "3           10791\n",
              "4           61111\n",
              "5           64723\n",
              "          ...    \n",
              "378         34417\n",
              "379         42222\n",
              "380          9561\n",
              "381         13346\n",
              "0      0.00746334\n",
              "Length: 382, dtype: object"
            ]
          },
          "metadata": {
            "tags": []
          },
          "execution_count": 147
        },
        {
          "output_type": "execute_result",
          "data": {
            "text/plain": [
              "1          153784\n",
              "2           36663\n",
              "3           27744\n",
              "4          198300\n",
              "5          212376\n",
              "          ...    \n",
              "378         98108\n",
              "379        111568\n",
              "380         45752\n",
              "381         57292\n",
              "0      0.00513881\n",
              "Length: 382, dtype: object"
            ]
          },
          "metadata": {
            "tags": []
          },
          "execution_count": 147
        },
        {
          "output_type": "execute_result",
          "data": {
            "text/plain": [
              "1           13318\n",
              "2            4057\n",
              "3           10483\n",
              "4           42999\n",
              "5          438681\n",
              "          ...    \n",
              "378         30643\n",
              "379         17895\n",
              "380         49389\n",
              "381        128465\n",
              "0      0.00231702\n",
              "Length: 382, dtype: object"
            ]
          },
          "metadata": {
            "tags": []
          },
          "execution_count": 147
        },
        {
          "output_type": "execute_result",
          "data": {
            "text/plain": [
              "1         50800\n",
              "2         11081\n",
              "3         10791\n",
              "4         61111\n",
              "5         64723\n",
              "         ...   \n",
              "378       34417\n",
              "379       42222\n",
              "380        9561\n",
              "381       13346\n",
              "0      0.575492\n",
              "Length: 382, dtype: object"
            ]
          },
          "metadata": {
            "tags": []
          },
          "execution_count": 147
        },
        {
          "output_type": "execute_result",
          "data": {
            "text/plain": [
              "1        153784\n",
              "2         36663\n",
              "3         27744\n",
              "4        198300\n",
              "5        212376\n",
              "         ...   \n",
              "378       98108\n",
              "379      111568\n",
              "380       45752\n",
              "381       57292\n",
              "0      0.492784\n",
              "Length: 382, dtype: object"
            ]
          },
          "metadata": {
            "tags": []
          },
          "execution_count": 147
        },
        {
          "output_type": "execute_result",
          "data": {
            "text/plain": [
              "1         13318\n",
              "2          4057\n",
              "3         10483\n",
              "4         42999\n",
              "5        438681\n",
              "         ...   \n",
              "378       30643\n",
              "379       17895\n",
              "380       49389\n",
              "381      128465\n",
              "0      0.348503\n",
              "Length: 382, dtype: object"
            ]
          },
          "metadata": {
            "tags": []
          },
          "execution_count": 147
        },
        {
          "output_type": "execute_result",
          "data": {
            "text/plain": [
              "1          50800\n",
              "2          11081\n",
              "3          10791\n",
              "4          61111\n",
              "5          64723\n",
              "         ...    \n",
              "378        34417\n",
              "379        42222\n",
              "380         9561\n",
              "381        13346\n",
              "0      0.0144362\n",
              "Length: 382, dtype: object"
            ]
          },
          "metadata": {
            "tags": []
          },
          "execution_count": 147
        },
        {
          "output_type": "execute_result",
          "data": {
            "text/plain": [
              "1         153784\n",
              "2          36663\n",
              "3          27744\n",
              "4         198300\n",
              "5         212376\n",
              "         ...    \n",
              "378        98108\n",
              "379       111568\n",
              "380        45752\n",
              "381        57292\n",
              "0      0.0121572\n",
              "Length: 382, dtype: object"
            ]
          },
          "metadata": {
            "tags": []
          },
          "execution_count": 147
        },
        {
          "output_type": "execute_result",
          "data": {
            "text/plain": [
              "1           13318\n",
              "2            4057\n",
              "3           10483\n",
              "4           42999\n",
              "5          438681\n",
              "          ...    \n",
              "378         30643\n",
              "379         17895\n",
              "380         49389\n",
              "381        128465\n",
              "0      0.00593445\n",
              "Length: 382, dtype: object"
            ]
          },
          "metadata": {
            "tags": []
          },
          "execution_count": 147
        },
        {
          "output_type": "execute_result",
          "data": {
            "text/plain": [
              "1         50800\n",
              "2         11081\n",
              "3         10791\n",
              "4         61111\n",
              "5         64723\n",
              "         ...   \n",
              "378       34417\n",
              "379       42222\n",
              "380        9561\n",
              "381       13346\n",
              "0      0.157823\n",
              "Length: 382, dtype: object"
            ]
          },
          "metadata": {
            "tags": []
          },
          "execution_count": 147
        },
        {
          "output_type": "execute_result",
          "data": {
            "text/plain": [
              "1       153784\n",
              "2        36663\n",
              "3        27744\n",
              "4       198300\n",
              "5       212376\n",
              "        ...   \n",
              "378      98108\n",
              "379     111568\n",
              "380      45752\n",
              "381      57292\n",
              "0      0.11356\n",
              "Length: 382, dtype: object"
            ]
          },
          "metadata": {
            "tags": []
          },
          "execution_count": 147
        },
        {
          "output_type": "execute_result",
          "data": {
            "text/plain": [
              "1          13318\n",
              "2           4057\n",
              "3          10483\n",
              "4          42999\n",
              "5         438681\n",
              "         ...    \n",
              "378        30643\n",
              "379        17895\n",
              "380        49389\n",
              "381       128465\n",
              "0      0.0108831\n",
              "Length: 382, dtype: object"
            ]
          },
          "metadata": {
            "tags": []
          },
          "execution_count": 147
        },
        {
          "output_type": "execute_result",
          "data": {
            "text/plain": [
              "1          50800\n",
              "2          11081\n",
              "3          10791\n",
              "4          61111\n",
              "5          64723\n",
              "         ...    \n",
              "378        34417\n",
              "379        42222\n",
              "380         9561\n",
              "381        13346\n",
              "0      0.0194678\n",
              "Length: 382, dtype: object"
            ]
          },
          "metadata": {
            "tags": []
          },
          "execution_count": 147
        },
        {
          "output_type": "execute_result",
          "data": {
            "text/plain": [
              "1         153784\n",
              "2          36663\n",
              "3          27744\n",
              "4         198300\n",
              "5         212376\n",
              "         ...    \n",
              "378        98108\n",
              "379       111568\n",
              "380        45752\n",
              "381        57292\n",
              "0      0.0192101\n",
              "Length: 382, dtype: object"
            ]
          },
          "metadata": {
            "tags": []
          },
          "execution_count": 147
        },
        {
          "output_type": "execute_result",
          "data": {
            "text/plain": [
              "1           13318\n",
              "2            4057\n",
              "3           10483\n",
              "4           42999\n",
              "5          438681\n",
              "          ...    \n",
              "378         30643\n",
              "379         17895\n",
              "380         49389\n",
              "381        128465\n",
              "0      0.00408254\n",
              "Length: 382, dtype: object"
            ]
          },
          "metadata": {
            "tags": []
          },
          "execution_count": 147
        },
        {
          "output_type": "execute_result",
          "data": {
            "text/plain": [
              "1           50800\n",
              "2           11081\n",
              "3           10791\n",
              "4           61111\n",
              "5           64723\n",
              "          ...    \n",
              "378         34417\n",
              "379         42222\n",
              "380          9561\n",
              "381         13346\n",
              "0      0.00928689\n",
              "Length: 382, dtype: object"
            ]
          },
          "metadata": {
            "tags": []
          },
          "execution_count": 147
        },
        {
          "output_type": "execute_result",
          "data": {
            "text/plain": [
              "1          153784\n",
              "2           36663\n",
              "3           27744\n",
              "4          198300\n",
              "5          212376\n",
              "          ...    \n",
              "378         98108\n",
              "379        111568\n",
              "380         45752\n",
              "381         57292\n",
              "0      0.00615247\n",
              "Length: 382, dtype: object"
            ]
          },
          "metadata": {
            "tags": []
          },
          "execution_count": 147
        },
        {
          "output_type": "execute_result",
          "data": {
            "text/plain": [
              "1           13318\n",
              "2            4057\n",
              "3           10483\n",
              "4           42999\n",
              "5          438681\n",
              "          ...    \n",
              "378         30643\n",
              "379         17895\n",
              "380         49389\n",
              "381        128465\n",
              "0      0.00106149\n",
              "Length: 382, dtype: object"
            ]
          },
          "metadata": {
            "tags": []
          },
          "execution_count": 147
        },
        {
          "output_type": "execute_result",
          "data": {
            "text/plain": [
              "1         50800\n",
              "2         11081\n",
              "3         10791\n",
              "4         61111\n",
              "5         64723\n",
              "         ...   \n",
              "378       34417\n",
              "379       42222\n",
              "380        9561\n",
              "381       13346\n",
              "0      0.147211\n",
              "Length: 382, dtype: object"
            ]
          },
          "metadata": {
            "tags": []
          },
          "execution_count": 147
        },
        {
          "output_type": "execute_result",
          "data": {
            "text/plain": [
              "1         153784\n",
              "2          36663\n",
              "3          27744\n",
              "4         198300\n",
              "5         212376\n",
              "         ...    \n",
              "378        98108\n",
              "379       111568\n",
              "380        45752\n",
              "381        57292\n",
              "0      0.0980316\n",
              "Length: 382, dtype: object"
            ]
          },
          "metadata": {
            "tags": []
          },
          "execution_count": 147
        },
        {
          "output_type": "execute_result",
          "data": {
            "text/plain": [
              "1          13318\n",
              "2           4057\n",
              "3          10483\n",
              "4          42999\n",
              "5         438681\n",
              "         ...    \n",
              "378        30643\n",
              "379        17895\n",
              "380        49389\n",
              "381       128465\n",
              "0      0.0189912\n",
              "Length: 382, dtype: object"
            ]
          },
          "metadata": {
            "tags": []
          },
          "execution_count": 147
        },
        {
          "output_type": "execute_result",
          "data": {
            "text/plain": [
              "1          50800\n",
              "2          11081\n",
              "3          10791\n",
              "4          61111\n",
              "5          64723\n",
              "         ...    \n",
              "378        34417\n",
              "379        42222\n",
              "380         9561\n",
              "381        13346\n",
              "0      0.0128895\n",
              "Length: 382, dtype: object"
            ]
          },
          "metadata": {
            "tags": []
          },
          "execution_count": 147
        },
        {
          "output_type": "execute_result",
          "data": {
            "text/plain": [
              "1          153784\n",
              "2           36663\n",
              "3           27744\n",
              "4          198300\n",
              "5          212376\n",
              "          ...    \n",
              "378         98108\n",
              "379        111568\n",
              "380         45752\n",
              "381         57292\n",
              "0      0.00780355\n",
              "Length: 382, dtype: object"
            ]
          },
          "metadata": {
            "tags": []
          },
          "execution_count": 147
        },
        {
          "output_type": "execute_result",
          "data": {
            "text/plain": [
              "1           13318\n",
              "2            4057\n",
              "3           10483\n",
              "4           42999\n",
              "5          438681\n",
              "          ...    \n",
              "378         30643\n",
              "379         17895\n",
              "380         49389\n",
              "381        128465\n",
              "0      0.00109832\n",
              "Length: 382, dtype: object"
            ]
          },
          "metadata": {
            "tags": []
          },
          "execution_count": 147
        },
        {
          "output_type": "execute_result",
          "data": {
            "text/plain": [
              "1          50800\n",
              "2          11081\n",
              "3          10791\n",
              "4          61111\n",
              "5          64723\n",
              "         ...    \n",
              "378        34417\n",
              "379        42222\n",
              "380         9561\n",
              "381        13346\n",
              "0      0.0161935\n",
              "Length: 382, dtype: object"
            ]
          },
          "metadata": {
            "tags": []
          },
          "execution_count": 147
        },
        {
          "output_type": "execute_result",
          "data": {
            "text/plain": [
              "1         153784\n",
              "2          36663\n",
              "3          27744\n",
              "4         198300\n",
              "5         212376\n",
              "         ...    \n",
              "378        98108\n",
              "379       111568\n",
              "380        45752\n",
              "381        57292\n",
              "0      0.0182539\n",
              "Length: 382, dtype: object"
            ]
          },
          "metadata": {
            "tags": []
          },
          "execution_count": 147
        },
        {
          "output_type": "execute_result",
          "data": {
            "text/plain": [
              "1          13318\n",
              "2           4057\n",
              "3          10483\n",
              "4          42999\n",
              "5         438681\n",
              "         ...    \n",
              "378        30643\n",
              "379        17895\n",
              "380        49389\n",
              "381       128465\n",
              "0      0.0101486\n",
              "Length: 382, dtype: object"
            ]
          },
          "metadata": {
            "tags": []
          },
          "execution_count": 147
        },
        {
          "output_type": "execute_result",
          "data": {
            "text/plain": [
              "1          50800\n",
              "2          11081\n",
              "3          10791\n",
              "4          61111\n",
              "5          64723\n",
              "         ...    \n",
              "378        34417\n",
              "379        42222\n",
              "380         9561\n",
              "381        13346\n",
              "0      0.0510122\n",
              "Length: 382, dtype: object"
            ]
          },
          "metadata": {
            "tags": []
          },
          "execution_count": 147
        },
        {
          "output_type": "execute_result",
          "data": {
            "text/plain": [
              "1         153784\n",
              "2          36663\n",
              "3          27744\n",
              "4         198300\n",
              "5         212376\n",
              "         ...    \n",
              "378        98108\n",
              "379       111568\n",
              "380        45752\n",
              "381        57292\n",
              "0      0.0434003\n",
              "Length: 382, dtype: object"
            ]
          },
          "metadata": {
            "tags": []
          },
          "execution_count": 147
        },
        {
          "output_type": "execute_result",
          "data": {
            "text/plain": [
              "1          13318\n",
              "2           4057\n",
              "3          10483\n",
              "4          42999\n",
              "5         438681\n",
              "         ...    \n",
              "378        30643\n",
              "379        17895\n",
              "380        49389\n",
              "381       128465\n",
              "0      0.0188854\n",
              "Length: 382, dtype: object"
            ]
          },
          "metadata": {
            "tags": []
          },
          "execution_count": 147
        },
        {
          "output_type": "execute_result",
          "data": {
            "text/plain": [
              "1          50800\n",
              "2          11081\n",
              "3          10791\n",
              "4          61111\n",
              "5          64723\n",
              "         ...    \n",
              "378        34417\n",
              "379        42222\n",
              "380         9561\n",
              "381        13346\n",
              "0      0.0138221\n",
              "Length: 382, dtype: object"
            ]
          },
          "metadata": {
            "tags": []
          },
          "execution_count": 147
        },
        {
          "output_type": "execute_result",
          "data": {
            "text/plain": [
              "1         153784\n",
              "2          36663\n",
              "3          27744\n",
              "4         198300\n",
              "5         212376\n",
              "         ...    \n",
              "378        98108\n",
              "379       111568\n",
              "380        45752\n",
              "381        57292\n",
              "0      0.0111294\n",
              "Length: 382, dtype: object"
            ]
          },
          "metadata": {
            "tags": []
          },
          "execution_count": 147
        },
        {
          "output_type": "execute_result",
          "data": {
            "text/plain": [
              "1            13318\n",
              "2             4057\n",
              "3            10483\n",
              "4            42999\n",
              "5           438681\n",
              "          ...     \n",
              "378          30643\n",
              "379          17895\n",
              "380          49389\n",
              "381         128465\n",
              "0      0.000959189\n",
              "Length: 382, dtype: object"
            ]
          },
          "metadata": {
            "tags": []
          },
          "execution_count": 147
        },
        {
          "output_type": "execute_result",
          "data": {
            "text/plain": [
              "1          50800\n",
              "2          11081\n",
              "3          10791\n",
              "4          61111\n",
              "5          64723\n",
              "         ...    \n",
              "378        34417\n",
              "379        42222\n",
              "380         9561\n",
              "381        13346\n",
              "0      0.0608756\n",
              "Length: 382, dtype: object"
            ]
          },
          "metadata": {
            "tags": []
          },
          "execution_count": 147
        },
        {
          "output_type": "execute_result",
          "data": {
            "text/plain": [
              "1         153784\n",
              "2          36663\n",
              "3          27744\n",
              "4         198300\n",
              "5         212376\n",
              "         ...    \n",
              "378        98108\n",
              "379       111568\n",
              "380        45752\n",
              "381        57292\n",
              "0      0.0442534\n",
              "Length: 382, dtype: object"
            ]
          },
          "metadata": {
            "tags": []
          },
          "execution_count": 147
        },
        {
          "output_type": "execute_result",
          "data": {
            "text/plain": [
              "1           13318\n",
              "2            4057\n",
              "3           10483\n",
              "4           42999\n",
              "5          438681\n",
              "          ...    \n",
              "378         30643\n",
              "379         17895\n",
              "380         49389\n",
              "381        128465\n",
              "0      0.00728626\n",
              "Length: 382, dtype: object"
            ]
          },
          "metadata": {
            "tags": []
          },
          "execution_count": 147
        },
        {
          "output_type": "execute_result",
          "data": {
            "text/plain": [
              "1          50800\n",
              "2          11081\n",
              "3          10791\n",
              "4          61111\n",
              "5          64723\n",
              "         ...    \n",
              "378        34417\n",
              "379        42222\n",
              "380         9561\n",
              "381        13346\n",
              "0      0.0226946\n",
              "Length: 382, dtype: object"
            ]
          },
          "metadata": {
            "tags": []
          },
          "execution_count": 147
        },
        {
          "output_type": "execute_result",
          "data": {
            "text/plain": [
              "1         153784\n",
              "2          36663\n",
              "3          27744\n",
              "4         198300\n",
              "5         212376\n",
              "         ...    \n",
              "378        98108\n",
              "379       111568\n",
              "380        45752\n",
              "381        57292\n",
              "0      0.0179861\n",
              "Length: 382, dtype: object"
            ]
          },
          "metadata": {
            "tags": []
          },
          "execution_count": 147
        },
        {
          "output_type": "execute_result",
          "data": {
            "text/plain": [
              "1           13318\n",
              "2            4057\n",
              "3           10483\n",
              "4           42999\n",
              "5          438681\n",
              "          ...    \n",
              "378         30643\n",
              "379         17895\n",
              "380         49389\n",
              "381        128465\n",
              "0      0.00349454\n",
              "Length: 382, dtype: object"
            ]
          },
          "metadata": {
            "tags": []
          },
          "execution_count": 147
        },
        {
          "output_type": "execute_result",
          "data": {
            "text/plain": [
              "1           50800\n",
              "2           11081\n",
              "3           10791\n",
              "4           61111\n",
              "5           64723\n",
              "          ...    \n",
              "378         34417\n",
              "379         42222\n",
              "380          9561\n",
              "381         13346\n",
              "0      0.00688383\n",
              "Length: 382, dtype: object"
            ]
          },
          "metadata": {
            "tags": []
          },
          "execution_count": 147
        },
        {
          "output_type": "execute_result",
          "data": {
            "text/plain": [
              "1          153784\n",
              "2           36663\n",
              "3           27744\n",
              "4          198300\n",
              "5          212376\n",
              "          ...    \n",
              "378         98108\n",
              "379        111568\n",
              "380         45752\n",
              "381         57292\n",
              "0      0.00431692\n",
              "Length: 382, dtype: object"
            ]
          },
          "metadata": {
            "tags": []
          },
          "execution_count": 147
        },
        {
          "output_type": "execute_result",
          "data": {
            "text/plain": [
              "1            13318\n",
              "2             4057\n",
              "3            10483\n",
              "4            42999\n",
              "5           438681\n",
              "          ...     \n",
              "378          30643\n",
              "379          17895\n",
              "380          49389\n",
              "381         128465\n",
              "0      0.000879494\n",
              "Length: 382, dtype: object"
            ]
          },
          "metadata": {
            "tags": []
          },
          "execution_count": 147
        },
        {
          "output_type": "execute_result",
          "data": {
            "text/plain": [
              "1         50800\n",
              "2         11081\n",
              "3         10791\n",
              "4         61111\n",
              "5         64723\n",
              "         ...   \n",
              "378       34417\n",
              "379       42222\n",
              "380        9561\n",
              "381       13346\n",
              "0      0.145711\n",
              "Length: 382, dtype: object"
            ]
          },
          "metadata": {
            "tags": []
          },
          "execution_count": 147
        },
        {
          "output_type": "execute_result",
          "data": {
            "text/plain": [
              "1        153784\n",
              "2         36663\n",
              "3         27744\n",
              "4        198300\n",
              "5        212376\n",
              "         ...   \n",
              "378       98108\n",
              "379      111568\n",
              "380       45752\n",
              "381       57292\n",
              "0      0.114298\n",
              "Length: 382, dtype: object"
            ]
          },
          "metadata": {
            "tags": []
          },
          "execution_count": 147
        },
        {
          "output_type": "execute_result",
          "data": {
            "text/plain": [
              "1          13318\n",
              "2           4057\n",
              "3          10483\n",
              "4          42999\n",
              "5         438681\n",
              "         ...    \n",
              "378        30643\n",
              "379        17895\n",
              "380        49389\n",
              "381       128465\n",
              "0      0.0133354\n",
              "Length: 382, dtype: object"
            ]
          },
          "metadata": {
            "tags": []
          },
          "execution_count": 147
        },
        {
          "output_type": "execute_result",
          "data": {
            "text/plain": [
              "1          50800\n",
              "2          11081\n",
              "3          10791\n",
              "4          61111\n",
              "5          64723\n",
              "         ...    \n",
              "378        34417\n",
              "379        42222\n",
              "380         9561\n",
              "381        13346\n",
              "0      0.0270666\n",
              "Length: 382, dtype: object"
            ]
          },
          "metadata": {
            "tags": []
          },
          "execution_count": 147
        },
        {
          "output_type": "execute_result",
          "data": {
            "text/plain": [
              "1         153784\n",
              "2          36663\n",
              "3          27744\n",
              "4         198300\n",
              "5         212376\n",
              "         ...    \n",
              "378        98108\n",
              "379       111568\n",
              "380        45752\n",
              "381        57292\n",
              "0      0.0245227\n",
              "Length: 382, dtype: object"
            ]
          },
          "metadata": {
            "tags": []
          },
          "execution_count": 147
        },
        {
          "output_type": "execute_result",
          "data": {
            "text/plain": [
              "1          13318\n",
              "2           4057\n",
              "3          10483\n",
              "4          42999\n",
              "5         438681\n",
              "         ...    \n",
              "378        30643\n",
              "379        17895\n",
              "380        49389\n",
              "381       128465\n",
              "0      0.0452939\n",
              "Length: 382, dtype: object"
            ]
          },
          "metadata": {
            "tags": []
          },
          "execution_count": 147
        },
        {
          "output_type": "execute_result",
          "data": {
            "text/plain": [
              "1           50800\n",
              "2           11081\n",
              "3           10791\n",
              "4           61111\n",
              "5           64723\n",
              "          ...    \n",
              "378         34417\n",
              "379         42222\n",
              "380          9561\n",
              "381         13346\n",
              "0      0.00584547\n",
              "Length: 382, dtype: object"
            ]
          },
          "metadata": {
            "tags": []
          },
          "execution_count": 147
        },
        {
          "output_type": "execute_result",
          "data": {
            "text/plain": [
              "1          153784\n",
              "2           36663\n",
              "3           27744\n",
              "4          198300\n",
              "5          212376\n",
              "          ...    \n",
              "378         98108\n",
              "379        111568\n",
              "380         45752\n",
              "381         57292\n",
              "0      0.00575391\n",
              "Length: 382, dtype: object"
            ]
          },
          "metadata": {
            "tags": []
          },
          "execution_count": 147
        },
        {
          "output_type": "execute_result",
          "data": {
            "text/plain": [
              "1           13318\n",
              "2            4057\n",
              "3           10483\n",
              "4           42999\n",
              "5          438681\n",
              "          ...    \n",
              "378         30643\n",
              "379         17895\n",
              "380         49389\n",
              "381        128465\n",
              "0      0.00105596\n",
              "Length: 382, dtype: object"
            ]
          },
          "metadata": {
            "tags": []
          },
          "execution_count": 147
        },
        {
          "output_type": "execute_result",
          "data": {
            "text/plain": [
              "1          50800\n",
              "2          11081\n",
              "3          10791\n",
              "4          61111\n",
              "5          64723\n",
              "         ...    \n",
              "378        34417\n",
              "379        42222\n",
              "380         9561\n",
              "381        13346\n",
              "0      0.0194974\n",
              "Length: 382, dtype: object"
            ]
          },
          "metadata": {
            "tags": []
          },
          "execution_count": 147
        },
        {
          "output_type": "execute_result",
          "data": {
            "text/plain": [
              "1         153784\n",
              "2          36663\n",
              "3          27744\n",
              "4         198300\n",
              "5         212376\n",
              "         ...    \n",
              "378        98108\n",
              "379       111568\n",
              "380        45752\n",
              "381        57292\n",
              "0      0.0144411\n",
              "Length: 382, dtype: object"
            ]
          },
          "metadata": {
            "tags": []
          },
          "execution_count": 147
        },
        {
          "output_type": "execute_result",
          "data": {
            "text/plain": [
              "1           13318\n",
              "2            4057\n",
              "3           10483\n",
              "4           42999\n",
              "5          438681\n",
              "          ...    \n",
              "378         30643\n",
              "379         17895\n",
              "380         49389\n",
              "381        128465\n",
              "0      0.00350308\n",
              "Length: 382, dtype: object"
            ]
          },
          "metadata": {
            "tags": []
          },
          "execution_count": 147
        },
        {
          "output_type": "execute_result",
          "data": {
            "text/plain": [
              "1           50800\n",
              "2           11081\n",
              "3           10791\n",
              "4           61111\n",
              "5           64723\n",
              "          ...    \n",
              "378         34417\n",
              "379         42222\n",
              "380          9561\n",
              "381         13346\n",
              "0      0.00712908\n",
              "Length: 382, dtype: object"
            ]
          },
          "metadata": {
            "tags": []
          },
          "execution_count": 147
        },
        {
          "output_type": "execute_result",
          "data": {
            "text/plain": [
              "1          153784\n",
              "2           36663\n",
              "3           27744\n",
              "4          198300\n",
              "5          212376\n",
              "          ...    \n",
              "378         98108\n",
              "379        111568\n",
              "380         45752\n",
              "381         57292\n",
              "0      0.00491034\n",
              "Length: 382, dtype: object"
            ]
          },
          "metadata": {
            "tags": []
          },
          "execution_count": 147
        },
        {
          "output_type": "execute_result",
          "data": {
            "text/plain": [
              "1            13318\n",
              "2             4057\n",
              "3            10483\n",
              "4            42999\n",
              "5           438681\n",
              "          ...     \n",
              "378          30643\n",
              "379          17895\n",
              "380          49389\n",
              "381         128465\n",
              "0      0.000250303\n",
              "Length: 382, dtype: object"
            ]
          },
          "metadata": {
            "tags": []
          },
          "execution_count": 147
        },
        {
          "output_type": "execute_result",
          "data": {
            "text/plain": [
              "1         50800\n",
              "2         11081\n",
              "3         10791\n",
              "4         61111\n",
              "5         64723\n",
              "         ...   \n",
              "378       34417\n",
              "379       42222\n",
              "380        9561\n",
              "381       13346\n",
              "0      0.471017\n",
              "Length: 382, dtype: object"
            ]
          },
          "metadata": {
            "tags": []
          },
          "execution_count": 147
        },
        {
          "output_type": "execute_result",
          "data": {
            "text/plain": [
              "1        153784\n",
              "2         36663\n",
              "3         27744\n",
              "4        198300\n",
              "5        212376\n",
              "         ...   \n",
              "378       98108\n",
              "379      111568\n",
              "380       45752\n",
              "381       57292\n",
              "0      0.419724\n",
              "Length: 382, dtype: object"
            ]
          },
          "metadata": {
            "tags": []
          },
          "execution_count": 147
        },
        {
          "output_type": "execute_result",
          "data": {
            "text/plain": [
              "1         13318\n",
              "2          4057\n",
              "3         10483\n",
              "4         42999\n",
              "5        438681\n",
              "         ...   \n",
              "378       30643\n",
              "379       17895\n",
              "380       49389\n",
              "381      128465\n",
              "0      0.337952\n",
              "Length: 382, dtype: object"
            ]
          },
          "metadata": {
            "tags": []
          },
          "execution_count": 147
        },
        {
          "output_type": "execute_result",
          "data": {
            "text/plain": [
              "1           50800\n",
              "2           11081\n",
              "3           10791\n",
              "4           61111\n",
              "5           64723\n",
              "          ...    \n",
              "378         34417\n",
              "379         42222\n",
              "380          9561\n",
              "381         13346\n",
              "0      0.00933436\n",
              "Length: 382, dtype: object"
            ]
          },
          "metadata": {
            "tags": []
          },
          "execution_count": 147
        },
        {
          "output_type": "execute_result",
          "data": {
            "text/plain": [
              "1          153784\n",
              "2           36663\n",
              "3           27744\n",
              "4          198300\n",
              "5          212376\n",
              "          ...    \n",
              "378         98108\n",
              "379        111568\n",
              "380         45752\n",
              "381         57292\n",
              "0      0.00789998\n",
              "Length: 382, dtype: object"
            ]
          },
          "metadata": {
            "tags": []
          },
          "execution_count": 147
        },
        {
          "output_type": "execute_result",
          "data": {
            "text/plain": [
              "1           13318\n",
              "2            4057\n",
              "3           10483\n",
              "4           42999\n",
              "5          438681\n",
              "          ...    \n",
              "378         30643\n",
              "379         17895\n",
              "380         49389\n",
              "381        128465\n",
              "0      0.00689364\n",
              "Length: 382, dtype: object"
            ]
          },
          "metadata": {
            "tags": []
          },
          "execution_count": 147
        },
        {
          "output_type": "execute_result",
          "data": {
            "text/plain": [
              "1           50800\n",
              "2           11081\n",
              "3           10791\n",
              "4           61111\n",
              "5           64723\n",
              "          ...    \n",
              "378         34417\n",
              "379         42222\n",
              "380          9561\n",
              "381         13346\n",
              "0      0.00486249\n",
              "Length: 382, dtype: object"
            ]
          },
          "metadata": {
            "tags": []
          },
          "execution_count": 147
        },
        {
          "output_type": "execute_result",
          "data": {
            "text/plain": [
              "1          153784\n",
              "2           36663\n",
              "3           27744\n",
              "4          198300\n",
              "5          212376\n",
              "          ...    \n",
              "378         98108\n",
              "379        111568\n",
              "380         45752\n",
              "381         57292\n",
              "0      0.00376287\n",
              "Length: 382, dtype: object"
            ]
          },
          "metadata": {
            "tags": []
          },
          "execution_count": 147
        },
        {
          "output_type": "execute_result",
          "data": {
            "text/plain": [
              "1           13318\n",
              "2            4057\n",
              "3           10483\n",
              "4           42999\n",
              "5          438681\n",
              "          ...    \n",
              "378         30643\n",
              "379         17895\n",
              "380         49389\n",
              "381        128465\n",
              "0      0.00064225\n",
              "Length: 382, dtype: object"
            ]
          },
          "metadata": {
            "tags": []
          },
          "execution_count": 147
        },
        {
          "output_type": "execute_result",
          "data": {
            "text/plain": [
              "1         50800\n",
              "2         11081\n",
              "3         10791\n",
              "4         61111\n",
              "5         64723\n",
              "         ...   \n",
              "378       34417\n",
              "379       42222\n",
              "380        9561\n",
              "381       13346\n",
              "0      0.016142\n",
              "Length: 382, dtype: object"
            ]
          },
          "metadata": {
            "tags": []
          },
          "execution_count": 147
        },
        {
          "output_type": "execute_result",
          "data": {
            "text/plain": [
              "1          153784\n",
              "2           36663\n",
              "3           27744\n",
              "4          198300\n",
              "5          212376\n",
              "          ...    \n",
              "378         98108\n",
              "379        111568\n",
              "380         45752\n",
              "381         57292\n",
              "0      0.00950439\n",
              "Length: 382, dtype: object"
            ]
          },
          "metadata": {
            "tags": []
          },
          "execution_count": 147
        },
        {
          "output_type": "execute_result",
          "data": {
            "text/plain": [
              "1          13318\n",
              "2           4057\n",
              "3          10483\n",
              "4          42999\n",
              "5         438681\n",
              "         ...    \n",
              "378        30643\n",
              "379        17895\n",
              "380        49389\n",
              "381       128465\n",
              "0      0.0015117\n",
              "Length: 382, dtype: object"
            ]
          },
          "metadata": {
            "tags": []
          },
          "execution_count": 147
        },
        {
          "output_type": "execute_result",
          "data": {
            "text/plain": [
              "1         50800\n",
              "2         11081\n",
              "3         10791\n",
              "4         61111\n",
              "5         64723\n",
              "         ...   \n",
              "378       34417\n",
              "379       42222\n",
              "380        9561\n",
              "381       13346\n",
              "0      0.027566\n",
              "Length: 382, dtype: object"
            ]
          },
          "metadata": {
            "tags": []
          },
          "execution_count": 147
        },
        {
          "output_type": "execute_result",
          "data": {
            "text/plain": [
              "1         153784\n",
              "2          36663\n",
              "3          27744\n",
              "4         198300\n",
              "5         212376\n",
              "         ...    \n",
              "378        98108\n",
              "379       111568\n",
              "380        45752\n",
              "381        57292\n",
              "0      0.0186074\n",
              "Length: 382, dtype: object"
            ]
          },
          "metadata": {
            "tags": []
          },
          "execution_count": 147
        },
        {
          "output_type": "execute_result",
          "data": {
            "text/plain": [
              "1           13318\n",
              "2            4057\n",
              "3           10483\n",
              "4           42999\n",
              "5          438681\n",
              "          ...    \n",
              "378         30643\n",
              "379         17895\n",
              "380         49389\n",
              "381        128465\n",
              "0      0.00543602\n",
              "Length: 382, dtype: object"
            ]
          },
          "metadata": {
            "tags": []
          },
          "execution_count": 147
        },
        {
          "output_type": "execute_result",
          "data": {
            "text/plain": [
              "1          50800\n",
              "2          11081\n",
              "3          10791\n",
              "4          61111\n",
              "5          64723\n",
              "         ...    \n",
              "378        34417\n",
              "379        42222\n",
              "380         9561\n",
              "381        13346\n",
              "0      0.0579583\n",
              "Length: 382, dtype: object"
            ]
          },
          "metadata": {
            "tags": []
          },
          "execution_count": 147
        },
        {
          "output_type": "execute_result",
          "data": {
            "text/plain": [
              "1         153784\n",
              "2          36663\n",
              "3          27744\n",
              "4         198300\n",
              "5         212376\n",
              "         ...    \n",
              "378        98108\n",
              "379       111568\n",
              "380        45752\n",
              "381        57292\n",
              "0      0.0404899\n",
              "Length: 382, dtype: object"
            ]
          },
          "metadata": {
            "tags": []
          },
          "execution_count": 147
        },
        {
          "output_type": "execute_result",
          "data": {
            "text/plain": [
              "1           13318\n",
              "2            4057\n",
              "3           10483\n",
              "4           42999\n",
              "5          438681\n",
              "          ...    \n",
              "378         30643\n",
              "379         17895\n",
              "380         49389\n",
              "381        128465\n",
              "0      0.00343661\n",
              "Length: 382, dtype: object"
            ]
          },
          "metadata": {
            "tags": []
          },
          "execution_count": 147
        },
        {
          "output_type": "execute_result",
          "data": {
            "text/plain": [
              "1           50800\n",
              "2           11081\n",
              "3           10791\n",
              "4           61111\n",
              "5           64723\n",
              "          ...    \n",
              "378         34417\n",
              "379         42222\n",
              "380          9561\n",
              "381         13346\n",
              "0      0.00986838\n",
              "Length: 382, dtype: object"
            ]
          },
          "metadata": {
            "tags": []
          },
          "execution_count": 147
        },
        {
          "output_type": "execute_result",
          "data": {
            "text/plain": [
              "1          153784\n",
              "2           36663\n",
              "3           27744\n",
              "4          198300\n",
              "5          212376\n",
              "          ...    \n",
              "378         98108\n",
              "379        111568\n",
              "380         45752\n",
              "381         57292\n",
              "0      0.00723004\n",
              "Length: 382, dtype: object"
            ]
          },
          "metadata": {
            "tags": []
          },
          "execution_count": 147
        },
        {
          "output_type": "execute_result",
          "data": {
            "text/plain": [
              "1           13318\n",
              "2            4057\n",
              "3           10483\n",
              "4           42999\n",
              "5          438681\n",
              "          ...    \n",
              "378         30643\n",
              "379         17895\n",
              "380         49389\n",
              "381        128465\n",
              "0      0.00170541\n",
              "Length: 382, dtype: object"
            ]
          },
          "metadata": {
            "tags": []
          },
          "execution_count": 147
        },
        {
          "output_type": "execute_result",
          "data": {
            "text/plain": [
              "1           50800\n",
              "2           11081\n",
              "3           10791\n",
              "4           61111\n",
              "5           64723\n",
              "          ...    \n",
              "378         34417\n",
              "379         42222\n",
              "380          9561\n",
              "381         13346\n",
              "0      0.00790044\n",
              "Length: 382, dtype: object"
            ]
          },
          "metadata": {
            "tags": []
          },
          "execution_count": 147
        },
        {
          "output_type": "execute_result",
          "data": {
            "text/plain": [
              "1          153784\n",
              "2           36663\n",
              "3           27744\n",
              "4          198300\n",
              "5          212376\n",
              "          ...    \n",
              "378         98108\n",
              "379        111568\n",
              "380         45752\n",
              "381         57292\n",
              "0      0.00488601\n",
              "Length: 382, dtype: object"
            ]
          },
          "metadata": {
            "tags": []
          },
          "execution_count": 147
        },
        {
          "output_type": "execute_result",
          "data": {
            "text/plain": [
              "1            13318\n",
              "2             4057\n",
              "3            10483\n",
              "4            42999\n",
              "5           438681\n",
              "          ...     \n",
              "378          30643\n",
              "379          17895\n",
              "380          49389\n",
              "381         128465\n",
              "0      0.000389603\n",
              "Length: 382, dtype: object"
            ]
          },
          "metadata": {
            "tags": []
          },
          "execution_count": 147
        },
        {
          "output_type": "execute_result",
          "data": {
            "text/plain": [
              "1          50800\n",
              "2          11081\n",
              "3          10791\n",
              "4          61111\n",
              "5          64723\n",
              "         ...    \n",
              "378        34417\n",
              "379        42222\n",
              "380         9561\n",
              "381        13346\n",
              "0      0.0506047\n",
              "Length: 382, dtype: object"
            ]
          },
          "metadata": {
            "tags": []
          },
          "execution_count": 147
        },
        {
          "output_type": "execute_result",
          "data": {
            "text/plain": [
              "1         153784\n",
              "2          36663\n",
              "3          27744\n",
              "4         198300\n",
              "5         212376\n",
              "         ...    \n",
              "378        98108\n",
              "379       111568\n",
              "380        45752\n",
              "381        57292\n",
              "0      0.0275849\n",
              "Length: 382, dtype: object"
            ]
          },
          "metadata": {
            "tags": []
          },
          "execution_count": 147
        },
        {
          "output_type": "execute_result",
          "data": {
            "text/plain": [
              "1          13318\n",
              "2           4057\n",
              "3          10483\n",
              "4          42999\n",
              "5         438681\n",
              "         ...    \n",
              "378        30643\n",
              "379        17895\n",
              "380        49389\n",
              "381       128465\n",
              "0      0.0129319\n",
              "Length: 382, dtype: object"
            ]
          },
          "metadata": {
            "tags": []
          },
          "execution_count": 147
        },
        {
          "output_type": "execute_result",
          "data": {
            "text/plain": [
              "1         50800\n",
              "2         11081\n",
              "3         10791\n",
              "4         61111\n",
              "5         64723\n",
              "         ...   \n",
              "378       34417\n",
              "379       42222\n",
              "380        9561\n",
              "381       13346\n",
              "0      0.189148\n",
              "Length: 382, dtype: object"
            ]
          },
          "metadata": {
            "tags": []
          },
          "execution_count": 147
        },
        {
          "output_type": "execute_result",
          "data": {
            "text/plain": [
              "1        153784\n",
              "2         36663\n",
              "3         27744\n",
              "4        198300\n",
              "5        212376\n",
              "         ...   \n",
              "378       98108\n",
              "379      111568\n",
              "380       45752\n",
              "381       57292\n",
              "0      0.156974\n",
              "Length: 382, dtype: object"
            ]
          },
          "metadata": {
            "tags": []
          },
          "execution_count": 147
        },
        {
          "output_type": "execute_result",
          "data": {
            "text/plain": [
              "1         13318\n",
              "2          4057\n",
              "3         10483\n",
              "4         42999\n",
              "5        438681\n",
              "         ...   \n",
              "378       30643\n",
              "379       17895\n",
              "380       49389\n",
              "381      128465\n",
              "0      0.107319\n",
              "Length: 382, dtype: object"
            ]
          },
          "metadata": {
            "tags": []
          },
          "execution_count": 147
        },
        {
          "output_type": "execute_result",
          "data": {
            "text/plain": [
              "1          50800\n",
              "2          11081\n",
              "3          10791\n",
              "4          61111\n",
              "5          64723\n",
              "         ...    \n",
              "378        34417\n",
              "379        42222\n",
              "380         9561\n",
              "381        13346\n",
              "0      0.0458451\n",
              "Length: 382, dtype: object"
            ]
          },
          "metadata": {
            "tags": []
          },
          "execution_count": 147
        },
        {
          "output_type": "execute_result",
          "data": {
            "text/plain": [
              "1         153784\n",
              "2          36663\n",
              "3          27744\n",
              "4         198300\n",
              "5         212376\n",
              "         ...    \n",
              "378        98108\n",
              "379       111568\n",
              "380        45752\n",
              "381        57292\n",
              "0      0.0356623\n",
              "Length: 382, dtype: object"
            ]
          },
          "metadata": {
            "tags": []
          },
          "execution_count": 147
        },
        {
          "output_type": "execute_result",
          "data": {
            "text/plain": [
              "1           13318\n",
              "2            4057\n",
              "3           10483\n",
              "4           42999\n",
              "5          438681\n",
              "          ...    \n",
              "378         30643\n",
              "379         17895\n",
              "380         49389\n",
              "381        128465\n",
              "0      0.00748181\n",
              "Length: 382, dtype: object"
            ]
          },
          "metadata": {
            "tags": []
          },
          "execution_count": 147
        },
        {
          "output_type": "execute_result",
          "data": {
            "text/plain": [
              "1         50800\n",
              "2         11081\n",
              "3         10791\n",
              "4         61111\n",
              "5         64723\n",
              "         ...   \n",
              "378       34417\n",
              "379       42222\n",
              "380        9561\n",
              "381       13346\n",
              "0      0.286561\n",
              "Length: 382, dtype: object"
            ]
          },
          "metadata": {
            "tags": []
          },
          "execution_count": 147
        },
        {
          "output_type": "execute_result",
          "data": {
            "text/plain": [
              "1        153784\n",
              "2         36663\n",
              "3         27744\n",
              "4        198300\n",
              "5        212376\n",
              "         ...   \n",
              "378       98108\n",
              "379      111568\n",
              "380       45752\n",
              "381       57292\n",
              "0      0.213288\n",
              "Length: 382, dtype: object"
            ]
          },
          "metadata": {
            "tags": []
          },
          "execution_count": 147
        },
        {
          "output_type": "execute_result",
          "data": {
            "text/plain": [
              "1          13318\n",
              "2           4057\n",
              "3          10483\n",
              "4          42999\n",
              "5         438681\n",
              "         ...    \n",
              "378        30643\n",
              "379        17895\n",
              "380        49389\n",
              "381       128465\n",
              "0      0.0307995\n",
              "Length: 382, dtype: object"
            ]
          },
          "metadata": {
            "tags": []
          },
          "execution_count": 147
        },
        {
          "output_type": "execute_result",
          "data": {
            "text/plain": [
              "1         50800\n",
              "2         11081\n",
              "3         10791\n",
              "4         61111\n",
              "5         64723\n",
              "         ...   \n",
              "378       34417\n",
              "379       42222\n",
              "380        9561\n",
              "381       13346\n",
              "0      0.009902\n",
              "Length: 382, dtype: object"
            ]
          },
          "metadata": {
            "tags": []
          },
          "execution_count": 147
        },
        {
          "output_type": "execute_result",
          "data": {
            "text/plain": [
              "1          153784\n",
              "2           36663\n",
              "3           27744\n",
              "4          198300\n",
              "5          212376\n",
              "          ...    \n",
              "378         98108\n",
              "379        111568\n",
              "380         45752\n",
              "381         57292\n",
              "0      0.00722296\n",
              "Length: 382, dtype: object"
            ]
          },
          "metadata": {
            "tags": []
          },
          "execution_count": 147
        },
        {
          "output_type": "execute_result",
          "data": {
            "text/plain": [
              "1            13318\n",
              "2             4057\n",
              "3            10483\n",
              "4            42999\n",
              "5           438681\n",
              "          ...     \n",
              "378          30643\n",
              "379          17895\n",
              "380          49389\n",
              "381         128465\n",
              "0      0.000804487\n",
              "Length: 382, dtype: object"
            ]
          },
          "metadata": {
            "tags": []
          },
          "execution_count": 147
        },
        {
          "output_type": "execute_result",
          "data": {
            "text/plain": [
              "1          50800\n",
              "2          11081\n",
              "3          10791\n",
              "4          61111\n",
              "5          64723\n",
              "         ...    \n",
              "378        34417\n",
              "379        42222\n",
              "380         9561\n",
              "381        13346\n",
              "0      0.0128806\n",
              "Length: 382, dtype: object"
            ]
          },
          "metadata": {
            "tags": []
          },
          "execution_count": 147
        },
        {
          "output_type": "execute_result",
          "data": {
            "text/plain": [
              "1          153784\n",
              "2           36663\n",
              "3           27744\n",
              "4          198300\n",
              "5          212376\n",
              "          ...    \n",
              "378         98108\n",
              "379        111568\n",
              "380         45752\n",
              "381         57292\n",
              "0      0.00918855\n",
              "Length: 382, dtype: object"
            ]
          },
          "metadata": {
            "tags": []
          },
          "execution_count": 147
        },
        {
          "output_type": "execute_result",
          "data": {
            "text/plain": [
              "1           13318\n",
              "2            4057\n",
              "3           10483\n",
              "4           42999\n",
              "5          438681\n",
              "          ...    \n",
              "378         30643\n",
              "379         17895\n",
              "380         49389\n",
              "381        128465\n",
              "0      0.00197899\n",
              "Length: 382, dtype: object"
            ]
          },
          "metadata": {
            "tags": []
          },
          "execution_count": 147
        },
        {
          "output_type": "execute_result",
          "data": {
            "text/plain": [
              "1           50800\n",
              "2           11081\n",
              "3           10791\n",
              "4           61111\n",
              "5           64723\n",
              "          ...    \n",
              "378         34417\n",
              "379         42222\n",
              "380          9561\n",
              "381         13346\n",
              "0      0.00755728\n",
              "Length: 382, dtype: object"
            ]
          },
          "metadata": {
            "tags": []
          },
          "execution_count": 147
        },
        {
          "output_type": "execute_result",
          "data": {
            "text/plain": [
              "1          153784\n",
              "2           36663\n",
              "3           27744\n",
              "4          198300\n",
              "5          212376\n",
              "          ...    \n",
              "378         98108\n",
              "379        111568\n",
              "380         45752\n",
              "381         57292\n",
              "0      0.00492693\n",
              "Length: 382, dtype: object"
            ]
          },
          "metadata": {
            "tags": []
          },
          "execution_count": 147
        },
        {
          "output_type": "execute_result",
          "data": {
            "text/plain": [
              "1            13318\n",
              "2             4057\n",
              "3            10483\n",
              "4            42999\n",
              "5           438681\n",
              "          ...     \n",
              "378          30643\n",
              "379          17895\n",
              "380          49389\n",
              "381         128465\n",
              "0      0.000373027\n",
              "Length: 382, dtype: object"
            ]
          },
          "metadata": {
            "tags": []
          },
          "execution_count": 147
        },
        {
          "output_type": "execute_result",
          "data": {
            "text/plain": [
              "1          50800\n",
              "2          11081\n",
              "3          10791\n",
              "4          61111\n",
              "5          64723\n",
              "         ...    \n",
              "378        34417\n",
              "379        42222\n",
              "380         9561\n",
              "381        13346\n",
              "0      0.0213833\n",
              "Length: 382, dtype: object"
            ]
          },
          "metadata": {
            "tags": []
          },
          "execution_count": 147
        },
        {
          "output_type": "execute_result",
          "data": {
            "text/plain": [
              "1         153784\n",
              "2          36663\n",
              "3          27744\n",
              "4         198300\n",
              "5         212376\n",
              "         ...    \n",
              "378        98108\n",
              "379       111568\n",
              "380        45752\n",
              "381        57292\n",
              "0      0.0134243\n",
              "Length: 382, dtype: object"
            ]
          },
          "metadata": {
            "tags": []
          },
          "execution_count": 147
        },
        {
          "output_type": "execute_result",
          "data": {
            "text/plain": [
              "1            13318\n",
              "2             4057\n",
              "3            10483\n",
              "4            42999\n",
              "5           438681\n",
              "          ...     \n",
              "378          30643\n",
              "379          17895\n",
              "380          49389\n",
              "381         128465\n",
              "0      0.000733665\n",
              "Length: 382, dtype: object"
            ]
          },
          "metadata": {
            "tags": []
          },
          "execution_count": 147
        },
        {
          "output_type": "execute_result",
          "data": {
            "text/plain": [
              "1          50800\n",
              "2          11081\n",
              "3          10791\n",
              "4          61111\n",
              "5          64723\n",
              "         ...    \n",
              "378        34417\n",
              "379        42222\n",
              "380         9561\n",
              "381        13346\n",
              "0      0.0387931\n",
              "Length: 382, dtype: object"
            ]
          },
          "metadata": {
            "tags": []
          },
          "execution_count": 147
        },
        {
          "output_type": "execute_result",
          "data": {
            "text/plain": [
              "1         153784\n",
              "2          36663\n",
              "3          27744\n",
              "4         198300\n",
              "5         212376\n",
              "         ...    \n",
              "378        98108\n",
              "379       111568\n",
              "380        45752\n",
              "381        57292\n",
              "0      0.0291402\n",
              "Length: 382, dtype: object"
            ]
          },
          "metadata": {
            "tags": []
          },
          "execution_count": 147
        },
        {
          "output_type": "execute_result",
          "data": {
            "text/plain": [
              "1         13318\n",
              "2          4057\n",
              "3         10483\n",
              "4         42999\n",
              "5        438681\n",
              "         ...   \n",
              "378       30643\n",
              "379       17895\n",
              "380       49389\n",
              "381      128465\n",
              "0      0.010465\n",
              "Length: 382, dtype: object"
            ]
          },
          "metadata": {
            "tags": []
          },
          "execution_count": 147
        },
        {
          "output_type": "execute_result",
          "data": {
            "text/plain": [
              "1           50800\n",
              "2           11081\n",
              "3           10791\n",
              "4           61111\n",
              "5           64723\n",
              "          ...    \n",
              "378         34417\n",
              "379         42222\n",
              "380          9561\n",
              "381         13346\n",
              "0      0.00989607\n",
              "Length: 382, dtype: object"
            ]
          },
          "metadata": {
            "tags": []
          },
          "execution_count": 147
        },
        {
          "output_type": "execute_result",
          "data": {
            "text/plain": [
              "1          153784\n",
              "2           36663\n",
              "3           27744\n",
              "4          198300\n",
              "5          212376\n",
              "          ...    \n",
              "378         98108\n",
              "379        111568\n",
              "380         45752\n",
              "381         57292\n",
              "0      0.00802738\n",
              "Length: 382, dtype: object"
            ]
          },
          "metadata": {
            "tags": []
          },
          "execution_count": 147
        },
        {
          "output_type": "execute_result",
          "data": {
            "text/plain": [
              "1           13318\n",
              "2            4057\n",
              "3           10483\n",
              "4           42999\n",
              "5          438681\n",
              "          ...    \n",
              "378         30643\n",
              "379         17895\n",
              "380         49389\n",
              "381        128465\n",
              "0      0.00418233\n",
              "Length: 382, dtype: object"
            ]
          },
          "metadata": {
            "tags": []
          },
          "execution_count": 147
        },
        {
          "output_type": "execute_result",
          "data": {
            "text/plain": [
              "1          50800\n",
              "2          11081\n",
              "3          10791\n",
              "4          61111\n",
              "5          64723\n",
              "         ...    \n",
              "378        34417\n",
              "379        42222\n",
              "380         9561\n",
              "381        13346\n",
              "0      0.0145232\n",
              "Length: 382, dtype: object"
            ]
          },
          "metadata": {
            "tags": []
          },
          "execution_count": 147
        },
        {
          "output_type": "execute_result",
          "data": {
            "text/plain": [
              "1          153784\n",
              "2           36663\n",
              "3           27744\n",
              "4          198300\n",
              "5          212376\n",
              "          ...    \n",
              "378         98108\n",
              "379        111568\n",
              "380         45752\n",
              "381         57292\n",
              "0      0.00902555\n",
              "Length: 382, dtype: object"
            ]
          },
          "metadata": {
            "tags": []
          },
          "execution_count": 147
        },
        {
          "output_type": "execute_result",
          "data": {
            "text/plain": [
              "1            13318\n",
              "2             4057\n",
              "3            10483\n",
              "4            42999\n",
              "5           438681\n",
              "          ...     \n",
              "378          30643\n",
              "379          17895\n",
              "380          49389\n",
              "381         128465\n",
              "0      0.000576619\n",
              "Length: 382, dtype: object"
            ]
          },
          "metadata": {
            "tags": []
          },
          "execution_count": 147
        },
        {
          "output_type": "execute_result",
          "data": {
            "text/plain": [
              "1           50800\n",
              "2           11081\n",
              "3           10791\n",
              "4           61111\n",
              "5           64723\n",
              "          ...    \n",
              "378         34417\n",
              "379         42222\n",
              "380          9561\n",
              "381         13346\n",
              "0      0.00702624\n",
              "Length: 382, dtype: object"
            ]
          },
          "metadata": {
            "tags": []
          },
          "execution_count": 147
        },
        {
          "output_type": "execute_result",
          "data": {
            "text/plain": [
              "1        153784\n",
              "2         36663\n",
              "3         27744\n",
              "4        198300\n",
              "5        212376\n",
              "         ...   \n",
              "378       98108\n",
              "379      111568\n",
              "380       45752\n",
              "381       57292\n",
              "0      0.011522\n",
              "Length: 382, dtype: object"
            ]
          },
          "metadata": {
            "tags": []
          },
          "execution_count": 147
        },
        {
          "output_type": "execute_result",
          "data": {
            "text/plain": [
              "1          13318\n",
              "2           4057\n",
              "3          10483\n",
              "4          42999\n",
              "5         438681\n",
              "         ...    \n",
              "378        30643\n",
              "379        17895\n",
              "380        49389\n",
              "381       128465\n",
              "0      0.0251321\n",
              "Length: 382, dtype: object"
            ]
          },
          "metadata": {
            "tags": []
          },
          "execution_count": 147
        },
        {
          "output_type": "execute_result",
          "data": {
            "text/plain": [
              "1          50800\n",
              "2          11081\n",
              "3          10791\n",
              "4          61111\n",
              "5          64723\n",
              "         ...    \n",
              "378        34417\n",
              "379        42222\n",
              "380         9561\n",
              "381        13346\n",
              "0      0.0100444\n",
              "Length: 382, dtype: object"
            ]
          },
          "metadata": {
            "tags": []
          },
          "execution_count": 147
        },
        {
          "output_type": "execute_result",
          "data": {
            "text/plain": [
              "1          153784\n",
              "2           36663\n",
              "3           27744\n",
              "4          198300\n",
              "5          212376\n",
              "          ...    \n",
              "378         98108\n",
              "379        111568\n",
              "380         45752\n",
              "381         57292\n",
              "0      0.00838458\n",
              "Length: 382, dtype: object"
            ]
          },
          "metadata": {
            "tags": []
          },
          "execution_count": 147
        },
        {
          "output_type": "execute_result",
          "data": {
            "text/plain": [
              "1           13318\n",
              "2            4057\n",
              "3           10483\n",
              "4           42999\n",
              "5          438681\n",
              "          ...    \n",
              "378         30643\n",
              "379         17895\n",
              "380         49389\n",
              "381        128465\n",
              "0      0.00126558\n",
              "Length: 382, dtype: object"
            ]
          },
          "metadata": {
            "tags": []
          },
          "execution_count": 147
        },
        {
          "output_type": "execute_result",
          "data": {
            "text/plain": [
              "1          50800\n",
              "2          11081\n",
              "3          10791\n",
              "4          61111\n",
              "5          64723\n",
              "         ...    \n",
              "378        34417\n",
              "379        42222\n",
              "380         9561\n",
              "381        13346\n",
              "0      0.0166236\n",
              "Length: 382, dtype: object"
            ]
          },
          "metadata": {
            "tags": []
          },
          "execution_count": 147
        },
        {
          "output_type": "execute_result",
          "data": {
            "text/plain": [
              "1         153784\n",
              "2          36663\n",
              "3          27744\n",
              "4         198300\n",
              "5         212376\n",
              "         ...    \n",
              "378        98108\n",
              "379       111568\n",
              "380        45752\n",
              "381        57292\n",
              "0      0.0114724\n",
              "Length: 382, dtype: object"
            ]
          },
          "metadata": {
            "tags": []
          },
          "execution_count": 147
        },
        {
          "output_type": "execute_result",
          "data": {
            "text/plain": [
              "1           13318\n",
              "2            4057\n",
              "3           10483\n",
              "4           42999\n",
              "5          438681\n",
              "          ...    \n",
              "378         30643\n",
              "379         17895\n",
              "380         49389\n",
              "381        128465\n",
              "0      0.00522021\n",
              "Length: 382, dtype: object"
            ]
          },
          "metadata": {
            "tags": []
          },
          "execution_count": 147
        },
        {
          "output_type": "execute_result",
          "data": {
            "text/plain": [
              "1           50800\n",
              "2           11081\n",
              "3           10791\n",
              "4           61111\n",
              "5           64723\n",
              "          ...    \n",
              "378         34417\n",
              "379         42222\n",
              "380          9561\n",
              "381         13346\n",
              "0      0.00665935\n",
              "Length: 382, dtype: object"
            ]
          },
          "metadata": {
            "tags": []
          },
          "execution_count": 147
        },
        {
          "output_type": "execute_result",
          "data": {
            "text/plain": [
              "1          153784\n",
              "2           36663\n",
              "3           27744\n",
              "4          198300\n",
              "5          212376\n",
              "          ...    \n",
              "378         98108\n",
              "379        111568\n",
              "380         45752\n",
              "381         57292\n",
              "0      0.00382193\n",
              "Length: 382, dtype: object"
            ]
          },
          "metadata": {
            "tags": []
          },
          "execution_count": 147
        },
        {
          "output_type": "execute_result",
          "data": {
            "text/plain": [
              "1            13318\n",
              "2             4057\n",
              "3            10483\n",
              "4            42999\n",
              "5           438681\n",
              "          ...     \n",
              "378          30643\n",
              "379          17895\n",
              "380          49389\n",
              "381         128465\n",
              "0      0.000431962\n",
              "Length: 382, dtype: object"
            ]
          },
          "metadata": {
            "tags": []
          },
          "execution_count": 147
        },
        {
          "output_type": "execute_result",
          "data": {
            "text/plain": [
              "1          50800\n",
              "2          11081\n",
              "3          10791\n",
              "4          61111\n",
              "5          64723\n",
              "         ...    \n",
              "378        34417\n",
              "379        42222\n",
              "380         9561\n",
              "381        13346\n",
              "0      0.0472365\n",
              "Length: 382, dtype: object"
            ]
          },
          "metadata": {
            "tags": []
          },
          "execution_count": 147
        },
        {
          "output_type": "execute_result",
          "data": {
            "text/plain": [
              "1         153784\n",
              "2          36663\n",
              "3          27744\n",
              "4         198300\n",
              "5         212376\n",
              "         ...    \n",
              "378        98108\n",
              "379       111568\n",
              "380        45752\n",
              "381        57292\n",
              "0      0.0519586\n",
              "Length: 382, dtype: object"
            ]
          },
          "metadata": {
            "tags": []
          },
          "execution_count": 147
        },
        {
          "output_type": "execute_result",
          "data": {
            "text/plain": [
              "1        13318\n",
              "2         4057\n",
              "3        10483\n",
              "4        42999\n",
              "5       438681\n",
              "        ...   \n",
              "378      30643\n",
              "379      17895\n",
              "380      49389\n",
              "381     128465\n",
              "0      0.11537\n",
              "Length: 382, dtype: object"
            ]
          },
          "metadata": {
            "tags": []
          },
          "execution_count": 147
        },
        {
          "output_type": "execute_result",
          "data": {
            "text/plain": [
              "1           50800\n",
              "2           11081\n",
              "3           10791\n",
              "4           61111\n",
              "5           64723\n",
              "          ...    \n",
              "378         34417\n",
              "379         42222\n",
              "380          9561\n",
              "381         13346\n",
              "0      0.00456977\n",
              "Length: 382, dtype: object"
            ]
          },
          "metadata": {
            "tags": []
          },
          "execution_count": 147
        },
        {
          "output_type": "execute_result",
          "data": {
            "text/plain": [
              "1          153784\n",
              "2           36663\n",
              "3           27744\n",
              "4          198300\n",
              "5          212376\n",
              "          ...    \n",
              "378         98108\n",
              "379        111568\n",
              "380         45752\n",
              "381         57292\n",
              "0      0.00334551\n",
              "Length: 382, dtype: object"
            ]
          },
          "metadata": {
            "tags": []
          },
          "execution_count": 147
        },
        {
          "output_type": "execute_result",
          "data": {
            "text/plain": [
              "1           13318\n",
              "2            4057\n",
              "3           10483\n",
              "4           42999\n",
              "5          438681\n",
              "          ...    \n",
              "378         30643\n",
              "379         17895\n",
              "380         49389\n",
              "381        128465\n",
              "0      0.00121669\n",
              "Length: 382, dtype: object"
            ]
          },
          "metadata": {
            "tags": []
          },
          "execution_count": 147
        },
        {
          "output_type": "execute_result",
          "data": {
            "text/plain": [
              "1          50800\n",
              "2          11081\n",
              "3          10791\n",
              "4          61111\n",
              "5          64723\n",
              "         ...    \n",
              "378        34417\n",
              "379        42222\n",
              "380         9561\n",
              "381        13346\n",
              "0      0.0194381\n",
              "Length: 382, dtype: object"
            ]
          },
          "metadata": {
            "tags": []
          },
          "execution_count": 147
        },
        {
          "output_type": "execute_result",
          "data": {
            "text/plain": [
              "1         153784\n",
              "2          36663\n",
              "3          27744\n",
              "4         198300\n",
              "5         212376\n",
              "         ...    \n",
              "378        98108\n",
              "379       111568\n",
              "380        45752\n",
              "381        57292\n",
              "0      0.0135108\n",
              "Length: 382, dtype: object"
            ]
          },
          "metadata": {
            "tags": []
          },
          "execution_count": 147
        },
        {
          "output_type": "execute_result",
          "data": {
            "text/plain": [
              "1           13318\n",
              "2            4057\n",
              "3           10483\n",
              "4           42999\n",
              "5          438681\n",
              "          ...    \n",
              "378         30643\n",
              "379         17895\n",
              "380         49389\n",
              "381        128465\n",
              "0      0.00186715\n",
              "Length: 382, dtype: object"
            ]
          },
          "metadata": {
            "tags": []
          },
          "execution_count": 147
        },
        {
          "output_type": "execute_result",
          "data": {
            "text/plain": [
              "1          50800\n",
              "2          11081\n",
              "3          10791\n",
              "4          61111\n",
              "5          64723\n",
              "         ...    \n",
              "378        34417\n",
              "379        42222\n",
              "380         9561\n",
              "381        13346\n",
              "0      0.0310638\n",
              "Length: 382, dtype: object"
            ]
          },
          "metadata": {
            "tags": []
          },
          "execution_count": 147
        },
        {
          "output_type": "execute_result",
          "data": {
            "text/plain": [
              "1         153784\n",
              "2          36663\n",
              "3          27744\n",
              "4         198300\n",
              "5         212376\n",
              "         ...    \n",
              "378        98108\n",
              "379       111568\n",
              "380        45752\n",
              "381        57292\n",
              "0      0.0188403\n",
              "Length: 382, dtype: object"
            ]
          },
          "metadata": {
            "tags": []
          },
          "execution_count": 147
        },
        {
          "output_type": "execute_result",
          "data": {
            "text/plain": [
              "1           13318\n",
              "2            4057\n",
              "3           10483\n",
              "4           42999\n",
              "5          438681\n",
              "          ...    \n",
              "378         30643\n",
              "379         17895\n",
              "380         49389\n",
              "381        128465\n",
              "0      0.00513214\n",
              "Length: 382, dtype: object"
            ]
          },
          "metadata": {
            "tags": []
          },
          "execution_count": 147
        },
        {
          "output_type": "execute_result",
          "data": {
            "text/plain": [
              "1          50800\n",
              "2          11081\n",
              "3          10791\n",
              "4          61111\n",
              "5          64723\n",
              "         ...    \n",
              "378        34417\n",
              "379        42222\n",
              "380         9561\n",
              "381        13346\n",
              "0      0.0219806\n",
              "Length: 382, dtype: object"
            ]
          },
          "metadata": {
            "tags": []
          },
          "execution_count": 147
        },
        {
          "output_type": "execute_result",
          "data": {
            "text/plain": [
              "1         153784\n",
              "2          36663\n",
              "3          27744\n",
              "4         198300\n",
              "5         212376\n",
              "         ...    \n",
              "378        98108\n",
              "379       111568\n",
              "380        45752\n",
              "381        57292\n",
              "0      0.0153454\n",
              "Length: 382, dtype: object"
            ]
          },
          "metadata": {
            "tags": []
          },
          "execution_count": 147
        },
        {
          "output_type": "execute_result",
          "data": {
            "text/plain": [
              "1           13318\n",
              "2            4057\n",
              "3           10483\n",
              "4           42999\n",
              "5          438681\n",
              "          ...    \n",
              "378         30643\n",
              "379         17895\n",
              "380         49389\n",
              "381        128465\n",
              "0      0.00118656\n",
              "Length: 382, dtype: object"
            ]
          },
          "metadata": {
            "tags": []
          },
          "execution_count": 147
        },
        {
          "output_type": "execute_result",
          "data": {
            "text/plain": [
              "1           50800\n",
              "2           11081\n",
              "3           10791\n",
              "4           61111\n",
              "5           64723\n",
              "          ...    \n",
              "378         34417\n",
              "379         42222\n",
              "380          9561\n",
              "381         13346\n",
              "0      0.00715479\n",
              "Length: 382, dtype: object"
            ]
          },
          "metadata": {
            "tags": []
          },
          "execution_count": 147
        },
        {
          "output_type": "execute_result",
          "data": {
            "text/plain": [
              "1          153784\n",
              "2           36663\n",
              "3           27744\n",
              "4          198300\n",
              "5          212376\n",
              "          ...    \n",
              "378         98108\n",
              "379        111568\n",
              "380         45752\n",
              "381         57292\n",
              "0      0.00665431\n",
              "Length: 382, dtype: object"
            ]
          },
          "metadata": {
            "tags": []
          },
          "execution_count": 147
        },
        {
          "output_type": "execute_result",
          "data": {
            "text/plain": [
              "1           13318\n",
              "2            4057\n",
              "3           10483\n",
              "4           42999\n",
              "5          438681\n",
              "          ...    \n",
              "378         30643\n",
              "379         17895\n",
              "380         49389\n",
              "381        128465\n",
              "0      0.00129153\n",
              "Length: 382, dtype: object"
            ]
          },
          "metadata": {
            "tags": []
          },
          "execution_count": 147
        },
        {
          "output_type": "execute_result",
          "data": {
            "text/plain": [
              "1          50800\n",
              "2          11081\n",
              "3          10791\n",
              "4          61111\n",
              "5          64723\n",
              "         ...    \n",
              "378        34417\n",
              "379        42222\n",
              "380         9561\n",
              "381        13346\n",
              "0      0.0168422\n",
              "Length: 382, dtype: object"
            ]
          },
          "metadata": {
            "tags": []
          },
          "execution_count": 147
        },
        {
          "output_type": "execute_result",
          "data": {
            "text/plain": [
              "1         153784\n",
              "2          36663\n",
              "3          27744\n",
              "4         198300\n",
              "5         212376\n",
              "         ...    \n",
              "378        98108\n",
              "379       111568\n",
              "380        45752\n",
              "381        57292\n",
              "0      0.0151041\n",
              "Length: 382, dtype: object"
            ]
          },
          "metadata": {
            "tags": []
          },
          "execution_count": 147
        },
        {
          "output_type": "execute_result",
          "data": {
            "text/plain": [
              "1           13318\n",
              "2            4057\n",
              "3           10483\n",
              "4           42999\n",
              "5          438681\n",
              "          ...    \n",
              "378         30643\n",
              "379         17895\n",
              "380         49389\n",
              "381        128465\n",
              "0      0.00115156\n",
              "Length: 382, dtype: object"
            ]
          },
          "metadata": {
            "tags": []
          },
          "execution_count": 147
        },
        {
          "output_type": "execute_result",
          "data": {
            "text/plain": [
              "1           50800\n",
              "2           11081\n",
              "3           10791\n",
              "4           61111\n",
              "5           64723\n",
              "          ...    \n",
              "378         34417\n",
              "379         42222\n",
              "380          9561\n",
              "381         13346\n",
              "0      0.00754245\n",
              "Length: 382, dtype: object"
            ]
          },
          "metadata": {
            "tags": []
          },
          "execution_count": 147
        },
        {
          "output_type": "execute_result",
          "data": {
            "text/plain": [
              "1          153784\n",
              "2           36663\n",
              "3           27744\n",
              "4          198300\n",
              "5          212376\n",
              "          ...    \n",
              "378         98108\n",
              "379        111568\n",
              "380         45752\n",
              "381         57292\n",
              "0      0.00668307\n",
              "Length: 382, dtype: object"
            ]
          },
          "metadata": {
            "tags": []
          },
          "execution_count": 147
        },
        {
          "output_type": "execute_result",
          "data": {
            "text/plain": [
              "1           13318\n",
              "2            4057\n",
              "3           10483\n",
              "4           42999\n",
              "5          438681\n",
              "          ...    \n",
              "378         30643\n",
              "379         17895\n",
              "380         49389\n",
              "381        128465\n",
              "0      0.00426403\n",
              "Length: 382, dtype: object"
            ]
          },
          "metadata": {
            "tags": []
          },
          "execution_count": 147
        },
        {
          "output_type": "execute_result",
          "data": {
            "text/plain": [
              "1          50800\n",
              "2          11081\n",
              "3          10791\n",
              "4          61111\n",
              "5          64723\n",
              "         ...    \n",
              "378        34417\n",
              "379        42222\n",
              "380         9561\n",
              "381        13346\n",
              "0      0.0259452\n",
              "Length: 382, dtype: object"
            ]
          },
          "metadata": {
            "tags": []
          },
          "execution_count": 147
        },
        {
          "output_type": "execute_result",
          "data": {
            "text/plain": [
              "1        153784\n",
              "2         36663\n",
              "3         27744\n",
              "4        198300\n",
              "5        212376\n",
              "         ...   \n",
              "378       98108\n",
              "379      111568\n",
              "380       45752\n",
              "381       57292\n",
              "0      0.024542\n",
              "Length: 382, dtype: object"
            ]
          },
          "metadata": {
            "tags": []
          },
          "execution_count": 147
        },
        {
          "output_type": "execute_result",
          "data": {
            "text/plain": [
              "1           13318\n",
              "2            4057\n",
              "3           10483\n",
              "4           42999\n",
              "5          438681\n",
              "          ...    \n",
              "378         30643\n",
              "379         17895\n",
              "380         49389\n",
              "381        128465\n",
              "0      0.00737951\n",
              "Length: 382, dtype: object"
            ]
          },
          "metadata": {
            "tags": []
          },
          "execution_count": 147
        },
        {
          "output_type": "execute_result",
          "data": {
            "text/plain": [
              "1          50800\n",
              "2          11081\n",
              "3          10791\n",
              "4          61111\n",
              "5          64723\n",
              "         ...    \n",
              "378        34417\n",
              "379        42222\n",
              "380         9561\n",
              "381        13346\n",
              "0      0.0382482\n",
              "Length: 382, dtype: object"
            ]
          },
          "metadata": {
            "tags": []
          },
          "execution_count": 147
        },
        {
          "output_type": "execute_result",
          "data": {
            "text/plain": [
              "1         153784\n",
              "2          36663\n",
              "3          27744\n",
              "4         198300\n",
              "5         212376\n",
              "         ...    \n",
              "378        98108\n",
              "379       111568\n",
              "380        45752\n",
              "381        57292\n",
              "0      0.0318886\n",
              "Length: 382, dtype: object"
            ]
          },
          "metadata": {
            "tags": []
          },
          "execution_count": 147
        },
        {
          "output_type": "execute_result",
          "data": {
            "text/plain": [
              "1          13318\n",
              "2           4057\n",
              "3          10483\n",
              "4          42999\n",
              "5         438681\n",
              "         ...    \n",
              "378        30643\n",
              "379        17895\n",
              "380        49389\n",
              "381       128465\n",
              "0      0.0136096\n",
              "Length: 382, dtype: object"
            ]
          },
          "metadata": {
            "tags": []
          },
          "execution_count": 147
        },
        {
          "output_type": "execute_result",
          "data": {
            "text/plain": [
              "1         50800\n",
              "2         11081\n",
              "3         10791\n",
              "4         61111\n",
              "5         64723\n",
              "         ...   \n",
              "378       34417\n",
              "379       42222\n",
              "380        9561\n",
              "381       13346\n",
              "0      0.010528\n",
              "Length: 382, dtype: object"
            ]
          },
          "metadata": {
            "tags": []
          },
          "execution_count": 147
        },
        {
          "output_type": "execute_result",
          "data": {
            "text/plain": [
              "1          153784\n",
              "2           36663\n",
              "3           27744\n",
              "4          198300\n",
              "5          212376\n",
              "          ...    \n",
              "378         98108\n",
              "379        111568\n",
              "380         45752\n",
              "381         57292\n",
              "0      0.00864026\n",
              "Length: 382, dtype: object"
            ]
          },
          "metadata": {
            "tags": []
          },
          "execution_count": 147
        },
        {
          "output_type": "execute_result",
          "data": {
            "text/plain": [
              "1           13318\n",
              "2            4057\n",
              "3           10483\n",
              "4           42999\n",
              "5          438681\n",
              "          ...    \n",
              "378         30643\n",
              "379         17895\n",
              "380         49389\n",
              "381        128465\n",
              "0      0.00322548\n",
              "Length: 382, dtype: object"
            ]
          },
          "metadata": {
            "tags": []
          },
          "execution_count": 147
        },
        {
          "output_type": "execute_result",
          "data": {
            "text/plain": [
              "1          50800\n",
              "2          11081\n",
              "3          10791\n",
              "4          61111\n",
              "5          64723\n",
              "         ...    \n",
              "378        34417\n",
              "379        42222\n",
              "380         9561\n",
              "381        13346\n",
              "0      0.0280417\n",
              "Length: 382, dtype: object"
            ]
          },
          "metadata": {
            "tags": []
          },
          "execution_count": 147
        },
        {
          "output_type": "execute_result",
          "data": {
            "text/plain": [
              "1         153784\n",
              "2          36663\n",
              "3          27744\n",
              "4         198300\n",
              "5         212376\n",
              "         ...    \n",
              "378        98108\n",
              "379       111568\n",
              "380        45752\n",
              "381        57292\n",
              "0      0.0197809\n",
              "Length: 382, dtype: object"
            ]
          },
          "metadata": {
            "tags": []
          },
          "execution_count": 147
        },
        {
          "output_type": "execute_result",
          "data": {
            "text/plain": [
              "1          13318\n",
              "2           4057\n",
              "3          10483\n",
              "4          42999\n",
              "5         438681\n",
              "         ...    \n",
              "378        30643\n",
              "379        17895\n",
              "380        49389\n",
              "381       128465\n",
              "0      0.0022745\n",
              "Length: 382, dtype: object"
            ]
          },
          "metadata": {
            "tags": []
          },
          "execution_count": 147
        },
        {
          "output_type": "execute_result",
          "data": {
            "text/plain": [
              "1          50800\n",
              "2          11081\n",
              "3          10791\n",
              "4          61111\n",
              "5          64723\n",
              "         ...    \n",
              "378        34417\n",
              "379        42222\n",
              "380         9561\n",
              "381        13346\n",
              "0      0.0137825\n",
              "Length: 382, dtype: object"
            ]
          },
          "metadata": {
            "tags": []
          },
          "execution_count": 147
        },
        {
          "output_type": "execute_result",
          "data": {
            "text/plain": [
              "1         153784\n",
              "2          36663\n",
              "3          27744\n",
              "4         198300\n",
              "5         212376\n",
              "         ...    \n",
              "378        98108\n",
              "379       111568\n",
              "380        45752\n",
              "381        57292\n",
              "0      0.0101584\n",
              "Length: 382, dtype: object"
            ]
          },
          "metadata": {
            "tags": []
          },
          "execution_count": 147
        },
        {
          "output_type": "execute_result",
          "data": {
            "text/plain": [
              "1            13318\n",
              "2             4057\n",
              "3            10483\n",
              "4            42999\n",
              "5           438681\n",
              "          ...     \n",
              "378          30643\n",
              "379          17895\n",
              "380          49389\n",
              "381         128465\n",
              "0      0.000793437\n",
              "Length: 382, dtype: object"
            ]
          },
          "metadata": {
            "tags": []
          },
          "execution_count": 147
        },
        {
          "output_type": "execute_result",
          "data": {
            "text/plain": [
              "1        50800\n",
              "2        11081\n",
              "3        10791\n",
              "4        61111\n",
              "5        64723\n",
              "        ...   \n",
              "378      34417\n",
              "379      42222\n",
              "380       9561\n",
              "381      13346\n",
              "0      0.01222\n",
              "Length: 382, dtype: object"
            ]
          },
          "metadata": {
            "tags": []
          },
          "execution_count": 147
        },
        {
          "output_type": "execute_result",
          "data": {
            "text/plain": [
              "1          153784\n",
              "2           36663\n",
              "3           27744\n",
              "4          198300\n",
              "5          212376\n",
              "          ...    \n",
              "378         98108\n",
              "379        111568\n",
              "380         45752\n",
              "381         57292\n",
              "0      0.00727538\n",
              "Length: 382, dtype: object"
            ]
          },
          "metadata": {
            "tags": []
          },
          "execution_count": 147
        },
        {
          "output_type": "execute_result",
          "data": {
            "text/plain": [
              "1            13318\n",
              "2             4057\n",
              "3            10483\n",
              "4            42999\n",
              "5           438681\n",
              "          ...     \n",
              "378          30643\n",
              "379          17895\n",
              "380          49389\n",
              "381         128465\n",
              "0      0.000602402\n",
              "Length: 382, dtype: object"
            ]
          },
          "metadata": {
            "tags": []
          },
          "execution_count": 147
        },
        {
          "output_type": "execute_result",
          "data": {
            "text/plain": [
              "1           50800\n",
              "2           11081\n",
              "3           10791\n",
              "4           61111\n",
              "5           64723\n",
              "          ...    \n",
              "378         34417\n",
              "379         42222\n",
              "380          9561\n",
              "381         13346\n",
              "0      0.00885672\n",
              "Length: 382, dtype: object"
            ]
          },
          "metadata": {
            "tags": []
          },
          "execution_count": 147
        },
        {
          "output_type": "execute_result",
          "data": {
            "text/plain": [
              "1          153784\n",
              "2           36663\n",
              "3           27744\n",
              "4          198300\n",
              "5          212376\n",
              "          ...    \n",
              "378         98108\n",
              "379        111568\n",
              "380         45752\n",
              "381         57292\n",
              "0      0.00472919\n",
              "Length: 382, dtype: object"
            ]
          },
          "metadata": {
            "tags": []
          },
          "execution_count": 147
        },
        {
          "output_type": "execute_result",
          "data": {
            "text/plain": [
              "1           13318\n",
              "2            4057\n",
              "3           10483\n",
              "4           42999\n",
              "5          438681\n",
              "          ...    \n",
              "378         30643\n",
              "379         17895\n",
              "380         49389\n",
              "381        128465\n",
              "0      0.00084919\n",
              "Length: 382, dtype: object"
            ]
          },
          "metadata": {
            "tags": []
          },
          "execution_count": 147
        },
        {
          "output_type": "execute_result",
          "data": {
            "text/plain": [
              "1          50800\n",
              "2          11081\n",
              "3          10791\n",
              "4          61111\n",
              "5          64723\n",
              "         ...    \n",
              "378        34417\n",
              "379        42222\n",
              "380         9561\n",
              "381        13346\n",
              "0      0.0269657\n",
              "Length: 382, dtype: object"
            ]
          },
          "metadata": {
            "tags": []
          },
          "execution_count": 147
        },
        {
          "output_type": "execute_result",
          "data": {
            "text/plain": [
              "1         153784\n",
              "2          36663\n",
              "3          27744\n",
              "4         198300\n",
              "5         212376\n",
              "         ...    \n",
              "378        98108\n",
              "379       111568\n",
              "380        45752\n",
              "381        57292\n",
              "0      0.0192207\n",
              "Length: 382, dtype: object"
            ]
          },
          "metadata": {
            "tags": []
          },
          "execution_count": 147
        },
        {
          "output_type": "execute_result",
          "data": {
            "text/plain": [
              "1           13318\n",
              "2            4057\n",
              "3           10483\n",
              "4           42999\n",
              "5          438681\n",
              "          ...    \n",
              "378         30643\n",
              "379         17895\n",
              "380         49389\n",
              "381        128465\n",
              "0      0.00619363\n",
              "Length: 382, dtype: object"
            ]
          },
          "metadata": {
            "tags": []
          },
          "execution_count": 147
        },
        {
          "output_type": "execute_result",
          "data": {
            "text/plain": [
              "1          50800\n",
              "2          11081\n",
              "3          10791\n",
              "4          61111\n",
              "5          64723\n",
              "         ...    \n",
              "378        34417\n",
              "379        42222\n",
              "380         9561\n",
              "381        13346\n",
              "0      0.0178539\n",
              "Length: 382, dtype: object"
            ]
          },
          "metadata": {
            "tags": []
          },
          "execution_count": 147
        },
        {
          "output_type": "execute_result",
          "data": {
            "text/plain": [
              "1         153784\n",
              "2          36663\n",
              "3          27744\n",
              "4         198300\n",
              "5         212376\n",
              "         ...    \n",
              "378        98108\n",
              "379       111568\n",
              "380        45752\n",
              "381        57292\n",
              "0      0.0144616\n",
              "Length: 382, dtype: object"
            ]
          },
          "metadata": {
            "tags": []
          },
          "execution_count": 147
        },
        {
          "output_type": "execute_result",
          "data": {
            "text/plain": [
              "1           13318\n",
              "2            4057\n",
              "3           10483\n",
              "4           42999\n",
              "5          438681\n",
              "          ...    \n",
              "378         30643\n",
              "379         17895\n",
              "380         49389\n",
              "381        128465\n",
              "0      0.00452706\n",
              "Length: 382, dtype: object"
            ]
          },
          "metadata": {
            "tags": []
          },
          "execution_count": 147
        },
        {
          "output_type": "execute_result",
          "data": {
            "text/plain": [
              "1          50800\n",
              "2          11081\n",
              "3          10791\n",
              "4          61111\n",
              "5          64723\n",
              "         ...    \n",
              "378        34417\n",
              "379        42222\n",
              "380         9561\n",
              "381        13346\n",
              "0      0.0329269\n",
              "Length: 382, dtype: object"
            ]
          },
          "metadata": {
            "tags": []
          },
          "execution_count": 147
        },
        {
          "output_type": "execute_result",
          "data": {
            "text/plain": [
              "1         153784\n",
              "2          36663\n",
              "3          27744\n",
              "4         198300\n",
              "5         212376\n",
              "         ...    \n",
              "378        98108\n",
              "379       111568\n",
              "380        45752\n",
              "381        57292\n",
              "0      0.0237541\n",
              "Length: 382, dtype: object"
            ]
          },
          "metadata": {
            "tags": []
          },
          "execution_count": 147
        },
        {
          "output_type": "execute_result",
          "data": {
            "text/plain": [
              "1           13318\n",
              "2            4057\n",
              "3           10483\n",
              "4           42999\n",
              "5          438681\n",
              "          ...    \n",
              "378         30643\n",
              "379         17895\n",
              "380         49389\n",
              "381        128465\n",
              "0      0.00468009\n",
              "Length: 382, dtype: object"
            ]
          },
          "metadata": {
            "tags": []
          },
          "execution_count": 147
        },
        {
          "output_type": "execute_result",
          "data": {
            "text/plain": [
              "1          50800\n",
              "2          11081\n",
              "3          10791\n",
              "4          61111\n",
              "5          64723\n",
              "         ...    \n",
              "378        34417\n",
              "379        42222\n",
              "380         9561\n",
              "381        13346\n",
              "0      0.0533826\n",
              "Length: 382, dtype: object"
            ]
          },
          "metadata": {
            "tags": []
          },
          "execution_count": 147
        },
        {
          "output_type": "execute_result",
          "data": {
            "text/plain": [
              "1         153784\n",
              "2          36663\n",
              "3          27744\n",
              "4         198300\n",
              "5         212376\n",
              "         ...    \n",
              "378        98108\n",
              "379       111568\n",
              "380        45752\n",
              "381        57292\n",
              "0      0.0600976\n",
              "Length: 382, dtype: object"
            ]
          },
          "metadata": {
            "tags": []
          },
          "execution_count": 147
        },
        {
          "output_type": "execute_result",
          "data": {
            "text/plain": [
              "1          13318\n",
              "2           4057\n",
              "3          10483\n",
              "4          42999\n",
              "5         438681\n",
              "         ...    \n",
              "378        30643\n",
              "379        17895\n",
              "380        49389\n",
              "381       128465\n",
              "0      0.0852944\n",
              "Length: 382, dtype: object"
            ]
          },
          "metadata": {
            "tags": []
          },
          "execution_count": 147
        },
        {
          "output_type": "execute_result",
          "data": {
            "text/plain": [
              "1           50800\n",
              "2           11081\n",
              "3           10791\n",
              "4           61111\n",
              "5           64723\n",
              "          ...    \n",
              "378         34417\n",
              "379         42222\n",
              "380          9561\n",
              "381         13346\n",
              "0      0.00569219\n",
              "Length: 382, dtype: object"
            ]
          },
          "metadata": {
            "tags": []
          },
          "execution_count": 147
        },
        {
          "output_type": "execute_result",
          "data": {
            "text/plain": [
              "1          153784\n",
              "2           36663\n",
              "3           27744\n",
              "4          198300\n",
              "5          212376\n",
              "          ...    \n",
              "378         98108\n",
              "379        111568\n",
              "380         45752\n",
              "381         57292\n",
              "0      0.00470752\n",
              "Length: 382, dtype: object"
            ]
          },
          "metadata": {
            "tags": []
          },
          "execution_count": 147
        },
        {
          "output_type": "execute_result",
          "data": {
            "text/plain": [
              "1            13318\n",
              "2             4057\n",
              "3            10483\n",
              "4            42999\n",
              "5           438681\n",
              "          ...     \n",
              "378          30643\n",
              "379          17895\n",
              "380          49389\n",
              "381         128465\n",
              "0      0.000635218\n",
              "Length: 382, dtype: object"
            ]
          },
          "metadata": {
            "tags": []
          },
          "execution_count": 147
        },
        {
          "output_type": "execute_result",
          "data": {
            "text/plain": [
              "1          50800\n",
              "2          11081\n",
              "3          10791\n",
              "4          61111\n",
              "5          64723\n",
              "         ...    \n",
              "378        34417\n",
              "379        42222\n",
              "380         9561\n",
              "381        13346\n",
              "0      0.0172655\n",
              "Length: 382, dtype: object"
            ]
          },
          "metadata": {
            "tags": []
          },
          "execution_count": 147
        },
        {
          "output_type": "execute_result",
          "data": {
            "text/plain": [
              "1         153784\n",
              "2          36663\n",
              "3          27744\n",
              "4         198300\n",
              "5         212376\n",
              "         ...    \n",
              "378        98108\n",
              "379       111568\n",
              "380        45752\n",
              "381        57292\n",
              "0      0.0170613\n",
              "Length: 382, dtype: object"
            ]
          },
          "metadata": {
            "tags": []
          },
          "execution_count": 147
        },
        {
          "output_type": "execute_result",
          "data": {
            "text/plain": [
              "1           13318\n",
              "2            4057\n",
              "3           10483\n",
              "4           42999\n",
              "5          438681\n",
              "          ...    \n",
              "378         30643\n",
              "379         17895\n",
              "380         49389\n",
              "381        128465\n",
              "0      0.00418668\n",
              "Length: 382, dtype: object"
            ]
          },
          "metadata": {
            "tags": []
          },
          "execution_count": 147
        },
        {
          "output_type": "execute_result",
          "data": {
            "text/plain": [
              "1          50800\n",
              "2          11081\n",
              "3          10791\n",
              "4          61111\n",
              "5          64723\n",
              "         ...    \n",
              "378        34417\n",
              "379        42222\n",
              "380         9561\n",
              "381        13346\n",
              "0      0.0116366\n",
              "Length: 382, dtype: object"
            ]
          },
          "metadata": {
            "tags": []
          },
          "execution_count": 147
        },
        {
          "output_type": "execute_result",
          "data": {
            "text/plain": [
              "1         153784\n",
              "2          36663\n",
              "3          27744\n",
              "4         198300\n",
              "5         212376\n",
              "         ...    \n",
              "378        98108\n",
              "379       111568\n",
              "380        45752\n",
              "381        57292\n",
              "0      0.0107981\n",
              "Length: 382, dtype: object"
            ]
          },
          "metadata": {
            "tags": []
          },
          "execution_count": 147
        },
        {
          "output_type": "execute_result",
          "data": {
            "text/plain": [
              "1           13318\n",
              "2            4057\n",
              "3           10483\n",
              "4           42999\n",
              "5          438681\n",
              "          ...    \n",
              "378         30643\n",
              "379         17895\n",
              "380         49389\n",
              "381        128465\n",
              "0      0.00898146\n",
              "Length: 382, dtype: object"
            ]
          },
          "metadata": {
            "tags": []
          },
          "execution_count": 147
        },
        {
          "output_type": "execute_result",
          "data": {
            "text/plain": [
              "1          50800\n",
              "2          11081\n",
              "3          10791\n",
              "4          61111\n",
              "5          64723\n",
              "         ...    \n",
              "378        34417\n",
              "379        42222\n",
              "380         9561\n",
              "381        13346\n",
              "0      0.0086352\n",
              "Length: 382, dtype: object"
            ]
          },
          "metadata": {
            "tags": []
          },
          "execution_count": 147
        },
        {
          "output_type": "execute_result",
          "data": {
            "text/plain": [
              "1          153784\n",
              "2           36663\n",
              "3           27744\n",
              "4          198300\n",
              "5          212376\n",
              "          ...    \n",
              "378         98108\n",
              "379        111568\n",
              "380         45752\n",
              "381         57292\n",
              "0      0.00472389\n",
              "Length: 382, dtype: object"
            ]
          },
          "metadata": {
            "tags": []
          },
          "execution_count": 147
        },
        {
          "output_type": "execute_result",
          "data": {
            "text/plain": [
              "1           13318\n",
              "2            4057\n",
              "3           10483\n",
              "4           42999\n",
              "5          438681\n",
              "          ...    \n",
              "378         30643\n",
              "379         17895\n",
              "380         49389\n",
              "381        128465\n",
              "0      0.00115374\n",
              "Length: 382, dtype: object"
            ]
          },
          "metadata": {
            "tags": []
          },
          "execution_count": 147
        },
        {
          "output_type": "execute_result",
          "data": {
            "text/plain": [
              "1          50800\n",
              "2          11081\n",
              "3          10791\n",
              "4          61111\n",
              "5          64723\n",
              "         ...    \n",
              "378        34417\n",
              "379        42222\n",
              "380         9561\n",
              "381        13346\n",
              "0      0.0100929\n",
              "Length: 382, dtype: object"
            ]
          },
          "metadata": {
            "tags": []
          },
          "execution_count": 147
        },
        {
          "output_type": "execute_result",
          "data": {
            "text/plain": [
              "1          153784\n",
              "2           36663\n",
              "3           27744\n",
              "4          198300\n",
              "5          212376\n",
              "          ...    \n",
              "378         98108\n",
              "379        111568\n",
              "380         45752\n",
              "381         57292\n",
              "0      0.00540533\n",
              "Length: 382, dtype: object"
            ]
          },
          "metadata": {
            "tags": []
          },
          "execution_count": 147
        },
        {
          "output_type": "execute_result",
          "data": {
            "text/plain": [
              "1           13318\n",
              "2            4057\n",
              "3           10483\n",
              "4           42999\n",
              "5          438681\n",
              "          ...    \n",
              "378         30643\n",
              "379         17895\n",
              "380         49389\n",
              "381        128465\n",
              "0      0.00052773\n",
              "Length: 382, dtype: object"
            ]
          },
          "metadata": {
            "tags": []
          },
          "execution_count": 147
        },
        {
          "output_type": "execute_result",
          "data": {
            "text/plain": [
              "1           50800\n",
              "2           11081\n",
              "3           10791\n",
              "4           61111\n",
              "5           64723\n",
              "          ...    \n",
              "378         34417\n",
              "379         42222\n",
              "380          9561\n",
              "381         13346\n",
              "0      0.00745444\n",
              "Length: 382, dtype: object"
            ]
          },
          "metadata": {
            "tags": []
          },
          "execution_count": 147
        },
        {
          "output_type": "execute_result",
          "data": {
            "text/plain": [
              "1          153784\n",
              "2           36663\n",
              "3           27744\n",
              "4          198300\n",
              "5          212376\n",
              "          ...    \n",
              "378         98108\n",
              "379        111568\n",
              "380         45752\n",
              "381         57292\n",
              "0      0.00691442\n",
              "Length: 382, dtype: object"
            ]
          },
          "metadata": {
            "tags": []
          },
          "execution_count": 147
        },
        {
          "output_type": "execute_result",
          "data": {
            "text/plain": [
              "1           13318\n",
              "2            4057\n",
              "3           10483\n",
              "4           42999\n",
              "5          438681\n",
              "          ...    \n",
              "378         30643\n",
              "379         17895\n",
              "380         49389\n",
              "381        128465\n",
              "0      0.00234549\n",
              "Length: 382, dtype: object"
            ]
          },
          "metadata": {
            "tags": []
          },
          "execution_count": 147
        },
        {
          "output_type": "execute_result",
          "data": {
            "text/plain": [
              "1           50800\n",
              "2           11081\n",
              "3           10791\n",
              "4           61111\n",
              "5           64723\n",
              "          ...    \n",
              "378         34417\n",
              "379         42222\n",
              "380          9561\n",
              "381         13346\n",
              "0      0.00816349\n",
              "Length: 382, dtype: object"
            ]
          },
          "metadata": {
            "tags": []
          },
          "execution_count": 147
        },
        {
          "output_type": "execute_result",
          "data": {
            "text/plain": [
              "1          153784\n",
              "2           36663\n",
              "3           27744\n",
              "4          198300\n",
              "5          212376\n",
              "          ...    \n",
              "378         98108\n",
              "379        111568\n",
              "380         45752\n",
              "381         57292\n",
              "0      0.00662335\n",
              "Length: 382, dtype: object"
            ]
          },
          "metadata": {
            "tags": []
          },
          "execution_count": 147
        },
        {
          "output_type": "execute_result",
          "data": {
            "text/plain": [
              "1            13318\n",
              "2             4057\n",
              "3            10483\n",
              "4            42999\n",
              "5           438681\n",
              "          ...     \n",
              "378          30643\n",
              "379          17895\n",
              "380          49389\n",
              "381         128465\n",
              "0      0.000795613\n",
              "Length: 382, dtype: object"
            ]
          },
          "metadata": {
            "tags": []
          },
          "execution_count": 147
        },
        {
          "output_type": "execute_result",
          "data": {
            "text/plain": [
              "1           50800\n",
              "2           11081\n",
              "3           10791\n",
              "4           61111\n",
              "5           64723\n",
              "          ...    \n",
              "378         34417\n",
              "379         42222\n",
              "380          9561\n",
              "381         13346\n",
              "0      0.00655057\n",
              "Length: 382, dtype: object"
            ]
          },
          "metadata": {
            "tags": []
          },
          "execution_count": 147
        },
        {
          "output_type": "execute_result",
          "data": {
            "text/plain": [
              "1          153784\n",
              "2           36663\n",
              "3           27744\n",
              "4          198300\n",
              "5          212376\n",
              "          ...    \n",
              "378         98108\n",
              "379        111568\n",
              "380         45752\n",
              "381         57292\n",
              "0      0.00443569\n",
              "Length: 382, dtype: object"
            ]
          },
          "metadata": {
            "tags": []
          },
          "execution_count": 147
        },
        {
          "output_type": "execute_result",
          "data": {
            "text/plain": [
              "1           13318\n",
              "2            4057\n",
              "3           10483\n",
              "4           42999\n",
              "5          438681\n",
              "          ...    \n",
              "378         30643\n",
              "379         17895\n",
              "380         49389\n",
              "381        128465\n",
              "0      0.00287255\n",
              "Length: 382, dtype: object"
            ]
          },
          "metadata": {
            "tags": []
          },
          "execution_count": 147
        },
        {
          "output_type": "execute_result",
          "data": {
            "text/plain": [
              "1          50800\n",
              "2          11081\n",
              "3          10791\n",
              "4          61111\n",
              "5          64723\n",
              "         ...    \n",
              "378        34417\n",
              "379        42222\n",
              "380         9561\n",
              "381        13346\n",
              "0      0.0093403\n",
              "Length: 382, dtype: object"
            ]
          },
          "metadata": {
            "tags": []
          },
          "execution_count": 147
        },
        {
          "output_type": "execute_result",
          "data": {
            "text/plain": [
              "1          153784\n",
              "2           36663\n",
              "3           27744\n",
              "4          198300\n",
              "5          212376\n",
              "          ...    \n",
              "378         98108\n",
              "379        111568\n",
              "380         45752\n",
              "381         57292\n",
              "0      0.00755649\n",
              "Length: 382, dtype: object"
            ]
          },
          "metadata": {
            "tags": []
          },
          "execution_count": 147
        },
        {
          "output_type": "execute_result",
          "data": {
            "text/plain": [
              "1          13318\n",
              "2           4057\n",
              "3          10483\n",
              "4          42999\n",
              "5         438681\n",
              "         ...    \n",
              "378        30643\n",
              "379        17895\n",
              "380        49389\n",
              "381       128465\n",
              "0      0.0035456\n",
              "Length: 382, dtype: object"
            ]
          },
          "metadata": {
            "tags": []
          },
          "execution_count": 147
        },
        {
          "output_type": "execute_result",
          "data": {
            "text/plain": [
              "1          50800\n",
              "2          11081\n",
              "3          10791\n",
              "4          61111\n",
              "5          64723\n",
              "         ...    \n",
              "378        34417\n",
              "379        42222\n",
              "380         9561\n",
              "381        13346\n",
              "0      0.0776535\n",
              "Length: 382, dtype: object"
            ]
          },
          "metadata": {
            "tags": []
          },
          "execution_count": 147
        },
        {
          "output_type": "execute_result",
          "data": {
            "text/plain": [
              "1         153784\n",
              "2          36663\n",
              "3          27744\n",
              "4         198300\n",
              "5         212376\n",
              "         ...    \n",
              "378        98108\n",
              "379       111568\n",
              "380        45752\n",
              "381        57292\n",
              "0      0.0581597\n",
              "Length: 382, dtype: object"
            ]
          },
          "metadata": {
            "tags": []
          },
          "execution_count": 147
        },
        {
          "output_type": "execute_result",
          "data": {
            "text/plain": [
              "1          13318\n",
              "2           4057\n",
              "3          10483\n",
              "4          42999\n",
              "5         438681\n",
              "         ...    \n",
              "378        30643\n",
              "379        17895\n",
              "380        49389\n",
              "381       128465\n",
              "0      0.0160085\n",
              "Length: 382, dtype: object"
            ]
          },
          "metadata": {
            "tags": []
          },
          "execution_count": 147
        },
        {
          "output_type": "execute_result",
          "data": {
            "text/plain": [
              "1           50800\n",
              "2           11081\n",
              "3           10791\n",
              "4           61111\n",
              "5           64723\n",
              "          ...    \n",
              "378         34417\n",
              "379         42222\n",
              "380          9561\n",
              "381         13346\n",
              "0      0.00752762\n",
              "Length: 382, dtype: object"
            ]
          },
          "metadata": {
            "tags": []
          },
          "execution_count": 147
        },
        {
          "output_type": "execute_result",
          "data": {
            "text/plain": [
              "1          153784\n",
              "2           36663\n",
              "3           27744\n",
              "4          198300\n",
              "5          212376\n",
              "          ...    \n",
              "378         98108\n",
              "379        111568\n",
              "380         45752\n",
              "381         57292\n",
              "0      0.00376929\n",
              "Length: 382, dtype: object"
            ]
          },
          "metadata": {
            "tags": []
          },
          "execution_count": 147
        },
        {
          "output_type": "execute_result",
          "data": {
            "text/plain": [
              "1           13318\n",
              "2            4057\n",
              "3           10483\n",
              "4           42999\n",
              "5          438681\n",
              "          ...    \n",
              "378         30643\n",
              "379         17895\n",
              "380         49389\n",
              "381        128465\n",
              "0      0.00100975\n",
              "Length: 382, dtype: object"
            ]
          },
          "metadata": {
            "tags": []
          },
          "execution_count": 147
        },
        {
          "output_type": "execute_result",
          "data": {
            "text/plain": [
              "1           50800\n",
              "2           11081\n",
              "3           10791\n",
              "4           61111\n",
              "5           64723\n",
              "          ...    \n",
              "378         34417\n",
              "379         42222\n",
              "380          9561\n",
              "381         13346\n",
              "0      0.00723786\n",
              "Length: 382, dtype: object"
            ]
          },
          "metadata": {
            "tags": []
          },
          "execution_count": 147
        },
        {
          "output_type": "execute_result",
          "data": {
            "text/plain": [
              "1          153784\n",
              "2           36663\n",
              "3           27744\n",
              "4          198300\n",
              "5          212376\n",
              "          ...    \n",
              "378         98108\n",
              "379        111568\n",
              "380         45752\n",
              "381         57292\n",
              "0      0.00430874\n",
              "Length: 382, dtype: object"
            ]
          },
          "metadata": {
            "tags": []
          },
          "execution_count": 147
        },
        {
          "output_type": "execute_result",
          "data": {
            "text/plain": [
              "1            13318\n",
              "2             4057\n",
              "3            10483\n",
              "4            42999\n",
              "5           438681\n",
              "          ...     \n",
              "378          30643\n",
              "379          17895\n",
              "380          49389\n",
              "381         128465\n",
              "0      0.000579465\n",
              "Length: 382, dtype: object"
            ]
          },
          "metadata": {
            "tags": []
          },
          "execution_count": 147
        },
        {
          "output_type": "execute_result",
          "data": {
            "text/plain": [
              "1          50800\n",
              "2          11081\n",
              "3          10791\n",
              "4          61111\n",
              "5          64723\n",
              "         ...    \n",
              "378        34417\n",
              "379        42222\n",
              "380         9561\n",
              "381        13346\n",
              "0      0.0181298\n",
              "Length: 382, dtype: object"
            ]
          },
          "metadata": {
            "tags": []
          },
          "execution_count": 147
        },
        {
          "output_type": "execute_result",
          "data": {
            "text/plain": [
              "1         153784\n",
              "2          36663\n",
              "3          27744\n",
              "4         198300\n",
              "5         212376\n",
              "         ...    \n",
              "378        98108\n",
              "379       111568\n",
              "380        45752\n",
              "381        57292\n",
              "0      0.0179695\n",
              "Length: 382, dtype: object"
            ]
          },
          "metadata": {
            "tags": []
          },
          "execution_count": 147
        },
        {
          "output_type": "execute_result",
          "data": {
            "text/plain": [
              "1         13318\n",
              "2          4057\n",
              "3         10483\n",
              "4         42999\n",
              "5        438681\n",
              "         ...   \n",
              "378       30643\n",
              "379       17895\n",
              "380       49389\n",
              "381      128465\n",
              "0      0.013883\n",
              "Length: 382, dtype: object"
            ]
          },
          "metadata": {
            "tags": []
          },
          "execution_count": 147
        },
        {
          "output_type": "execute_result",
          "data": {
            "text/plain": [
              "1          50800\n",
              "2          11081\n",
              "3          10791\n",
              "4          61111\n",
              "5          64723\n",
              "         ...    \n",
              "378        34417\n",
              "379        42222\n",
              "380         9561\n",
              "381        13346\n",
              "0      0.0265939\n",
              "Length: 382, dtype: object"
            ]
          },
          "metadata": {
            "tags": []
          },
          "execution_count": 147
        },
        {
          "output_type": "execute_result",
          "data": {
            "text/plain": [
              "1         153784\n",
              "2          36663\n",
              "3          27744\n",
              "4         198300\n",
              "5         212376\n",
              "         ...    \n",
              "378        98108\n",
              "379       111568\n",
              "380        45752\n",
              "381        57292\n",
              "0      0.0161536\n",
              "Length: 382, dtype: object"
            ]
          },
          "metadata": {
            "tags": []
          },
          "execution_count": 147
        },
        {
          "output_type": "execute_result",
          "data": {
            "text/plain": [
              "1           13318\n",
              "2            4057\n",
              "3           10483\n",
              "4           42999\n",
              "5          438681\n",
              "          ...    \n",
              "378         30643\n",
              "379         17895\n",
              "380         49389\n",
              "381        128465\n",
              "0      0.00379574\n",
              "Length: 382, dtype: object"
            ]
          },
          "metadata": {
            "tags": []
          },
          "execution_count": 147
        },
        {
          "output_type": "execute_result",
          "data": {
            "text/plain": [
              "1          50800\n",
              "2          11081\n",
              "3          10791\n",
              "4          61111\n",
              "5          64723\n",
              "         ...    \n",
              "378        34417\n",
              "379        42222\n",
              "380         9561\n",
              "381        13346\n",
              "0      0.0529168\n",
              "Length: 382, dtype: object"
            ]
          },
          "metadata": {
            "tags": []
          },
          "execution_count": 147
        },
        {
          "output_type": "execute_result",
          "data": {
            "text/plain": [
              "1         153784\n",
              "2          36663\n",
              "3          27744\n",
              "4         198300\n",
              "5         212376\n",
              "         ...    \n",
              "378        98108\n",
              "379       111568\n",
              "380        45752\n",
              "381        57292\n",
              "0      0.0379568\n",
              "Length: 382, dtype: object"
            ]
          },
          "metadata": {
            "tags": []
          },
          "execution_count": 147
        },
        {
          "output_type": "execute_result",
          "data": {
            "text/plain": [
              "1          13318\n",
              "2           4057\n",
              "3          10483\n",
              "4          42999\n",
              "5         438681\n",
              "         ...    \n",
              "378        30643\n",
              "379        17895\n",
              "380        49389\n",
              "381       128465\n",
              "0      0.0102529\n",
              "Length: 382, dtype: object"
            ]
          },
          "metadata": {
            "tags": []
          },
          "execution_count": 147
        },
        {
          "output_type": "execute_result",
          "data": {
            "text/plain": [
              "1          50800\n",
              "2          11081\n",
              "3          10791\n",
              "4          61111\n",
              "5          64723\n",
              "         ...    \n",
              "378        34417\n",
              "379        42222\n",
              "380         9561\n",
              "381        13346\n",
              "0      0.0113438\n",
              "Length: 382, dtype: object"
            ]
          },
          "metadata": {
            "tags": []
          },
          "execution_count": 147
        },
        {
          "output_type": "execute_result",
          "data": {
            "text/plain": [
              "1         153784\n",
              "2          36663\n",
              "3          27744\n",
              "4         198300\n",
              "5         212376\n",
              "         ...    \n",
              "378        98108\n",
              "379       111568\n",
              "380        45752\n",
              "381        57292\n",
              "0      0.0101168\n",
              "Length: 382, dtype: object"
            ]
          },
          "metadata": {
            "tags": []
          },
          "execution_count": 147
        },
        {
          "output_type": "execute_result",
          "data": {
            "text/plain": [
              "1           13318\n",
              "2            4057\n",
              "3           10483\n",
              "4           42999\n",
              "5          438681\n",
              "          ...    \n",
              "378         30643\n",
              "379         17895\n",
              "380         49389\n",
              "381        128465\n",
              "0      0.00178661\n",
              "Length: 382, dtype: object"
            ]
          },
          "metadata": {
            "tags": []
          },
          "execution_count": 147
        },
        {
          "output_type": "execute_result",
          "data": {
            "text/plain": [
              "1          50800\n",
              "2          11081\n",
              "3          10791\n",
              "4          61111\n",
              "5          64723\n",
              "         ...    \n",
              "378        34417\n",
              "379        42222\n",
              "380         9561\n",
              "381        13346\n",
              "0      0.0649954\n",
              "Length: 382, dtype: object"
            ]
          },
          "metadata": {
            "tags": []
          },
          "execution_count": 147
        },
        {
          "output_type": "execute_result",
          "data": {
            "text/plain": [
              "1         153784\n",
              "2          36663\n",
              "3          27744\n",
              "4         198300\n",
              "5         212376\n",
              "         ...    \n",
              "378        98108\n",
              "379       111568\n",
              "380        45752\n",
              "381        57292\n",
              "0      0.0464988\n",
              "Length: 382, dtype: object"
            ]
          },
          "metadata": {
            "tags": []
          },
          "execution_count": 147
        },
        {
          "output_type": "execute_result",
          "data": {
            "text/plain": [
              "1           13318\n",
              "2            4057\n",
              "3           10483\n",
              "4           42999\n",
              "5          438681\n",
              "          ...    \n",
              "378         30643\n",
              "379         17895\n",
              "380         49389\n",
              "381        128465\n",
              "0      0.00961316\n",
              "Length: 382, dtype: object"
            ]
          },
          "metadata": {
            "tags": []
          },
          "execution_count": 147
        },
        {
          "output_type": "execute_result",
          "data": {
            "text/plain": [
              "1          50800\n",
              "2          11081\n",
              "3          10791\n",
              "4          61111\n",
              "5          64723\n",
              "         ...    \n",
              "378        34417\n",
              "379        42222\n",
              "380         9561\n",
              "381        13346\n",
              "0      0.0274869\n",
              "Length: 382, dtype: object"
            ]
          },
          "metadata": {
            "tags": []
          },
          "execution_count": 147
        },
        {
          "output_type": "execute_result",
          "data": {
            "text/plain": [
              "1         153784\n",
              "2          36663\n",
              "3          27744\n",
              "4         198300\n",
              "5         212376\n",
              "         ...    \n",
              "378        98108\n",
              "379       111568\n",
              "380        45752\n",
              "381        57292\n",
              "0      0.0205898\n",
              "Length: 382, dtype: object"
            ]
          },
          "metadata": {
            "tags": []
          },
          "execution_count": 147
        },
        {
          "output_type": "execute_result",
          "data": {
            "text/plain": [
              "1           13318\n",
              "2            4057\n",
              "3           10483\n",
              "4           42999\n",
              "5          438681\n",
              "          ...    \n",
              "378         30643\n",
              "379         17895\n",
              "380         49389\n",
              "381        128465\n",
              "0      0.00348248\n",
              "Length: 382, dtype: object"
            ]
          },
          "metadata": {
            "tags": []
          },
          "execution_count": 147
        },
        {
          "output_type": "execute_result",
          "data": {
            "text/plain": [
              "1          50800\n",
              "2          11081\n",
              "3          10791\n",
              "4          61111\n",
              "5          64723\n",
              "         ...    \n",
              "378        34417\n",
              "379        42222\n",
              "380         9561\n",
              "381        13346\n",
              "0      0.0221319\n",
              "Length: 382, dtype: object"
            ]
          },
          "metadata": {
            "tags": []
          },
          "execution_count": 147
        },
        {
          "output_type": "execute_result",
          "data": {
            "text/plain": [
              "1        153784\n",
              "2         36663\n",
              "3         27744\n",
              "4        198300\n",
              "5        212376\n",
              "         ...   \n",
              "378       98108\n",
              "379      111568\n",
              "380       45752\n",
              "381       57292\n",
              "0      0.013674\n",
              "Length: 382, dtype: object"
            ]
          },
          "metadata": {
            "tags": []
          },
          "execution_count": 147
        },
        {
          "output_type": "execute_result",
          "data": {
            "text/plain": [
              "1          13318\n",
              "2           4057\n",
              "3          10483\n",
              "4          42999\n",
              "5         438681\n",
              "         ...    \n",
              "378        30643\n",
              "379        17895\n",
              "380        49389\n",
              "381       128465\n",
              "0      0.0018725\n",
              "Length: 382, dtype: object"
            ]
          },
          "metadata": {
            "tags": []
          },
          "execution_count": 147
        },
        {
          "output_type": "execute_result",
          "data": {
            "text/plain": [
              "1           50800\n",
              "2           11081\n",
              "3           10791\n",
              "4           61111\n",
              "5           64723\n",
              "          ...    \n",
              "378         34417\n",
              "379         42222\n",
              "380          9561\n",
              "381         13346\n",
              "0      0.00783121\n",
              "Length: 382, dtype: object"
            ]
          },
          "metadata": {
            "tags": []
          },
          "execution_count": 147
        },
        {
          "output_type": "execute_result",
          "data": {
            "text/plain": [
              "1          153784\n",
              "2           36663\n",
              "3           27744\n",
              "4          198300\n",
              "5          212376\n",
              "          ...    \n",
              "378         98108\n",
              "379        111568\n",
              "380         45752\n",
              "381         57292\n",
              "0      0.00710728\n",
              "Length: 382, dtype: object"
            ]
          },
          "metadata": {
            "tags": []
          },
          "execution_count": 147
        },
        {
          "output_type": "execute_result",
          "data": {
            "text/plain": [
              "1           13318\n",
              "2            4057\n",
              "3           10483\n",
              "4           42999\n",
              "5          438681\n",
              "          ...    \n",
              "378         30643\n",
              "379         17895\n",
              "380         49389\n",
              "381        128465\n",
              "0      0.00088301\n",
              "Length: 382, dtype: object"
            ]
          },
          "metadata": {
            "tags": []
          },
          "execution_count": 147
        },
        {
          "output_type": "execute_result",
          "data": {
            "text/plain": [
              "1          50800\n",
              "2          11081\n",
              "3          10791\n",
              "4          61111\n",
              "5          64723\n",
              "         ...    \n",
              "378        34417\n",
              "379        42222\n",
              "380         9561\n",
              "381        13346\n",
              "0      0.0101245\n",
              "Length: 382, dtype: object"
            ]
          },
          "metadata": {
            "tags": []
          },
          "execution_count": 147
        },
        {
          "output_type": "execute_result",
          "data": {
            "text/plain": [
              "1         153784\n",
              "2          36663\n",
              "3          27744\n",
              "4         198300\n",
              "5         212376\n",
              "         ...    \n",
              "378        98108\n",
              "379       111568\n",
              "380        45752\n",
              "381        57292\n",
              "0      0.0101188\n",
              "Length: 382, dtype: object"
            ]
          },
          "metadata": {
            "tags": []
          },
          "execution_count": 147
        },
        {
          "output_type": "execute_result",
          "data": {
            "text/plain": [
              "1          13318\n",
              "2           4057\n",
              "3          10483\n",
              "4          42999\n",
              "5         438681\n",
              "         ...    \n",
              "378        30643\n",
              "379        17895\n",
              "380        49389\n",
              "381       128465\n",
              "0      0.0135139\n",
              "Length: 382, dtype: object"
            ]
          },
          "metadata": {
            "tags": []
          },
          "execution_count": 147
        },
        {
          "output_type": "execute_result",
          "data": {
            "text/plain": [
              "1          50800\n",
              "2          11081\n",
              "3          10791\n",
              "4          61111\n",
              "5          64723\n",
              "         ...    \n",
              "378        34417\n",
              "379        42222\n",
              "380         9561\n",
              "381        13346\n",
              "0      0.0435874\n",
              "Length: 382, dtype: object"
            ]
          },
          "metadata": {
            "tags": []
          },
          "execution_count": 147
        },
        {
          "output_type": "execute_result",
          "data": {
            "text/plain": [
              "1         153784\n",
              "2          36663\n",
              "3          27744\n",
              "4         198300\n",
              "5         212376\n",
              "         ...    \n",
              "378        98108\n",
              "379       111568\n",
              "380        45752\n",
              "381        57292\n",
              "0      0.0282259\n",
              "Length: 382, dtype: object"
            ]
          },
          "metadata": {
            "tags": []
          },
          "execution_count": 147
        },
        {
          "output_type": "execute_result",
          "data": {
            "text/plain": [
              "1           13318\n",
              "2            4057\n",
              "3           10483\n",
              "4           42999\n",
              "5          438681\n",
              "          ...    \n",
              "378         30643\n",
              "379         17895\n",
              "380         49389\n",
              "381        128465\n",
              "0      0.00549529\n",
              "Length: 382, dtype: object"
            ]
          },
          "metadata": {
            "tags": []
          },
          "execution_count": 147
        },
        {
          "output_type": "execute_result",
          "data": {
            "text/plain": [
              "1          50800\n",
              "2          11081\n",
              "3          10791\n",
              "4          61111\n",
              "5          64723\n",
              "         ...    \n",
              "378        34417\n",
              "379        42222\n",
              "380         9561\n",
              "381        13346\n",
              "0      0.0103075\n",
              "Length: 382, dtype: object"
            ]
          },
          "metadata": {
            "tags": []
          },
          "execution_count": 147
        },
        {
          "output_type": "execute_result",
          "data": {
            "text/plain": [
              "1          153784\n",
              "2           36663\n",
              "3           27744\n",
              "4          198300\n",
              "5          212376\n",
              "          ...    \n",
              "378         98108\n",
              "379        111568\n",
              "380         45752\n",
              "381         57292\n",
              "0      0.00761223\n",
              "Length: 382, dtype: object"
            ]
          },
          "metadata": {
            "tags": []
          },
          "execution_count": 147
        },
        {
          "output_type": "execute_result",
          "data": {
            "text/plain": [
              "1           13318\n",
              "2            4057\n",
              "3           10483\n",
              "4           42999\n",
              "5          438681\n",
              "          ...    \n",
              "378         30643\n",
              "379         17895\n",
              "380         49389\n",
              "381        128465\n",
              "0      0.00251492\n",
              "Length: 382, dtype: object"
            ]
          },
          "metadata": {
            "tags": []
          },
          "execution_count": 147
        },
        {
          "output_type": "execute_result",
          "data": {
            "text/plain": [
              "1          50800\n",
              "2          11081\n",
              "3          10791\n",
              "4          61111\n",
              "5          64723\n",
              "         ...    \n",
              "378        34417\n",
              "379        42222\n",
              "380         9561\n",
              "381        13346\n",
              "0      0.0686158\n",
              "Length: 382, dtype: object"
            ]
          },
          "metadata": {
            "tags": []
          },
          "execution_count": 147
        },
        {
          "output_type": "execute_result",
          "data": {
            "text/plain": [
              "1         153784\n",
              "2          36663\n",
              "3          27744\n",
              "4         198300\n",
              "5         212376\n",
              "         ...    \n",
              "378        98108\n",
              "379       111568\n",
              "380        45752\n",
              "381        57292\n",
              "0      0.0586962\n",
              "Length: 382, dtype: object"
            ]
          },
          "metadata": {
            "tags": []
          },
          "execution_count": 147
        },
        {
          "output_type": "execute_result",
          "data": {
            "text/plain": [
              "1          13318\n",
              "2           4057\n",
              "3          10483\n",
              "4          42999\n",
              "5         438681\n",
              "         ...    \n",
              "378        30643\n",
              "379        17895\n",
              "380        49389\n",
              "381       128465\n",
              "0      0.0288726\n",
              "Length: 382, dtype: object"
            ]
          },
          "metadata": {
            "tags": []
          },
          "execution_count": 147
        },
        {
          "output_type": "execute_result",
          "data": {
            "text/plain": [
              "1           50800\n",
              "2           11081\n",
              "3           10791\n",
              "4           61111\n",
              "5           64723\n",
              "          ...    \n",
              "378         34417\n",
              "379         42222\n",
              "380          9561\n",
              "381         13346\n",
              "0      0.00950149\n",
              "Length: 382, dtype: object"
            ]
          },
          "metadata": {
            "tags": []
          },
          "execution_count": 147
        },
        {
          "output_type": "execute_result",
          "data": {
            "text/plain": [
              "1         153784\n",
              "2          36663\n",
              "3          27744\n",
              "4         198300\n",
              "5         212376\n",
              "         ...    \n",
              "378        98108\n",
              "379       111568\n",
              "380        45752\n",
              "381        57292\n",
              "0      0.0081446\n",
              "Length: 382, dtype: object"
            ]
          },
          "metadata": {
            "tags": []
          },
          "execution_count": 147
        },
        {
          "output_type": "execute_result",
          "data": {
            "text/plain": [
              "1            13318\n",
              "2             4057\n",
              "3            10483\n",
              "4            42999\n",
              "5           438681\n",
              "          ...     \n",
              "378          30643\n",
              "379          17895\n",
              "380          49389\n",
              "381         128465\n",
              "0      0.000673559\n",
              "Length: 382, dtype: object"
            ]
          },
          "metadata": {
            "tags": []
          },
          "execution_count": 147
        },
        {
          "output_type": "execute_result",
          "data": {
            "text/plain": [
              "1          50800\n",
              "2          11081\n",
              "3          10791\n",
              "4          61111\n",
              "5          64723\n",
              "         ...    \n",
              "378        34417\n",
              "379        42222\n",
              "380         9561\n",
              "381        13346\n",
              "0      0.0270152\n",
              "Length: 382, dtype: object"
            ]
          },
          "metadata": {
            "tags": []
          },
          "execution_count": 147
        },
        {
          "output_type": "execute_result",
          "data": {
            "text/plain": [
              "1         153784\n",
              "2          36663\n",
              "3          27744\n",
              "4         198300\n",
              "5         212376\n",
              "         ...    \n",
              "378        98108\n",
              "379       111568\n",
              "380        45752\n",
              "381        57292\n",
              "0      0.0169025\n",
              "Length: 382, dtype: object"
            ]
          },
          "metadata": {
            "tags": []
          },
          "execution_count": 147
        },
        {
          "output_type": "execute_result",
          "data": {
            "text/plain": [
              "1           13318\n",
              "2            4057\n",
              "3           10483\n",
              "4           42999\n",
              "5          438681\n",
              "          ...    \n",
              "378         30643\n",
              "379         17895\n",
              "380         49389\n",
              "381        128465\n",
              "0      0.00429635\n",
              "Length: 382, dtype: object"
            ]
          },
          "metadata": {
            "tags": []
          },
          "execution_count": 147
        },
        {
          "output_type": "execute_result",
          "data": {
            "text/plain": [
              "1          50800\n",
              "2          11081\n",
              "3          10791\n",
              "4          61111\n",
              "5          64723\n",
              "         ...    \n",
              "378        34417\n",
              "379        42222\n",
              "380         9561\n",
              "381        13346\n",
              "0      0.0151413\n",
              "Length: 382, dtype: object"
            ]
          },
          "metadata": {
            "tags": []
          },
          "execution_count": 147
        },
        {
          "output_type": "execute_result",
          "data": {
            "text/plain": [
              "1         153784\n",
              "2          36663\n",
              "3          27744\n",
              "4         198300\n",
              "5         212376\n",
              "         ...    \n",
              "378        98108\n",
              "379       111568\n",
              "380        45752\n",
              "381        57292\n",
              "0      0.0100339\n",
              "Length: 382, dtype: object"
            ]
          },
          "metadata": {
            "tags": []
          },
          "execution_count": 147
        },
        {
          "output_type": "execute_result",
          "data": {
            "text/plain": [
              "1           13318\n",
              "2            4057\n",
              "3           10483\n",
              "4           42999\n",
              "5          438681\n",
              "          ...    \n",
              "378         30643\n",
              "379         17895\n",
              "380         49389\n",
              "381        128465\n",
              "0      0.00398878\n",
              "Length: 382, dtype: object"
            ]
          },
          "metadata": {
            "tags": []
          },
          "execution_count": 147
        },
        {
          "output_type": "execute_result",
          "data": {
            "text/plain": [
              "1           50800\n",
              "2           11081\n",
              "3           10791\n",
              "4           61111\n",
              "5           64723\n",
              "          ...    \n",
              "378         34417\n",
              "379         42222\n",
              "380          9561\n",
              "381         13346\n",
              "0      0.00764332\n",
              "Length: 382, dtype: object"
            ]
          },
          "metadata": {
            "tags": []
          },
          "execution_count": 147
        },
        {
          "output_type": "execute_result",
          "data": {
            "text/plain": [
              "1          153784\n",
              "2           36663\n",
              "3           27744\n",
              "4          198300\n",
              "5          212376\n",
              "          ...    \n",
              "378         98108\n",
              "379        111568\n",
              "380         45752\n",
              "381         57292\n",
              "0      0.00548009\n",
              "Length: 382, dtype: object"
            ]
          },
          "metadata": {
            "tags": []
          },
          "execution_count": 147
        },
        {
          "output_type": "execute_result",
          "data": {
            "text/plain": [
              "1           13318\n",
              "2            4057\n",
              "3           10483\n",
              "4           42999\n",
              "5          438681\n",
              "          ...    \n",
              "378         30643\n",
              "379         17895\n",
              "380         49389\n",
              "381        128465\n",
              "0      0.00163509\n",
              "Length: 382, dtype: object"
            ]
          },
          "metadata": {
            "tags": []
          },
          "execution_count": 147
        },
        {
          "output_type": "execute_result",
          "data": {
            "text/plain": [
              "1          50800\n",
              "2          11081\n",
              "3          10791\n",
              "4          61111\n",
              "5          64723\n",
              "         ...    \n",
              "378        34417\n",
              "379        42222\n",
              "380         9561\n",
              "381        13346\n",
              "0      0.0117701\n",
              "Length: 382, dtype: object"
            ]
          },
          "metadata": {
            "tags": []
          },
          "execution_count": 147
        },
        {
          "output_type": "execute_result",
          "data": {
            "text/plain": [
              "1          153784\n",
              "2           36663\n",
              "3           27744\n",
              "4          198300\n",
              "5          212376\n",
              "          ...    \n",
              "378         98108\n",
              "379        111568\n",
              "380         45752\n",
              "381         57292\n",
              "0      0.00477321\n",
              "Length: 382, dtype: object"
            ]
          },
          "metadata": {
            "tags": []
          },
          "execution_count": 147
        },
        {
          "output_type": "execute_result",
          "data": {
            "text/plain": [
              "1           13318\n",
              "2            4057\n",
              "3           10483\n",
              "4           42999\n",
              "5          438681\n",
              "          ...    \n",
              "378         30643\n",
              "379         17895\n",
              "380         49389\n",
              "381        128465\n",
              "0      0.00126039\n",
              "Length: 382, dtype: object"
            ]
          },
          "metadata": {
            "tags": []
          },
          "execution_count": 147
        },
        {
          "output_type": "execute_result",
          "data": {
            "text/plain": [
              "1           50800\n",
              "2           11081\n",
              "3           10791\n",
              "4           61111\n",
              "5           64723\n",
              "          ...    \n",
              "378         34417\n",
              "379         42222\n",
              "380          9561\n",
              "381         13346\n",
              "0      0.00784209\n",
              "Length: 382, dtype: object"
            ]
          },
          "metadata": {
            "tags": []
          },
          "execution_count": 147
        },
        {
          "output_type": "execute_result",
          "data": {
            "text/plain": [
              "1         153784\n",
              "2          36663\n",
              "3          27744\n",
              "4         198300\n",
              "5         212376\n",
              "         ...    \n",
              "378        98108\n",
              "379       111568\n",
              "380        45752\n",
              "381        57292\n",
              "0      0.0043313\n",
              "Length: 382, dtype: object"
            ]
          },
          "metadata": {
            "tags": []
          },
          "execution_count": 147
        },
        {
          "output_type": "execute_result",
          "data": {
            "text/plain": [
              "1            13318\n",
              "2             4057\n",
              "3            10483\n",
              "4            42999\n",
              "5           438681\n",
              "          ...     \n",
              "378          30643\n",
              "379          17895\n",
              "380          49389\n",
              "381         128465\n",
              "0      0.000881168\n",
              "Length: 382, dtype: object"
            ]
          },
          "metadata": {
            "tags": []
          },
          "execution_count": 147
        },
        {
          "output_type": "execute_result",
          "data": {
            "text/plain": [
              "1          50800\n",
              "2          11081\n",
              "3          10791\n",
              "4          61111\n",
              "5          64723\n",
              "         ...    \n",
              "378        34417\n",
              "379        42222\n",
              "380         9561\n",
              "381        13346\n",
              "0      0.0115307\n",
              "Length: 382, dtype: object"
            ]
          },
          "metadata": {
            "tags": []
          },
          "execution_count": 147
        },
        {
          "output_type": "execute_result",
          "data": {
            "text/plain": [
              "1         153784\n",
              "2          36663\n",
              "3          27744\n",
              "4         198300\n",
              "5         212376\n",
              "         ...    \n",
              "378        98108\n",
              "379       111568\n",
              "380        45752\n",
              "381        57292\n",
              "0      0.0106333\n",
              "Length: 382, dtype: object"
            ]
          },
          "metadata": {
            "tags": []
          },
          "execution_count": 147
        },
        {
          "output_type": "execute_result",
          "data": {
            "text/plain": [
              "1           13318\n",
              "2            4057\n",
              "3           10483\n",
              "4           42999\n",
              "5          438681\n",
              "          ...    \n",
              "378         30643\n",
              "379         17895\n",
              "380         49389\n",
              "381        128465\n",
              "0      0.00167075\n",
              "Length: 382, dtype: object"
            ]
          },
          "metadata": {
            "tags": []
          },
          "execution_count": 147
        },
        {
          "output_type": "execute_result",
          "data": {
            "text/plain": [
              "1         50800\n",
              "2         11081\n",
              "3         10791\n",
              "4         61111\n",
              "5         64723\n",
              "         ...   \n",
              "378       34417\n",
              "379       42222\n",
              "380        9561\n",
              "381       13346\n",
              "0      0.401276\n",
              "Length: 382, dtype: object"
            ]
          },
          "metadata": {
            "tags": []
          },
          "execution_count": 147
        },
        {
          "output_type": "execute_result",
          "data": {
            "text/plain": [
              "1        153784\n",
              "2         36663\n",
              "3         27744\n",
              "4        198300\n",
              "5        212376\n",
              "         ...   \n",
              "378       98108\n",
              "379      111568\n",
              "380       45752\n",
              "381       57292\n",
              "0      0.397731\n",
              "Length: 382, dtype: object"
            ]
          },
          "metadata": {
            "tags": []
          },
          "execution_count": 147
        },
        {
          "output_type": "execute_result",
          "data": {
            "text/plain": [
              "1         13318\n",
              "2          4057\n",
              "3         10483\n",
              "4         42999\n",
              "5        438681\n",
              "         ...   \n",
              "378       30643\n",
              "379       17895\n",
              "380       49389\n",
              "381      128465\n",
              "0      0.407292\n",
              "Length: 382, dtype: object"
            ]
          },
          "metadata": {
            "tags": []
          },
          "execution_count": 147
        },
        {
          "output_type": "execute_result",
          "data": {
            "text/plain": [
              "1         50800\n",
              "2         11081\n",
              "3         10791\n",
              "4         61111\n",
              "5         64723\n",
              "         ...   \n",
              "378       34417\n",
              "379       42222\n",
              "380        9561\n",
              "381       13346\n",
              "0      0.023551\n",
              "Length: 382, dtype: object"
            ]
          },
          "metadata": {
            "tags": []
          },
          "execution_count": 147
        },
        {
          "output_type": "execute_result",
          "data": {
            "text/plain": [
              "1         153784\n",
              "2          36663\n",
              "3          27744\n",
              "4         198300\n",
              "5         212376\n",
              "         ...    \n",
              "378        98108\n",
              "379       111568\n",
              "380        45752\n",
              "381        57292\n",
              "0      0.0162744\n",
              "Length: 382, dtype: object"
            ]
          },
          "metadata": {
            "tags": []
          },
          "execution_count": 147
        },
        {
          "output_type": "execute_result",
          "data": {
            "text/plain": [
              "1            13318\n",
              "2             4057\n",
              "3            10483\n",
              "4            42999\n",
              "5           438681\n",
              "          ...     \n",
              "378          30643\n",
              "379          17895\n",
              "380          49389\n",
              "381         128465\n",
              "0      0.000687623\n",
              "Length: 382, dtype: object"
            ]
          },
          "metadata": {
            "tags": []
          },
          "execution_count": 147
        },
        {
          "output_type": "execute_result",
          "data": {
            "text/plain": [
              "1          50800\n",
              "2          11081\n",
              "3          10791\n",
              "4          61111\n",
              "5          64723\n",
              "         ...    \n",
              "378        34417\n",
              "379        42222\n",
              "380         9561\n",
              "381        13346\n",
              "0      0.0323879\n",
              "Length: 382, dtype: object"
            ]
          },
          "metadata": {
            "tags": []
          },
          "execution_count": 147
        },
        {
          "output_type": "execute_result",
          "data": {
            "text/plain": [
              "1         153784\n",
              "2          36663\n",
              "3          27744\n",
              "4         198300\n",
              "5         212376\n",
              "         ...    \n",
              "378        98108\n",
              "379       111568\n",
              "380        45752\n",
              "381        57292\n",
              "0      0.0236778\n",
              "Length: 382, dtype: object"
            ]
          },
          "metadata": {
            "tags": []
          },
          "execution_count": 147
        },
        {
          "output_type": "execute_result",
          "data": {
            "text/plain": [
              "1           13318\n",
              "2            4057\n",
              "3           10483\n",
              "4           42999\n",
              "5          438681\n",
              "          ...    \n",
              "378         30643\n",
              "379         17895\n",
              "380         49389\n",
              "381        128465\n",
              "0      0.00369294\n",
              "Length: 382, dtype: object"
            ]
          },
          "metadata": {
            "tags": []
          },
          "execution_count": 147
        },
        {
          "output_type": "execute_result",
          "data": {
            "text/plain": [
              "1          50800\n",
              "2          11081\n",
              "3          10791\n",
              "4          61111\n",
              "5          64723\n",
              "         ...    \n",
              "378        34417\n",
              "379        42222\n",
              "380         9561\n",
              "381        13346\n",
              "0      0.0106921\n",
              "Length: 382, dtype: object"
            ]
          },
          "metadata": {
            "tags": []
          },
          "execution_count": 147
        },
        {
          "output_type": "execute_result",
          "data": {
            "text/plain": [
              "1          153784\n",
              "2           36663\n",
              "3           27744\n",
              "4          198300\n",
              "5          212376\n",
              "          ...    \n",
              "378         98108\n",
              "379        111568\n",
              "380         45752\n",
              "381         57292\n",
              "0      0.00896318\n",
              "Length: 382, dtype: object"
            ]
          },
          "metadata": {
            "tags": []
          },
          "execution_count": 147
        },
        {
          "output_type": "execute_result",
          "data": {
            "text/plain": [
              "1           13318\n",
              "2            4057\n",
              "3           10483\n",
              "4           42999\n",
              "5          438681\n",
              "          ...    \n",
              "378         30643\n",
              "379         17895\n",
              "380         49389\n",
              "381        128465\n",
              "0      0.00283136\n",
              "Length: 382, dtype: object"
            ]
          },
          "metadata": {
            "tags": []
          },
          "execution_count": 147
        },
        {
          "output_type": "execute_result",
          "data": {
            "text/plain": [
              "1         50800\n",
              "2         11081\n",
              "3         10791\n",
              "4         61111\n",
              "5         64723\n",
              "         ...   \n",
              "378       34417\n",
              "379       42222\n",
              "380        9561\n",
              "381       13346\n",
              "0      0.145312\n",
              "Length: 382, dtype: object"
            ]
          },
          "metadata": {
            "tags": []
          },
          "execution_count": 147
        },
        {
          "output_type": "execute_result",
          "data": {
            "text/plain": [
              "1       153784\n",
              "2        36663\n",
              "3        27744\n",
              "4       198300\n",
              "5       212376\n",
              "        ...   \n",
              "378      98108\n",
              "379     111568\n",
              "380      45752\n",
              "381      57292\n",
              "0      0.10853\n",
              "Length: 382, dtype: object"
            ]
          },
          "metadata": {
            "tags": []
          },
          "execution_count": 147
        },
        {
          "output_type": "execute_result",
          "data": {
            "text/plain": [
              "1          13318\n",
              "2           4057\n",
              "3          10483\n",
              "4          42999\n",
              "5         438681\n",
              "         ...    \n",
              "378        30643\n",
              "379        17895\n",
              "380        49389\n",
              "381       128465\n",
              "0      0.0217076\n",
              "Length: 382, dtype: object"
            ]
          },
          "metadata": {
            "tags": []
          },
          "execution_count": 147
        },
        {
          "output_type": "execute_result",
          "data": {
            "text/plain": [
              "1          50800\n",
              "2          11081\n",
              "3          10791\n",
              "4          61111\n",
              "5          64723\n",
              "         ...    \n",
              "378        34417\n",
              "379        42222\n",
              "380         9561\n",
              "381        13346\n",
              "0      0.0112509\n",
              "Length: 382, dtype: object"
            ]
          },
          "metadata": {
            "tags": []
          },
          "execution_count": 147
        },
        {
          "output_type": "execute_result",
          "data": {
            "text/plain": [
              "1         153784\n",
              "2          36663\n",
              "3          27744\n",
              "4         198300\n",
              "5         212376\n",
              "         ...    \n",
              "378        98108\n",
              "379       111568\n",
              "380        45752\n",
              "381        57292\n",
              "0      0.0107492\n",
              "Length: 382, dtype: object"
            ]
          },
          "metadata": {
            "tags": []
          },
          "execution_count": 147
        },
        {
          "output_type": "execute_result",
          "data": {
            "text/plain": [
              "1           13318\n",
              "2            4057\n",
              "3           10483\n",
              "4           42999\n",
              "5          438681\n",
              "          ...    \n",
              "378         30643\n",
              "379         17895\n",
              "380         49389\n",
              "381        128465\n",
              "0      0.00153514\n",
              "Length: 382, dtype: object"
            ]
          },
          "metadata": {
            "tags": []
          },
          "execution_count": 147
        },
        {
          "output_type": "execute_result",
          "data": {
            "text/plain": [
              "1           50800\n",
              "2           11081\n",
              "3           10791\n",
              "4           61111\n",
              "5           64723\n",
              "          ...    \n",
              "378         34417\n",
              "379         42222\n",
              "380          9561\n",
              "381         13346\n",
              "0      0.00695602\n",
              "Length: 382, dtype: object"
            ]
          },
          "metadata": {
            "tags": []
          },
          "execution_count": 147
        },
        {
          "output_type": "execute_result",
          "data": {
            "text/plain": [
              "1          153784\n",
              "2           36663\n",
              "3           27744\n",
              "4          198300\n",
              "5          212376\n",
              "          ...    \n",
              "378         98108\n",
              "379        111568\n",
              "380         45752\n",
              "381         57292\n",
              "0      0.00649883\n",
              "Length: 382, dtype: object"
            ]
          },
          "metadata": {
            "tags": []
          },
          "execution_count": 147
        },
        {
          "output_type": "execute_result",
          "data": {
            "text/plain": [
              "1            13318\n",
              "2             4057\n",
              "3            10483\n",
              "4            42999\n",
              "5           438681\n",
              "          ...     \n",
              "378          30643\n",
              "379          17895\n",
              "380          49389\n",
              "381         128465\n",
              "0      0.000841321\n",
              "Length: 382, dtype: object"
            ]
          },
          "metadata": {
            "tags": []
          },
          "execution_count": 147
        },
        {
          "output_type": "execute_result",
          "data": {
            "text/plain": [
              "1          50800\n",
              "2          11081\n",
              "3          10791\n",
              "4          61111\n",
              "5          64723\n",
              "         ...    \n",
              "378        34417\n",
              "379        42222\n",
              "380         9561\n",
              "381        13346\n",
              "0      0.0125533\n",
              "Length: 382, dtype: object"
            ]
          },
          "metadata": {
            "tags": []
          },
          "execution_count": 147
        },
        {
          "output_type": "execute_result",
          "data": {
            "text/plain": [
              "1          153784\n",
              "2           36663\n",
              "3           27744\n",
              "4          198300\n",
              "5          212376\n",
              "          ...    \n",
              "378         98108\n",
              "379        111568\n",
              "380         45752\n",
              "381         57292\n",
              "0      0.00783385\n",
              "Length: 382, dtype: object"
            ]
          },
          "metadata": {
            "tags": []
          },
          "execution_count": 147
        },
        {
          "output_type": "execute_result",
          "data": {
            "text/plain": [
              "1            13318\n",
              "2             4057\n",
              "3            10483\n",
              "4            42999\n",
              "5           438681\n",
              "          ...     \n",
              "378          30643\n",
              "379          17895\n",
              "380          49389\n",
              "381         128465\n",
              "0      0.000904776\n",
              "Length: 382, dtype: object"
            ]
          },
          "metadata": {
            "tags": []
          },
          "execution_count": 147
        },
        {
          "output_type": "execute_result",
          "data": {
            "text/plain": [
              "1         50800\n",
              "2         11081\n",
              "3         10791\n",
              "4         61111\n",
              "5         64723\n",
              "         ...   \n",
              "378       34417\n",
              "379       42222\n",
              "380        9561\n",
              "381       13346\n",
              "0      0.039248\n",
              "Length: 382, dtype: object"
            ]
          },
          "metadata": {
            "tags": []
          },
          "execution_count": 147
        },
        {
          "output_type": "execute_result",
          "data": {
            "text/plain": [
              "1         153784\n",
              "2          36663\n",
              "3          27744\n",
              "4         198300\n",
              "5         212376\n",
              "         ...    \n",
              "378        98108\n",
              "379       111568\n",
              "380        45752\n",
              "381        57292\n",
              "0      0.0304821\n",
              "Length: 382, dtype: object"
            ]
          },
          "metadata": {
            "tags": []
          },
          "execution_count": 147
        },
        {
          "output_type": "execute_result",
          "data": {
            "text/plain": [
              "1           13318\n",
              "2            4057\n",
              "3           10483\n",
              "4           42999\n",
              "5          438681\n",
              "          ...    \n",
              "378         30643\n",
              "379         17895\n",
              "380         49389\n",
              "381        128465\n",
              "0      0.00218844\n",
              "Length: 382, dtype: object"
            ]
          },
          "metadata": {
            "tags": []
          },
          "execution_count": 147
        },
        {
          "output_type": "execute_result",
          "data": {
            "text/plain": [
              "1           50800\n",
              "2           11081\n",
              "3           10791\n",
              "4           61111\n",
              "5           64723\n",
              "          ...    \n",
              "378         34417\n",
              "379         42222\n",
              "380          9561\n",
              "381         13346\n",
              "0      0.00796867\n",
              "Length: 382, dtype: object"
            ]
          },
          "metadata": {
            "tags": []
          },
          "execution_count": 147
        },
        {
          "output_type": "execute_result",
          "data": {
            "text/plain": [
              "1          153784\n",
              "2           36663\n",
              "3           27744\n",
              "4          198300\n",
              "5          212376\n",
              "          ...    \n",
              "378         98108\n",
              "379        111568\n",
              "380         45752\n",
              "381         57292\n",
              "0      0.00647959\n",
              "Length: 382, dtype: object"
            ]
          },
          "metadata": {
            "tags": []
          },
          "execution_count": 147
        },
        {
          "output_type": "execute_result",
          "data": {
            "text/plain": [
              "1            13318\n",
              "2             4057\n",
              "3            10483\n",
              "4            42999\n",
              "5           438681\n",
              "          ...     \n",
              "378          30643\n",
              "379          17895\n",
              "380          49389\n",
              "381         128465\n",
              "0      0.000914486\n",
              "Length: 382, dtype: object"
            ]
          },
          "metadata": {
            "tags": []
          },
          "execution_count": 147
        },
        {
          "output_type": "execute_result",
          "data": {
            "text/plain": [
              "1         50800\n",
              "2         11081\n",
              "3         10791\n",
              "4         61111\n",
              "5         64723\n",
              "         ...   \n",
              "378       34417\n",
              "379       42222\n",
              "380        9561\n",
              "381       13346\n",
              "0      0.110588\n",
              "Length: 382, dtype: object"
            ]
          },
          "metadata": {
            "tags": []
          },
          "execution_count": 147
        },
        {
          "output_type": "execute_result",
          "data": {
            "text/plain": [
              "1         153784\n",
              "2          36663\n",
              "3          27744\n",
              "4         198300\n",
              "5         212376\n",
              "         ...    \n",
              "378        98108\n",
              "379       111568\n",
              "380        45752\n",
              "381        57292\n",
              "0      0.0781385\n",
              "Length: 382, dtype: object"
            ]
          },
          "metadata": {
            "tags": []
          },
          "execution_count": 147
        },
        {
          "output_type": "execute_result",
          "data": {
            "text/plain": [
              "1          13318\n",
              "2           4057\n",
              "3          10483\n",
              "4          42999\n",
              "5         438681\n",
              "         ...    \n",
              "378        30643\n",
              "379        17895\n",
              "380        49389\n",
              "381       128465\n",
              "0      0.0198635\n",
              "Length: 382, dtype: object"
            ]
          },
          "metadata": {
            "tags": []
          },
          "execution_count": 147
        },
        {
          "output_type": "execute_result",
          "data": {
            "text/plain": [
              "1          50800\n",
              "2          11081\n",
              "3          10791\n",
              "4          61111\n",
              "5          64723\n",
              "         ...    \n",
              "378        34417\n",
              "379        42222\n",
              "380         9561\n",
              "381        13346\n",
              "0      0.0136124\n",
              "Length: 382, dtype: object"
            ]
          },
          "metadata": {
            "tags": []
          },
          "execution_count": 147
        },
        {
          "output_type": "execute_result",
          "data": {
            "text/plain": [
              "1         153784\n",
              "2          36663\n",
              "3          27744\n",
              "4         198300\n",
              "5         212376\n",
              "         ...    \n",
              "378        98108\n",
              "379       111568\n",
              "380        45752\n",
              "381        57292\n",
              "0      0.0166557\n",
              "Length: 382, dtype: object"
            ]
          },
          "metadata": {
            "tags": []
          },
          "execution_count": 147
        },
        {
          "output_type": "execute_result",
          "data": {
            "text/plain": [
              "1           13318\n",
              "2            4057\n",
              "3           10483\n",
              "4           42999\n",
              "5          438681\n",
              "          ...    \n",
              "378         30643\n",
              "379         17895\n",
              "380         49389\n",
              "381        128465\n",
              "0      0.00393018\n",
              "Length: 382, dtype: object"
            ]
          },
          "metadata": {
            "tags": []
          },
          "execution_count": 147
        },
        {
          "output_type": "execute_result",
          "data": {
            "text/plain": [
              "1         50800\n",
              "2         11081\n",
              "3         10791\n",
              "4         61111\n",
              "5         64723\n",
              "         ...   \n",
              "378       34417\n",
              "379       42222\n",
              "380        9561\n",
              "381       13346\n",
              "0      0.013296\n",
              "Length: 382, dtype: object"
            ]
          },
          "metadata": {
            "tags": []
          },
          "execution_count": 147
        },
        {
          "output_type": "execute_result",
          "data": {
            "text/plain": [
              "1          153784\n",
              "2           36663\n",
              "3           27744\n",
              "4          198300\n",
              "5          212376\n",
              "          ...    \n",
              "378         98108\n",
              "379        111568\n",
              "380         45752\n",
              "381         57292\n",
              "0      0.00837352\n",
              "Length: 382, dtype: object"
            ]
          },
          "metadata": {
            "tags": []
          },
          "execution_count": 147
        },
        {
          "output_type": "execute_result",
          "data": {
            "text/plain": [
              "1           13318\n",
              "2            4057\n",
              "3           10483\n",
              "4           42999\n",
              "5          438681\n",
              "          ...    \n",
              "378         30643\n",
              "379         17895\n",
              "380         49389\n",
              "381        128465\n",
              "0      0.00227249\n",
              "Length: 382, dtype: object"
            ]
          },
          "metadata": {
            "tags": []
          },
          "execution_count": 147
        },
        {
          "output_type": "execute_result",
          "data": {
            "text/plain": [
              "1          50800\n",
              "2          11081\n",
              "3          10791\n",
              "4          61111\n",
              "5          64723\n",
              "         ...    \n",
              "378        34417\n",
              "379        42222\n",
              "380         9561\n",
              "381        13346\n",
              "0      0.0123644\n",
              "Length: 382, dtype: object"
            ]
          },
          "metadata": {
            "tags": []
          },
          "execution_count": 147
        },
        {
          "output_type": "execute_result",
          "data": {
            "text/plain": [
              "1          153784\n",
              "2           36663\n",
              "3           27744\n",
              "4          198300\n",
              "5          212376\n",
              "          ...    \n",
              "378         98108\n",
              "379        111568\n",
              "380         45752\n",
              "381         57292\n",
              "0      0.00775069\n",
              "Length: 382, dtype: object"
            ]
          },
          "metadata": {
            "tags": []
          },
          "execution_count": 147
        },
        {
          "output_type": "execute_result",
          "data": {
            "text/plain": [
              "1            13318\n",
              "2             4057\n",
              "3            10483\n",
              "4            42999\n",
              "5           438681\n",
              "          ...     \n",
              "378          30643\n",
              "379          17895\n",
              "380          49389\n",
              "381         128465\n",
              "0      0.000644092\n",
              "Length: 382, dtype: object"
            ]
          },
          "metadata": {
            "tags": []
          },
          "execution_count": 147
        },
        {
          "output_type": "execute_result",
          "data": {
            "text/plain": [
              "1          50800\n",
              "2          11081\n",
              "3          10791\n",
              "4          61111\n",
              "5          64723\n",
              "         ...    \n",
              "378        34417\n",
              "379        42222\n",
              "380         9561\n",
              "381        13346\n",
              "0      0.0158355\n",
              "Length: 382, dtype: object"
            ]
          },
          "metadata": {
            "tags": []
          },
          "execution_count": 147
        },
        {
          "output_type": "execute_result",
          "data": {
            "text/plain": [
              "1          153784\n",
              "2           36663\n",
              "3           27744\n",
              "4          198300\n",
              "5          212376\n",
              "          ...    \n",
              "378         98108\n",
              "379        111568\n",
              "380         45752\n",
              "381         57292\n",
              "0      0.00920979\n",
              "Length: 382, dtype: object"
            ]
          },
          "metadata": {
            "tags": []
          },
          "execution_count": 147
        },
        {
          "output_type": "execute_result",
          "data": {
            "text/plain": [
              "1            13318\n",
              "2             4057\n",
              "3            10483\n",
              "4            42999\n",
              "5           438681\n",
              "          ...     \n",
              "378          30643\n",
              "379          17895\n",
              "380          49389\n",
              "381         128465\n",
              "0      0.000986145\n",
              "Length: 382, dtype: object"
            ]
          },
          "metadata": {
            "tags": []
          },
          "execution_count": 147
        },
        {
          "output_type": "execute_result",
          "data": {
            "text/plain": [
              "1           50800\n",
              "2           11081\n",
              "3           10791\n",
              "4           61111\n",
              "5           64723\n",
              "          ...    \n",
              "378         34417\n",
              "379         42222\n",
              "380          9561\n",
              "381         13346\n",
              "0      0.00979421\n",
              "Length: 382, dtype: object"
            ]
          },
          "metadata": {
            "tags": []
          },
          "execution_count": 147
        },
        {
          "output_type": "execute_result",
          "data": {
            "text/plain": [
              "1          153784\n",
              "2           36663\n",
              "3           27744\n",
              "4          198300\n",
              "5          212376\n",
              "          ...    \n",
              "378         98108\n",
              "379        111568\n",
              "380         45752\n",
              "381         57292\n",
              "0      0.00574439\n",
              "Length: 382, dtype: object"
            ]
          },
          "metadata": {
            "tags": []
          },
          "execution_count": 147
        },
        {
          "output_type": "execute_result",
          "data": {
            "text/plain": [
              "1            13318\n",
              "2             4057\n",
              "3            10483\n",
              "4            42999\n",
              "5           438681\n",
              "          ...     \n",
              "378          30643\n",
              "379          17895\n",
              "380          49389\n",
              "381         128465\n",
              "0      0.000350927\n",
              "Length: 382, dtype: object"
            ]
          },
          "metadata": {
            "tags": []
          },
          "execution_count": 147
        },
        {
          "output_type": "execute_result",
          "data": {
            "text/plain": [
              "1           50800\n",
              "2           11081\n",
              "3           10791\n",
              "4           61111\n",
              "5           64723\n",
              "          ...    \n",
              "378         34417\n",
              "379         42222\n",
              "380          9561\n",
              "381         13346\n",
              "0      0.00905648\n",
              "Length: 382, dtype: object"
            ]
          },
          "metadata": {
            "tags": []
          },
          "execution_count": 147
        },
        {
          "output_type": "execute_result",
          "data": {
            "text/plain": [
              "1          153784\n",
              "2           36663\n",
              "3           27744\n",
              "4          198300\n",
              "5          212376\n",
              "          ...    \n",
              "378         98108\n",
              "379        111568\n",
              "380         45752\n",
              "381         57292\n",
              "0      0.00753526\n",
              "Length: 382, dtype: object"
            ]
          },
          "metadata": {
            "tags": []
          },
          "execution_count": 147
        },
        {
          "output_type": "execute_result",
          "data": {
            "text/plain": [
              "1            13318\n",
              "2             4057\n",
              "3            10483\n",
              "4            42999\n",
              "5           438681\n",
              "          ...     \n",
              "378          30643\n",
              "379          17895\n",
              "380          49389\n",
              "381         128465\n",
              "0      0.000967561\n",
              "Length: 382, dtype: object"
            ]
          },
          "metadata": {
            "tags": []
          },
          "execution_count": 147
        },
        {
          "output_type": "execute_result",
          "data": {
            "text/plain": [
              "1          50800\n",
              "2          11081\n",
              "3          10791\n",
              "4          61111\n",
              "5          64723\n",
              "         ...    \n",
              "378        34417\n",
              "379        42222\n",
              "380         9561\n",
              "381        13346\n",
              "0      0.0141197\n",
              "Length: 382, dtype: object"
            ]
          },
          "metadata": {
            "tags": []
          },
          "execution_count": 147
        },
        {
          "output_type": "execute_result",
          "data": {
            "text/plain": [
              "1          153784\n",
              "2           36663\n",
              "3           27744\n",
              "4          198300\n",
              "5          212376\n",
              "          ...    \n",
              "378         98108\n",
              "379        111568\n",
              "380         45752\n",
              "381         57292\n",
              "0      0.00961388\n",
              "Length: 382, dtype: object"
            ]
          },
          "metadata": {
            "tags": []
          },
          "execution_count": 147
        },
        {
          "output_type": "execute_result",
          "data": {
            "text/plain": [
              "1           13318\n",
              "2            4057\n",
              "3           10483\n",
              "4           42999\n",
              "5          438681\n",
              "          ...    \n",
              "378         30643\n",
              "379         17895\n",
              "380         49389\n",
              "381        128465\n",
              "0      0.00202721\n",
              "Length: 382, dtype: object"
            ]
          },
          "metadata": {
            "tags": []
          },
          "execution_count": 147
        },
        {
          "output_type": "execute_result",
          "data": {
            "text/plain": [
              "1           50800\n",
              "2           11081\n",
              "3           10791\n",
              "4           61111\n",
              "5           64723\n",
              "          ...    \n",
              "378         34417\n",
              "379         42222\n",
              "380          9561\n",
              "381         13346\n",
              "0      0.00781341\n",
              "Length: 382, dtype: object"
            ]
          },
          "metadata": {
            "tags": []
          },
          "execution_count": 147
        },
        {
          "output_type": "execute_result",
          "data": {
            "text/plain": [
              "1          153784\n",
              "2           36663\n",
              "3           27744\n",
              "4          198300\n",
              "5          212376\n",
              "          ...    \n",
              "378         98108\n",
              "379        111568\n",
              "380         45752\n",
              "381         57292\n",
              "0      0.00736761\n",
              "Length: 382, dtype: object"
            ]
          },
          "metadata": {
            "tags": []
          },
          "execution_count": 147
        },
        {
          "output_type": "execute_result",
          "data": {
            "text/plain": [
              "1           13318\n",
              "2            4057\n",
              "3           10483\n",
              "4           42999\n",
              "5          438681\n",
              "          ...    \n",
              "378         30643\n",
              "379         17895\n",
              "380         49389\n",
              "381        128465\n",
              "0      0.00303612\n",
              "Length: 382, dtype: object"
            ]
          },
          "metadata": {
            "tags": []
          },
          "execution_count": 147
        },
        {
          "output_type": "execute_result",
          "data": {
            "text/plain": [
              "1          50800\n",
              "2          11081\n",
              "3          10791\n",
              "4          61111\n",
              "5          64723\n",
              "         ...    \n",
              "378        34417\n",
              "379        42222\n",
              "380         9561\n",
              "381        13346\n",
              "0      0.0254675\n",
              "Length: 382, dtype: object"
            ]
          },
          "metadata": {
            "tags": []
          },
          "execution_count": 147
        },
        {
          "output_type": "execute_result",
          "data": {
            "text/plain": [
              "1         153784\n",
              "2          36663\n",
              "3          27744\n",
              "4         198300\n",
              "5         212376\n",
              "         ...    \n",
              "378        98108\n",
              "379       111568\n",
              "380        45752\n",
              "381        57292\n",
              "0      0.0188077\n",
              "Length: 382, dtype: object"
            ]
          },
          "metadata": {
            "tags": []
          },
          "execution_count": 147
        },
        {
          "output_type": "execute_result",
          "data": {
            "text/plain": [
              "1          13318\n",
              "2           4057\n",
              "3          10483\n",
              "4          42999\n",
              "5         438681\n",
              "         ...    \n",
              "378        30643\n",
              "379        17895\n",
              "380        49389\n",
              "381       128465\n",
              "0      0.0034562\n",
              "Length: 382, dtype: object"
            ]
          },
          "metadata": {
            "tags": []
          },
          "execution_count": 147
        },
        {
          "output_type": "execute_result",
          "data": {
            "text/plain": [
              "1           50800\n",
              "2           11081\n",
              "3           10791\n",
              "4           61111\n",
              "5           64723\n",
              "          ...    \n",
              "378         34417\n",
              "379         42222\n",
              "380          9561\n",
              "381         13346\n",
              "0      0.00610753\n",
              "Length: 382, dtype: object"
            ]
          },
          "metadata": {
            "tags": []
          },
          "execution_count": 147
        },
        {
          "output_type": "execute_result",
          "data": {
            "text/plain": [
              "1          153784\n",
              "2           36663\n",
              "3           27744\n",
              "4          198300\n",
              "5          212376\n",
              "          ...    \n",
              "378         98108\n",
              "379        111568\n",
              "380         45752\n",
              "381         57292\n",
              "0      0.00582004\n",
              "Length: 382, dtype: object"
            ]
          },
          "metadata": {
            "tags": []
          },
          "execution_count": 147
        },
        {
          "output_type": "execute_result",
          "data": {
            "text/plain": [
              "1           13318\n",
              "2            4057\n",
              "3           10483\n",
              "4           42999\n",
              "5          438681\n",
              "          ...    \n",
              "378         30643\n",
              "379         17895\n",
              "380         49389\n",
              "381        128465\n",
              "0      0.00186547\n",
              "Length: 382, dtype: object"
            ]
          },
          "metadata": {
            "tags": []
          },
          "execution_count": 147
        },
        {
          "output_type": "execute_result",
          "data": {
            "text/plain": [
              "1         50800\n",
              "2         11081\n",
              "3         10791\n",
              "4         61111\n",
              "5         64723\n",
              "         ...   \n",
              "378       34417\n",
              "379       42222\n",
              "380        9561\n",
              "381       13346\n",
              "0      0.148445\n",
              "Length: 382, dtype: object"
            ]
          },
          "metadata": {
            "tags": []
          },
          "execution_count": 147
        },
        {
          "output_type": "execute_result",
          "data": {
            "text/plain": [
              "1        153784\n",
              "2         36663\n",
              "3         27744\n",
              "4        198300\n",
              "5        212376\n",
              "         ...   \n",
              "378       98108\n",
              "379      111568\n",
              "380       45752\n",
              "381       57292\n",
              "0      0.111124\n",
              "Length: 382, dtype: object"
            ]
          },
          "metadata": {
            "tags": []
          },
          "execution_count": 147
        },
        {
          "output_type": "execute_result",
          "data": {
            "text/plain": [
              "1          13318\n",
              "2           4057\n",
              "3          10483\n",
              "4          42999\n",
              "5         438681\n",
              "         ...    \n",
              "378        30643\n",
              "379        17895\n",
              "380        49389\n",
              "381       128465\n",
              "0      0.0308364\n",
              "Length: 382, dtype: object"
            ]
          },
          "metadata": {
            "tags": []
          },
          "execution_count": 147
        },
        {
          "output_type": "execute_result",
          "data": {
            "text/plain": [
              "1          50800\n",
              "2          11081\n",
              "3          10791\n",
              "4          61111\n",
              "5          64723\n",
              "         ...    \n",
              "378        34417\n",
              "379        42222\n",
              "380         9561\n",
              "381        13346\n",
              "0      0.0202342\n",
              "Length: 382, dtype: object"
            ]
          },
          "metadata": {
            "tags": []
          },
          "execution_count": 147
        },
        {
          "output_type": "execute_result",
          "data": {
            "text/plain": [
              "1         153784\n",
              "2          36663\n",
              "3          27744\n",
              "4         198300\n",
              "5         212376\n",
              "         ...    \n",
              "378        98108\n",
              "379       111568\n",
              "380        45752\n",
              "381        57292\n",
              "0      0.0170983\n",
              "Length: 382, dtype: object"
            ]
          },
          "metadata": {
            "tags": []
          },
          "execution_count": 147
        },
        {
          "output_type": "execute_result",
          "data": {
            "text/plain": [
              "1          13318\n",
              "2           4057\n",
              "3          10483\n",
              "4          42999\n",
              "5         438681\n",
              "         ...    \n",
              "378        30643\n",
              "379        17895\n",
              "380        49389\n",
              "381       128465\n",
              "0      0.0144813\n",
              "Length: 382, dtype: object"
            ]
          },
          "metadata": {
            "tags": []
          },
          "execution_count": 147
        },
        {
          "output_type": "execute_result",
          "data": {
            "text/plain": [
              "1          50800\n",
              "2          11081\n",
              "3          10791\n",
              "4          61111\n",
              "5          64723\n",
              "         ...    \n",
              "378        34417\n",
              "379        42222\n",
              "380         9561\n",
              "381        13346\n",
              "0      0.0297357\n",
              "Length: 382, dtype: object"
            ]
          },
          "metadata": {
            "tags": []
          },
          "execution_count": 147
        },
        {
          "output_type": "execute_result",
          "data": {
            "text/plain": [
              "1         153784\n",
              "2          36663\n",
              "3          27744\n",
              "4         198300\n",
              "5         212376\n",
              "         ...    \n",
              "378        98108\n",
              "379       111568\n",
              "380        45752\n",
              "381        57292\n",
              "0      0.0283427\n",
              "Length: 382, dtype: object"
            ]
          },
          "metadata": {
            "tags": []
          },
          "execution_count": 147
        },
        {
          "output_type": "execute_result",
          "data": {
            "text/plain": [
              "1         13318\n",
              "2          4057\n",
              "3         10483\n",
              "4         42999\n",
              "5        438681\n",
              "         ...   \n",
              "378       30643\n",
              "379       17895\n",
              "380       49389\n",
              "381      128465\n",
              "0      0.016448\n",
              "Length: 382, dtype: object"
            ]
          },
          "metadata": {
            "tags": []
          },
          "execution_count": 147
        },
        {
          "output_type": "execute_result",
          "data": {
            "text/plain": [
              "1          50800\n",
              "2          11081\n",
              "3          10791\n",
              "4          61111\n",
              "5          64723\n",
              "         ...    \n",
              "378        34417\n",
              "379        42222\n",
              "380         9561\n",
              "381        13346\n",
              "0      0.0210105\n",
              "Length: 382, dtype: object"
            ]
          },
          "metadata": {
            "tags": []
          },
          "execution_count": 147
        },
        {
          "output_type": "execute_result",
          "data": {
            "text/plain": [
              "1         153784\n",
              "2          36663\n",
              "3          27744\n",
              "4         198300\n",
              "5         212376\n",
              "         ...    \n",
              "378        98108\n",
              "379       111568\n",
              "380        45752\n",
              "381        57292\n",
              "0      0.0133166\n",
              "Length: 382, dtype: object"
            ]
          },
          "metadata": {
            "tags": []
          },
          "execution_count": 147
        },
        {
          "output_type": "execute_result",
          "data": {
            "text/plain": [
              "1            13318\n",
              "2             4057\n",
              "3            10483\n",
              "4            42999\n",
              "5           438681\n",
              "          ...     \n",
              "378          30643\n",
              "379          17895\n",
              "380          49389\n",
              "381         128465\n",
              "0      0.000795278\n",
              "Length: 382, dtype: object"
            ]
          },
          "metadata": {
            "tags": []
          },
          "execution_count": 147
        },
        {
          "output_type": "execute_result",
          "data": {
            "text/plain": [
              "1          50800\n",
              "2          11081\n",
              "3          10791\n",
              "4          61111\n",
              "5          64723\n",
              "         ...    \n",
              "378        34417\n",
              "379        42222\n",
              "380         9561\n",
              "381        13346\n",
              "0      0.0124326\n",
              "Length: 382, dtype: object"
            ]
          },
          "metadata": {
            "tags": []
          },
          "execution_count": 147
        },
        {
          "output_type": "execute_result",
          "data": {
            "text/plain": [
              "1          153784\n",
              "2           36663\n",
              "3           27744\n",
              "4          198300\n",
              "5          212376\n",
              "          ...    \n",
              "378         98108\n",
              "379        111568\n",
              "380         45752\n",
              "381         57292\n",
              "0      0.00797584\n",
              "Length: 382, dtype: object"
            ]
          },
          "metadata": {
            "tags": []
          },
          "execution_count": 147
        },
        {
          "output_type": "execute_result",
          "data": {
            "text/plain": [
              "1          13318\n",
              "2           4057\n",
              "3          10483\n",
              "4          42999\n",
              "5         438681\n",
              "         ...    \n",
              "378        30643\n",
              "379        17895\n",
              "380        49389\n",
              "381       128465\n",
              "0      0.0029658\n",
              "Length: 382, dtype: object"
            ]
          },
          "metadata": {
            "tags": []
          },
          "execution_count": 147
        },
        {
          "output_type": "execute_result",
          "data": {
            "text/plain": [
              "1          50800\n",
              "2          11081\n",
              "3          10791\n",
              "4          61111\n",
              "5          64723\n",
              "         ...    \n",
              "378        34417\n",
              "379        42222\n",
              "380         9561\n",
              "381        13346\n",
              "0      0.0647205\n",
              "Length: 382, dtype: object"
            ]
          },
          "metadata": {
            "tags": []
          },
          "execution_count": 147
        },
        {
          "output_type": "execute_result",
          "data": {
            "text/plain": [
              "1         153784\n",
              "2          36663\n",
              "3          27744\n",
              "4         198300\n",
              "5         212376\n",
              "         ...    \n",
              "378        98108\n",
              "379       111568\n",
              "380        45752\n",
              "381        57292\n",
              "0      0.0424298\n",
              "Length: 382, dtype: object"
            ]
          },
          "metadata": {
            "tags": []
          },
          "execution_count": 147
        },
        {
          "output_type": "execute_result",
          "data": {
            "text/plain": [
              "1           13318\n",
              "2            4057\n",
              "3           10483\n",
              "4           42999\n",
              "5          438681\n",
              "          ...    \n",
              "378         30643\n",
              "379         17895\n",
              "380         49389\n",
              "381        128465\n",
              "0      0.00515809\n",
              "Length: 382, dtype: object"
            ]
          },
          "metadata": {
            "tags": []
          },
          "execution_count": 147
        },
        {
          "output_type": "execute_result",
          "data": {
            "text/plain": [
              "1           50800\n",
              "2           11081\n",
              "3           10791\n",
              "4           61111\n",
              "5           64723\n",
              "          ...    \n",
              "378         34417\n",
              "379         42222\n",
              "380          9561\n",
              "381         13346\n",
              "0      0.00711128\n",
              "Length: 382, dtype: object"
            ]
          },
          "metadata": {
            "tags": []
          },
          "execution_count": 147
        },
        {
          "output_type": "execute_result",
          "data": {
            "text/plain": [
              "1          153784\n",
              "2           36663\n",
              "3           27744\n",
              "4          198300\n",
              "5          212376\n",
              "          ...    \n",
              "378         98108\n",
              "379        111568\n",
              "380         45752\n",
              "381         57292\n",
              "0      0.00397653\n",
              "Length: 382, dtype: object"
            ]
          },
          "metadata": {
            "tags": []
          },
          "execution_count": 147
        },
        {
          "output_type": "execute_result",
          "data": {
            "text/plain": [
              "1            13318\n",
              "2             4057\n",
              "3            10483\n",
              "4            42999\n",
              "5           438681\n",
              "          ...     \n",
              "378          30643\n",
              "379          17895\n",
              "380          49389\n",
              "381         128465\n",
              "0      0.000435645\n",
              "Length: 382, dtype: object"
            ]
          },
          "metadata": {
            "tags": []
          },
          "execution_count": 147
        },
        {
          "output_type": "execute_result",
          "data": {
            "text/plain": [
              "1         50800\n",
              "2         11081\n",
              "3         10791\n",
              "4         61111\n",
              "5         64723\n",
              "         ...   \n",
              "378       34417\n",
              "379       42222\n",
              "380        9561\n",
              "381       13346\n",
              "0      0.010526\n",
              "Length: 382, dtype: object"
            ]
          },
          "metadata": {
            "tags": []
          },
          "execution_count": 147
        },
        {
          "output_type": "execute_result",
          "data": {
            "text/plain": [
              "1          153784\n",
              "2           36663\n",
              "3           27744\n",
              "4          198300\n",
              "5          212376\n",
              "          ...    \n",
              "378         98108\n",
              "379        111568\n",
              "380         45752\n",
              "381         57292\n",
              "0      0.00708583\n",
              "Length: 382, dtype: object"
            ]
          },
          "metadata": {
            "tags": []
          },
          "execution_count": 147
        },
        {
          "output_type": "execute_result",
          "data": {
            "text/plain": [
              "1            13318\n",
              "2             4057\n",
              "3            10483\n",
              "4            42999\n",
              "5           438681\n",
              "          ...     \n",
              "378          30643\n",
              "379          17895\n",
              "380          49389\n",
              "381         128465\n",
              "0      0.000382403\n",
              "Length: 382, dtype: object"
            ]
          },
          "metadata": {
            "tags": []
          },
          "execution_count": 147
        },
        {
          "output_type": "execute_result",
          "data": {
            "text/plain": [
              "1          50800\n",
              "2          11081\n",
              "3          10791\n",
              "4          61111\n",
              "5          64723\n",
              "         ...    \n",
              "378        34417\n",
              "379        42222\n",
              "380         9561\n",
              "381        13346\n",
              "0      0.0313051\n",
              "Length: 382, dtype: object"
            ]
          },
          "metadata": {
            "tags": []
          },
          "execution_count": 147
        },
        {
          "output_type": "execute_result",
          "data": {
            "text/plain": [
              "1         153784\n",
              "2          36663\n",
              "3          27744\n",
              "4         198300\n",
              "5         212376\n",
              "         ...    \n",
              "378        98108\n",
              "379       111568\n",
              "380        45752\n",
              "381        57292\n",
              "0      0.0260309\n",
              "Length: 382, dtype: object"
            ]
          },
          "metadata": {
            "tags": []
          },
          "execution_count": 147
        },
        {
          "output_type": "execute_result",
          "data": {
            "text/plain": [
              "1           13318\n",
              "2            4057\n",
              "3           10483\n",
              "4           42999\n",
              "5          438681\n",
              "          ...    \n",
              "378         30643\n",
              "379         17895\n",
              "380         49389\n",
              "381        128465\n",
              "0      0.00314763\n",
              "Length: 382, dtype: object"
            ]
          },
          "metadata": {
            "tags": []
          },
          "execution_count": 147
        },
        {
          "output_type": "execute_result",
          "data": {
            "text/plain": [
              "1          50800\n",
              "2          11081\n",
              "3          10791\n",
              "4          61111\n",
              "5          64723\n",
              "         ...    \n",
              "378        34417\n",
              "379        42222\n",
              "380         9561\n",
              "381        13346\n",
              "0      0.0151007\n",
              "Length: 382, dtype: object"
            ]
          },
          "metadata": {
            "tags": []
          },
          "execution_count": 147
        },
        {
          "output_type": "execute_result",
          "data": {
            "text/plain": [
              "1         153784\n",
              "2          36663\n",
              "3          27744\n",
              "4         198300\n",
              "5         212376\n",
              "         ...    \n",
              "378        98108\n",
              "379       111568\n",
              "380        45752\n",
              "381        57292\n",
              "0      0.0148529\n",
              "Length: 382, dtype: object"
            ]
          },
          "metadata": {
            "tags": []
          },
          "execution_count": 147
        },
        {
          "output_type": "execute_result",
          "data": {
            "text/plain": [
              "1          13318\n",
              "2           4057\n",
              "3          10483\n",
              "4          42999\n",
              "5         438681\n",
              "         ...    \n",
              "378        30643\n",
              "379        17895\n",
              "380        49389\n",
              "381       128465\n",
              "0      0.0027386\n",
              "Length: 382, dtype: object"
            ]
          },
          "metadata": {
            "tags": []
          },
          "execution_count": 147
        },
        {
          "output_type": "execute_result",
          "data": {
            "text/plain": [
              "1          50800\n",
              "2          11081\n",
              "3          10791\n",
              "4          61111\n",
              "5          64723\n",
              "         ...    \n",
              "378        34417\n",
              "379        42222\n",
              "380         9561\n",
              "381        13346\n",
              "0      0.0124712\n",
              "Length: 382, dtype: object"
            ]
          },
          "metadata": {
            "tags": []
          },
          "execution_count": 147
        },
        {
          "output_type": "execute_result",
          "data": {
            "text/plain": [
              "1         153784\n",
              "2          36663\n",
              "3          27744\n",
              "4         198300\n",
              "5         212376\n",
              "         ...    \n",
              "378        98108\n",
              "379       111568\n",
              "380        45752\n",
              "381        57292\n",
              "0      0.0110228\n",
              "Length: 382, dtype: object"
            ]
          },
          "metadata": {
            "tags": []
          },
          "execution_count": 147
        },
        {
          "output_type": "execute_result",
          "data": {
            "text/plain": [
              "1           13318\n",
              "2            4057\n",
              "3           10483\n",
              "4           42999\n",
              "5          438681\n",
              "          ...    \n",
              "378         30643\n",
              "379         17895\n",
              "380         49389\n",
              "381        128465\n",
              "0      0.00113382\n",
              "Length: 382, dtype: object"
            ]
          },
          "metadata": {
            "tags": []
          },
          "execution_count": 147
        },
        {
          "output_type": "execute_result",
          "data": {
            "text/plain": [
              "1      50800\n",
              "2      11081\n",
              "3      10791\n",
              "4      61111\n",
              "5      64723\n",
              "       ...  \n",
              "378    34417\n",
              "379    42222\n",
              "380     9561\n",
              "381    13346\n",
              "0        NaN\n",
              "Length: 382, dtype: object"
            ]
          },
          "metadata": {
            "tags": []
          },
          "execution_count": 147
        },
        {
          "output_type": "execute_result",
          "data": {
            "text/plain": [
              "1      153784\n",
              "2       36663\n",
              "3       27744\n",
              "4      198300\n",
              "5      212376\n",
              "        ...  \n",
              "378     98108\n",
              "379    111568\n",
              "380     45752\n",
              "381     57292\n",
              "0         NaN\n",
              "Length: 382, dtype: object"
            ]
          },
          "metadata": {
            "tags": []
          },
          "execution_count": 147
        },
        {
          "output_type": "execute_result",
          "data": {
            "text/plain": [
              "1       13318\n",
              "2        4057\n",
              "3       10483\n",
              "4       42999\n",
              "5      438681\n",
              "        ...  \n",
              "378     30643\n",
              "379     17895\n",
              "380     49389\n",
              "381    128465\n",
              "0         NaN\n",
              "Length: 382, dtype: object"
            ]
          },
          "metadata": {
            "tags": []
          },
          "execution_count": 147
        },
        {
          "output_type": "execute_result",
          "data": {
            "text/plain": [
              "1         50800\n",
              "2         11081\n",
              "3         10791\n",
              "4         61111\n",
              "5         64723\n",
              "         ...   \n",
              "378       34417\n",
              "379       42222\n",
              "380        9561\n",
              "381       13346\n",
              "0      0.048793\n",
              "Length: 382, dtype: object"
            ]
          },
          "metadata": {
            "tags": []
          },
          "execution_count": 147
        },
        {
          "output_type": "execute_result",
          "data": {
            "text/plain": [
              "1         153784\n",
              "2          36663\n",
              "3          27744\n",
              "4         198300\n",
              "5         212376\n",
              "         ...    \n",
              "378        98108\n",
              "379       111568\n",
              "380        45752\n",
              "381        57292\n",
              "0      0.0346763\n",
              "Length: 382, dtype: object"
            ]
          },
          "metadata": {
            "tags": []
          },
          "execution_count": 147
        },
        {
          "output_type": "execute_result",
          "data": {
            "text/plain": [
              "1         13318\n",
              "2          4057\n",
              "3         10483\n",
              "4         42999\n",
              "5        438681\n",
              "         ...   \n",
              "378       30643\n",
              "379       17895\n",
              "380       49389\n",
              "381      128465\n",
              "0      0.022502\n",
              "Length: 382, dtype: object"
            ]
          },
          "metadata": {
            "tags": []
          },
          "execution_count": 147
        },
        {
          "output_type": "execute_result",
          "data": {
            "text/plain": [
              "1          50800\n",
              "2          11081\n",
              "3          10791\n",
              "4          61111\n",
              "5          64723\n",
              "         ...    \n",
              "378        34417\n",
              "379        42222\n",
              "380         9561\n",
              "381        13346\n",
              "0      0.0386982\n",
              "Length: 382, dtype: object"
            ]
          },
          "metadata": {
            "tags": []
          },
          "execution_count": 147
        },
        {
          "output_type": "execute_result",
          "data": {
            "text/plain": [
              "1         153784\n",
              "2          36663\n",
              "3          27744\n",
              "4         198300\n",
              "5         212376\n",
              "         ...    \n",
              "378        98108\n",
              "379       111568\n",
              "380        45752\n",
              "381        57292\n",
              "0      0.0276707\n",
              "Length: 382, dtype: object"
            ]
          },
          "metadata": {
            "tags": []
          },
          "execution_count": 147
        },
        {
          "output_type": "execute_result",
          "data": {
            "text/plain": [
              "1           13318\n",
              "2            4057\n",
              "3           10483\n",
              "4           42999\n",
              "5          438681\n",
              "          ...    \n",
              "378         30643\n",
              "379         17895\n",
              "380         49389\n",
              "381        128465\n",
              "0      0.00900624\n",
              "Length: 382, dtype: object"
            ]
          },
          "metadata": {
            "tags": []
          },
          "execution_count": 147
        },
        {
          "output_type": "execute_result",
          "data": {
            "text/plain": [
              "1          50800\n",
              "2          11081\n",
              "3          10791\n",
              "4          61111\n",
              "5          64723\n",
              "         ...    \n",
              "378        34417\n",
              "379        42222\n",
              "380         9561\n",
              "381        13346\n",
              "0      0.0365869\n",
              "Length: 382, dtype: object"
            ]
          },
          "metadata": {
            "tags": []
          },
          "execution_count": 147
        },
        {
          "output_type": "execute_result",
          "data": {
            "text/plain": [
              "1         153784\n",
              "2          36663\n",
              "3          27744\n",
              "4         198300\n",
              "5         212376\n",
              "         ...    \n",
              "378        98108\n",
              "379       111568\n",
              "380        45752\n",
              "381        57292\n",
              "0      0.0264987\n",
              "Length: 382, dtype: object"
            ]
          },
          "metadata": {
            "tags": []
          },
          "execution_count": 147
        },
        {
          "output_type": "execute_result",
          "data": {
            "text/plain": [
              "1          13318\n",
              "2           4057\n",
              "3          10483\n",
              "4          42999\n",
              "5         438681\n",
              "         ...    \n",
              "378        30643\n",
              "379        17895\n",
              "380        49389\n",
              "381       128465\n",
              "0      0.0051591\n",
              "Length: 382, dtype: object"
            ]
          },
          "metadata": {
            "tags": []
          },
          "execution_count": 147
        },
        {
          "output_type": "execute_result",
          "data": {
            "text/plain": [
              "1          50800\n",
              "2          11081\n",
              "3          10791\n",
              "4          61111\n",
              "5          64723\n",
              "         ...    \n",
              "378        34417\n",
              "379        42222\n",
              "380         9561\n",
              "381        13346\n",
              "0      0.0133612\n",
              "Length: 382, dtype: object"
            ]
          },
          "metadata": {
            "tags": []
          },
          "execution_count": 147
        },
        {
          "output_type": "execute_result",
          "data": {
            "text/plain": [
              "1         153784\n",
              "2          36663\n",
              "3          27744\n",
              "4         198300\n",
              "5         212376\n",
              "         ...    \n",
              "378        98108\n",
              "379       111568\n",
              "380        45752\n",
              "381        57292\n",
              "0      0.0180507\n",
              "Length: 382, dtype: object"
            ]
          },
          "metadata": {
            "tags": []
          },
          "execution_count": 147
        },
        {
          "output_type": "execute_result",
          "data": {
            "text/plain": [
              "1          13318\n",
              "2           4057\n",
              "3          10483\n",
              "4          42999\n",
              "5         438681\n",
              "         ...    \n",
              "378        30643\n",
              "379        17895\n",
              "380        49389\n",
              "381       128465\n",
              "0      0.0431094\n",
              "Length: 382, dtype: object"
            ]
          },
          "metadata": {
            "tags": []
          },
          "execution_count": 147
        },
        {
          "output_type": "execute_result",
          "data": {
            "text/plain": [
              "1          50800\n",
              "2          11081\n",
              "3          10791\n",
              "4          61111\n",
              "5          64723\n",
              "         ...    \n",
              "378        34417\n",
              "379        42222\n",
              "380         9561\n",
              "381        13346\n",
              "0      0.0116811\n",
              "Length: 382, dtype: object"
            ]
          },
          "metadata": {
            "tags": []
          },
          "execution_count": 147
        },
        {
          "output_type": "execute_result",
          "data": {
            "text/plain": [
              "1        153784\n",
              "2         36663\n",
              "3         27744\n",
              "4        198300\n",
              "5        212376\n",
              "         ...   \n",
              "378       98108\n",
              "379      111568\n",
              "380       45752\n",
              "381       57292\n",
              "0      0.012554\n",
              "Length: 382, dtype: object"
            ]
          },
          "metadata": {
            "tags": []
          },
          "execution_count": 147
        },
        {
          "output_type": "execute_result",
          "data": {
            "text/plain": [
              "1          13318\n",
              "2           4057\n",
              "3          10483\n",
              "4          42999\n",
              "5         438681\n",
              "         ...    \n",
              "378        30643\n",
              "379        17895\n",
              "380        49389\n",
              "381       128465\n",
              "0      0.0242404\n",
              "Length: 382, dtype: object"
            ]
          },
          "metadata": {
            "tags": []
          },
          "execution_count": 147
        },
        {
          "output_type": "execute_result",
          "data": {
            "text/plain": [
              "1         50800\n",
              "2         11081\n",
              "3         10791\n",
              "4         61111\n",
              "5         64723\n",
              "         ...   \n",
              "378       34417\n",
              "379       42222\n",
              "380        9561\n",
              "381       13346\n",
              "0      0.143175\n",
              "Length: 382, dtype: object"
            ]
          },
          "metadata": {
            "tags": []
          },
          "execution_count": 147
        },
        {
          "output_type": "execute_result",
          "data": {
            "text/plain": [
              "1       153784\n",
              "2        36663\n",
              "3        27744\n",
              "4       198300\n",
              "5       212376\n",
              "        ...   \n",
              "378      98108\n",
              "379     111568\n",
              "380      45752\n",
              "381      57292\n",
              "0      0.11632\n",
              "Length: 382, dtype: object"
            ]
          },
          "metadata": {
            "tags": []
          },
          "execution_count": 147
        },
        {
          "output_type": "execute_result",
          "data": {
            "text/plain": [
              "1         13318\n",
              "2          4057\n",
              "3         10483\n",
              "4         42999\n",
              "5        438681\n",
              "         ...   \n",
              "378       30643\n",
              "379       17895\n",
              "380       49389\n",
              "381      128465\n",
              "0      0.108528\n",
              "Length: 382, dtype: object"
            ]
          },
          "metadata": {
            "tags": []
          },
          "execution_count": 147
        },
        {
          "output_type": "execute_result",
          "data": {
            "text/plain": [
              "1          50800\n",
              "2          11081\n",
              "3          10791\n",
              "4          61111\n",
              "5          64723\n",
              "         ...    \n",
              "378        34417\n",
              "379        42222\n",
              "380         9561\n",
              "381        13346\n",
              "0      0.0091079\n",
              "Length: 382, dtype: object"
            ]
          },
          "metadata": {
            "tags": []
          },
          "execution_count": 147
        },
        {
          "output_type": "execute_result",
          "data": {
            "text/plain": [
              "1          153784\n",
              "2           36663\n",
              "3           27744\n",
              "4          198300\n",
              "5          212376\n",
              "          ...    \n",
              "378         98108\n",
              "379        111568\n",
              "380         45752\n",
              "381         57292\n",
              "0      0.00763103\n",
              "Length: 382, dtype: object"
            ]
          },
          "metadata": {
            "tags": []
          },
          "execution_count": 147
        },
        {
          "output_type": "execute_result",
          "data": {
            "text/plain": [
              "1           13318\n",
              "2            4057\n",
              "3           10483\n",
              "4           42999\n",
              "5          438681\n",
              "          ...    \n",
              "378         30643\n",
              "379         17895\n",
              "380         49389\n",
              "381        128465\n",
              "0      0.00119024\n",
              "Length: 382, dtype: object"
            ]
          },
          "metadata": {
            "tags": []
          },
          "execution_count": 147
        },
        {
          "output_type": "execute_result",
          "data": {
            "text/plain": [
              "1           50800\n",
              "2           11081\n",
              "3           10791\n",
              "4           61111\n",
              "5           64723\n",
              "          ...    \n",
              "378         34417\n",
              "379         42222\n",
              "380          9561\n",
              "381         13346\n",
              "0      0.00944413\n",
              "Length: 382, dtype: object"
            ]
          },
          "metadata": {
            "tags": []
          },
          "execution_count": 147
        },
        {
          "output_type": "execute_result",
          "data": {
            "text/plain": [
              "1          153784\n",
              "2           36663\n",
              "3           27744\n",
              "4          198300\n",
              "5          212376\n",
              "          ...    \n",
              "378         98108\n",
              "379        111568\n",
              "380         45752\n",
              "381         57292\n",
              "0      0.00776396\n",
              "Length: 382, dtype: object"
            ]
          },
          "metadata": {
            "tags": []
          },
          "execution_count": 147
        },
        {
          "output_type": "execute_result",
          "data": {
            "text/plain": [
              "1           13318\n",
              "2            4057\n",
              "3           10483\n",
              "4           42999\n",
              "5          438681\n",
              "          ...    \n",
              "378         30643\n",
              "379         17895\n",
              "380         49389\n",
              "381        128465\n",
              "0      0.00268653\n",
              "Length: 382, dtype: object"
            ]
          },
          "metadata": {
            "tags": []
          },
          "execution_count": 147
        },
        {
          "output_type": "execute_result",
          "data": {
            "text/plain": [
              "1          50800\n",
              "2          11081\n",
              "3          10791\n",
              "4          61111\n",
              "5          64723\n",
              "         ...    \n",
              "378        34417\n",
              "379        42222\n",
              "380         9561\n",
              "381        13346\n",
              "0      0.0117888\n",
              "Length: 382, dtype: object"
            ]
          },
          "metadata": {
            "tags": []
          },
          "execution_count": 147
        },
        {
          "output_type": "execute_result",
          "data": {
            "text/plain": [
              "1          153784\n",
              "2           36663\n",
              "3           27744\n",
              "4          198300\n",
              "5          212376\n",
              "          ...    \n",
              "378         98108\n",
              "379        111568\n",
              "380         45752\n",
              "381         57292\n",
              "0      0.00661141\n",
              "Length: 382, dtype: object"
            ]
          },
          "metadata": {
            "tags": []
          },
          "execution_count": 147
        },
        {
          "output_type": "execute_result",
          "data": {
            "text/plain": [
              "1           13318\n",
              "2            4057\n",
              "3           10483\n",
              "4           42999\n",
              "5          438681\n",
              "          ...    \n",
              "378         30643\n",
              "379         17895\n",
              "380         49389\n",
              "381        128465\n",
              "0      0.00281194\n",
              "Length: 382, dtype: object"
            ]
          },
          "metadata": {
            "tags": []
          },
          "execution_count": 147
        },
        {
          "output_type": "execute_result",
          "data": {
            "text/plain": [
              "1           50800\n",
              "2           11081\n",
              "3           10791\n",
              "4           61111\n",
              "5           64723\n",
              "          ...    \n",
              "378         34417\n",
              "379         42222\n",
              "380          9561\n",
              "381         13346\n",
              "0      0.00399719\n",
              "Length: 382, dtype: object"
            ]
          },
          "metadata": {
            "tags": []
          },
          "execution_count": 147
        },
        {
          "output_type": "execute_result",
          "data": {
            "text/plain": [
              "1          153784\n",
              "2           36663\n",
              "3           27744\n",
              "4          198300\n",
              "5          212376\n",
              "          ...    \n",
              "378         98108\n",
              "379        111568\n",
              "380         45752\n",
              "381         57292\n",
              "0      0.00284278\n",
              "Length: 382, dtype: object"
            ]
          },
          "metadata": {
            "tags": []
          },
          "execution_count": 147
        },
        {
          "output_type": "execute_result",
          "data": {
            "text/plain": [
              "1            13318\n",
              "2             4057\n",
              "3            10483\n",
              "4            42999\n",
              "5           438681\n",
              "          ...     \n",
              "378          30643\n",
              "379          17895\n",
              "380          49389\n",
              "381         128465\n",
              "0      0.000384747\n",
              "Length: 382, dtype: object"
            ]
          },
          "metadata": {
            "tags": []
          },
          "execution_count": 147
        },
        {
          "output_type": "execute_result",
          "data": {
            "text/plain": [
              "1           50800\n",
              "2           11081\n",
              "3           10791\n",
              "4           61111\n",
              "5           64723\n",
              "          ...    \n",
              "378         34417\n",
              "379         42222\n",
              "380          9561\n",
              "381         13346\n",
              "0      0.00763541\n",
              "Length: 382, dtype: object"
            ]
          },
          "metadata": {
            "tags": []
          },
          "execution_count": 147
        },
        {
          "output_type": "execute_result",
          "data": {
            "text/plain": [
              "1          153784\n",
              "2           36663\n",
              "3           27744\n",
              "4          198300\n",
              "5          212376\n",
              "          ...    \n",
              "378         98108\n",
              "379        111568\n",
              "380         45752\n",
              "381         57292\n",
              "0      0.00515385\n",
              "Length: 382, dtype: object"
            ]
          },
          "metadata": {
            "tags": []
          },
          "execution_count": 147
        },
        {
          "output_type": "execute_result",
          "data": {
            "text/plain": [
              "1            13318\n",
              "2             4057\n",
              "3            10483\n",
              "4            42999\n",
              "5           438681\n",
              "          ...     \n",
              "378          30643\n",
              "379          17895\n",
              "380          49389\n",
              "381         128465\n",
              "0      0.000322632\n",
              "Length: 382, dtype: object"
            ]
          },
          "metadata": {
            "tags": []
          },
          "execution_count": 147
        },
        {
          "output_type": "execute_result",
          "data": {
            "text/plain": [
              "1          50800\n",
              "2          11081\n",
              "3          10791\n",
              "4          61111\n",
              "5          64723\n",
              "         ...    \n",
              "378        34417\n",
              "379        42222\n",
              "380         9561\n",
              "381        13346\n",
              "0      0.0350066\n",
              "Length: 382, dtype: object"
            ]
          },
          "metadata": {
            "tags": []
          },
          "execution_count": 147
        },
        {
          "output_type": "execute_result",
          "data": {
            "text/plain": [
              "1         153784\n",
              "2          36663\n",
              "3          27744\n",
              "4         198300\n",
              "5         212376\n",
              "         ...    \n",
              "378        98108\n",
              "379       111568\n",
              "380        45752\n",
              "381        57292\n",
              "0      0.0278286\n",
              "Length: 382, dtype: object"
            ]
          },
          "metadata": {
            "tags": []
          },
          "execution_count": 147
        },
        {
          "output_type": "execute_result",
          "data": {
            "text/plain": [
              "1           13318\n",
              "2            4057\n",
              "3           10483\n",
              "4           42999\n",
              "5          438681\n",
              "          ...    \n",
              "378         30643\n",
              "379         17895\n",
              "380         49389\n",
              "381        128465\n",
              "0      0.00499954\n",
              "Length: 382, dtype: object"
            ]
          },
          "metadata": {
            "tags": []
          },
          "execution_count": 147
        },
        {
          "output_type": "execute_result",
          "data": {
            "text/plain": [
              "1           50800\n",
              "2           11081\n",
              "3           10791\n",
              "4           61111\n",
              "5           64723\n",
              "          ...    \n",
              "378         34417\n",
              "379         42222\n",
              "380          9561\n",
              "381         13346\n",
              "0      0.00843445\n",
              "Length: 382, dtype: object"
            ]
          },
          "metadata": {
            "tags": []
          },
          "execution_count": 147
        },
        {
          "output_type": "execute_result",
          "data": {
            "text/plain": [
              "1          153784\n",
              "2           36663\n",
              "3           27744\n",
              "4          198300\n",
              "5          212376\n",
              "          ...    \n",
              "378         98108\n",
              "379        111568\n",
              "380         45752\n",
              "381         57292\n",
              "0      0.00552654\n",
              "Length: 382, dtype: object"
            ]
          },
          "metadata": {
            "tags": []
          },
          "execution_count": 147
        },
        {
          "output_type": "execute_result",
          "data": {
            "text/plain": [
              "1            13318\n",
              "2             4057\n",
              "3            10483\n",
              "4            42999\n",
              "5           438681\n",
              "          ...     \n",
              "378          30643\n",
              "379          17895\n",
              "380          49389\n",
              "381         128465\n",
              "0      0.000501444\n",
              "Length: 382, dtype: object"
            ]
          },
          "metadata": {
            "tags": []
          },
          "execution_count": 147
        },
        {
          "output_type": "execute_result",
          "data": {
            "text/plain": [
              "1          50800\n",
              "2          11081\n",
              "3          10791\n",
              "4          61111\n",
              "5          64723\n",
              "         ...    \n",
              "378        34417\n",
              "379        42222\n",
              "380         9561\n",
              "381        13346\n",
              "0      0.0259264\n",
              "Length: 382, dtype: object"
            ]
          },
          "metadata": {
            "tags": []
          },
          "execution_count": 147
        },
        {
          "output_type": "execute_result",
          "data": {
            "text/plain": [
              "1         153784\n",
              "2          36663\n",
              "3          27744\n",
              "4         198300\n",
              "5         212376\n",
              "         ...    \n",
              "378        98108\n",
              "379       111568\n",
              "380        45752\n",
              "381        57292\n",
              "0      0.0194284\n",
              "Length: 382, dtype: object"
            ]
          },
          "metadata": {
            "tags": []
          },
          "execution_count": 147
        },
        {
          "output_type": "execute_result",
          "data": {
            "text/plain": [
              "1           13318\n",
              "2            4057\n",
              "3           10483\n",
              "4           42999\n",
              "5          438681\n",
              "          ...    \n",
              "378         30643\n",
              "379         17895\n",
              "380         49389\n",
              "381        128465\n",
              "0      0.00352384\n",
              "Length: 382, dtype: object"
            ]
          },
          "metadata": {
            "tags": []
          },
          "execution_count": 147
        },
        {
          "output_type": "execute_result",
          "data": {
            "text/plain": [
              "1         50800\n",
              "2         11081\n",
              "3         10791\n",
              "4         61111\n",
              "5         64723\n",
              "         ...   \n",
              "378       34417\n",
              "379       42222\n",
              "380        9561\n",
              "381       13346\n",
              "0      0.045852\n",
              "Length: 382, dtype: object"
            ]
          },
          "metadata": {
            "tags": []
          },
          "execution_count": 147
        },
        {
          "output_type": "execute_result",
          "data": {
            "text/plain": [
              "1         153784\n",
              "2          36663\n",
              "3          27744\n",
              "4         198300\n",
              "5         212376\n",
              "         ...    \n",
              "378        98108\n",
              "379       111568\n",
              "380        45752\n",
              "381        57292\n",
              "0      0.0383998\n",
              "Length: 382, dtype: object"
            ]
          },
          "metadata": {
            "tags": []
          },
          "execution_count": 147
        },
        {
          "output_type": "execute_result",
          "data": {
            "text/plain": [
              "1           13318\n",
              "2            4057\n",
              "3           10483\n",
              "4           42999\n",
              "5          438681\n",
              "          ...    \n",
              "378         30643\n",
              "379         17895\n",
              "380         49389\n",
              "381        128465\n",
              "0      0.00626897\n",
              "Length: 382, dtype: object"
            ]
          },
          "metadata": {
            "tags": []
          },
          "execution_count": 147
        },
        {
          "output_type": "execute_result",
          "data": {
            "text/plain": [
              "1           50800\n",
              "2           11081\n",
              "3           10791\n",
              "4           61111\n",
              "5           64723\n",
              "          ...    \n",
              "378         34417\n",
              "379         42222\n",
              "380          9561\n",
              "381         13346\n",
              "0      0.00896055\n",
              "Length: 382, dtype: object"
            ]
          },
          "metadata": {
            "tags": []
          },
          "execution_count": 147
        },
        {
          "output_type": "execute_result",
          "data": {
            "text/plain": [
              "1         153784\n",
              "2          36663\n",
              "3          27744\n",
              "4         198300\n",
              "5         212376\n",
              "         ...    \n",
              "378        98108\n",
              "379       111568\n",
              "380        45752\n",
              "381        57292\n",
              "0      0.0098094\n",
              "Length: 382, dtype: object"
            ]
          },
          "metadata": {
            "tags": []
          },
          "execution_count": 147
        },
        {
          "output_type": "execute_result",
          "data": {
            "text/plain": [
              "1           13318\n",
              "2            4057\n",
              "3           10483\n",
              "4           42999\n",
              "5          438681\n",
              "          ...    \n",
              "378         30643\n",
              "379         17895\n",
              "380         49389\n",
              "381        128465\n",
              "0      0.00226646\n",
              "Length: 382, dtype: object"
            ]
          },
          "metadata": {
            "tags": []
          },
          "execution_count": 147
        },
        {
          "output_type": "execute_result",
          "data": {
            "text/plain": [
              "1         50800\n",
              "2         11081\n",
              "3         10791\n",
              "4         61111\n",
              "5         64723\n",
              "         ...   \n",
              "378       34417\n",
              "379       42222\n",
              "380        9561\n",
              "381       13346\n",
              "0      0.012582\n",
              "Length: 382, dtype: object"
            ]
          },
          "metadata": {
            "tags": []
          },
          "execution_count": 147
        },
        {
          "output_type": "execute_result",
          "data": {
            "text/plain": [
              "1         153784\n",
              "2          36663\n",
              "3          27744\n",
              "4         198300\n",
              "5         212376\n",
              "         ...    \n",
              "378        98108\n",
              "379       111568\n",
              "380        45752\n",
              "381        57292\n",
              "0      0.0119055\n",
              "Length: 382, dtype: object"
            ]
          },
          "metadata": {
            "tags": []
          },
          "execution_count": 147
        },
        {
          "output_type": "execute_result",
          "data": {
            "text/plain": [
              "1           13318\n",
              "2            4057\n",
              "3           10483\n",
              "4           42999\n",
              "5          438681\n",
              "          ...    \n",
              "378         30643\n",
              "379         17895\n",
              "380         49389\n",
              "381        128465\n",
              "0      0.00573789\n",
              "Length: 382, dtype: object"
            ]
          },
          "metadata": {
            "tags": []
          },
          "execution_count": 147
        },
        {
          "output_type": "execute_result",
          "data": {
            "text/plain": [
              "1           50800\n",
              "2           11081\n",
              "3           10791\n",
              "4           61111\n",
              "5           64723\n",
              "          ...    \n",
              "378         34417\n",
              "379         42222\n",
              "380          9561\n",
              "381         13346\n",
              "0      0.00828413\n",
              "Length: 382, dtype: object"
            ]
          },
          "metadata": {
            "tags": []
          },
          "execution_count": 147
        },
        {
          "output_type": "execute_result",
          "data": {
            "text/plain": [
              "1          153784\n",
              "2           36663\n",
              "3           27744\n",
              "4          198300\n",
              "5          212376\n",
              "          ...    \n",
              "378         98108\n",
              "379        111568\n",
              "380         45752\n",
              "381         57292\n",
              "0      0.00512952\n",
              "Length: 382, dtype: object"
            ]
          },
          "metadata": {
            "tags": []
          },
          "execution_count": 147
        },
        {
          "output_type": "execute_result",
          "data": {
            "text/plain": [
              "1           13318\n",
              "2            4057\n",
              "3           10483\n",
              "4           42999\n",
              "5          438681\n",
              "          ...    \n",
              "378         30643\n",
              "379         17895\n",
              "380         49389\n",
              "381        128465\n",
              "0      0.00149613\n",
              "Length: 382, dtype: object"
            ]
          },
          "metadata": {
            "tags": []
          },
          "execution_count": 147
        },
        {
          "output_type": "execute_result",
          "data": {
            "text/plain": [
              "1         50800\n",
              "2         11081\n",
              "3         10791\n",
              "4         61111\n",
              "5         64723\n",
              "         ...   \n",
              "378       34417\n",
              "379       42222\n",
              "380        9561\n",
              "381       13346\n",
              "0      0.682169\n",
              "Length: 382, dtype: object"
            ]
          },
          "metadata": {
            "tags": []
          },
          "execution_count": 147
        },
        {
          "output_type": "execute_result",
          "data": {
            "text/plain": [
              "1        153784\n",
              "2         36663\n",
              "3         27744\n",
              "4        198300\n",
              "5        212376\n",
              "         ...   \n",
              "378       98108\n",
              "379      111568\n",
              "380       45752\n",
              "381       57292\n",
              "0      0.704329\n",
              "Length: 382, dtype: object"
            ]
          },
          "metadata": {
            "tags": []
          },
          "execution_count": 147
        },
        {
          "output_type": "execute_result",
          "data": {
            "text/plain": [
              "1       13318\n",
              "2        4057\n",
              "3       10483\n",
              "4       42999\n",
              "5      438681\n",
              "        ...  \n",
              "378     30643\n",
              "379     17895\n",
              "380     49389\n",
              "381    128465\n",
              "0           1\n",
              "Length: 382, dtype: object"
            ]
          },
          "metadata": {
            "tags": []
          },
          "execution_count": 147
        },
        {
          "output_type": "execute_result",
          "data": {
            "text/plain": [
              "1          50800\n",
              "2          11081\n",
              "3          10791\n",
              "4          61111\n",
              "5          64723\n",
              "         ...    \n",
              "378        34417\n",
              "379        42222\n",
              "380         9561\n",
              "381        13346\n",
              "0      0.0916783\n",
              "Length: 382, dtype: object"
            ]
          },
          "metadata": {
            "tags": []
          },
          "execution_count": 147
        },
        {
          "output_type": "execute_result",
          "data": {
            "text/plain": [
              "1         153784\n",
              "2          36663\n",
              "3          27744\n",
              "4         198300\n",
              "5         212376\n",
              "         ...    \n",
              "378        98108\n",
              "379       111568\n",
              "380        45752\n",
              "381        57292\n",
              "0      0.0644084\n",
              "Length: 382, dtype: object"
            ]
          },
          "metadata": {
            "tags": []
          },
          "execution_count": 147
        },
        {
          "output_type": "execute_result",
          "data": {
            "text/plain": [
              "1           13318\n",
              "2            4057\n",
              "3           10483\n",
              "4           42999\n",
              "5          438681\n",
              "          ...    \n",
              "378         30643\n",
              "379         17895\n",
              "380         49389\n",
              "381        128465\n",
              "0      0.00958252\n",
              "Length: 382, dtype: object"
            ]
          },
          "metadata": {
            "tags": []
          },
          "execution_count": 147
        },
        {
          "output_type": "execute_result",
          "data": {
            "text/plain": [
              "1          50800\n",
              "2          11081\n",
              "3          10791\n",
              "4          61111\n",
              "5          64723\n",
              "         ...    \n",
              "378        34417\n",
              "379        42222\n",
              "380         9561\n",
              "381        13346\n",
              "0      0.0185145\n",
              "Length: 382, dtype: object"
            ]
          },
          "metadata": {
            "tags": []
          },
          "execution_count": 147
        },
        {
          "output_type": "execute_result",
          "data": {
            "text/plain": [
              "1        153784\n",
              "2         36663\n",
              "3         27744\n",
              "4        198300\n",
              "5        212376\n",
              "         ...   \n",
              "378       98108\n",
              "379      111568\n",
              "380       45752\n",
              "381       57292\n",
              "0      0.019694\n",
              "Length: 382, dtype: object"
            ]
          },
          "metadata": {
            "tags": []
          },
          "execution_count": 147
        },
        {
          "output_type": "execute_result",
          "data": {
            "text/plain": [
              "1        13318\n",
              "2         4057\n",
              "3        10483\n",
              "4        42999\n",
              "5       438681\n",
              "        ...   \n",
              "378      30643\n",
              "379      17895\n",
              "380      49389\n",
              "381     128465\n",
              "0      0.01821\n",
              "Length: 382, dtype: object"
            ]
          },
          "metadata": {
            "tags": []
          },
          "execution_count": 147
        },
        {
          "output_type": "execute_result",
          "data": {
            "text/plain": [
              "1          50800\n",
              "2          11081\n",
              "3          10791\n",
              "4          61111\n",
              "5          64723\n",
              "         ...    \n",
              "378        34417\n",
              "379        42222\n",
              "380         9561\n",
              "381        13346\n",
              "0      0.0184719\n",
              "Length: 382, dtype: object"
            ]
          },
          "metadata": {
            "tags": []
          },
          "execution_count": 147
        },
        {
          "output_type": "execute_result",
          "data": {
            "text/plain": [
              "1         153784\n",
              "2          36663\n",
              "3          27744\n",
              "4         198300\n",
              "5         212376\n",
              "         ...    \n",
              "378        98108\n",
              "379       111568\n",
              "380        45752\n",
              "381        57292\n",
              "0      0.0132179\n",
              "Length: 382, dtype: object"
            ]
          },
          "metadata": {
            "tags": []
          },
          "execution_count": 147
        },
        {
          "output_type": "execute_result",
          "data": {
            "text/plain": [
              "1         13318\n",
              "2          4057\n",
              "3         10483\n",
              "4         42999\n",
              "5        438681\n",
              "         ...   \n",
              "378       30643\n",
              "379       17895\n",
              "380       49389\n",
              "381      128465\n",
              "0      0.001102\n",
              "Length: 382, dtype: object"
            ]
          },
          "metadata": {
            "tags": []
          },
          "execution_count": 147
        },
        {
          "output_type": "execute_result",
          "data": {
            "text/plain": [
              "1          50800\n",
              "2          11081\n",
              "3          10791\n",
              "4          61111\n",
              "5          64723\n",
              "         ...    \n",
              "378        34417\n",
              "379        42222\n",
              "380         9561\n",
              "381        13346\n",
              "0      0.0141029\n",
              "Length: 382, dtype: object"
            ]
          },
          "metadata": {
            "tags": []
          },
          "execution_count": 147
        },
        {
          "output_type": "execute_result",
          "data": {
            "text/plain": [
              "1         153784\n",
              "2          36663\n",
              "3          27744\n",
              "4         198300\n",
              "5         212376\n",
              "         ...    \n",
              "378        98108\n",
              "379       111568\n",
              "380        45752\n",
              "381        57292\n",
              "0      0.0119548\n",
              "Length: 382, dtype: object"
            ]
          },
          "metadata": {
            "tags": []
          },
          "execution_count": 147
        },
        {
          "output_type": "execute_result",
          "data": {
            "text/plain": [
              "1           13318\n",
              "2            4057\n",
              "3           10483\n",
              "4           42999\n",
              "5          438681\n",
              "          ...    \n",
              "378         30643\n",
              "379         17895\n",
              "380         49389\n",
              "381        128465\n",
              "0      0.00100959\n",
              "Length: 382, dtype: object"
            ]
          },
          "metadata": {
            "tags": []
          },
          "execution_count": 147
        },
        {
          "output_type": "execute_result",
          "data": {
            "text/plain": [
              "1           50800\n",
              "2           11081\n",
              "3           10791\n",
              "4           61111\n",
              "5           64723\n",
              "          ...    \n",
              "378         34417\n",
              "379         42222\n",
              "380          9561\n",
              "381         13346\n",
              "0      0.00957763\n",
              "Length: 382, dtype: object"
            ]
          },
          "metadata": {
            "tags": []
          },
          "execution_count": 147
        },
        {
          "output_type": "execute_result",
          "data": {
            "text/plain": [
              "1          153784\n",
              "2           36663\n",
              "3           27744\n",
              "4          198300\n",
              "5          212376\n",
              "          ...    \n",
              "378         98108\n",
              "379        111568\n",
              "380         45752\n",
              "381         57292\n",
              "0      0.00871347\n",
              "Length: 382, dtype: object"
            ]
          },
          "metadata": {
            "tags": []
          },
          "execution_count": 147
        },
        {
          "output_type": "execute_result",
          "data": {
            "text/plain": [
              "1          13318\n",
              "2           4057\n",
              "3          10483\n",
              "4          42999\n",
              "5         438681\n",
              "         ...    \n",
              "378        30643\n",
              "379        17895\n",
              "380        49389\n",
              "381       128465\n",
              "0      0.0147088\n",
              "Length: 382, dtype: object"
            ]
          },
          "metadata": {
            "tags": []
          },
          "execution_count": 147
        },
        {
          "output_type": "execute_result",
          "data": {
            "text/plain": [
              "1          50800\n",
              "2          11081\n",
              "3          10791\n",
              "4          61111\n",
              "5          64723\n",
              "         ...    \n",
              "378        34417\n",
              "379        42222\n",
              "380         9561\n",
              "381        13346\n",
              "0      0.0518784\n",
              "Length: 382, dtype: object"
            ]
          },
          "metadata": {
            "tags": []
          },
          "execution_count": 147
        },
        {
          "output_type": "execute_result",
          "data": {
            "text/plain": [
              "1         153784\n",
              "2          36663\n",
              "3          27744\n",
              "4         198300\n",
              "5         212376\n",
              "         ...    \n",
              "378        98108\n",
              "379       111568\n",
              "380        45752\n",
              "381        57292\n",
              "0      0.0356455\n",
              "Length: 382, dtype: object"
            ]
          },
          "metadata": {
            "tags": []
          },
          "execution_count": 147
        },
        {
          "output_type": "execute_result",
          "data": {
            "text/plain": [
              "1           13318\n",
              "2            4057\n",
              "3           10483\n",
              "4           42999\n",
              "5          438681\n",
              "          ...    \n",
              "378         30643\n",
              "379         17895\n",
              "380         49389\n",
              "381        128465\n",
              "0      0.00607275\n",
              "Length: 382, dtype: object"
            ]
          },
          "metadata": {
            "tags": []
          },
          "execution_count": 147
        },
        {
          "output_type": "execute_result",
          "data": {
            "text/plain": [
              "1         50800\n",
              "2         11081\n",
              "3         10791\n",
              "4         61111\n",
              "5         64723\n",
              "         ...   \n",
              "378       34417\n",
              "379       42222\n",
              "380        9561\n",
              "381       13346\n",
              "0      0.023997\n",
              "Length: 382, dtype: object"
            ]
          },
          "metadata": {
            "tags": []
          },
          "execution_count": 147
        },
        {
          "output_type": "execute_result",
          "data": {
            "text/plain": [
              "1        153784\n",
              "2         36663\n",
              "3         27744\n",
              "4        198300\n",
              "5        212376\n",
              "         ...   \n",
              "378       98108\n",
              "379      111568\n",
              "380       45752\n",
              "381       57292\n",
              "0      0.019999\n",
              "Length: 382, dtype: object"
            ]
          },
          "metadata": {
            "tags": []
          },
          "execution_count": 147
        },
        {
          "output_type": "execute_result",
          "data": {
            "text/plain": [
              "1          13318\n",
              "2           4057\n",
              "3          10483\n",
              "4          42999\n",
              "5         438681\n",
              "         ...    \n",
              "378        30643\n",
              "379        17895\n",
              "380        49389\n",
              "381       128465\n",
              "0      0.0042575\n",
              "Length: 382, dtype: object"
            ]
          },
          "metadata": {
            "tags": []
          },
          "execution_count": 147
        },
        {
          "output_type": "execute_result",
          "data": {
            "text/plain": [
              "1           50800\n",
              "2           11081\n",
              "3           10791\n",
              "4           61111\n",
              "5           64723\n",
              "          ...    \n",
              "378         34417\n",
              "379         42222\n",
              "380          9561\n",
              "381         13346\n",
              "0      0.00568329\n",
              "Length: 382, dtype: object"
            ]
          },
          "metadata": {
            "tags": []
          },
          "execution_count": 147
        },
        {
          "output_type": "execute_result",
          "data": {
            "text/plain": [
              "1          153784\n",
              "2           36663\n",
              "3           27744\n",
              "4          198300\n",
              "5          212376\n",
              "          ...    \n",
              "378         98108\n",
              "379        111568\n",
              "380         45752\n",
              "381         57292\n",
              "0      0.00732868\n",
              "Length: 382, dtype: object"
            ]
          },
          "metadata": {
            "tags": []
          },
          "execution_count": 147
        },
        {
          "output_type": "execute_result",
          "data": {
            "text/plain": [
              "1           13318\n",
              "2            4057\n",
              "3           10483\n",
              "4           42999\n",
              "5          438681\n",
              "          ...    \n",
              "378         30643\n",
              "379         17895\n",
              "380         49389\n",
              "381        128465\n",
              "0      0.00123277\n",
              "Length: 382, dtype: object"
            ]
          },
          "metadata": {
            "tags": []
          },
          "execution_count": 147
        },
        {
          "output_type": "execute_result",
          "data": {
            "text/plain": [
              "1           50800\n",
              "2           11081\n",
              "3           10791\n",
              "4           61111\n",
              "5           64723\n",
              "          ...    \n",
              "378         34417\n",
              "379         42222\n",
              "380          9561\n",
              "381         13346\n",
              "0      0.00721017\n",
              "Length: 382, dtype: object"
            ]
          },
          "metadata": {
            "tags": []
          },
          "execution_count": 147
        },
        {
          "output_type": "execute_result",
          "data": {
            "text/plain": [
              "1          153784\n",
              "2           36663\n",
              "3           27744\n",
              "4          198300\n",
              "5          212376\n",
              "          ...    \n",
              "378         98108\n",
              "379        111568\n",
              "380         45752\n",
              "381         57292\n",
              "0      0.00610292\n",
              "Length: 382, dtype: object"
            ]
          },
          "metadata": {
            "tags": []
          },
          "execution_count": 147
        },
        {
          "output_type": "execute_result",
          "data": {
            "text/plain": [
              "1            13318\n",
              "2             4057\n",
              "3            10483\n",
              "4            42999\n",
              "5           438681\n",
              "          ...     \n",
              "378          30643\n",
              "379          17895\n",
              "380          49389\n",
              "381         128465\n",
              "0      0.000596375\n",
              "Length: 382, dtype: object"
            ]
          },
          "metadata": {
            "tags": []
          },
          "execution_count": 147
        },
        {
          "output_type": "execute_result",
          "data": {
            "text/plain": [
              "1          50800\n",
              "2          11081\n",
              "3          10791\n",
              "4          61111\n",
              "5          64723\n",
              "         ...    \n",
              "378        34417\n",
              "379        42222\n",
              "380         9561\n",
              "381        13346\n",
              "0      0.0105537\n",
              "Length: 382, dtype: object"
            ]
          },
          "metadata": {
            "tags": []
          },
          "execution_count": 147
        },
        {
          "output_type": "execute_result",
          "data": {
            "text/plain": [
              "1          153784\n",
              "2           36663\n",
              "3           27744\n",
              "4          198300\n",
              "5          212376\n",
              "          ...    \n",
              "378         98108\n",
              "379        111568\n",
              "380         45752\n",
              "381         57292\n",
              "0      0.00585343\n",
              "Length: 382, dtype: object"
            ]
          },
          "metadata": {
            "tags": []
          },
          "execution_count": 147
        },
        {
          "output_type": "execute_result",
          "data": {
            "text/plain": [
              "1            13318\n",
              "2             4057\n",
              "3            10483\n",
              "4            42999\n",
              "5           438681\n",
              "          ...     \n",
              "378          30643\n",
              "379          17895\n",
              "380          49389\n",
              "381         128465\n",
              "0      0.000360136\n",
              "Length: 382, dtype: object"
            ]
          },
          "metadata": {
            "tags": []
          },
          "execution_count": 147
        },
        {
          "output_type": "execute_result",
          "data": {
            "text/plain": [
              "1          50800\n",
              "2          11081\n",
              "3          10791\n",
              "4          61111\n",
              "5          64723\n",
              "         ...    \n",
              "378        34417\n",
              "379        42222\n",
              "380         9561\n",
              "381        13346\n",
              "0      0.0385845\n",
              "Length: 382, dtype: object"
            ]
          },
          "metadata": {
            "tags": []
          },
          "execution_count": 147
        },
        {
          "output_type": "execute_result",
          "data": {
            "text/plain": [
              "1         153784\n",
              "2          36663\n",
              "3          27744\n",
              "4         198300\n",
              "5         212376\n",
              "         ...    \n",
              "378        98108\n",
              "379       111568\n",
              "380        45752\n",
              "381        57292\n",
              "0      0.0555741\n",
              "Length: 382, dtype: object"
            ]
          },
          "metadata": {
            "tags": []
          },
          "execution_count": 147
        },
        {
          "output_type": "execute_result",
          "data": {
            "text/plain": [
              "1         13318\n",
              "2          4057\n",
              "3         10483\n",
              "4         42999\n",
              "5        438681\n",
              "         ...   \n",
              "378       30643\n",
              "379       17895\n",
              "380       49389\n",
              "381      128465\n",
              "0      0.129052\n",
              "Length: 382, dtype: object"
            ]
          },
          "metadata": {
            "tags": []
          },
          "execution_count": 147
        },
        {
          "output_type": "execute_result",
          "data": {
            "text/plain": [
              "1          50800\n",
              "2          11081\n",
              "3          10791\n",
              "4          61111\n",
              "5          64723\n",
              "         ...    \n",
              "378        34417\n",
              "379        42222\n",
              "380         9561\n",
              "381        13346\n",
              "0      0.0173564\n",
              "Length: 382, dtype: object"
            ]
          },
          "metadata": {
            "tags": []
          },
          "execution_count": 147
        },
        {
          "output_type": "execute_result",
          "data": {
            "text/plain": [
              "1          153784\n",
              "2           36663\n",
              "3           27744\n",
              "4          198300\n",
              "5          212376\n",
              "          ...    \n",
              "378         98108\n",
              "379        111568\n",
              "380         45752\n",
              "381         57292\n",
              "0      0.00992198\n",
              "Length: 382, dtype: object"
            ]
          },
          "metadata": {
            "tags": []
          },
          "execution_count": 147
        },
        {
          "output_type": "execute_result",
          "data": {
            "text/plain": [
              "1           13318\n",
              "2            4057\n",
              "3           10483\n",
              "4           42999\n",
              "5          438681\n",
              "          ...    \n",
              "378         30643\n",
              "379         17895\n",
              "380         49389\n",
              "381        128465\n",
              "0      0.00434105\n",
              "Length: 382, dtype: object"
            ]
          },
          "metadata": {
            "tags": []
          },
          "execution_count": 147
        },
        {
          "output_type": "execute_result",
          "data": {
            "text/plain": [
              "1          50800\n",
              "2          11081\n",
              "3          10791\n",
              "4          61111\n",
              "5          64723\n",
              "         ...    \n",
              "378        34417\n",
              "379        42222\n",
              "380         9561\n",
              "381        13346\n",
              "0      0.0850911\n",
              "Length: 382, dtype: object"
            ]
          },
          "metadata": {
            "tags": []
          },
          "execution_count": 147
        },
        {
          "output_type": "execute_result",
          "data": {
            "text/plain": [
              "1         153784\n",
              "2          36663\n",
              "3          27744\n",
              "4         198300\n",
              "5         212376\n",
              "         ...    \n",
              "378        98108\n",
              "379       111568\n",
              "380        45752\n",
              "381        57292\n",
              "0      0.0716809\n",
              "Length: 382, dtype: object"
            ]
          },
          "metadata": {
            "tags": []
          },
          "execution_count": 147
        },
        {
          "output_type": "execute_result",
          "data": {
            "text/plain": [
              "1          13318\n",
              "2           4057\n",
              "3          10483\n",
              "4          42999\n",
              "5         438681\n",
              "         ...    \n",
              "378        30643\n",
              "379        17895\n",
              "380        49389\n",
              "381       128465\n",
              "0      0.0119685\n",
              "Length: 382, dtype: object"
            ]
          },
          "metadata": {
            "tags": []
          },
          "execution_count": 147
        },
        {
          "output_type": "execute_result",
          "data": {
            "text/plain": [
              "1          50800\n",
              "2          11081\n",
              "3          10791\n",
              "4          61111\n",
              "5          64723\n",
              "         ...    \n",
              "378        34417\n",
              "379        42222\n",
              "380         9561\n",
              "381        13346\n",
              "0      0.0141909\n",
              "Length: 382, dtype: object"
            ]
          },
          "metadata": {
            "tags": []
          },
          "execution_count": 147
        },
        {
          "output_type": "execute_result",
          "data": {
            "text/plain": [
              "1         153784\n",
              "2          36663\n",
              "3          27744\n",
              "4         198300\n",
              "5         212376\n",
              "         ...    \n",
              "378        98108\n",
              "379       111568\n",
              "380        45752\n",
              "381        57292\n",
              "0      0.0173371\n",
              "Length: 382, dtype: object"
            ]
          },
          "metadata": {
            "tags": []
          },
          "execution_count": 147
        },
        {
          "output_type": "execute_result",
          "data": {
            "text/plain": [
              "1        13318\n",
              "2         4057\n",
              "3        10483\n",
              "4        42999\n",
              "5       438681\n",
              "        ...   \n",
              "378      30643\n",
              "379      17895\n",
              "380      49389\n",
              "381     128465\n",
              "0      0.02606\n",
              "Length: 382, dtype: object"
            ]
          },
          "metadata": {
            "tags": []
          },
          "execution_count": 147
        },
        {
          "output_type": "execute_result",
          "data": {
            "text/plain": [
              "1         50800\n",
              "2         11081\n",
              "3         10791\n",
              "4         61111\n",
              "5         64723\n",
              "         ...   \n",
              "378       34417\n",
              "379       42222\n",
              "380        9561\n",
              "381       13346\n",
              "0      0.376039\n",
              "Length: 382, dtype: object"
            ]
          },
          "metadata": {
            "tags": []
          },
          "execution_count": 147
        },
        {
          "output_type": "execute_result",
          "data": {
            "text/plain": [
              "1        153784\n",
              "2         36663\n",
              "3         27744\n",
              "4        198300\n",
              "5        212376\n",
              "         ...   \n",
              "378       98108\n",
              "379      111568\n",
              "380       45752\n",
              "381       57292\n",
              "0      0.290818\n",
              "Length: 382, dtype: object"
            ]
          },
          "metadata": {
            "tags": []
          },
          "execution_count": 147
        },
        {
          "output_type": "execute_result",
          "data": {
            "text/plain": [
              "1         13318\n",
              "2          4057\n",
              "3         10483\n",
              "4         42999\n",
              "5        438681\n",
              "         ...   \n",
              "378       30643\n",
              "379       17895\n",
              "380       49389\n",
              "381      128465\n",
              "0      0.445898\n",
              "Length: 382, dtype: object"
            ]
          },
          "metadata": {
            "tags": []
          },
          "execution_count": 147
        },
        {
          "output_type": "execute_result",
          "data": {
            "text/plain": [
              "1           50800\n",
              "2           11081\n",
              "3           10791\n",
              "4           61111\n",
              "5           64723\n",
              "          ...    \n",
              "378         34417\n",
              "379         42222\n",
              "380          9561\n",
              "381         13346\n",
              "0      0.00835336\n",
              "Length: 382, dtype: object"
            ]
          },
          "metadata": {
            "tags": []
          },
          "execution_count": 147
        },
        {
          "output_type": "execute_result",
          "data": {
            "text/plain": [
              "1          153784\n",
              "2           36663\n",
              "3           27744\n",
              "4          198300\n",
              "5          212376\n",
              "          ...    \n",
              "378         98108\n",
              "379        111568\n",
              "380         45752\n",
              "381         57292\n",
              "0      0.00582689\n",
              "Length: 382, dtype: object"
            ]
          },
          "metadata": {
            "tags": []
          },
          "execution_count": 147
        },
        {
          "output_type": "execute_result",
          "data": {
            "text/plain": [
              "1           13318\n",
              "2            4057\n",
              "3           10483\n",
              "4           42999\n",
              "5          438681\n",
              "          ...    \n",
              "378         30643\n",
              "379         17895\n",
              "380         49389\n",
              "381        128465\n",
              "0      0.00116111\n",
              "Length: 382, dtype: object"
            ]
          },
          "metadata": {
            "tags": []
          },
          "execution_count": 147
        },
        {
          "output_type": "execute_result",
          "data": {
            "text/plain": [
              "1           50800\n",
              "2           11081\n",
              "3           10791\n",
              "4           61111\n",
              "5           64723\n",
              "          ...    \n",
              "378         34417\n",
              "379         42222\n",
              "380          9561\n",
              "381         13346\n",
              "0      0.00640322\n",
              "Length: 382, dtype: object"
            ]
          },
          "metadata": {
            "tags": []
          },
          "execution_count": 147
        },
        {
          "output_type": "execute_result",
          "data": {
            "text/plain": [
              "1          153784\n",
              "2           36663\n",
              "3           27744\n",
              "4          198300\n",
              "5          212376\n",
              "          ...    \n",
              "378         98108\n",
              "379        111568\n",
              "380         45752\n",
              "381         57292\n",
              "0      0.00389978\n",
              "Length: 382, dtype: object"
            ]
          },
          "metadata": {
            "tags": []
          },
          "execution_count": 147
        },
        {
          "output_type": "execute_result",
          "data": {
            "text/plain": [
              "1           13318\n",
              "2            4057\n",
              "3           10483\n",
              "4           42999\n",
              "5          438681\n",
              "          ...    \n",
              "378         30643\n",
              "379         17895\n",
              "380         49389\n",
              "381        128465\n",
              "0      0.00036114\n",
              "Length: 382, dtype: object"
            ]
          },
          "metadata": {
            "tags": []
          },
          "execution_count": 147
        },
        {
          "output_type": "execute_result",
          "data": {
            "text/plain": [
              "1           50800\n",
              "2           11081\n",
              "3           10791\n",
              "4           61111\n",
              "5           64723\n",
              "          ...    \n",
              "378         34417\n",
              "379         42222\n",
              "380          9561\n",
              "381         13346\n",
              "0      0.00904955\n",
              "Length: 382, dtype: object"
            ]
          },
          "metadata": {
            "tags": []
          },
          "execution_count": 147
        },
        {
          "output_type": "execute_result",
          "data": {
            "text/plain": [
              "1         153784\n",
              "2          36663\n",
              "3          27744\n",
              "4         198300\n",
              "5         212376\n",
              "         ...    \n",
              "378        98108\n",
              "379       111568\n",
              "380        45752\n",
              "381        57292\n",
              "0      0.0106017\n",
              "Length: 382, dtype: object"
            ]
          },
          "metadata": {
            "tags": []
          },
          "execution_count": 147
        },
        {
          "output_type": "execute_result",
          "data": {
            "text/plain": [
              "1          13318\n",
              "2           4057\n",
              "3          10483\n",
              "4          42999\n",
              "5         438681\n",
              "         ...    \n",
              "378        30643\n",
              "379        17895\n",
              "380        49389\n",
              "381       128465\n",
              "0      0.0119918\n",
              "Length: 382, dtype: object"
            ]
          },
          "metadata": {
            "tags": []
          },
          "execution_count": 147
        },
        {
          "output_type": "execute_result",
          "data": {
            "text/plain": [
              "1         50800\n",
              "2         11081\n",
              "3         10791\n",
              "4         61111\n",
              "5         64723\n",
              "         ...   \n",
              "378       34417\n",
              "379       42222\n",
              "380        9561\n",
              "381       13346\n",
              "0      0.107849\n",
              "Length: 382, dtype: object"
            ]
          },
          "metadata": {
            "tags": []
          },
          "execution_count": 147
        },
        {
          "output_type": "execute_result",
          "data": {
            "text/plain": [
              "1         153784\n",
              "2          36663\n",
              "3          27744\n",
              "4         198300\n",
              "5         212376\n",
              "         ...    \n",
              "378        98108\n",
              "379       111568\n",
              "380        45752\n",
              "381        57292\n",
              "0      0.0806407\n",
              "Length: 382, dtype: object"
            ]
          },
          "metadata": {
            "tags": []
          },
          "execution_count": 147
        },
        {
          "output_type": "execute_result",
          "data": {
            "text/plain": [
              "1          13318\n",
              "2           4057\n",
              "3          10483\n",
              "4          42999\n",
              "5         438681\n",
              "         ...    \n",
              "378        30643\n",
              "379        17895\n",
              "380        49389\n",
              "381       128465\n",
              "0      0.0274947\n",
              "Length: 382, dtype: object"
            ]
          },
          "metadata": {
            "tags": []
          },
          "execution_count": 147
        },
        {
          "output_type": "execute_result",
          "data": {
            "text/plain": [
              "1         50800\n",
              "2         11081\n",
              "3         10791\n",
              "4         61111\n",
              "5         64723\n",
              "         ...   \n",
              "378       34417\n",
              "379       42222\n",
              "380        9561\n",
              "381       13346\n",
              "0      0.225942\n",
              "Length: 382, dtype: object"
            ]
          },
          "metadata": {
            "tags": []
          },
          "execution_count": 147
        },
        {
          "output_type": "execute_result",
          "data": {
            "text/plain": [
              "1        153784\n",
              "2         36663\n",
              "3         27744\n",
              "4        198300\n",
              "5        212376\n",
              "         ...   \n",
              "378       98108\n",
              "379      111568\n",
              "380       45752\n",
              "381       57292\n",
              "0      0.190326\n",
              "Length: 382, dtype: object"
            ]
          },
          "metadata": {
            "tags": []
          },
          "execution_count": 147
        },
        {
          "output_type": "execute_result",
          "data": {
            "text/plain": [
              "1          13318\n",
              "2           4057\n",
              "3          10483\n",
              "4          42999\n",
              "5         438681\n",
              "         ...    \n",
              "378        30643\n",
              "379        17895\n",
              "380        49389\n",
              "381       128465\n",
              "0      0.0337227\n",
              "Length: 382, dtype: object"
            ]
          },
          "metadata": {
            "tags": []
          },
          "execution_count": 147
        },
        {
          "output_type": "execute_result",
          "data": {
            "text/plain": [
              "1          50800\n",
              "2          11081\n",
              "3          10791\n",
              "4          61111\n",
              "5          64723\n",
              "         ...    \n",
              "378        34417\n",
              "379        42222\n",
              "380         9561\n",
              "381        13346\n",
              "0      0.0112509\n",
              "Length: 382, dtype: object"
            ]
          },
          "metadata": {
            "tags": []
          },
          "execution_count": 147
        },
        {
          "output_type": "execute_result",
          "data": {
            "text/plain": [
              "1          153784\n",
              "2           36663\n",
              "3           27744\n",
              "4          198300\n",
              "5          212376\n",
              "          ...    \n",
              "378         98108\n",
              "379        111568\n",
              "380         45752\n",
              "381         57292\n",
              "0      0.00647737\n",
              "Length: 382, dtype: object"
            ]
          },
          "metadata": {
            "tags": []
          },
          "execution_count": 147
        },
        {
          "output_type": "execute_result",
          "data": {
            "text/plain": [
              "1           13318\n",
              "2            4057\n",
              "3           10483\n",
              "4           42999\n",
              "5          438681\n",
              "          ...    \n",
              "378         30643\n",
              "379         17895\n",
              "380         49389\n",
              "381        128465\n",
              "0      0.00059152\n",
              "Length: 382, dtype: object"
            ]
          },
          "metadata": {
            "tags": []
          },
          "execution_count": 147
        },
        {
          "output_type": "execute_result",
          "data": {
            "text/plain": [
              "1          50800\n",
              "2          11081\n",
              "3          10791\n",
              "4          61111\n",
              "5          64723\n",
              "         ...    \n",
              "378        34417\n",
              "379        42222\n",
              "380         9561\n",
              "381        13346\n",
              "0      0.0269855\n",
              "Length: 382, dtype: object"
            ]
          },
          "metadata": {
            "tags": []
          },
          "execution_count": 147
        },
        {
          "output_type": "execute_result",
          "data": {
            "text/plain": [
              "1         153784\n",
              "2          36663\n",
              "3          27744\n",
              "4         198300\n",
              "5         212376\n",
              "         ...    \n",
              "378        98108\n",
              "379       111568\n",
              "380        45752\n",
              "381        57292\n",
              "0      0.0211805\n",
              "Length: 382, dtype: object"
            ]
          },
          "metadata": {
            "tags": []
          },
          "execution_count": 147
        },
        {
          "output_type": "execute_result",
          "data": {
            "text/plain": [
              "1           13318\n",
              "2            4057\n",
              "3           10483\n",
              "4           42999\n",
              "5          438681\n",
              "          ...    \n",
              "378         30643\n",
              "379         17895\n",
              "380         49389\n",
              "381        128465\n",
              "0      0.00191135\n",
              "Length: 382, dtype: object"
            ]
          },
          "metadata": {
            "tags": []
          },
          "execution_count": 147
        },
        {
          "output_type": "execute_result",
          "data": {
            "text/plain": [
              "1         50800\n",
              "2         11081\n",
              "3         10791\n",
              "4         61111\n",
              "5         64723\n",
              "         ...   \n",
              "378       34417\n",
              "379       42222\n",
              "380        9561\n",
              "381       13346\n",
              "0      0.033634\n",
              "Length: 382, dtype: object"
            ]
          },
          "metadata": {
            "tags": []
          },
          "execution_count": 147
        },
        {
          "output_type": "execute_result",
          "data": {
            "text/plain": [
              "1         153784\n",
              "2          36663\n",
              "3          27744\n",
              "4         198300\n",
              "5         212376\n",
              "         ...    \n",
              "378        98108\n",
              "379       111568\n",
              "380        45752\n",
              "381        57292\n",
              "0      0.0315716\n",
              "Length: 382, dtype: object"
            ]
          },
          "metadata": {
            "tags": []
          },
          "execution_count": 147
        },
        {
          "output_type": "execute_result",
          "data": {
            "text/plain": [
              "1          13318\n",
              "2           4057\n",
              "3          10483\n",
              "4          42999\n",
              "5         438681\n",
              "         ...    \n",
              "378        30643\n",
              "379        17895\n",
              "380        49389\n",
              "381       128465\n",
              "0      0.0403191\n",
              "Length: 382, dtype: object"
            ]
          },
          "metadata": {
            "tags": []
          },
          "execution_count": 147
        },
        {
          "output_type": "execute_result",
          "data": {
            "text/plain": [
              "1          50800\n",
              "2          11081\n",
              "3          10791\n",
              "4          61111\n",
              "5          64723\n",
              "         ...    \n",
              "378        34417\n",
              "379        42222\n",
              "380         9561\n",
              "381        13346\n",
              "0      0.0106289\n",
              "Length: 382, dtype: object"
            ]
          },
          "metadata": {
            "tags": []
          },
          "execution_count": 147
        },
        {
          "output_type": "execute_result",
          "data": {
            "text/plain": [
              "1          153784\n",
              "2           36663\n",
              "3           27744\n",
              "4          198300\n",
              "5          212376\n",
              "          ...    \n",
              "378         98108\n",
              "379        111568\n",
              "380         45752\n",
              "381         57292\n",
              "0      0.00957805\n",
              "Length: 382, dtype: object"
            ]
          },
          "metadata": {
            "tags": []
          },
          "execution_count": 147
        },
        {
          "output_type": "execute_result",
          "data": {
            "text/plain": [
              "1            13318\n",
              "2             4057\n",
              "3            10483\n",
              "4            42999\n",
              "5           438681\n",
              "          ...     \n",
              "378          30643\n",
              "379          17895\n",
              "380          49389\n",
              "381         128465\n",
              "0      0.000746892\n",
              "Length: 382, dtype: object"
            ]
          },
          "metadata": {
            "tags": []
          },
          "execution_count": 147
        },
        {
          "output_type": "execute_result",
          "data": {
            "text/plain": [
              "1          50800\n",
              "2          11081\n",
              "3          10791\n",
              "4          61111\n",
              "5          64723\n",
              "         ...    \n",
              "378        34417\n",
              "379        42222\n",
              "380         9561\n",
              "381        13346\n",
              "0      0.0126067\n",
              "Length: 382, dtype: object"
            ]
          },
          "metadata": {
            "tags": []
          },
          "execution_count": 147
        },
        {
          "output_type": "execute_result",
          "data": {
            "text/plain": [
              "1          153784\n",
              "2           36663\n",
              "3           27744\n",
              "4          198300\n",
              "5          212376\n",
              "          ...    \n",
              "378         98108\n",
              "379        111568\n",
              "380         45752\n",
              "381         57292\n",
              "0      0.00717496\n",
              "Length: 382, dtype: object"
            ]
          },
          "metadata": {
            "tags": []
          },
          "execution_count": 147
        },
        {
          "output_type": "execute_result",
          "data": {
            "text/plain": [
              "1            13318\n",
              "2             4057\n",
              "3            10483\n",
              "4            42999\n",
              "5           438681\n",
              "          ...     \n",
              "378          30643\n",
              "379          17895\n",
              "380          49389\n",
              "381         128465\n",
              "0      0.000864258\n",
              "Length: 382, dtype: object"
            ]
          },
          "metadata": {
            "tags": []
          },
          "execution_count": 147
        },
        {
          "output_type": "execute_result",
          "data": {
            "text/plain": [
              "1          50800\n",
              "2          11081\n",
              "3          10791\n",
              "4          61111\n",
              "5          64723\n",
              "         ...    \n",
              "378        34417\n",
              "379        42222\n",
              "380         9561\n",
              "381        13346\n",
              "0      0.0249404\n",
              "Length: 382, dtype: object"
            ]
          },
          "metadata": {
            "tags": []
          },
          "execution_count": 147
        },
        {
          "output_type": "execute_result",
          "data": {
            "text/plain": [
              "1         153784\n",
              "2          36663\n",
              "3          27744\n",
              "4         198300\n",
              "5         212376\n",
              "         ...    \n",
              "378        98108\n",
              "379       111568\n",
              "380        45752\n",
              "381        57292\n",
              "0      0.0192844\n",
              "Length: 382, dtype: object"
            ]
          },
          "metadata": {
            "tags": []
          },
          "execution_count": 147
        },
        {
          "output_type": "execute_result",
          "data": {
            "text/plain": [
              "1          13318\n",
              "2           4057\n",
              "3          10483\n",
              "4          42999\n",
              "5         438681\n",
              "         ...    \n",
              "378        30643\n",
              "379        17895\n",
              "380        49389\n",
              "381       128465\n",
              "0      0.0019224\n",
              "Length: 382, dtype: object"
            ]
          },
          "metadata": {
            "tags": []
          },
          "execution_count": 147
        },
        {
          "output_type": "execute_result",
          "data": {
            "text/plain": [
              "1           50800\n",
              "2           11081\n",
              "3           10791\n",
              "4           61111\n",
              "5           64723\n",
              "          ...    \n",
              "378         34417\n",
              "379         42222\n",
              "380          9561\n",
              "381         13346\n",
              "0      0.00909603\n",
              "Length: 382, dtype: object"
            ]
          },
          "metadata": {
            "tags": []
          },
          "execution_count": 147
        },
        {
          "output_type": "execute_result",
          "data": {
            "text/plain": [
              "1          153784\n",
              "2           36663\n",
              "3           27744\n",
              "4          198300\n",
              "5          212376\n",
              "          ...    \n",
              "378         98108\n",
              "379        111568\n",
              "380         45752\n",
              "381         57292\n",
              "0      0.00839807\n",
              "Length: 382, dtype: object"
            ]
          },
          "metadata": {
            "tags": []
          },
          "execution_count": 147
        },
        {
          "output_type": "execute_result",
          "data": {
            "text/plain": [
              "1            13318\n",
              "2             4057\n",
              "3            10483\n",
              "4            42999\n",
              "5           438681\n",
              "          ...     \n",
              "378          30643\n",
              "379          17895\n",
              "380          49389\n",
              "381         128465\n",
              "0      0.000483194\n",
              "Length: 382, dtype: object"
            ]
          },
          "metadata": {
            "tags": []
          },
          "execution_count": 147
        },
        {
          "output_type": "execute_result",
          "data": {
            "text/plain": [
              "1           50800\n",
              "2           11081\n",
              "3           10791\n",
              "4           61111\n",
              "5           64723\n",
              "          ...    \n",
              "378         34417\n",
              "379         42222\n",
              "380          9561\n",
              "381         13346\n",
              "0      0.00841072\n",
              "Length: 382, dtype: object"
            ]
          },
          "metadata": {
            "tags": []
          },
          "execution_count": 147
        },
        {
          "output_type": "execute_result",
          "data": {
            "text/plain": [
              "1          153784\n",
              "2           36663\n",
              "3           27744\n",
              "4          198300\n",
              "5          212376\n",
              "          ...    \n",
              "378         98108\n",
              "379        111568\n",
              "380         45752\n",
              "381         57292\n",
              "0      0.00512377\n",
              "Length: 382, dtype: object"
            ]
          },
          "metadata": {
            "tags": []
          },
          "execution_count": 147
        },
        {
          "output_type": "execute_result",
          "data": {
            "text/plain": [
              "1           13318\n",
              "2            4057\n",
              "3           10483\n",
              "4           42999\n",
              "5          438681\n",
              "          ...    \n",
              "378         30643\n",
              "379         17895\n",
              "380         49389\n",
              "381        128465\n",
              "0      0.00152442\n",
              "Length: 382, dtype: object"
            ]
          },
          "metadata": {
            "tags": []
          },
          "execution_count": 147
        },
        {
          "output_type": "execute_result",
          "data": {
            "text/plain": [
              "1           50800\n",
              "2           11081\n",
              "3           10791\n",
              "4           61111\n",
              "5           64723\n",
              "          ...    \n",
              "378         34417\n",
              "379         42222\n",
              "380          9561\n",
              "381         13346\n",
              "0      0.00786978\n",
              "Length: 382, dtype: object"
            ]
          },
          "metadata": {
            "tags": []
          },
          "execution_count": 147
        },
        {
          "output_type": "execute_result",
          "data": {
            "text/plain": [
              "1          153784\n",
              "2           36663\n",
              "3           27744\n",
              "4          198300\n",
              "5          212376\n",
              "          ...    \n",
              "378         98108\n",
              "379        111568\n",
              "380         45752\n",
              "381         57292\n",
              "0      0.00597066\n",
              "Length: 382, dtype: object"
            ]
          },
          "metadata": {
            "tags": []
          },
          "execution_count": 147
        },
        {
          "output_type": "execute_result",
          "data": {
            "text/plain": [
              "1           13318\n",
              "2            4057\n",
              "3           10483\n",
              "4           42999\n",
              "5          438681\n",
              "          ...    \n",
              "378         30643\n",
              "379         17895\n",
              "380         49389\n",
              "381        128465\n",
              "0      0.00365845\n",
              "Length: 382, dtype: object"
            ]
          },
          "metadata": {
            "tags": []
          },
          "execution_count": 147
        },
        {
          "output_type": "execute_result",
          "data": {
            "text/plain": [
              "1           50800\n",
              "2           11081\n",
              "3           10791\n",
              "4           61111\n",
              "5           64723\n",
              "          ...    \n",
              "378         34417\n",
              "379         42222\n",
              "380          9561\n",
              "381         13346\n",
              "0      0.00787275\n",
              "Length: 382, dtype: object"
            ]
          },
          "metadata": {
            "tags": []
          },
          "execution_count": 147
        },
        {
          "output_type": "execute_result",
          "data": {
            "text/plain": [
              "1          153784\n",
              "2           36663\n",
              "3           27744\n",
              "4          198300\n",
              "5          212376\n",
              "          ...    \n",
              "378         98108\n",
              "379        111568\n",
              "380         45752\n",
              "381         57292\n",
              "0      0.00645835\n",
              "Length: 382, dtype: object"
            ]
          },
          "metadata": {
            "tags": []
          },
          "execution_count": 147
        },
        {
          "output_type": "execute_result",
          "data": {
            "text/plain": [
              "1            13318\n",
              "2             4057\n",
              "3            10483\n",
              "4            42999\n",
              "5           438681\n",
              "          ...     \n",
              "378          30643\n",
              "379          17895\n",
              "380          49389\n",
              "381         128465\n",
              "0      0.000445523\n",
              "Length: 382, dtype: object"
            ]
          },
          "metadata": {
            "tags": []
          },
          "execution_count": 147
        },
        {
          "output_type": "execute_result",
          "data": {
            "text/plain": [
              "1          50800\n",
              "2          11081\n",
              "3          10791\n",
              "4          61111\n",
              "5          64723\n",
              "         ...    \n",
              "378        34417\n",
              "379        42222\n",
              "380         9561\n",
              "381        13346\n",
              "0      0.0130497\n",
              "Length: 382, dtype: object"
            ]
          },
          "metadata": {
            "tags": []
          },
          "execution_count": 147
        },
        {
          "output_type": "execute_result",
          "data": {
            "text/plain": [
              "1          153784\n",
              "2           36663\n",
              "3           27744\n",
              "4          198300\n",
              "5          212376\n",
              "          ...    \n",
              "378         98108\n",
              "379        111568\n",
              "380         45752\n",
              "381         57292\n",
              "0      0.00900653\n",
              "Length: 382, dtype: object"
            ]
          },
          "metadata": {
            "tags": []
          },
          "execution_count": 147
        },
        {
          "output_type": "execute_result",
          "data": {
            "text/plain": [
              "1           13318\n",
              "2            4057\n",
              "3           10483\n",
              "4           42999\n",
              "5          438681\n",
              "          ...    \n",
              "378         30643\n",
              "379         17895\n",
              "380         49389\n",
              "381        128465\n",
              "0      0.00157582\n",
              "Length: 382, dtype: object"
            ]
          },
          "metadata": {
            "tags": []
          },
          "execution_count": 147
        },
        {
          "output_type": "execute_result",
          "data": {
            "text/plain": [
              "1          50800\n",
              "2          11081\n",
              "3          10791\n",
              "4          61111\n",
              "5          64723\n",
              "         ...    \n",
              "378        34417\n",
              "379        42222\n",
              "380         9561\n",
              "381        13346\n",
              "0      0.0396179\n",
              "Length: 382, dtype: object"
            ]
          },
          "metadata": {
            "tags": []
          },
          "execution_count": 147
        },
        {
          "output_type": "execute_result",
          "data": {
            "text/plain": [
              "1         153784\n",
              "2          36663\n",
              "3          27744\n",
              "4         198300\n",
              "5         212376\n",
              "         ...    \n",
              "378        98108\n",
              "379       111568\n",
              "380        45752\n",
              "381        57292\n",
              "0      0.0189745\n",
              "Length: 382, dtype: object"
            ]
          },
          "metadata": {
            "tags": []
          },
          "execution_count": 147
        },
        {
          "output_type": "execute_result",
          "data": {
            "text/plain": [
              "1           13318\n",
              "2            4057\n",
              "3           10483\n",
              "4           42999\n",
              "5          438681\n",
              "          ...    \n",
              "378         30643\n",
              "379         17895\n",
              "380         49389\n",
              "381        128465\n",
              "0      0.00408422\n",
              "Length: 382, dtype: object"
            ]
          },
          "metadata": {
            "tags": []
          },
          "execution_count": 147
        },
        {
          "output_type": "execute_result",
          "data": {
            "text/plain": [
              "1           50800\n",
              "2           11081\n",
              "3           10791\n",
              "4           61111\n",
              "5           64723\n",
              "          ...    \n",
              "378         34417\n",
              "379         42222\n",
              "380          9561\n",
              "381         13346\n",
              "0      0.00742774\n",
              "Length: 382, dtype: object"
            ]
          },
          "metadata": {
            "tags": []
          },
          "execution_count": 147
        },
        {
          "output_type": "execute_result",
          "data": {
            "text/plain": [
              "1         153784\n",
              "2          36663\n",
              "3          27744\n",
              "4         198300\n",
              "5         212376\n",
              "         ...    \n",
              "378        98108\n",
              "379       111568\n",
              "380        45752\n",
              "381        57292\n",
              "0      0.0067461\n",
              "Length: 382, dtype: object"
            ]
          },
          "metadata": {
            "tags": []
          },
          "execution_count": 147
        },
        {
          "output_type": "execute_result",
          "data": {
            "text/plain": [
              "1           13318\n",
              "2            4057\n",
              "3           10483\n",
              "4           42999\n",
              "5          438681\n",
              "          ...    \n",
              "378         30643\n",
              "379         17895\n",
              "380         49389\n",
              "381        128465\n",
              "0      0.00796065\n",
              "Length: 382, dtype: object"
            ]
          },
          "metadata": {
            "tags": []
          },
          "execution_count": 147
        },
        {
          "output_type": "execute_result",
          "data": {
            "text/plain": [
              "1          50800\n",
              "2          11081\n",
              "3          10791\n",
              "4          61111\n",
              "5          64723\n",
              "         ...    \n",
              "378        34417\n",
              "379        42222\n",
              "380         9561\n",
              "381        13346\n",
              "0      0.0242561\n",
              "Length: 382, dtype: object"
            ]
          },
          "metadata": {
            "tags": []
          },
          "execution_count": 147
        },
        {
          "output_type": "execute_result",
          "data": {
            "text/plain": [
              "1         153784\n",
              "2          36663\n",
              "3          27744\n",
              "4         198300\n",
              "5         212376\n",
              "         ...    \n",
              "378        98108\n",
              "379       111568\n",
              "380        45752\n",
              "381        57292\n",
              "0      0.0143163\n",
              "Length: 382, dtype: object"
            ]
          },
          "metadata": {
            "tags": []
          },
          "execution_count": 147
        },
        {
          "output_type": "execute_result",
          "data": {
            "text/plain": [
              "1          13318\n",
              "2           4057\n",
              "3          10483\n",
              "4          42999\n",
              "5         438681\n",
              "         ...    \n",
              "378        30643\n",
              "379        17895\n",
              "380        49389\n",
              "381       128465\n",
              "0      0.0162317\n",
              "Length: 382, dtype: object"
            ]
          },
          "metadata": {
            "tags": []
          },
          "execution_count": 147
        },
        {
          "output_type": "execute_result",
          "data": {
            "text/plain": [
              "1         50800\n",
              "2         11081\n",
              "3         10791\n",
              "4         61111\n",
              "5         64723\n",
              "         ...   \n",
              "378       34417\n",
              "379       42222\n",
              "380        9561\n",
              "381       13346\n",
              "0      0.135407\n",
              "Length: 382, dtype: object"
            ]
          },
          "metadata": {
            "tags": []
          },
          "execution_count": 147
        },
        {
          "output_type": "execute_result",
          "data": {
            "text/plain": [
              "1        153784\n",
              "2         36663\n",
              "3         27744\n",
              "4        198300\n",
              "5        212376\n",
              "         ...   \n",
              "378       98108\n",
              "379      111568\n",
              "380       45752\n",
              "381       57292\n",
              "0      0.102579\n",
              "Length: 382, dtype: object"
            ]
          },
          "metadata": {
            "tags": []
          },
          "execution_count": 147
        },
        {
          "output_type": "execute_result",
          "data": {
            "text/plain": [
              "1          13318\n",
              "2           4057\n",
              "3          10483\n",
              "4          42999\n",
              "5         438681\n",
              "         ...    \n",
              "378        30643\n",
              "379        17895\n",
              "380        49389\n",
              "381       128465\n",
              "0      0.0214179\n",
              "Length: 382, dtype: object"
            ]
          },
          "metadata": {
            "tags": []
          },
          "execution_count": 147
        },
        {
          "output_type": "execute_result",
          "data": {
            "text/plain": [
              "1           50800\n",
              "2           11081\n",
              "3           10791\n",
              "4           61111\n",
              "5           64723\n",
              "          ...    \n",
              "378         34417\n",
              "379         42222\n",
              "380          9561\n",
              "381         13346\n",
              "0      0.00870343\n",
              "Length: 382, dtype: object"
            ]
          },
          "metadata": {
            "tags": []
          },
          "execution_count": 147
        },
        {
          "output_type": "execute_result",
          "data": {
            "text/plain": [
              "1         153784\n",
              "2          36663\n",
              "3          27744\n",
              "4         198300\n",
              "5         212376\n",
              "         ...    \n",
              "378        98108\n",
              "379       111568\n",
              "380        45752\n",
              "381        57292\n",
              "0      0.0064745\n",
              "Length: 382, dtype: object"
            ]
          },
          "metadata": {
            "tags": []
          },
          "execution_count": 147
        },
        {
          "output_type": "execute_result",
          "data": {
            "text/plain": [
              "1           13318\n",
              "2            4057\n",
              "3           10483\n",
              "4           42999\n",
              "5          438681\n",
              "          ...    \n",
              "378         30643\n",
              "379         17895\n",
              "380         49389\n",
              "381        128465\n",
              "0      0.00138412\n",
              "Length: 382, dtype: object"
            ]
          },
          "metadata": {
            "tags": []
          },
          "execution_count": 147
        },
        {
          "output_type": "execute_result",
          "data": {
            "text/plain": [
              "1          50800\n",
              "2          11081\n",
              "3          10791\n",
              "4          61111\n",
              "5          64723\n",
              "         ...    \n",
              "378        34417\n",
              "379        42222\n",
              "380         9561\n",
              "381        13346\n",
              "0      0.0545446\n",
              "Length: 382, dtype: object"
            ]
          },
          "metadata": {
            "tags": []
          },
          "execution_count": 147
        },
        {
          "output_type": "execute_result",
          "data": {
            "text/plain": [
              "1         153784\n",
              "2          36663\n",
              "3          27744\n",
              "4         198300\n",
              "5         212376\n",
              "         ...    \n",
              "378        98108\n",
              "379       111568\n",
              "380        45752\n",
              "381        57292\n",
              "0      0.0417904\n",
              "Length: 382, dtype: object"
            ]
          },
          "metadata": {
            "tags": []
          },
          "execution_count": 147
        },
        {
          "output_type": "execute_result",
          "data": {
            "text/plain": [
              "1          13318\n",
              "2           4057\n",
              "3          10483\n",
              "4          42999\n",
              "5         438681\n",
              "         ...    \n",
              "378        30643\n",
              "379        17895\n",
              "380        49389\n",
              "381       128465\n",
              "0      0.0248539\n",
              "Length: 382, dtype: object"
            ]
          },
          "metadata": {
            "tags": []
          },
          "execution_count": 147
        },
        {
          "output_type": "execute_result",
          "data": {
            "text/plain": [
              "1         50800\n",
              "2         11081\n",
              "3         10791\n",
              "4         61111\n",
              "5         64723\n",
              "         ...   \n",
              "378       34417\n",
              "379       42222\n",
              "380        9561\n",
              "381       13346\n",
              "0      0.074669\n",
              "Length: 382, dtype: object"
            ]
          },
          "metadata": {
            "tags": []
          },
          "execution_count": 147
        },
        {
          "output_type": "execute_result",
          "data": {
            "text/plain": [
              "1         153784\n",
              "2          36663\n",
              "3          27744\n",
              "4         198300\n",
              "5         212376\n",
              "         ...    \n",
              "378        98108\n",
              "379       111568\n",
              "380        45752\n",
              "381        57292\n",
              "0      0.0633175\n",
              "Length: 382, dtype: object"
            ]
          },
          "metadata": {
            "tags": []
          },
          "execution_count": 147
        },
        {
          "output_type": "execute_result",
          "data": {
            "text/plain": [
              "1          13318\n",
              "2           4057\n",
              "3          10483\n",
              "4          42999\n",
              "5         438681\n",
              "         ...    \n",
              "378        30643\n",
              "379        17895\n",
              "380        49389\n",
              "381       128465\n",
              "0      0.0182872\n",
              "Length: 382, dtype: object"
            ]
          },
          "metadata": {
            "tags": []
          },
          "execution_count": 147
        },
        {
          "output_type": "execute_result",
          "data": {
            "text/plain": [
              "1      50800\n",
              "2      11081\n",
              "3      10791\n",
              "4      61111\n",
              "5      64723\n",
              "       ...  \n",
              "378    34417\n",
              "379    42222\n",
              "380     9561\n",
              "381    13346\n",
              "0          1\n",
              "Length: 382, dtype: object"
            ]
          },
          "metadata": {
            "tags": []
          },
          "execution_count": 147
        },
        {
          "output_type": "execute_result",
          "data": {
            "text/plain": [
              "1      153784\n",
              "2       36663\n",
              "3       27744\n",
              "4      198300\n",
              "5      212376\n",
              "        ...  \n",
              "378     98108\n",
              "379    111568\n",
              "380     45752\n",
              "381     57292\n",
              "0           1\n",
              "Length: 382, dtype: object"
            ]
          },
          "metadata": {
            "tags": []
          },
          "execution_count": 147
        },
        {
          "output_type": "execute_result",
          "data": {
            "text/plain": [
              "1         13318\n",
              "2          4057\n",
              "3         10483\n",
              "4         42999\n",
              "5        438681\n",
              "         ...   \n",
              "378       30643\n",
              "379       17895\n",
              "380       49389\n",
              "381      128465\n",
              "0      0.814298\n",
              "Length: 382, dtype: object"
            ]
          },
          "metadata": {
            "tags": []
          },
          "execution_count": 147
        },
        {
          "output_type": "execute_result",
          "data": {
            "text/plain": [
              "1          50800\n",
              "2          11081\n",
              "3          10791\n",
              "4          61111\n",
              "5          64723\n",
              "         ...    \n",
              "378        34417\n",
              "379        42222\n",
              "380         9561\n",
              "381        13346\n",
              "0      0.0115031\n",
              "Length: 382, dtype: object"
            ]
          },
          "metadata": {
            "tags": []
          },
          "execution_count": 147
        },
        {
          "output_type": "execute_result",
          "data": {
            "text/plain": [
              "1          153784\n",
              "2           36663\n",
              "3           27744\n",
              "4          198300\n",
              "5          212376\n",
              "          ...    \n",
              "378         98108\n",
              "379        111568\n",
              "380         45752\n",
              "381         57292\n",
              "0      0.00722539\n",
              "Length: 382, dtype: object"
            ]
          },
          "metadata": {
            "tags": []
          },
          "execution_count": 147
        },
        {
          "output_type": "execute_result",
          "data": {
            "text/plain": [
              "1           13318\n",
              "2            4057\n",
              "3           10483\n",
              "4           42999\n",
              "5          438681\n",
              "          ...    \n",
              "378         30643\n",
              "379         17895\n",
              "380         49389\n",
              "381        128465\n",
              "0      0.00135281\n",
              "Length: 382, dtype: object"
            ]
          },
          "metadata": {
            "tags": []
          },
          "execution_count": 147
        },
        {
          "output_type": "execute_result",
          "data": {
            "text/plain": [
              "1          50800\n",
              "2          11081\n",
              "3          10791\n",
              "4          61111\n",
              "5          64723\n",
              "         ...    \n",
              "378        34417\n",
              "379        42222\n",
              "380         9561\n",
              "381        13346\n",
              "0      0.0636683\n",
              "Length: 382, dtype: object"
            ]
          },
          "metadata": {
            "tags": []
          },
          "execution_count": 147
        },
        {
          "output_type": "execute_result",
          "data": {
            "text/plain": [
              "1         153784\n",
              "2          36663\n",
              "3          27744\n",
              "4         198300\n",
              "5         212376\n",
              "         ...    \n",
              "378        98108\n",
              "379       111568\n",
              "380        45752\n",
              "381        57292\n",
              "0      0.0295994\n",
              "Length: 382, dtype: object"
            ]
          },
          "metadata": {
            "tags": []
          },
          "execution_count": 147
        },
        {
          "output_type": "execute_result",
          "data": {
            "text/plain": [
              "1          13318\n",
              "2           4057\n",
              "3          10483\n",
              "4          42999\n",
              "5         438681\n",
              "         ...    \n",
              "378        30643\n",
              "379        17895\n",
              "380        49389\n",
              "381       128465\n",
              "0      0.0156285\n",
              "Length: 382, dtype: object"
            ]
          },
          "metadata": {
            "tags": []
          },
          "execution_count": 147
        },
        {
          "output_type": "execute_result",
          "data": {
            "text/plain": [
              "1          50800\n",
              "2          11081\n",
              "3          10791\n",
              "4          61111\n",
              "5          64723\n",
              "         ...    \n",
              "378        34417\n",
              "379        42222\n",
              "380         9561\n",
              "381        13346\n",
              "0      0.0213299\n",
              "Length: 382, dtype: object"
            ]
          },
          "metadata": {
            "tags": []
          },
          "execution_count": 147
        },
        {
          "output_type": "execute_result",
          "data": {
            "text/plain": [
              "1         153784\n",
              "2          36663\n",
              "3          27744\n",
              "4         198300\n",
              "5         212376\n",
              "         ...    \n",
              "378        98108\n",
              "379       111568\n",
              "380        45752\n",
              "381        57292\n",
              "0      0.0132363\n",
              "Length: 382, dtype: object"
            ]
          },
          "metadata": {
            "tags": []
          },
          "execution_count": 147
        },
        {
          "output_type": "execute_result",
          "data": {
            "text/plain": [
              "1           13318\n",
              "2            4057\n",
              "3           10483\n",
              "4           42999\n",
              "5          438681\n",
              "          ...    \n",
              "378         30643\n",
              "379         17895\n",
              "380         49389\n",
              "381        128465\n",
              "0      0.00455167\n",
              "Length: 382, dtype: object"
            ]
          },
          "metadata": {
            "tags": []
          },
          "execution_count": 147
        },
        {
          "output_type": "execute_result",
          "data": {
            "text/plain": [
              "1          50800\n",
              "2          11081\n",
              "3          10791\n",
              "4          61111\n",
              "5          64723\n",
              "         ...    \n",
              "378        34417\n",
              "379        42222\n",
              "380         9561\n",
              "381        13346\n",
              "0      0.0255308\n",
              "Length: 382, dtype: object"
            ]
          },
          "metadata": {
            "tags": []
          },
          "execution_count": 147
        },
        {
          "output_type": "execute_result",
          "data": {
            "text/plain": [
              "1         153784\n",
              "2          36663\n",
              "3          27744\n",
              "4         198300\n",
              "5         212376\n",
              "         ...    \n",
              "378        98108\n",
              "379       111568\n",
              "380        45752\n",
              "381        57292\n",
              "0      0.0142088\n",
              "Length: 382, dtype: object"
            ]
          },
          "metadata": {
            "tags": []
          },
          "execution_count": 147
        },
        {
          "output_type": "execute_result",
          "data": {
            "text/plain": [
              "1           13318\n",
              "2            4057\n",
              "3           10483\n",
              "4           42999\n",
              "5          438681\n",
              "          ...    \n",
              "378         30643\n",
              "379         17895\n",
              "380         49389\n",
              "381        128465\n",
              "0      0.00711012\n",
              "Length: 382, dtype: object"
            ]
          },
          "metadata": {
            "tags": []
          },
          "execution_count": 147
        },
        {
          "output_type": "execute_result",
          "data": {
            "text/plain": [
              "1          50800\n",
              "2          11081\n",
              "3          10791\n",
              "4          61111\n",
              "5          64723\n",
              "         ...    \n",
              "378        34417\n",
              "379        42222\n",
              "380         9561\n",
              "381        13346\n",
              "0      0.0066811\n",
              "Length: 382, dtype: object"
            ]
          },
          "metadata": {
            "tags": []
          },
          "execution_count": 147
        },
        {
          "output_type": "execute_result",
          "data": {
            "text/plain": [
              "1          153784\n",
              "2           36663\n",
              "3           27744\n",
              "4          198300\n",
              "5          212376\n",
              "          ...    \n",
              "378         98108\n",
              "379        111568\n",
              "380         45752\n",
              "381         57292\n",
              "0      0.00384449\n",
              "Length: 382, dtype: object"
            ]
          },
          "metadata": {
            "tags": []
          },
          "execution_count": 147
        },
        {
          "output_type": "execute_result",
          "data": {
            "text/plain": [
              "1           13318\n",
              "2            4057\n",
              "3           10483\n",
              "4           42999\n",
              "5          438681\n",
              "          ...    \n",
              "378         30643\n",
              "379         17895\n",
              "380         49389\n",
              "381        128465\n",
              "0      0.00116429\n",
              "Length: 382, dtype: object"
            ]
          },
          "metadata": {
            "tags": []
          },
          "execution_count": 147
        },
        {
          "output_type": "execute_result",
          "data": {
            "text/plain": [
              "1          50800\n",
              "2          11081\n",
              "3          10791\n",
              "4          61111\n",
              "5          64723\n",
              "         ...    \n",
              "378        34417\n",
              "379        42222\n",
              "380         9561\n",
              "381        13346\n",
              "0      0.0106694\n",
              "Length: 382, dtype: object"
            ]
          },
          "metadata": {
            "tags": []
          },
          "execution_count": 147
        },
        {
          "output_type": "execute_result",
          "data": {
            "text/plain": [
              "1         153784\n",
              "2          36663\n",
              "3          27744\n",
              "4         198300\n",
              "5         212376\n",
              "         ...    \n",
              "378        98108\n",
              "379       111568\n",
              "380        45752\n",
              "381        57292\n",
              "0      0.0105503\n",
              "Length: 382, dtype: object"
            ]
          },
          "metadata": {
            "tags": []
          },
          "execution_count": 147
        },
        {
          "output_type": "execute_result",
          "data": {
            "text/plain": [
              "1          13318\n",
              "2           4057\n",
              "3          10483\n",
              "4          42999\n",
              "5         438681\n",
              "         ...    \n",
              "378        30643\n",
              "379        17895\n",
              "380        49389\n",
              "381       128465\n",
              "0      0.0153154\n",
              "Length: 382, dtype: object"
            ]
          },
          "metadata": {
            "tags": []
          },
          "execution_count": 147
        },
        {
          "output_type": "execute_result",
          "data": {
            "text/plain": [
              "1          50800\n",
              "2          11081\n",
              "3          10791\n",
              "4          61111\n",
              "5          64723\n",
              "         ...    \n",
              "378        34417\n",
              "379        42222\n",
              "380         9561\n",
              "381        13346\n",
              "0      0.0388317\n",
              "Length: 382, dtype: object"
            ]
          },
          "metadata": {
            "tags": []
          },
          "execution_count": 147
        },
        {
          "output_type": "execute_result",
          "data": {
            "text/plain": [
              "1         153784\n",
              "2          36663\n",
              "3          27744\n",
              "4         198300\n",
              "5         212376\n",
              "         ...    \n",
              "378        98108\n",
              "379       111568\n",
              "380        45752\n",
              "381        57292\n",
              "0      0.0416141\n",
              "Length: 382, dtype: object"
            ]
          },
          "metadata": {
            "tags": []
          },
          "execution_count": 147
        },
        {
          "output_type": "execute_result",
          "data": {
            "text/plain": [
              "1          13318\n",
              "2           4057\n",
              "3          10483\n",
              "4          42999\n",
              "5         438681\n",
              "         ...    \n",
              "378        30643\n",
              "379        17895\n",
              "380        49389\n",
              "381       128465\n",
              "0      0.0133265\n",
              "Length: 382, dtype: object"
            ]
          },
          "metadata": {
            "tags": []
          },
          "execution_count": 147
        },
        {
          "output_type": "execute_result",
          "data": {
            "text/plain": [
              "1          50800\n",
              "2          11081\n",
              "3          10791\n",
              "4          61111\n",
              "5          64723\n",
              "         ...    \n",
              "378        34417\n",
              "379        42222\n",
              "380         9561\n",
              "381        13346\n",
              "0      0.0998517\n",
              "Length: 382, dtype: object"
            ]
          },
          "metadata": {
            "tags": []
          },
          "execution_count": 147
        },
        {
          "output_type": "execute_result",
          "data": {
            "text/plain": [
              "1         153784\n",
              "2          36663\n",
              "3          27744\n",
              "4         198300\n",
              "5         212376\n",
              "         ...    \n",
              "378        98108\n",
              "379       111568\n",
              "380        45752\n",
              "381        57292\n",
              "0      0.0773896\n",
              "Length: 382, dtype: object"
            ]
          },
          "metadata": {
            "tags": []
          },
          "execution_count": 147
        },
        {
          "output_type": "execute_result",
          "data": {
            "text/plain": [
              "1          13318\n",
              "2           4057\n",
              "3          10483\n",
              "4          42999\n",
              "5         438681\n",
              "         ...    \n",
              "378        30643\n",
              "379        17895\n",
              "380        49389\n",
              "381       128465\n",
              "0      0.0289917\n",
              "Length: 382, dtype: object"
            ]
          },
          "metadata": {
            "tags": []
          },
          "execution_count": 147
        },
        {
          "output_type": "execute_result",
          "data": {
            "text/plain": [
              "1          50800\n",
              "2          11081\n",
              "3          10791\n",
              "4          61111\n",
              "5          64723\n",
              "         ...    \n",
              "378        34417\n",
              "379        42222\n",
              "380         9561\n",
              "381        13346\n",
              "0      0.0202658\n",
              "Length: 382, dtype: object"
            ]
          },
          "metadata": {
            "tags": []
          },
          "execution_count": 147
        },
        {
          "output_type": "execute_result",
          "data": {
            "text/plain": [
              "1         153784\n",
              "2          36663\n",
              "3          27744\n",
              "4         198300\n",
              "5         212376\n",
              "         ...    \n",
              "378        98108\n",
              "379       111568\n",
              "380        45752\n",
              "381        57292\n",
              "0      0.0142104\n",
              "Length: 382, dtype: object"
            ]
          },
          "metadata": {
            "tags": []
          },
          "execution_count": 147
        },
        {
          "output_type": "execute_result",
          "data": {
            "text/plain": [
              "1           13318\n",
              "2            4057\n",
              "3           10483\n",
              "4           42999\n",
              "5          438681\n",
              "          ...    \n",
              "378         30643\n",
              "379         17895\n",
              "380         49389\n",
              "381        128465\n",
              "0      0.00384747\n",
              "Length: 382, dtype: object"
            ]
          },
          "metadata": {
            "tags": []
          },
          "execution_count": 147
        },
        {
          "output_type": "execute_result",
          "data": {
            "text/plain": [
              "1          50800\n",
              "2          11081\n",
              "3          10791\n",
              "4          61111\n",
              "5          64723\n",
              "         ...    \n",
              "378        34417\n",
              "379        42222\n",
              "380         9561\n",
              "381        13346\n",
              "0      0.0660308\n",
              "Length: 382, dtype: object"
            ]
          },
          "metadata": {
            "tags": []
          },
          "execution_count": 147
        },
        {
          "output_type": "execute_result",
          "data": {
            "text/plain": [
              "1         153784\n",
              "2          36663\n",
              "3          27744\n",
              "4         198300\n",
              "5         212376\n",
              "         ...    \n",
              "378        98108\n",
              "379       111568\n",
              "380        45752\n",
              "381        57292\n",
              "0      0.0515403\n",
              "Length: 382, dtype: object"
            ]
          },
          "metadata": {
            "tags": []
          },
          "execution_count": 147
        },
        {
          "output_type": "execute_result",
          "data": {
            "text/plain": [
              "1          13318\n",
              "2           4057\n",
              "3          10483\n",
              "4          42999\n",
              "5         438681\n",
              "         ...    \n",
              "378        30643\n",
              "379        17895\n",
              "380        49389\n",
              "381       128465\n",
              "0      0.0154009\n",
              "Length: 382, dtype: object"
            ]
          },
          "metadata": {
            "tags": []
          },
          "execution_count": 147
        },
        {
          "output_type": "execute_result",
          "data": {
            "text/plain": [
              "1         50800\n",
              "2         11081\n",
              "3         10791\n",
              "4         61111\n",
              "5         64723\n",
              "         ...   \n",
              "378       34417\n",
              "379       42222\n",
              "380        9561\n",
              "381       13346\n",
              "0      0.161812\n",
              "Length: 382, dtype: object"
            ]
          },
          "metadata": {
            "tags": []
          },
          "execution_count": 147
        },
        {
          "output_type": "execute_result",
          "data": {
            "text/plain": [
              "1        153784\n",
              "2         36663\n",
              "3         27744\n",
              "4        198300\n",
              "5        212376\n",
              "         ...   \n",
              "378       98108\n",
              "379      111568\n",
              "380       45752\n",
              "381       57292\n",
              "0      0.133011\n",
              "Length: 382, dtype: object"
            ]
          },
          "metadata": {
            "tags": []
          },
          "execution_count": 147
        },
        {
          "output_type": "execute_result",
          "data": {
            "text/plain": [
              "1         13318\n",
              "2          4057\n",
              "3         10483\n",
              "4         42999\n",
              "5        438681\n",
              "         ...   \n",
              "378       30643\n",
              "379       17895\n",
              "380       49389\n",
              "381      128465\n",
              "0      0.116183\n",
              "Length: 382, dtype: object"
            ]
          },
          "metadata": {
            "tags": []
          },
          "execution_count": 147
        },
        {
          "output_type": "execute_result",
          "data": {
            "text/plain": [
              "1          50800\n",
              "2          11081\n",
              "3          10791\n",
              "4          61111\n",
              "5          64723\n",
              "         ...    \n",
              "378        34417\n",
              "379        42222\n",
              "380         9561\n",
              "381        13346\n",
              "0      0.0145281\n",
              "Length: 382, dtype: object"
            ]
          },
          "metadata": {
            "tags": []
          },
          "execution_count": 147
        },
        {
          "output_type": "execute_result",
          "data": {
            "text/plain": [
              "1          153784\n",
              "2           36663\n",
              "3           27744\n",
              "4          198300\n",
              "5          212376\n",
              "          ...    \n",
              "378         98108\n",
              "379        111568\n",
              "380         45752\n",
              "381         57292\n",
              "0      0.00881123\n",
              "Length: 382, dtype: object"
            ]
          },
          "metadata": {
            "tags": []
          },
          "execution_count": 147
        },
        {
          "output_type": "execute_result",
          "data": {
            "text/plain": [
              "1           13318\n",
              "2            4057\n",
              "3           10483\n",
              "4           42999\n",
              "5          438681\n",
              "          ...    \n",
              "378         30643\n",
              "379         17895\n",
              "380         49389\n",
              "381        128465\n",
              "0      0.00111406\n",
              "Length: 382, dtype: object"
            ]
          },
          "metadata": {
            "tags": []
          },
          "execution_count": 147
        },
        {
          "output_type": "execute_result",
          "data": {
            "text/plain": [
              "1           50800\n",
              "2           11081\n",
              "3           10791\n",
              "4           61111\n",
              "5           64723\n",
              "          ...    \n",
              "378         34417\n",
              "379         42222\n",
              "380          9561\n",
              "381         13346\n",
              "0      0.00958851\n",
              "Length: 382, dtype: object"
            ]
          },
          "metadata": {
            "tags": []
          },
          "execution_count": 147
        },
        {
          "output_type": "execute_result",
          "data": {
            "text/plain": [
              "1          153784\n",
              "2           36663\n",
              "3           27744\n",
              "4          198300\n",
              "5          212376\n",
              "          ...    \n",
              "378         98108\n",
              "379        111568\n",
              "380         45752\n",
              "381         57292\n",
              "0      0.00605979\n",
              "Length: 382, dtype: object"
            ]
          },
          "metadata": {
            "tags": []
          },
          "execution_count": 147
        },
        {
          "output_type": "execute_result",
          "data": {
            "text/plain": [
              "1           13318\n",
              "2            4057\n",
              "3           10483\n",
              "4           42999\n",
              "5          438681\n",
              "          ...    \n",
              "378         30643\n",
              "379         17895\n",
              "380         49389\n",
              "381        128465\n",
              "0      0.00051534\n",
              "Length: 382, dtype: object"
            ]
          },
          "metadata": {
            "tags": []
          },
          "execution_count": 147
        },
        {
          "output_type": "execute_result",
          "data": {
            "text/plain": [
              "1          50800\n",
              "2          11081\n",
              "3          10791\n",
              "4          61111\n",
              "5          64723\n",
              "         ...    \n",
              "378        34417\n",
              "379        42222\n",
              "380         9561\n",
              "381        13346\n",
              "0      0.0379466\n",
              "Length: 382, dtype: object"
            ]
          },
          "metadata": {
            "tags": []
          },
          "execution_count": 147
        },
        {
          "output_type": "execute_result",
          "data": {
            "text/plain": [
              "1         153784\n",
              "2          36663\n",
              "3          27744\n",
              "4         198300\n",
              "5         212376\n",
              "         ...    \n",
              "378        98108\n",
              "379       111568\n",
              "380        45752\n",
              "381        57292\n",
              "0      0.0439752\n",
              "Length: 382, dtype: object"
            ]
          },
          "metadata": {
            "tags": []
          },
          "execution_count": 147
        },
        {
          "output_type": "execute_result",
          "data": {
            "text/plain": [
              "1          13318\n",
              "2           4057\n",
              "3          10483\n",
              "4          42999\n",
              "5         438681\n",
              "         ...    \n",
              "378        30643\n",
              "379        17895\n",
              "380        49389\n",
              "381       128465\n",
              "0      0.0599797\n",
              "Length: 382, dtype: object"
            ]
          },
          "metadata": {
            "tags": []
          },
          "execution_count": 147
        },
        {
          "output_type": "execute_result",
          "data": {
            "text/plain": [
              "1          50800\n",
              "2          11081\n",
              "3          10791\n",
              "4          61111\n",
              "5          64723\n",
              "         ...    \n",
              "378        34417\n",
              "379        42222\n",
              "380         9561\n",
              "381        13346\n",
              "0      0.0415097\n",
              "Length: 382, dtype: object"
            ]
          },
          "metadata": {
            "tags": []
          },
          "execution_count": 147
        },
        {
          "output_type": "execute_result",
          "data": {
            "text/plain": [
              "1         153784\n",
              "2          36663\n",
              "3          27744\n",
              "4         198300\n",
              "5         212376\n",
              "         ...    \n",
              "378        98108\n",
              "379       111568\n",
              "380        45752\n",
              "381        57292\n",
              "0      0.0248848\n",
              "Length: 382, dtype: object"
            ]
          },
          "metadata": {
            "tags": []
          },
          "execution_count": 147
        },
        {
          "output_type": "execute_result",
          "data": {
            "text/plain": [
              "1           13318\n",
              "2            4057\n",
              "3           10483\n",
              "4           42999\n",
              "5          438681\n",
              "          ...    \n",
              "378         30643\n",
              "379         17895\n",
              "380         49389\n",
              "381        128465\n",
              "0      0.00921552\n",
              "Length: 382, dtype: object"
            ]
          },
          "metadata": {
            "tags": []
          },
          "execution_count": 147
        },
        {
          "output_type": "execute_result",
          "data": {
            "text/plain": [
              "1          50800\n",
              "2          11081\n",
              "3          10791\n",
              "4          61111\n",
              "5          64723\n",
              "         ...    \n",
              "378        34417\n",
              "379        42222\n",
              "380         9561\n",
              "381        13346\n",
              "0      0.0160471\n",
              "Length: 382, dtype: object"
            ]
          },
          "metadata": {
            "tags": []
          },
          "execution_count": 147
        },
        {
          "output_type": "execute_result",
          "data": {
            "text/plain": [
              "1       153784\n",
              "2        36663\n",
              "3        27744\n",
              "4       198300\n",
              "5       212376\n",
              "        ...   \n",
              "378      98108\n",
              "379     111568\n",
              "380      45752\n",
              "381      57292\n",
              "0      0.01005\n",
              "Length: 382, dtype: object"
            ]
          },
          "metadata": {
            "tags": []
          },
          "execution_count": 147
        },
        {
          "output_type": "execute_result",
          "data": {
            "text/plain": [
              "1           13318\n",
              "2            4057\n",
              "3           10483\n",
              "4           42999\n",
              "5          438681\n",
              "          ...    \n",
              "378         30643\n",
              "379         17895\n",
              "380         49389\n",
              "381        128465\n",
              "0      0.00193914\n",
              "Length: 382, dtype: object"
            ]
          },
          "metadata": {
            "tags": []
          },
          "execution_count": 147
        },
        {
          "output_type": "execute_result",
          "data": {
            "text/plain": [
              "1           50800\n",
              "2           11081\n",
              "3           10791\n",
              "4           61111\n",
              "5           64723\n",
              "          ...    \n",
              "378         34417\n",
              "379         42222\n",
              "380          9561\n",
              "381         13346\n",
              "0      0.00606204\n",
              "Length: 382, dtype: object"
            ]
          },
          "metadata": {
            "tags": []
          },
          "execution_count": 147
        },
        {
          "output_type": "execute_result",
          "data": {
            "text/plain": [
              "1          153784\n",
              "2           36663\n",
              "3           27744\n",
              "4          198300\n",
              "5          212376\n",
              "          ...    \n",
              "378         98108\n",
              "379        111568\n",
              "380         45752\n",
              "381         57292\n",
              "0      0.00414949\n",
              "Length: 382, dtype: object"
            ]
          },
          "metadata": {
            "tags": []
          },
          "execution_count": 147
        },
        {
          "output_type": "execute_result",
          "data": {
            "text/plain": [
              "1            13318\n",
              "2             4057\n",
              "3            10483\n",
              "4            42999\n",
              "5           438681\n",
              "          ...     \n",
              "378          30643\n",
              "379          17895\n",
              "380          49389\n",
              "381         128465\n",
              "0      0.000161567\n",
              "Length: 382, dtype: object"
            ]
          },
          "metadata": {
            "tags": []
          },
          "execution_count": 147
        },
        {
          "output_type": "execute_result",
          "data": {
            "text/plain": [
              "1          50800\n",
              "2          11081\n",
              "3          10791\n",
              "4          61111\n",
              "5          64723\n",
              "         ...    \n",
              "378        34417\n",
              "379        42222\n",
              "380         9561\n",
              "381        13346\n",
              "0      0.0349532\n",
              "Length: 382, dtype: object"
            ]
          },
          "metadata": {
            "tags": []
          },
          "execution_count": 147
        },
        {
          "output_type": "execute_result",
          "data": {
            "text/plain": [
              "1         153784\n",
              "2          36663\n",
              "3          27744\n",
              "4         198300\n",
              "5         212376\n",
              "         ...    \n",
              "378        98108\n",
              "379       111568\n",
              "380        45752\n",
              "381        57292\n",
              "0      0.0263547\n",
              "Length: 382, dtype: object"
            ]
          },
          "metadata": {
            "tags": []
          },
          "execution_count": 147
        },
        {
          "output_type": "execute_result",
          "data": {
            "text/plain": [
              "1           13318\n",
              "2            4057\n",
              "3           10483\n",
              "4           42999\n",
              "5          438681\n",
              "          ...    \n",
              "378         30643\n",
              "379         17895\n",
              "380         49389\n",
              "381        128465\n",
              "0      0.00429802\n",
              "Length: 382, dtype: object"
            ]
          },
          "metadata": {
            "tags": []
          },
          "execution_count": 147
        },
        {
          "output_type": "execute_result",
          "data": {
            "text/plain": [
              "1          50800\n",
              "2          11081\n",
              "3          10791\n",
              "4          61111\n",
              "5          64723\n",
              "         ...    \n",
              "378        34417\n",
              "379        42222\n",
              "380         9561\n",
              "381        13346\n",
              "0      0.0306227\n",
              "Length: 382, dtype: object"
            ]
          },
          "metadata": {
            "tags": []
          },
          "execution_count": 147
        },
        {
          "output_type": "execute_result",
          "data": {
            "text/plain": [
              "1         153784\n",
              "2          36663\n",
              "3          27744\n",
              "4         198300\n",
              "5         212376\n",
              "         ...    \n",
              "378        98108\n",
              "379       111568\n",
              "380        45752\n",
              "381        57292\n",
              "0      0.0180779\n",
              "Length: 382, dtype: object"
            ]
          },
          "metadata": {
            "tags": []
          },
          "execution_count": 147
        },
        {
          "output_type": "execute_result",
          "data": {
            "text/plain": [
              "1           13318\n",
              "2            4057\n",
              "3           10483\n",
              "4           42999\n",
              "5          438681\n",
              "          ...    \n",
              "378         30643\n",
              "379         17895\n",
              "380         49389\n",
              "381        128465\n",
              "0      0.00212314\n",
              "Length: 382, dtype: object"
            ]
          },
          "metadata": {
            "tags": []
          },
          "execution_count": 147
        },
        {
          "output_type": "execute_result",
          "data": {
            "text/plain": [
              "1         50800\n",
              "2         11081\n",
              "3         10791\n",
              "4         61111\n",
              "5         64723\n",
              "         ...   \n",
              "378       34417\n",
              "379       42222\n",
              "380        9561\n",
              "381       13346\n",
              "0      0.370088\n",
              "Length: 382, dtype: object"
            ]
          },
          "metadata": {
            "tags": []
          },
          "execution_count": 147
        },
        {
          "output_type": "execute_result",
          "data": {
            "text/plain": [
              "1        153784\n",
              "2         36663\n",
              "3         27744\n",
              "4        198300\n",
              "5        212376\n",
              "         ...   \n",
              "378       98108\n",
              "379      111568\n",
              "380       45752\n",
              "381       57292\n",
              "0      0.305053\n",
              "Length: 382, dtype: object"
            ]
          },
          "metadata": {
            "tags": []
          },
          "execution_count": 147
        },
        {
          "output_type": "execute_result",
          "data": {
            "text/plain": [
              "1         13318\n",
              "2          4057\n",
              "3         10483\n",
              "4         42999\n",
              "5        438681\n",
              "         ...   \n",
              "378       30643\n",
              "379       17895\n",
              "380       49389\n",
              "381      128465\n",
              "0      0.091529\n",
              "Length: 382, dtype: object"
            ]
          },
          "metadata": {
            "tags": []
          },
          "execution_count": 147
        },
        {
          "output_type": "execute_result",
          "data": {
            "text/plain": [
              "1         50800\n",
              "2         11081\n",
              "3         10791\n",
              "4         61111\n",
              "5         64723\n",
              "         ...   \n",
              "378       34417\n",
              "379       42222\n",
              "380        9561\n",
              "381       13346\n",
              "0      0.324857\n",
              "Length: 382, dtype: object"
            ]
          },
          "metadata": {
            "tags": []
          },
          "execution_count": 147
        },
        {
          "output_type": "execute_result",
          "data": {
            "text/plain": [
              "1        153784\n",
              "2         36663\n",
              "3         27744\n",
              "4        198300\n",
              "5        212376\n",
              "         ...   \n",
              "378       98108\n",
              "379      111568\n",
              "380       45752\n",
              "381       57292\n",
              "0      0.261165\n",
              "Length: 382, dtype: object"
            ]
          },
          "metadata": {
            "tags": []
          },
          "execution_count": 147
        },
        {
          "output_type": "execute_result",
          "data": {
            "text/plain": [
              "1         13318\n",
              "2          4057\n",
              "3         10483\n",
              "4         42999\n",
              "5        438681\n",
              "         ...   \n",
              "378       30643\n",
              "379       17895\n",
              "380       49389\n",
              "381      128465\n",
              "0      0.233028\n",
              "Length: 382, dtype: object"
            ]
          },
          "metadata": {
            "tags": []
          },
          "execution_count": 147
        },
        {
          "output_type": "execute_result",
          "data": {
            "text/plain": [
              "1          50800\n",
              "2          11081\n",
              "3          10791\n",
              "4          61111\n",
              "5          64723\n",
              "         ...    \n",
              "378        34417\n",
              "379        42222\n",
              "380         9561\n",
              "381        13346\n",
              "0      0.0050761\n",
              "Length: 382, dtype: object"
            ]
          },
          "metadata": {
            "tags": []
          },
          "execution_count": 147
        },
        {
          "output_type": "execute_result",
          "data": {
            "text/plain": [
              "1          153784\n",
              "2           36663\n",
              "3           27744\n",
              "4          198300\n",
              "5          212376\n",
              "          ...    \n",
              "378         98108\n",
              "379        111568\n",
              "380         45752\n",
              "381         57292\n",
              "0      0.00442663\n",
              "Length: 382, dtype: object"
            ]
          },
          "metadata": {
            "tags": []
          },
          "execution_count": 147
        },
        {
          "output_type": "execute_result",
          "data": {
            "text/plain": [
              "1            13318\n",
              "2             4057\n",
              "3            10483\n",
              "4            42999\n",
              "5           438681\n",
              "          ...     \n",
              "378          30643\n",
              "379          17895\n",
              "380          49389\n",
              "381         128465\n",
              "0      0.000344397\n",
              "Length: 382, dtype: object"
            ]
          },
          "metadata": {
            "tags": []
          },
          "execution_count": 147
        },
        {
          "output_type": "execute_result",
          "data": {
            "text/plain": [
              "1         50800\n",
              "2         11081\n",
              "3         10791\n",
              "4         61111\n",
              "5         64723\n",
              "         ...   \n",
              "378       34417\n",
              "379       42222\n",
              "380        9561\n",
              "381       13346\n",
              "0      0.173543\n",
              "Length: 382, dtype: object"
            ]
          },
          "metadata": {
            "tags": []
          },
          "execution_count": 147
        },
        {
          "output_type": "execute_result",
          "data": {
            "text/plain": [
              "1        153784\n",
              "2         36663\n",
              "3         27744\n",
              "4        198300\n",
              "5        212376\n",
              "         ...   \n",
              "378       98108\n",
              "379      111568\n",
              "380       45752\n",
              "381       57292\n",
              "0      0.105976\n",
              "Length: 382, dtype: object"
            ]
          },
          "metadata": {
            "tags": []
          },
          "execution_count": 147
        },
        {
          "output_type": "execute_result",
          "data": {
            "text/plain": [
              "1           13318\n",
              "2            4057\n",
              "3           10483\n",
              "4           42999\n",
              "5          438681\n",
              "          ...    \n",
              "378         30643\n",
              "379         17895\n",
              "380         49389\n",
              "381        128465\n",
              "0      0.00640074\n",
              "Length: 382, dtype: object"
            ]
          },
          "metadata": {
            "tags": []
          },
          "execution_count": 147
        },
        {
          "output_type": "execute_result",
          "data": {
            "text/plain": [
              "1           50800\n",
              "2           11081\n",
              "3           10791\n",
              "4           61111\n",
              "5           64723\n",
              "          ...    \n",
              "378         34417\n",
              "379         42222\n",
              "380          9561\n",
              "381         13346\n",
              "0      0.00886166\n",
              "Length: 382, dtype: object"
            ]
          },
          "metadata": {
            "tags": []
          },
          "execution_count": 147
        },
        {
          "output_type": "execute_result",
          "data": {
            "text/plain": [
              "1          153784\n",
              "2           36663\n",
              "3           27744\n",
              "4          198300\n",
              "5          212376\n",
              "          ...    \n",
              "378         98108\n",
              "379        111568\n",
              "380         45752\n",
              "381         57292\n",
              "0      0.00533323\n",
              "Length: 382, dtype: object"
            ]
          },
          "metadata": {
            "tags": []
          },
          "execution_count": 147
        },
        {
          "output_type": "execute_result",
          "data": {
            "text/plain": [
              "1            13318\n",
              "2             4057\n",
              "3            10483\n",
              "4            42999\n",
              "5           438681\n",
              "          ...     \n",
              "378          30643\n",
              "379          17895\n",
              "380          49389\n",
              "381         128465\n",
              "0      0.000914319\n",
              "Length: 382, dtype: object"
            ]
          },
          "metadata": {
            "tags": []
          },
          "execution_count": 147
        },
        {
          "output_type": "execute_result",
          "data": {
            "text/plain": [
              "1           50800\n",
              "2           11081\n",
              "3           10791\n",
              "4           61111\n",
              "5           64723\n",
              "          ...    \n",
              "378         34417\n",
              "379         42222\n",
              "380          9561\n",
              "381         13346\n",
              "0      0.00545287\n",
              "Length: 382, dtype: object"
            ]
          },
          "metadata": {
            "tags": []
          },
          "execution_count": 147
        },
        {
          "output_type": "execute_result",
          "data": {
            "text/plain": [
              "1          153784\n",
              "2           36663\n",
              "3           27744\n",
              "4          198300\n",
              "5          212376\n",
              "          ...    \n",
              "378         98108\n",
              "379        111568\n",
              "380         45752\n",
              "381         57292\n",
              "0      0.00503132\n",
              "Length: 382, dtype: object"
            ]
          },
          "metadata": {
            "tags": []
          },
          "execution_count": 147
        },
        {
          "output_type": "execute_result",
          "data": {
            "text/plain": [
              "1           13318\n",
              "2            4057\n",
              "3           10483\n",
              "4           42999\n",
              "5          438681\n",
              "          ...    \n",
              "378         30643\n",
              "379         17895\n",
              "380         49389\n",
              "381        128465\n",
              "0      0.00116429\n",
              "Length: 382, dtype: object"
            ]
          },
          "metadata": {
            "tags": []
          },
          "execution_count": 147
        },
        {
          "output_type": "execute_result",
          "data": {
            "text/plain": [
              "1          50800\n",
              "2          11081\n",
              "3          10791\n",
              "4          61111\n",
              "5          64723\n",
              "         ...    \n",
              "378        34417\n",
              "379        42222\n",
              "380         9561\n",
              "381        13346\n",
              "0      0.0395447\n",
              "Length: 382, dtype: object"
            ]
          },
          "metadata": {
            "tags": []
          },
          "execution_count": 147
        },
        {
          "output_type": "execute_result",
          "data": {
            "text/plain": [
              "1         153784\n",
              "2          36663\n",
              "3          27744\n",
              "4         198300\n",
              "5         212376\n",
              "         ...    \n",
              "378        98108\n",
              "379       111568\n",
              "380        45752\n",
              "381        57292\n",
              "0      0.0237754\n",
              "Length: 382, dtype: object"
            ]
          },
          "metadata": {
            "tags": []
          },
          "execution_count": 147
        },
        {
          "output_type": "execute_result",
          "data": {
            "text/plain": [
              "1           13318\n",
              "2            4057\n",
              "3           10483\n",
              "4           42999\n",
              "5          438681\n",
              "          ...    \n",
              "378         30643\n",
              "379         17895\n",
              "380         49389\n",
              "381        128465\n",
              "0      0.00159039\n",
              "Length: 382, dtype: object"
            ]
          },
          "metadata": {
            "tags": []
          },
          "execution_count": 147
        },
        {
          "output_type": "execute_result",
          "data": {
            "text/plain": [
              "1         50800\n",
              "2         11081\n",
              "3         10791\n",
              "4         61111\n",
              "5         64723\n",
              "         ...   \n",
              "378       34417\n",
              "379       42222\n",
              "380        9561\n",
              "381       13346\n",
              "0      0.160348\n",
              "Length: 382, dtype: object"
            ]
          },
          "metadata": {
            "tags": []
          },
          "execution_count": 147
        },
        {
          "output_type": "execute_result",
          "data": {
            "text/plain": [
              "1        153784\n",
              "2         36663\n",
              "3         27744\n",
              "4        198300\n",
              "5        212376\n",
              "         ...   \n",
              "378       98108\n",
              "379      111568\n",
              "380       45752\n",
              "381       57292\n",
              "0      0.125623\n",
              "Length: 382, dtype: object"
            ]
          },
          "metadata": {
            "tags": []
          },
          "execution_count": 147
        },
        {
          "output_type": "execute_result",
          "data": {
            "text/plain": [
              "1          13318\n",
              "2           4057\n",
              "3          10483\n",
              "4          42999\n",
              "5         438681\n",
              "         ...    \n",
              "378        30643\n",
              "379        17895\n",
              "380        49389\n",
              "381       128465\n",
              "0      0.0463634\n",
              "Length: 382, dtype: object"
            ]
          },
          "metadata": {
            "tags": []
          },
          "execution_count": 147
        },
        {
          "output_type": "execute_result",
          "data": {
            "text/plain": [
              "1          50800\n",
              "2          11081\n",
              "3          10791\n",
              "4          61111\n",
              "5          64723\n",
              "         ...    \n",
              "378        34417\n",
              "379        42222\n",
              "380         9561\n",
              "381        13346\n",
              "0      0.0337151\n",
              "Length: 382, dtype: object"
            ]
          },
          "metadata": {
            "tags": []
          },
          "execution_count": 147
        },
        {
          "output_type": "execute_result",
          "data": {
            "text/plain": [
              "1         153784\n",
              "2          36663\n",
              "3          27744\n",
              "4         198300\n",
              "5         212376\n",
              "         ...    \n",
              "378        98108\n",
              "379       111568\n",
              "380        45752\n",
              "381        57292\n",
              "0      0.0196303\n",
              "Length: 382, dtype: object"
            ]
          },
          "metadata": {
            "tags": []
          },
          "execution_count": 147
        },
        {
          "output_type": "execute_result",
          "data": {
            "text/plain": [
              "1         13318\n",
              "2          4057\n",
              "3         10483\n",
              "4         42999\n",
              "5        438681\n",
              "         ...   \n",
              "378       30643\n",
              "379       17895\n",
              "380       49389\n",
              "381      128465\n",
              "0      0.012507\n",
              "Length: 382, dtype: object"
            ]
          },
          "metadata": {
            "tags": []
          },
          "execution_count": 147
        },
        {
          "output_type": "execute_result",
          "data": {
            "text/plain": [
              "1          50800\n",
              "2          11081\n",
              "3          10791\n",
              "4          61111\n",
              "5          64723\n",
              "         ...    \n",
              "378        34417\n",
              "379        42222\n",
              "380         9561\n",
              "381        13346\n",
              "0      0.0197605\n",
              "Length: 382, dtype: object"
            ]
          },
          "metadata": {
            "tags": []
          },
          "execution_count": 147
        },
        {
          "output_type": "execute_result",
          "data": {
            "text/plain": [
              "1          153784\n",
              "2           36663\n",
              "3           27744\n",
              "4          198300\n",
              "5          212376\n",
              "          ...    \n",
              "378         98108\n",
              "379        111568\n",
              "380         45752\n",
              "381         57292\n",
              "0      0.00850025\n",
              "Length: 382, dtype: object"
            ]
          },
          "metadata": {
            "tags": []
          },
          "execution_count": 147
        },
        {
          "output_type": "execute_result",
          "data": {
            "text/plain": [
              "1           13318\n",
              "2            4057\n",
              "3           10483\n",
              "4           42999\n",
              "5          438681\n",
              "          ...    \n",
              "378         30643\n",
              "379         17895\n",
              "380         49389\n",
              "381        128465\n",
              "0      0.00527529\n",
              "Length: 382, dtype: object"
            ]
          },
          "metadata": {
            "tags": []
          },
          "execution_count": 147
        },
        {
          "output_type": "execute_result",
          "data": {
            "text/plain": [
              "1         50800\n",
              "2         11081\n",
              "3         10791\n",
              "4         61111\n",
              "5         64723\n",
              "         ...   \n",
              "378       34417\n",
              "379       42222\n",
              "380        9561\n",
              "381       13346\n",
              "0      0.107167\n",
              "Length: 382, dtype: object"
            ]
          },
          "metadata": {
            "tags": []
          },
          "execution_count": 147
        },
        {
          "output_type": "execute_result",
          "data": {
            "text/plain": [
              "1         153784\n",
              "2          36663\n",
              "3          27744\n",
              "4         198300\n",
              "5         212376\n",
              "         ...    \n",
              "378        98108\n",
              "379       111568\n",
              "380        45752\n",
              "381        57292\n",
              "0      0.0789054\n",
              "Length: 382, dtype: object"
            ]
          },
          "metadata": {
            "tags": []
          },
          "execution_count": 147
        },
        {
          "output_type": "execute_result",
          "data": {
            "text/plain": [
              "1          13318\n",
              "2           4057\n",
              "3          10483\n",
              "4          42999\n",
              "5         438681\n",
              "         ...    \n",
              "378        30643\n",
              "379        17895\n",
              "380        49389\n",
              "381       128465\n",
              "0      0.0326186\n",
              "Length: 382, dtype: object"
            ]
          },
          "metadata": {
            "tags": []
          },
          "execution_count": 147
        },
        {
          "output_type": "execute_result",
          "data": {
            "text/plain": [
              "1          50800\n",
              "2          11081\n",
              "3          10791\n",
              "4          61111\n",
              "5          64723\n",
              "         ...    \n",
              "378        34417\n",
              "379        42222\n",
              "380         9561\n",
              "381        13346\n",
              "0      0.0333966\n",
              "Length: 382, dtype: object"
            ]
          },
          "metadata": {
            "tags": []
          },
          "execution_count": 147
        },
        {
          "output_type": "execute_result",
          "data": {
            "text/plain": [
              "1         153784\n",
              "2          36663\n",
              "3          27744\n",
              "4         198300\n",
              "5         212376\n",
              "         ...    \n",
              "378        98108\n",
              "379       111568\n",
              "380        45752\n",
              "381        57292\n",
              "0      0.0461748\n",
              "Length: 382, dtype: object"
            ]
          },
          "metadata": {
            "tags": []
          },
          "execution_count": 147
        },
        {
          "output_type": "execute_result",
          "data": {
            "text/plain": [
              "1          13318\n",
              "2           4057\n",
              "3          10483\n",
              "4          42999\n",
              "5         438681\n",
              "         ...    \n",
              "378        30643\n",
              "379        17895\n",
              "380        49389\n",
              "381       128465\n",
              "0      0.0110545\n",
              "Length: 382, dtype: object"
            ]
          },
          "metadata": {
            "tags": []
          },
          "execution_count": 147
        },
        {
          "output_type": "execute_result",
          "data": {
            "text/plain": [
              "1          50800\n",
              "2          11081\n",
              "3          10791\n",
              "4          61111\n",
              "5          64723\n",
              "         ...    \n",
              "378        34417\n",
              "379        42222\n",
              "380         9561\n",
              "381        13346\n",
              "0      0.0123051\n",
              "Length: 382, dtype: object"
            ]
          },
          "metadata": {
            "tags": []
          },
          "execution_count": 147
        },
        {
          "output_type": "execute_result",
          "data": {
            "text/plain": [
              "1          153784\n",
              "2           36663\n",
              "3           27744\n",
              "4          198300\n",
              "5          212376\n",
              "          ...    \n",
              "378         98108\n",
              "379        111568\n",
              "380         45752\n",
              "381         57292\n",
              "0      0.00826802\n",
              "Length: 382, dtype: object"
            ]
          },
          "metadata": {
            "tags": []
          },
          "execution_count": 147
        },
        {
          "output_type": "execute_result",
          "data": {
            "text/plain": [
              "1          13318\n",
              "2           4057\n",
              "3          10483\n",
              "4          42999\n",
              "5         438681\n",
              "         ...    \n",
              "378        30643\n",
              "379        17895\n",
              "380        49389\n",
              "381       128465\n",
              "0      0.0116879\n",
              "Length: 382, dtype: object"
            ]
          },
          "metadata": {
            "tags": []
          },
          "execution_count": 147
        },
        {
          "output_type": "execute_result",
          "data": {
            "text/plain": [
              "1          50800\n",
              "2          11081\n",
              "3          10791\n",
              "4          61111\n",
              "5          64723\n",
              "         ...    \n",
              "378        34417\n",
              "379        42222\n",
              "380         9561\n",
              "381        13346\n",
              "0      0.0169895\n",
              "Length: 382, dtype: object"
            ]
          },
          "metadata": {
            "tags": []
          },
          "execution_count": 147
        },
        {
          "output_type": "execute_result",
          "data": {
            "text/plain": [
              "1          153784\n",
              "2           36663\n",
              "3           27744\n",
              "4          198300\n",
              "5          212376\n",
              "          ...    \n",
              "378         98108\n",
              "379        111568\n",
              "380         45752\n",
              "381         57292\n",
              "0      0.00538808\n",
              "Length: 382, dtype: object"
            ]
          },
          "metadata": {
            "tags": []
          },
          "execution_count": 147
        },
        {
          "output_type": "execute_result",
          "data": {
            "text/plain": [
              "1           13318\n",
              "2            4057\n",
              "3           10483\n",
              "4           42999\n",
              "5          438681\n",
              "          ...    \n",
              "378         30643\n",
              "379         17895\n",
              "380         49389\n",
              "381        128465\n",
              "0      0.00198786\n",
              "Length: 382, dtype: object"
            ]
          },
          "metadata": {
            "tags": []
          },
          "execution_count": 147
        },
        {
          "output_type": "execute_result",
          "data": {
            "text/plain": [
              "1          50800\n",
              "2          11081\n",
              "3          10791\n",
              "4          61111\n",
              "5          64723\n",
              "         ...    \n",
              "378        34417\n",
              "379        42222\n",
              "380         9561\n",
              "381        13346\n",
              "0      0.0136391\n",
              "Length: 382, dtype: object"
            ]
          },
          "metadata": {
            "tags": []
          },
          "execution_count": 147
        },
        {
          "output_type": "execute_result",
          "data": {
            "text/plain": [
              "1         153784\n",
              "2          36663\n",
              "3          27744\n",
              "4         198300\n",
              "5         212376\n",
              "         ...    \n",
              "378        98108\n",
              "379       111568\n",
              "380        45752\n",
              "381        57292\n",
              "0      0.0097457\n",
              "Length: 382, dtype: object"
            ]
          },
          "metadata": {
            "tags": []
          },
          "execution_count": 147
        },
        {
          "output_type": "execute_result",
          "data": {
            "text/plain": [
              "1         13318\n",
              "2          4057\n",
              "3         10483\n",
              "4         42999\n",
              "5        438681\n",
              "         ...   \n",
              "378       30643\n",
              "379       17895\n",
              "380       49389\n",
              "381      128465\n",
              "0      0.004146\n",
              "Length: 382, dtype: object"
            ]
          },
          "metadata": {
            "tags": []
          },
          "execution_count": 147
        },
        {
          "output_type": "execute_result",
          "data": {
            "text/plain": [
              "1          50800\n",
              "2          11081\n",
              "3          10791\n",
              "4          61111\n",
              "5          64723\n",
              "         ...    \n",
              "378        34417\n",
              "379        42222\n",
              "380         9561\n",
              "381        13346\n",
              "0      0.0894987\n",
              "Length: 382, dtype: object"
            ]
          },
          "metadata": {
            "tags": []
          },
          "execution_count": 147
        },
        {
          "output_type": "execute_result",
          "data": {
            "text/plain": [
              "1         153784\n",
              "2          36663\n",
              "3          27744\n",
              "4         198300\n",
              "5         212376\n",
              "         ...    \n",
              "378        98108\n",
              "379       111568\n",
              "380        45752\n",
              "381        57292\n",
              "0      0.0710235\n",
              "Length: 382, dtype: object"
            ]
          },
          "metadata": {
            "tags": []
          },
          "execution_count": 147
        },
        {
          "output_type": "execute_result",
          "data": {
            "text/plain": [
              "1          13318\n",
              "2           4057\n",
              "3          10483\n",
              "4          42999\n",
              "5         438681\n",
              "         ...    \n",
              "378        30643\n",
              "379        17895\n",
              "380        49389\n",
              "381       128465\n",
              "0      0.0221891\n",
              "Length: 382, dtype: object"
            ]
          },
          "metadata": {
            "tags": []
          },
          "execution_count": 147
        },
        {
          "output_type": "execute_result",
          "data": {
            "text/plain": [
              "1          50800\n",
              "2          11081\n",
              "3          10791\n",
              "4          61111\n",
              "5          64723\n",
              "         ...    \n",
              "378        34417\n",
              "379        42222\n",
              "380         9561\n",
              "381        13346\n",
              "0      0.0110749\n",
              "Length: 382, dtype: object"
            ]
          },
          "metadata": {
            "tags": []
          },
          "execution_count": 147
        },
        {
          "output_type": "execute_result",
          "data": {
            "text/plain": [
              "1          153784\n",
              "2           36663\n",
              "3           27744\n",
              "4          198300\n",
              "5          212376\n",
              "          ...    \n",
              "378         98108\n",
              "379        111568\n",
              "380         45752\n",
              "381         57292\n",
              "0      0.00778187\n",
              "Length: 382, dtype: object"
            ]
          },
          "metadata": {
            "tags": []
          },
          "execution_count": 147
        },
        {
          "output_type": "execute_result",
          "data": {
            "text/plain": [
              "1           13318\n",
              "2            4057\n",
              "3           10483\n",
              "4           42999\n",
              "5          438681\n",
              "          ...    \n",
              "378         30643\n",
              "379         17895\n",
              "380         49389\n",
              "381        128465\n",
              "0      0.00109882\n",
              "Length: 382, dtype: object"
            ]
          },
          "metadata": {
            "tags": []
          },
          "execution_count": 147
        },
        {
          "output_type": "execute_result",
          "data": {
            "text/plain": [
              "1          50800\n",
              "2          11081\n",
              "3          10791\n",
              "4          61111\n",
              "5          64723\n",
              "         ...    \n",
              "378        34417\n",
              "379        42222\n",
              "380         9561\n",
              "381        13346\n",
              "0      0.0302005\n",
              "Length: 382, dtype: object"
            ]
          },
          "metadata": {
            "tags": []
          },
          "execution_count": 147
        },
        {
          "output_type": "execute_result",
          "data": {
            "text/plain": [
              "1         153784\n",
              "2          36663\n",
              "3          27744\n",
              "4         198300\n",
              "5         212376\n",
              "         ...    \n",
              "378        98108\n",
              "379       111568\n",
              "380        45752\n",
              "381        57292\n",
              "0      0.0207957\n",
              "Length: 382, dtype: object"
            ]
          },
          "metadata": {
            "tags": []
          },
          "execution_count": 147
        },
        {
          "output_type": "execute_result",
          "data": {
            "text/plain": [
              "1          13318\n",
              "2           4057\n",
              "3          10483\n",
              "4          42999\n",
              "5         438681\n",
              "         ...    \n",
              "378        30643\n",
              "379        17895\n",
              "380        49389\n",
              "381       128465\n",
              "0      0.0136282\n",
              "Length: 382, dtype: object"
            ]
          },
          "metadata": {
            "tags": []
          },
          "execution_count": 147
        },
        {
          "output_type": "execute_result",
          "data": {
            "text/plain": [
              "1          50800\n",
              "2          11081\n",
              "3          10791\n",
              "4          61111\n",
              "5          64723\n",
              "         ...    \n",
              "378        34417\n",
              "379        42222\n",
              "380         9561\n",
              "381        13346\n",
              "0      0.0122655\n",
              "Length: 382, dtype: object"
            ]
          },
          "metadata": {
            "tags": []
          },
          "execution_count": 147
        },
        {
          "output_type": "execute_result",
          "data": {
            "text/plain": [
              "1          153784\n",
              "2           36663\n",
              "3           27744\n",
              "4          198300\n",
              "5          212376\n",
              "          ...    \n",
              "378         98108\n",
              "379        111568\n",
              "380         45752\n",
              "381         57292\n",
              "0      0.00855112\n",
              "Length: 382, dtype: object"
            ]
          },
          "metadata": {
            "tags": []
          },
          "execution_count": 147
        },
        {
          "output_type": "execute_result",
          "data": {
            "text/plain": [
              "1           13318\n",
              "2            4057\n",
              "3           10483\n",
              "4           42999\n",
              "5          438681\n",
              "          ...    \n",
              "378         30643\n",
              "379         17895\n",
              "380         49389\n",
              "381        128465\n",
              "0      0.00288276\n",
              "Length: 382, dtype: object"
            ]
          },
          "metadata": {
            "tags": []
          },
          "execution_count": 147
        },
        {
          "output_type": "execute_result",
          "data": {
            "text/plain": [
              "1          50800\n",
              "2          11081\n",
              "3          10791\n",
              "4          61111\n",
              "5          64723\n",
              "         ...    \n",
              "378        34417\n",
              "379        42222\n",
              "380         9561\n",
              "381        13346\n",
              "0      0.0390324\n",
              "Length: 382, dtype: object"
            ]
          },
          "metadata": {
            "tags": []
          },
          "execution_count": 147
        },
        {
          "output_type": "execute_result",
          "data": {
            "text/plain": [
              "1        153784\n",
              "2         36663\n",
              "3         27744\n",
              "4        198300\n",
              "5        212376\n",
              "         ...   \n",
              "378       98108\n",
              "379      111568\n",
              "380       45752\n",
              "381       57292\n",
              "0      0.024484\n",
              "Length: 382, dtype: object"
            ]
          },
          "metadata": {
            "tags": []
          },
          "execution_count": 147
        },
        {
          "output_type": "execute_result",
          "data": {
            "text/plain": [
              "1          13318\n",
              "2           4057\n",
              "3          10483\n",
              "4          42999\n",
              "5         438681\n",
              "         ...    \n",
              "378        30643\n",
              "379        17895\n",
              "380        49389\n",
              "381       128465\n",
              "0      0.0178668\n",
              "Length: 382, dtype: object"
            ]
          },
          "metadata": {
            "tags": []
          },
          "execution_count": 147
        },
        {
          "output_type": "execute_result",
          "data": {
            "text/plain": [
              "1          50800\n",
              "2          11081\n",
              "3          10791\n",
              "4          61111\n",
              "5          64723\n",
              "         ...    \n",
              "378        34417\n",
              "379        42222\n",
              "380         9561\n",
              "381        13346\n",
              "0      0.0884159\n",
              "Length: 382, dtype: object"
            ]
          },
          "metadata": {
            "tags": []
          },
          "execution_count": 147
        },
        {
          "output_type": "execute_result",
          "data": {
            "text/plain": [
              "1         153784\n",
              "2          36663\n",
              "3          27744\n",
              "4         198300\n",
              "5         212376\n",
              "         ...    \n",
              "378        98108\n",
              "379       111568\n",
              "380        45752\n",
              "381        57292\n",
              "0      0.0649987\n",
              "Length: 382, dtype: object"
            ]
          },
          "metadata": {
            "tags": []
          },
          "execution_count": 147
        },
        {
          "output_type": "execute_result",
          "data": {
            "text/plain": [
              "1          13318\n",
              "2           4057\n",
              "3          10483\n",
              "4          42999\n",
              "5         438681\n",
              "         ...    \n",
              "378        30643\n",
              "379        17895\n",
              "380        49389\n",
              "381       128465\n",
              "0      0.0124012\n",
              "Length: 382, dtype: object"
            ]
          },
          "metadata": {
            "tags": []
          },
          "execution_count": 147
        },
        {
          "output_type": "execute_result",
          "data": {
            "text/plain": [
              "1         50800\n",
              "2         11081\n",
              "3         10791\n",
              "4         61111\n",
              "5         64723\n",
              "         ...   \n",
              "378       34417\n",
              "379       42222\n",
              "380        9561\n",
              "381       13346\n",
              "0      0.238654\n",
              "Length: 382, dtype: object"
            ]
          },
          "metadata": {
            "tags": []
          },
          "execution_count": 147
        },
        {
          "output_type": "execute_result",
          "data": {
            "text/plain": [
              "1        153784\n",
              "2         36663\n",
              "3         27744\n",
              "4        198300\n",
              "5        212376\n",
              "         ...   \n",
              "378       98108\n",
              "379      111568\n",
              "380       45752\n",
              "381       57292\n",
              "0      0.263604\n",
              "Length: 382, dtype: object"
            ]
          },
          "metadata": {
            "tags": []
          },
          "execution_count": 147
        },
        {
          "output_type": "execute_result",
          "data": {
            "text/plain": [
              "1         13318\n",
              "2          4057\n",
              "3         10483\n",
              "4         42999\n",
              "5        438681\n",
              "         ...   \n",
              "378       30643\n",
              "379       17895\n",
              "380       49389\n",
              "381      128465\n",
              "0      0.374874\n",
              "Length: 382, dtype: object"
            ]
          },
          "metadata": {
            "tags": []
          },
          "execution_count": 147
        },
        {
          "output_type": "execute_result",
          "data": {
            "text/plain": [
              "1          50800\n",
              "2          11081\n",
              "3          10791\n",
              "4          61111\n",
              "5          64723\n",
              "         ...    \n",
              "378        34417\n",
              "379        42222\n",
              "380         9561\n",
              "381        13346\n",
              "0      0.0200403\n",
              "Length: 382, dtype: object"
            ]
          },
          "metadata": {
            "tags": []
          },
          "execution_count": 147
        },
        {
          "output_type": "execute_result",
          "data": {
            "text/plain": [
              "1         153784\n",
              "2          36663\n",
              "3          27744\n",
              "4         198300\n",
              "5         212376\n",
              "         ...    \n",
              "378        98108\n",
              "379       111568\n",
              "380        45752\n",
              "381        57292\n",
              "0      0.0142093\n",
              "Length: 382, dtype: object"
            ]
          },
          "metadata": {
            "tags": []
          },
          "execution_count": 147
        },
        {
          "output_type": "execute_result",
          "data": {
            "text/plain": [
              "1           13318\n",
              "2            4057\n",
              "3           10483\n",
              "4           42999\n",
              "5          438681\n",
              "          ...    \n",
              "378         30643\n",
              "379         17895\n",
              "380         49389\n",
              "381        128465\n",
              "0      0.00192859\n",
              "Length: 382, dtype: object"
            ]
          },
          "metadata": {
            "tags": []
          },
          "execution_count": 147
        },
        {
          "output_type": "execute_result",
          "data": {
            "text/plain": [
              "1          50800\n",
              "2          11081\n",
              "3          10791\n",
              "4          61111\n",
              "5          64723\n",
              "         ...    \n",
              "378        34417\n",
              "379        42222\n",
              "380         9561\n",
              "381        13346\n",
              "0      0.0144955\n",
              "Length: 382, dtype: object"
            ]
          },
          "metadata": {
            "tags": []
          },
          "execution_count": 147
        },
        {
          "output_type": "execute_result",
          "data": {
            "text/plain": [
              "1         153784\n",
              "2          36663\n",
              "3          27744\n",
              "4         198300\n",
              "5         212376\n",
              "         ...    \n",
              "378        98108\n",
              "379       111568\n",
              "380        45752\n",
              "381        57292\n",
              "0      0.0109555\n",
              "Length: 382, dtype: object"
            ]
          },
          "metadata": {
            "tags": []
          },
          "execution_count": 147
        },
        {
          "output_type": "execute_result",
          "data": {
            "text/plain": [
              "1          13318\n",
              "2           4057\n",
              "3          10483\n",
              "4          42999\n",
              "5         438681\n",
              "         ...    \n",
              "378        30643\n",
              "379        17895\n",
              "380        49389\n",
              "381       128465\n",
              "0      0.0015333\n",
              "Length: 382, dtype: object"
            ]
          },
          "metadata": {
            "tags": []
          },
          "execution_count": 147
        },
        {
          "output_type": "execute_result",
          "data": {
            "text/plain": [
              "1          50800\n",
              "2          11081\n",
              "3          10791\n",
              "4          61111\n",
              "5          64723\n",
              "         ...    \n",
              "378        34417\n",
              "379        42222\n",
              "380         9561\n",
              "381        13346\n",
              "0      0.0756727\n",
              "Length: 382, dtype: object"
            ]
          },
          "metadata": {
            "tags": []
          },
          "execution_count": 147
        },
        {
          "output_type": "execute_result",
          "data": {
            "text/plain": [
              "1         153784\n",
              "2          36663\n",
              "3          27744\n",
              "4         198300\n",
              "5         212376\n",
              "         ...    \n",
              "378        98108\n",
              "379       111568\n",
              "380        45752\n",
              "381        57292\n",
              "0      0.0525836\n",
              "Length: 382, dtype: object"
            ]
          },
          "metadata": {
            "tags": []
          },
          "execution_count": 147
        },
        {
          "output_type": "execute_result",
          "data": {
            "text/plain": [
              "1          13318\n",
              "2           4057\n",
              "3          10483\n",
              "4          42999\n",
              "5         438681\n",
              "         ...    \n",
              "378        30643\n",
              "379        17895\n",
              "380        49389\n",
              "381       128465\n",
              "0      0.0127121\n",
              "Length: 382, dtype: object"
            ]
          },
          "metadata": {
            "tags": []
          },
          "execution_count": 147
        },
        {
          "output_type": "execute_result",
          "data": {
            "text/plain": [
              "1          50800\n",
              "2          11081\n",
              "3          10791\n",
              "4          61111\n",
              "5          64723\n",
              "         ...    \n",
              "378        34417\n",
              "379        42222\n",
              "380         9561\n",
              "381        13346\n",
              "0      0.0247565\n",
              "Length: 382, dtype: object"
            ]
          },
          "metadata": {
            "tags": []
          },
          "execution_count": 147
        },
        {
          "output_type": "execute_result",
          "data": {
            "text/plain": [
              "1         153784\n",
              "2          36663\n",
              "3          27744\n",
              "4         198300\n",
              "5         212376\n",
              "         ...    \n",
              "378        98108\n",
              "379       111568\n",
              "380        45752\n",
              "381        57292\n",
              "0      0.0169361\n",
              "Length: 382, dtype: object"
            ]
          },
          "metadata": {
            "tags": []
          },
          "execution_count": 147
        },
        {
          "output_type": "execute_result",
          "data": {
            "text/plain": [
              "1           13318\n",
              "2            4057\n",
              "3           10483\n",
              "4           42999\n",
              "5          438681\n",
              "          ...    \n",
              "378         30643\n",
              "379         17895\n",
              "380         49389\n",
              "381        128465\n",
              "0      0.00775489\n",
              "Length: 382, dtype: object"
            ]
          },
          "metadata": {
            "tags": []
          },
          "execution_count": 147
        },
        {
          "output_type": "execute_result",
          "data": {
            "text/plain": [
              "1          50800\n",
              "2          11081\n",
              "3          10791\n",
              "4          61111\n",
              "5          64723\n",
              "         ...    \n",
              "378        34417\n",
              "379        42222\n",
              "380         9561\n",
              "381        13346\n",
              "0      0.0106496\n",
              "Length: 382, dtype: object"
            ]
          },
          "metadata": {
            "tags": []
          },
          "execution_count": 147
        },
        {
          "output_type": "execute_result",
          "data": {
            "text/plain": [
              "1          153784\n",
              "2           36663\n",
              "3           27744\n",
              "4          198300\n",
              "5          212376\n",
              "          ...    \n",
              "378         98108\n",
              "379        111568\n",
              "380         45752\n",
              "381         57292\n",
              "0      0.00678746\n",
              "Length: 382, dtype: object"
            ]
          },
          "metadata": {
            "tags": []
          },
          "execution_count": 147
        },
        {
          "output_type": "execute_result",
          "data": {
            "text/plain": [
              "1           13318\n",
              "2            4057\n",
              "3           10483\n",
              "4           42999\n",
              "5          438681\n",
              "          ...    \n",
              "378         30643\n",
              "379         17895\n",
              "380         49389\n",
              "381        128465\n",
              "0      0.00144808\n",
              "Length: 382, dtype: object"
            ]
          },
          "metadata": {
            "tags": []
          },
          "execution_count": 147
        },
        {
          "output_type": "execute_result",
          "data": {
            "text/plain": [
              "1          50800\n",
              "2          11081\n",
              "3          10791\n",
              "4          61111\n",
              "5          64723\n",
              "         ...    \n",
              "378        34417\n",
              "379        42222\n",
              "380         9561\n",
              "381        13346\n",
              "0      0.0059236\n",
              "Length: 382, dtype: object"
            ]
          },
          "metadata": {
            "tags": []
          },
          "execution_count": 147
        },
        {
          "output_type": "execute_result",
          "data": {
            "text/plain": [
              "1          153784\n",
              "2           36663\n",
              "3           27744\n",
              "4          198300\n",
              "5          212376\n",
              "          ...    \n",
              "378         98108\n",
              "379        111568\n",
              "380         45752\n",
              "381         57292\n",
              "0      0.00487871\n",
              "Length: 382, dtype: object"
            ]
          },
          "metadata": {
            "tags": []
          },
          "execution_count": 147
        },
        {
          "output_type": "execute_result",
          "data": {
            "text/plain": [
              "1           13318\n",
              "2            4057\n",
              "3           10483\n",
              "4           42999\n",
              "5          438681\n",
              "          ...    \n",
              "378         30643\n",
              "379         17895\n",
              "380         49389\n",
              "381        128465\n",
              "0      0.00171177\n",
              "Length: 382, dtype: object"
            ]
          },
          "metadata": {
            "tags": []
          },
          "execution_count": 147
        },
        {
          "output_type": "execute_result",
          "data": {
            "text/plain": [
              "1         50800\n",
              "2         11081\n",
              "3         10791\n",
              "4         61111\n",
              "5         64723\n",
              "         ...   \n",
              "378       34417\n",
              "379       42222\n",
              "380        9561\n",
              "381       13346\n",
              "0      0.133211\n",
              "Length: 382, dtype: object"
            ]
          },
          "metadata": {
            "tags": []
          },
          "execution_count": 147
        },
        {
          "output_type": "execute_result",
          "data": {
            "text/plain": [
              "1        153784\n",
              "2         36663\n",
              "3         27744\n",
              "4        198300\n",
              "5        212376\n",
              "         ...   \n",
              "378       98108\n",
              "379      111568\n",
              "380       45752\n",
              "381       57292\n",
              "0      0.121899\n",
              "Length: 382, dtype: object"
            ]
          },
          "metadata": {
            "tags": []
          },
          "execution_count": 147
        },
        {
          "output_type": "execute_result",
          "data": {
            "text/plain": [
              "1          13318\n",
              "2           4057\n",
              "3          10483\n",
              "4          42999\n",
              "5         438681\n",
              "         ...    \n",
              "378        30643\n",
              "379        17895\n",
              "380        49389\n",
              "381       128465\n",
              "0      0.0806752\n",
              "Length: 382, dtype: object"
            ]
          },
          "metadata": {
            "tags": []
          },
          "execution_count": 147
        },
        {
          "output_type": "execute_result",
          "data": {
            "text/plain": [
              "1          50800\n",
              "2          11081\n",
              "3          10791\n",
              "4          61111\n",
              "5          64723\n",
              "         ...    \n",
              "378        34417\n",
              "379        42222\n",
              "380         9561\n",
              "381        13346\n",
              "0      0.0142631\n",
              "Length: 382, dtype: object"
            ]
          },
          "metadata": {
            "tags": []
          },
          "execution_count": 147
        },
        {
          "output_type": "execute_result",
          "data": {
            "text/plain": [
              "1          153784\n",
              "2           36663\n",
              "3           27744\n",
              "4          198300\n",
              "5          212376\n",
              "          ...    \n",
              "378         98108\n",
              "379        111568\n",
              "380         45752\n",
              "381         57292\n",
              "0      0.00939956\n",
              "Length: 382, dtype: object"
            ]
          },
          "metadata": {
            "tags": []
          },
          "execution_count": 147
        },
        {
          "output_type": "execute_result",
          "data": {
            "text/plain": [
              "1           13318\n",
              "2            4057\n",
              "3           10483\n",
              "4           42999\n",
              "5          438681\n",
              "          ...    \n",
              "378         30643\n",
              "379         17895\n",
              "380         49389\n",
              "381        128465\n",
              "0      0.00268754\n",
              "Length: 382, dtype: object"
            ]
          },
          "metadata": {
            "tags": []
          },
          "execution_count": 147
        },
        {
          "output_type": "execute_result",
          "data": {
            "text/plain": [
              "1          50800\n",
              "2          11081\n",
              "3          10791\n",
              "4          61111\n",
              "5          64723\n",
              "         ...    \n",
              "378        34417\n",
              "379        42222\n",
              "380         9561\n",
              "381        13346\n",
              "0      0.0130794\n",
              "Length: 382, dtype: object"
            ]
          },
          "metadata": {
            "tags": []
          },
          "execution_count": 147
        },
        {
          "output_type": "execute_result",
          "data": {
            "text/plain": [
              "1         153784\n",
              "2          36663\n",
              "3          27744\n",
              "4         198300\n",
              "5         212376\n",
              "         ...    \n",
              "378        98108\n",
              "379       111568\n",
              "380        45752\n",
              "381        57292\n",
              "0      0.0114067\n",
              "Length: 382, dtype: object"
            ]
          },
          "metadata": {
            "tags": []
          },
          "execution_count": 147
        },
        {
          "output_type": "execute_result",
          "data": {
            "text/plain": [
              "1            13318\n",
              "2             4057\n",
              "3            10483\n",
              "4            42999\n",
              "5           438681\n",
              "          ...     \n",
              "378          30643\n",
              "379          17895\n",
              "380          49389\n",
              "381         128465\n",
              "0      0.000971579\n",
              "Length: 382, dtype: object"
            ]
          },
          "metadata": {
            "tags": []
          },
          "execution_count": 147
        },
        {
          "output_type": "execute_result",
          "data": {
            "text/plain": [
              "1         50800\n",
              "2         11081\n",
              "3         10791\n",
              "4         61111\n",
              "5         64723\n",
              "         ...   \n",
              "378       34417\n",
              "379       42222\n",
              "380        9561\n",
              "381       13346\n",
              "0      0.012044\n",
              "Length: 382, dtype: object"
            ]
          },
          "metadata": {
            "tags": []
          },
          "execution_count": 147
        },
        {
          "output_type": "execute_result",
          "data": {
            "text/plain": [
              "1          153784\n",
              "2           36663\n",
              "3           27744\n",
              "4          198300\n",
              "5          212376\n",
              "          ...    \n",
              "378         98108\n",
              "379        111568\n",
              "380         45752\n",
              "381         57292\n",
              "0      0.00907199\n",
              "Length: 382, dtype: object"
            ]
          },
          "metadata": {
            "tags": []
          },
          "execution_count": 147
        },
        {
          "output_type": "execute_result",
          "data": {
            "text/plain": [
              "1           13318\n",
              "2            4057\n",
              "3           10483\n",
              "4           42999\n",
              "5          438681\n",
              "          ...    \n",
              "378         30643\n",
              "379         17895\n",
              "380         49389\n",
              "381        128465\n",
              "0      0.00262107\n",
              "Length: 382, dtype: object"
            ]
          },
          "metadata": {
            "tags": []
          },
          "execution_count": 147
        },
        {
          "output_type": "execute_result",
          "data": {
            "text/plain": [
              "1           50800\n",
              "2           11081\n",
              "3           10791\n",
              "4           61111\n",
              "5           64723\n",
              "          ...    \n",
              "378         34417\n",
              "379         42222\n",
              "380          9561\n",
              "381         13346\n",
              "0      0.00959939\n",
              "Length: 382, dtype: object"
            ]
          },
          "metadata": {
            "tags": []
          },
          "execution_count": 147
        },
        {
          "output_type": "execute_result",
          "data": {
            "text/plain": [
              "1          153784\n",
              "2           36663\n",
              "3           27744\n",
              "4          198300\n",
              "5          212376\n",
              "          ...    \n",
              "378         98108\n",
              "379        111568\n",
              "380         45752\n",
              "381         57292\n",
              "0      0.00667577\n",
              "Length: 382, dtype: object"
            ]
          },
          "metadata": {
            "tags": []
          },
          "execution_count": 147
        },
        {
          "output_type": "execute_result",
          "data": {
            "text/plain": [
              "1           13318\n",
              "2            4057\n",
              "3           10483\n",
              "4           42999\n",
              "5          438681\n",
              "          ...    \n",
              "378         30643\n",
              "379         17895\n",
              "380         49389\n",
              "381        128465\n",
              "0      0.00110502\n",
              "Length: 382, dtype: object"
            ]
          },
          "metadata": {
            "tags": []
          },
          "execution_count": 147
        },
        {
          "output_type": "execute_result",
          "data": {
            "text/plain": [
              "1         50800\n",
              "2         11081\n",
              "3         10791\n",
              "4         61111\n",
              "5         64723\n",
              "         ...   \n",
              "378       34417\n",
              "379       42222\n",
              "380        9561\n",
              "381       13346\n",
              "0      0.201955\n",
              "Length: 382, dtype: object"
            ]
          },
          "metadata": {
            "tags": []
          },
          "execution_count": 147
        },
        {
          "output_type": "execute_result",
          "data": {
            "text/plain": [
              "1        153784\n",
              "2         36663\n",
              "3         27744\n",
              "4        198300\n",
              "5        212376\n",
              "         ...   \n",
              "378       98108\n",
              "379      111568\n",
              "380       45752\n",
              "381       57292\n",
              "0      0.138278\n",
              "Length: 382, dtype: object"
            ]
          },
          "metadata": {
            "tags": []
          },
          "execution_count": 147
        },
        {
          "output_type": "execute_result",
          "data": {
            "text/plain": [
              "1          13318\n",
              "2           4057\n",
              "3          10483\n",
              "4          42999\n",
              "5         438681\n",
              "         ...    \n",
              "378        30643\n",
              "379        17895\n",
              "380        49389\n",
              "381       128465\n",
              "0      0.0137486\n",
              "Length: 382, dtype: object"
            ]
          },
          "metadata": {
            "tags": []
          },
          "execution_count": 147
        },
        {
          "output_type": "execute_result",
          "data": {
            "text/plain": [
              "1          50800\n",
              "2          11081\n",
              "3          10791\n",
              "4          61111\n",
              "5          64723\n",
              "         ...    \n",
              "378        34417\n",
              "379        42222\n",
              "380         9561\n",
              "381        13346\n",
              "0      0.0271971\n",
              "Length: 382, dtype: object"
            ]
          },
          "metadata": {
            "tags": []
          },
          "execution_count": 147
        },
        {
          "output_type": "execute_result",
          "data": {
            "text/plain": [
              "1         153784\n",
              "2          36663\n",
              "3          27744\n",
              "4         198300\n",
              "5         212376\n",
              "         ...    \n",
              "378        98108\n",
              "379       111568\n",
              "380        45752\n",
              "381        57292\n",
              "0      0.0232782\n",
              "Length: 382, dtype: object"
            ]
          },
          "metadata": {
            "tags": []
          },
          "execution_count": 147
        },
        {
          "output_type": "execute_result",
          "data": {
            "text/plain": [
              "1          13318\n",
              "2           4057\n",
              "3          10483\n",
              "4          42999\n",
              "5         438681\n",
              "         ...    \n",
              "378        30643\n",
              "379        17895\n",
              "380        49389\n",
              "381       128465\n",
              "0      0.0161808\n",
              "Length: 382, dtype: object"
            ]
          },
          "metadata": {
            "tags": []
          },
          "execution_count": 147
        },
        {
          "output_type": "execute_result",
          "data": {
            "text/plain": [
              "1          50800\n",
              "2          11081\n",
              "3          10791\n",
              "4          61111\n",
              "5          64723\n",
              "         ...    \n",
              "378        34417\n",
              "379        42222\n",
              "380         9561\n",
              "381        13346\n",
              "0      0.0237339\n",
              "Length: 382, dtype: object"
            ]
          },
          "metadata": {
            "tags": []
          },
          "execution_count": 147
        },
        {
          "output_type": "execute_result",
          "data": {
            "text/plain": [
              "1         153784\n",
              "2          36663\n",
              "3          27744\n",
              "4         198300\n",
              "5         212376\n",
              "         ...    \n",
              "378        98108\n",
              "379       111568\n",
              "380        45752\n",
              "381        57292\n",
              "0      0.0248558\n",
              "Length: 382, dtype: object"
            ]
          },
          "metadata": {
            "tags": []
          },
          "execution_count": 147
        },
        {
          "output_type": "execute_result",
          "data": {
            "text/plain": [
              "1          13318\n",
              "2           4057\n",
              "3          10483\n",
              "4          42999\n",
              "5         438681\n",
              "         ...    \n",
              "378        30643\n",
              "379        17895\n",
              "380        49389\n",
              "381       128465\n",
              "0      0.0420096\n",
              "Length: 382, dtype: object"
            ]
          },
          "metadata": {
            "tags": []
          },
          "execution_count": 147
        },
        {
          "output_type": "execute_result",
          "data": {
            "text/plain": [
              "1          50800\n",
              "2          11081\n",
              "3          10791\n",
              "4          61111\n",
              "5          64723\n",
              "         ...    \n",
              "378        34417\n",
              "379        42222\n",
              "380         9561\n",
              "381        13346\n",
              "0      0.0316749\n",
              "Length: 382, dtype: object"
            ]
          },
          "metadata": {
            "tags": []
          },
          "execution_count": 147
        },
        {
          "output_type": "execute_result",
          "data": {
            "text/plain": [
              "1         153784\n",
              "2          36663\n",
              "3          27744\n",
              "4         198300\n",
              "5         212376\n",
              "         ...    \n",
              "378        98108\n",
              "379       111568\n",
              "380        45752\n",
              "381        57292\n",
              "0      0.0178308\n",
              "Length: 382, dtype: object"
            ]
          },
          "metadata": {
            "tags": []
          },
          "execution_count": 147
        },
        {
          "output_type": "execute_result",
          "data": {
            "text/plain": [
              "1           13318\n",
              "2            4057\n",
              "3           10483\n",
              "4           42999\n",
              "5          438681\n",
              "          ...    \n",
              "378         30643\n",
              "379         17895\n",
              "380         49389\n",
              "381        128465\n",
              "0      0.00462969\n",
              "Length: 382, dtype: object"
            ]
          },
          "metadata": {
            "tags": []
          },
          "execution_count": 147
        },
        {
          "output_type": "execute_result",
          "data": {
            "text/plain": [
              "1         50800\n",
              "2         11081\n",
              "3         10791\n",
              "4         61111\n",
              "5         64723\n",
              "         ...   \n",
              "378       34417\n",
              "379       42222\n",
              "380        9561\n",
              "381       13346\n",
              "0      0.077338\n",
              "Length: 382, dtype: object"
            ]
          },
          "metadata": {
            "tags": []
          },
          "execution_count": 147
        },
        {
          "output_type": "execute_result",
          "data": {
            "text/plain": [
              "1         153784\n",
              "2          36663\n",
              "3          27744\n",
              "4         198300\n",
              "5         212376\n",
              "         ...    \n",
              "378        98108\n",
              "379       111568\n",
              "380        45752\n",
              "381        57292\n",
              "0      0.0734899\n",
              "Length: 382, dtype: object"
            ]
          },
          "metadata": {
            "tags": []
          },
          "execution_count": 147
        },
        {
          "output_type": "execute_result",
          "data": {
            "text/plain": [
              "1          13318\n",
              "2           4057\n",
              "3          10483\n",
              "4          42999\n",
              "5         438681\n",
              "         ...    \n",
              "378        30643\n",
              "379        17895\n",
              "380        49389\n",
              "381       128465\n",
              "0      0.0344639\n",
              "Length: 382, dtype: object"
            ]
          },
          "metadata": {
            "tags": []
          },
          "execution_count": 147
        },
        {
          "output_type": "execute_result",
          "data": {
            "text/plain": [
              "1           50800\n",
              "2           11081\n",
              "3           10791\n",
              "4           61111\n",
              "5           64723\n",
              "          ...    \n",
              "378         34417\n",
              "379         42222\n",
              "380          9561\n",
              "381         13346\n",
              "0      0.00790044\n",
              "Length: 382, dtype: object"
            ]
          },
          "metadata": {
            "tags": []
          },
          "execution_count": 147
        },
        {
          "output_type": "execute_result",
          "data": {
            "text/plain": [
              "1          153784\n",
              "2           36663\n",
              "3           27744\n",
              "4          198300\n",
              "5          212376\n",
              "          ...    \n",
              "378         98108\n",
              "379        111568\n",
              "380         45752\n",
              "381         57292\n",
              "0      0.00718647\n",
              "Length: 382, dtype: object"
            ]
          },
          "metadata": {
            "tags": []
          },
          "execution_count": 147
        },
        {
          "output_type": "execute_result",
          "data": {
            "text/plain": [
              "1          13318\n",
              "2           4057\n",
              "3          10483\n",
              "4          42999\n",
              "5         438681\n",
              "         ...    \n",
              "378        30643\n",
              "379        17895\n",
              "380        49389\n",
              "381       128465\n",
              "0      0.0076633\n",
              "Length: 382, dtype: object"
            ]
          },
          "metadata": {
            "tags": []
          },
          "execution_count": 147
        },
        {
          "output_type": "execute_result",
          "data": {
            "text/plain": [
              "1         50800\n",
              "2         11081\n",
              "3         10791\n",
              "4         61111\n",
              "5         64723\n",
              "         ...   \n",
              "378       34417\n",
              "379       42222\n",
              "380        9561\n",
              "381       13346\n",
              "0      0.148172\n",
              "Length: 382, dtype: object"
            ]
          },
          "metadata": {
            "tags": []
          },
          "execution_count": 147
        },
        {
          "output_type": "execute_result",
          "data": {
            "text/plain": [
              "1        153784\n",
              "2         36663\n",
              "3         27744\n",
              "4        198300\n",
              "5        212376\n",
              "         ...   \n",
              "378       98108\n",
              "379      111568\n",
              "380       45752\n",
              "381       57292\n",
              "0      0.142908\n",
              "Length: 382, dtype: object"
            ]
          },
          "metadata": {
            "tags": []
          },
          "execution_count": 147
        },
        {
          "output_type": "execute_result",
          "data": {
            "text/plain": [
              "1         13318\n",
              "2          4057\n",
              "3         10483\n",
              "4         42999\n",
              "5        438681\n",
              "         ...   \n",
              "378       30643\n",
              "379       17895\n",
              "380       49389\n",
              "381      128465\n",
              "0      0.219147\n",
              "Length: 382, dtype: object"
            ]
          },
          "metadata": {
            "tags": []
          },
          "execution_count": 147
        },
        {
          "output_type": "execute_result",
          "data": {
            "text/plain": [
              "1         50800\n",
              "2         11081\n",
              "3         10791\n",
              "4         61111\n",
              "5         64723\n",
              "         ...   \n",
              "378       34417\n",
              "379       42222\n",
              "380        9561\n",
              "381       13346\n",
              "0      0.179307\n",
              "Length: 382, dtype: object"
            ]
          },
          "metadata": {
            "tags": []
          },
          "execution_count": 147
        },
        {
          "output_type": "execute_result",
          "data": {
            "text/plain": [
              "1        153784\n",
              "2         36663\n",
              "3         27744\n",
              "4        198300\n",
              "5        212376\n",
              "         ...   \n",
              "378       98108\n",
              "379      111568\n",
              "380       45752\n",
              "381       57292\n",
              "0      0.187337\n",
              "Length: 382, dtype: object"
            ]
          },
          "metadata": {
            "tags": []
          },
          "execution_count": 147
        },
        {
          "output_type": "execute_result",
          "data": {
            "text/plain": [
              "1         13318\n",
              "2          4057\n",
              "3         10483\n",
              "4         42999\n",
              "5        438681\n",
              "         ...   \n",
              "378       30643\n",
              "379       17895\n",
              "380       49389\n",
              "381      128465\n",
              "0      0.183409\n",
              "Length: 382, dtype: object"
            ]
          },
          "metadata": {
            "tags": []
          },
          "execution_count": 147
        },
        {
          "output_type": "execute_result",
          "data": {
            "text/plain": [
              "1         50800\n",
              "2         11081\n",
              "3         10791\n",
              "4         61111\n",
              "5         64723\n",
              "         ...   \n",
              "378       34417\n",
              "379       42222\n",
              "380        9561\n",
              "381       13346\n",
              "0      0.198014\n",
              "Length: 382, dtype: object"
            ]
          },
          "metadata": {
            "tags": []
          },
          "execution_count": 147
        },
        {
          "output_type": "execute_result",
          "data": {
            "text/plain": [
              "1        153784\n",
              "2         36663\n",
              "3         27744\n",
              "4        198300\n",
              "5        212376\n",
              "         ...   \n",
              "378       98108\n",
              "379      111568\n",
              "380       45752\n",
              "381       57292\n",
              "0      0.233431\n",
              "Length: 382, dtype: object"
            ]
          },
          "metadata": {
            "tags": []
          },
          "execution_count": 147
        },
        {
          "output_type": "execute_result",
          "data": {
            "text/plain": [
              "1         13318\n",
              "2          4057\n",
              "3         10483\n",
              "4         42999\n",
              "5        438681\n",
              "         ...   \n",
              "378       30643\n",
              "379       17895\n",
              "380       49389\n",
              "381      128465\n",
              "0      0.169843\n",
              "Length: 382, dtype: object"
            ]
          },
          "metadata": {
            "tags": []
          },
          "execution_count": 147
        },
        {
          "output_type": "execute_result",
          "data": {
            "text/plain": [
              "1          50800\n",
              "2          11081\n",
              "3          10791\n",
              "4          61111\n",
              "5          64723\n",
              "         ...    \n",
              "378        34417\n",
              "379        42222\n",
              "380         9561\n",
              "381        13346\n",
              "0      0.0711672\n",
              "Length: 382, dtype: object"
            ]
          },
          "metadata": {
            "tags": []
          },
          "execution_count": 147
        },
        {
          "output_type": "execute_result",
          "data": {
            "text/plain": [
              "1        153784\n",
              "2         36663\n",
              "3         27744\n",
              "4        198300\n",
              "5        212376\n",
              "         ...   \n",
              "378       98108\n",
              "379      111568\n",
              "380       45752\n",
              "381       57292\n",
              "0      0.107904\n",
              "Length: 382, dtype: object"
            ]
          },
          "metadata": {
            "tags": []
          },
          "execution_count": 147
        },
        {
          "output_type": "execute_result",
          "data": {
            "text/plain": [
              "1          13318\n",
              "2           4057\n",
              "3          10483\n",
              "4          42999\n",
              "5         438681\n",
              "         ...    \n",
              "378        30643\n",
              "379        17895\n",
              "380        49389\n",
              "381       128465\n",
              "0      0.0892075\n",
              "Length: 382, dtype: object"
            ]
          },
          "metadata": {
            "tags": []
          },
          "execution_count": 147
        },
        {
          "output_type": "execute_result",
          "data": {
            "text/plain": [
              "1          50800\n",
              "2          11081\n",
              "3          10791\n",
              "4          61111\n",
              "5          64723\n",
              "         ...    \n",
              "378        34417\n",
              "379        42222\n",
              "380         9561\n",
              "381        13346\n",
              "0      0.0192265\n",
              "Length: 382, dtype: object"
            ]
          },
          "metadata": {
            "tags": []
          },
          "execution_count": 147
        },
        {
          "output_type": "execute_result",
          "data": {
            "text/plain": [
              "1         153784\n",
              "2          36663\n",
              "3          27744\n",
              "4         198300\n",
              "5         212376\n",
              "         ...    \n",
              "378        98108\n",
              "379       111568\n",
              "380        45752\n",
              "381        57292\n",
              "0      0.0148754\n",
              "Length: 382, dtype: object"
            ]
          },
          "metadata": {
            "tags": []
          },
          "execution_count": 147
        },
        {
          "output_type": "execute_result",
          "data": {
            "text/plain": [
              "1          13318\n",
              "2           4057\n",
              "3          10483\n",
              "4          42999\n",
              "5         438681\n",
              "         ...    \n",
              "378        30643\n",
              "379        17895\n",
              "380        49389\n",
              "381       128465\n",
              "0      0.0104096\n",
              "Length: 382, dtype: object"
            ]
          },
          "metadata": {
            "tags": []
          },
          "execution_count": 147
        },
        {
          "output_type": "execute_result",
          "data": {
            "text/plain": [
              "1         50800\n",
              "2         11081\n",
              "3         10791\n",
              "4         61111\n",
              "5         64723\n",
              "         ...   \n",
              "378       34417\n",
              "379       42222\n",
              "380        9561\n",
              "381       13346\n",
              "0      0.012752\n",
              "Length: 382, dtype: object"
            ]
          },
          "metadata": {
            "tags": []
          },
          "execution_count": 147
        },
        {
          "output_type": "execute_result",
          "data": {
            "text/plain": [
              "1         153784\n",
              "2          36663\n",
              "3          27744\n",
              "4         198300\n",
              "5         212376\n",
              "         ...    \n",
              "378        98108\n",
              "379       111568\n",
              "380        45752\n",
              "381        57292\n",
              "0      0.0140704\n",
              "Length: 382, dtype: object"
            ]
          },
          "metadata": {
            "tags": []
          },
          "execution_count": 147
        },
        {
          "output_type": "execute_result",
          "data": {
            "text/plain": [
              "1          13318\n",
              "2           4057\n",
              "3          10483\n",
              "4          42999\n",
              "5         438681\n",
              "         ...    \n",
              "378        30643\n",
              "379        17895\n",
              "380        49389\n",
              "381       128465\n",
              "0      0.0152519\n",
              "Length: 382, dtype: object"
            ]
          },
          "metadata": {
            "tags": []
          },
          "execution_count": 147
        },
        {
          "output_type": "execute_result",
          "data": {
            "text/plain": [
              "1          50800\n",
              "2          11081\n",
              "3          10791\n",
              "4          61111\n",
              "5          64723\n",
              "         ...    \n",
              "378        34417\n",
              "379        42222\n",
              "380         9561\n",
              "381        13346\n",
              "0      0.0110907\n",
              "Length: 382, dtype: object"
            ]
          },
          "metadata": {
            "tags": []
          },
          "execution_count": 147
        },
        {
          "output_type": "execute_result",
          "data": {
            "text/plain": [
              "1         153784\n",
              "2          36663\n",
              "3          27744\n",
              "4         198300\n",
              "5         212376\n",
              "         ...    \n",
              "378        98108\n",
              "379       111568\n",
              "380        45752\n",
              "381        57292\n",
              "0      0.0060202\n",
              "Length: 382, dtype: object"
            ]
          },
          "metadata": {
            "tags": []
          },
          "execution_count": 147
        },
        {
          "output_type": "execute_result",
          "data": {
            "text/plain": [
              "1          13318\n",
              "2           4057\n",
              "3          10483\n",
              "4          42999\n",
              "5         438681\n",
              "         ...    \n",
              "378        30643\n",
              "379        17895\n",
              "380        49389\n",
              "381       128465\n",
              "0      0.0126431\n",
              "Length: 382, dtype: object"
            ]
          },
          "metadata": {
            "tags": []
          },
          "execution_count": 147
        },
        {
          "output_type": "execute_result",
          "data": {
            "text/plain": [
              "1          50800\n",
              "2          11081\n",
              "3          10791\n",
              "4          61111\n",
              "5          64723\n",
              "         ...    \n",
              "378        34417\n",
              "379        42222\n",
              "380         9561\n",
              "381        13346\n",
              "0      0.0235925\n",
              "Length: 382, dtype: object"
            ]
          },
          "metadata": {
            "tags": []
          },
          "execution_count": 147
        },
        {
          "output_type": "execute_result",
          "data": {
            "text/plain": [
              "1         153784\n",
              "2          36663\n",
              "3          27744\n",
              "4         198300\n",
              "5         212376\n",
              "         ...    \n",
              "378        98108\n",
              "379       111568\n",
              "380        45752\n",
              "381        57292\n",
              "0      0.0260411\n",
              "Length: 382, dtype: object"
            ]
          },
          "metadata": {
            "tags": []
          },
          "execution_count": 147
        },
        {
          "output_type": "execute_result",
          "data": {
            "text/plain": [
              "1          13318\n",
              "2           4057\n",
              "3          10483\n",
              "4          42999\n",
              "5         438681\n",
              "         ...    \n",
              "378        30643\n",
              "379        17895\n",
              "380        49389\n",
              "381       128465\n",
              "0      0.0332436\n",
              "Length: 382, dtype: object"
            ]
          },
          "metadata": {
            "tags": []
          },
          "execution_count": 147
        },
        {
          "output_type": "execute_result",
          "data": {
            "text/plain": [
              "1          50800\n",
              "2          11081\n",
              "3          10791\n",
              "4          61111\n",
              "5          64723\n",
              "         ...    \n",
              "378        34417\n",
              "379        42222\n",
              "380         9561\n",
              "381        13346\n",
              "0      0.0289782\n",
              "Length: 382, dtype: object"
            ]
          },
          "metadata": {
            "tags": []
          },
          "execution_count": 147
        },
        {
          "output_type": "execute_result",
          "data": {
            "text/plain": [
              "1         153784\n",
              "2          36663\n",
              "3          27744\n",
              "4         198300\n",
              "5         212376\n",
              "         ...    \n",
              "378        98108\n",
              "379       111568\n",
              "380        45752\n",
              "381        57292\n",
              "0      0.0227916\n",
              "Length: 382, dtype: object"
            ]
          },
          "metadata": {
            "tags": []
          },
          "execution_count": 147
        },
        {
          "output_type": "execute_result",
          "data": {
            "text/plain": [
              "1          13318\n",
              "2           4057\n",
              "3          10483\n",
              "4          42999\n",
              "5         438681\n",
              "         ...    \n",
              "378        30643\n",
              "379        17895\n",
              "380        49389\n",
              "381       128465\n",
              "0      0.0221034\n",
              "Length: 382, dtype: object"
            ]
          },
          "metadata": {
            "tags": []
          },
          "execution_count": 147
        },
        {
          "output_type": "execute_result",
          "data": {
            "text/plain": [
              "1          50800\n",
              "2          11081\n",
              "3          10791\n",
              "4          61111\n",
              "5          64723\n",
              "         ...    \n",
              "378        34417\n",
              "379        42222\n",
              "380         9561\n",
              "381        13346\n",
              "0      0.0250255\n",
              "Length: 382, dtype: object"
            ]
          },
          "metadata": {
            "tags": []
          },
          "execution_count": 147
        },
        {
          "output_type": "execute_result",
          "data": {
            "text/plain": [
              "1         153784\n",
              "2          36663\n",
              "3          27744\n",
              "4         198300\n",
              "5         212376\n",
              "         ...    \n",
              "378        98108\n",
              "379       111568\n",
              "380        45752\n",
              "381        57292\n",
              "0      0.0210706\n",
              "Length: 382, dtype: object"
            ]
          },
          "metadata": {
            "tags": []
          },
          "execution_count": 147
        },
        {
          "output_type": "execute_result",
          "data": {
            "text/plain": [
              "1           13318\n",
              "2            4057\n",
              "3           10483\n",
              "4           42999\n",
              "5          438681\n",
              "          ...    \n",
              "378         30643\n",
              "379         17895\n",
              "380         49389\n",
              "381        128465\n",
              "0      0.00374852\n",
              "Length: 382, dtype: object"
            ]
          },
          "metadata": {
            "tags": []
          },
          "execution_count": 147
        },
        {
          "output_type": "execute_result",
          "data": {
            "text/plain": [
              "1          50800\n",
              "2          11081\n",
              "3          10791\n",
              "4          61111\n",
              "5          64723\n",
              "         ...    \n",
              "378        34417\n",
              "379        42222\n",
              "380         9561\n",
              "381        13346\n",
              "0      0.0452092\n",
              "Length: 382, dtype: object"
            ]
          },
          "metadata": {
            "tags": []
          },
          "execution_count": 147
        },
        {
          "output_type": "execute_result",
          "data": {
            "text/plain": [
              "1         153784\n",
              "2          36663\n",
              "3          27744\n",
              "4         198300\n",
              "5         212376\n",
              "         ...    \n",
              "378        98108\n",
              "379       111568\n",
              "380        45752\n",
              "381        57292\n",
              "0      0.0258124\n",
              "Length: 382, dtype: object"
            ]
          },
          "metadata": {
            "tags": []
          },
          "execution_count": 147
        },
        {
          "output_type": "execute_result",
          "data": {
            "text/plain": [
              "1          13318\n",
              "2           4057\n",
              "3          10483\n",
              "4          42999\n",
              "5         438681\n",
              "         ...    \n",
              "378        30643\n",
              "379        17895\n",
              "380        49389\n",
              "381       128465\n",
              "0      0.0078458\n",
              "Length: 382, dtype: object"
            ]
          },
          "metadata": {
            "tags": []
          },
          "execution_count": 147
        },
        {
          "output_type": "execute_result",
          "data": {
            "text/plain": [
              "1         50800\n",
              "2         11081\n",
              "3         10791\n",
              "4         61111\n",
              "5         64723\n",
              "         ...   \n",
              "378       34417\n",
              "379       42222\n",
              "380        9561\n",
              "381       13346\n",
              "0      0.236196\n",
              "Length: 382, dtype: object"
            ]
          },
          "metadata": {
            "tags": []
          },
          "execution_count": 147
        },
        {
          "output_type": "execute_result",
          "data": {
            "text/plain": [
              "1      153784\n",
              "2       36663\n",
              "3       27744\n",
              "4      198300\n",
              "5      212376\n",
              "        ...  \n",
              "378     98108\n",
              "379    111568\n",
              "380     45752\n",
              "381     57292\n",
              "0      0.2092\n",
              "Length: 382, dtype: object"
            ]
          },
          "metadata": {
            "tags": []
          },
          "execution_count": 147
        },
        {
          "output_type": "execute_result",
          "data": {
            "text/plain": [
              "1          13318\n",
              "2           4057\n",
              "3          10483\n",
              "4          42999\n",
              "5         438681\n",
              "         ...    \n",
              "378        30643\n",
              "379        17895\n",
              "380        49389\n",
              "381       128465\n",
              "0      0.0609451\n",
              "Length: 382, dtype: object"
            ]
          },
          "metadata": {
            "tags": []
          },
          "execution_count": 147
        },
        {
          "output_type": "execute_result",
          "data": {
            "text/plain": [
              "1           50800\n",
              "2           11081\n",
              "3           10791\n",
              "4           61111\n",
              "5           64723\n",
              "          ...    \n",
              "378         34417\n",
              "379         42222\n",
              "380          9561\n",
              "381         13346\n",
              "0      0.00964389\n",
              "Length: 382, dtype: object"
            ]
          },
          "metadata": {
            "tags": []
          },
          "execution_count": 147
        },
        {
          "output_type": "execute_result",
          "data": {
            "text/plain": [
              "1          153784\n",
              "2           36663\n",
              "3           27744\n",
              "4          198300\n",
              "5          212376\n",
              "          ...    \n",
              "378         98108\n",
              "379        111568\n",
              "380         45752\n",
              "381         57292\n",
              "0      0.00563757\n",
              "Length: 382, dtype: object"
            ]
          },
          "metadata": {
            "tags": []
          },
          "execution_count": 147
        },
        {
          "output_type": "execute_result",
          "data": {
            "text/plain": [
              "1           13318\n",
              "2            4057\n",
              "3           10483\n",
              "4           42999\n",
              "5          438681\n",
              "          ...    \n",
              "378         30643\n",
              "379         17895\n",
              "380         49389\n",
              "381        128465\n",
              "0      0.00299226\n",
              "Length: 382, dtype: object"
            ]
          },
          "metadata": {
            "tags": []
          },
          "execution_count": 147
        },
        {
          "output_type": "execute_result",
          "data": {
            "text/plain": [
              "1           50800\n",
              "2           11081\n",
              "3           10791\n",
              "4           61111\n",
              "5           64723\n",
              "          ...    \n",
              "378         34417\n",
              "379         42222\n",
              "380          9561\n",
              "381         13346\n",
              "0      0.00786978\n",
              "Length: 382, dtype: object"
            ]
          },
          "metadata": {
            "tags": []
          },
          "execution_count": 147
        },
        {
          "output_type": "execute_result",
          "data": {
            "text/plain": [
              "1          153784\n",
              "2           36663\n",
              "3           27744\n",
              "4          198300\n",
              "5          212376\n",
              "          ...    \n",
              "378         98108\n",
              "379        111568\n",
              "380         45752\n",
              "381         57292\n",
              "0      0.00369409\n",
              "Length: 382, dtype: object"
            ]
          },
          "metadata": {
            "tags": []
          },
          "execution_count": 147
        },
        {
          "output_type": "execute_result",
          "data": {
            "text/plain": [
              "1          13318\n",
              "2           4057\n",
              "3          10483\n",
              "4          42999\n",
              "5         438681\n",
              "         ...    \n",
              "378        30643\n",
              "379        17895\n",
              "380        49389\n",
              "381       128465\n",
              "0      0.0031632\n",
              "Length: 382, dtype: object"
            ]
          },
          "metadata": {
            "tags": []
          },
          "execution_count": 147
        },
        {
          "output_type": "execute_result",
          "data": {
            "text/plain": [
              "1           50800\n",
              "2           11081\n",
              "3           10791\n",
              "4           61111\n",
              "5           64723\n",
              "          ...    \n",
              "378         34417\n",
              "379         42222\n",
              "380          9561\n",
              "381         13346\n",
              "0      0.00976948\n",
              "Length: 382, dtype: object"
            ]
          },
          "metadata": {
            "tags": []
          },
          "execution_count": 147
        },
        {
          "output_type": "execute_result",
          "data": {
            "text/plain": [
              "1          153784\n",
              "2           36663\n",
              "3           27744\n",
              "4          198300\n",
              "5          212376\n",
              "          ...    \n",
              "378         98108\n",
              "379        111568\n",
              "380         45752\n",
              "381         57292\n",
              "0      0.00576828\n",
              "Length: 382, dtype: object"
            ]
          },
          "metadata": {
            "tags": []
          },
          "execution_count": 147
        },
        {
          "output_type": "execute_result",
          "data": {
            "text/plain": [
              "1           13318\n",
              "2            4057\n",
              "3           10483\n",
              "4           42999\n",
              "5          438681\n",
              "          ...    \n",
              "378         30643\n",
              "379         17895\n",
              "380         49389\n",
              "381        128465\n",
              "0      0.00118622\n",
              "Length: 382, dtype: object"
            ]
          },
          "metadata": {
            "tags": []
          },
          "execution_count": 147
        },
        {
          "output_type": "execute_result",
          "data": {
            "text/plain": [
              "1           50800\n",
              "2           11081\n",
              "3           10791\n",
              "4           61111\n",
              "5           64723\n",
              "          ...    \n",
              "378         34417\n",
              "379         42222\n",
              "380          9561\n",
              "381         13346\n",
              "0      0.00919295\n",
              "Length: 382, dtype: object"
            ]
          },
          "metadata": {
            "tags": []
          },
          "execution_count": 147
        },
        {
          "output_type": "execute_result",
          "data": {
            "text/plain": [
              "1          153784\n",
              "2           36663\n",
              "3           27744\n",
              "4          198300\n",
              "5          212376\n",
              "          ...    \n",
              "378         98108\n",
              "379        111568\n",
              "380         45752\n",
              "381         57292\n",
              "0      0.00680494\n",
              "Length: 382, dtype: object"
            ]
          },
          "metadata": {
            "tags": []
          },
          "execution_count": 147
        },
        {
          "output_type": "execute_result",
          "data": {
            "text/plain": [
              "1           13318\n",
              "2            4057\n",
              "3           10483\n",
              "4           42999\n",
              "5          438681\n",
              "          ...    \n",
              "378         30643\n",
              "379         17895\n",
              "380         49389\n",
              "381        128465\n",
              "0      0.00267867\n",
              "Length: 382, dtype: object"
            ]
          },
          "metadata": {
            "tags": []
          },
          "execution_count": 147
        },
        {
          "output_type": "execute_result",
          "data": {
            "text/plain": [
              "1          50800\n",
              "2          11081\n",
              "3          10791\n",
              "4          61111\n",
              "5          64723\n",
              "         ...    \n",
              "378        34417\n",
              "379        42222\n",
              "380         9561\n",
              "381        13346\n",
              "0      0.0288615\n",
              "Length: 382, dtype: object"
            ]
          },
          "metadata": {
            "tags": []
          },
          "execution_count": 147
        },
        {
          "output_type": "execute_result",
          "data": {
            "text/plain": [
              "1         153784\n",
              "2          36663\n",
              "3          27744\n",
              "4         198300\n",
              "5         212376\n",
              "         ...    \n",
              "378        98108\n",
              "379       111568\n",
              "380        45752\n",
              "381        57292\n",
              "0      0.0225056\n",
              "Length: 382, dtype: object"
            ]
          },
          "metadata": {
            "tags": []
          },
          "execution_count": 147
        },
        {
          "output_type": "execute_result",
          "data": {
            "text/plain": [
              "1           13318\n",
              "2            4057\n",
              "3           10483\n",
              "4           42999\n",
              "5          438681\n",
              "          ...    \n",
              "378         30643\n",
              "379         17895\n",
              "380         49389\n",
              "381        128465\n",
              "0      0.00279134\n",
              "Length: 382, dtype: object"
            ]
          },
          "metadata": {
            "tags": []
          },
          "execution_count": 147
        },
        {
          "output_type": "execute_result",
          "data": {
            "text/plain": [
              "1          50800\n",
              "2          11081\n",
              "3          10791\n",
              "4          61111\n",
              "5          64723\n",
              "         ...    \n",
              "378        34417\n",
              "379        42222\n",
              "380         9561\n",
              "381        13346\n",
              "0      0.0096785\n",
              "Length: 382, dtype: object"
            ]
          },
          "metadata": {
            "tags": []
          },
          "execution_count": 147
        },
        {
          "output_type": "execute_result",
          "data": {
            "text/plain": [
              "1          153784\n",
              "2           36663\n",
              "3           27744\n",
              "4          198300\n",
              "5          212376\n",
              "          ...    \n",
              "378         98108\n",
              "379        111568\n",
              "380         45752\n",
              "381         57292\n",
              "0      0.00623939\n",
              "Length: 382, dtype: object"
            ]
          },
          "metadata": {
            "tags": []
          },
          "execution_count": 147
        },
        {
          "output_type": "execute_result",
          "data": {
            "text/plain": [
              "1           13318\n",
              "2            4057\n",
              "3           10483\n",
              "4           42999\n",
              "5          438681\n",
              "          ...    \n",
              "378         30643\n",
              "379         17895\n",
              "380         49389\n",
              "381        128465\n",
              "0      0.00741283\n",
              "Length: 382, dtype: object"
            ]
          },
          "metadata": {
            "tags": []
          },
          "execution_count": 147
        },
        {
          "output_type": "execute_result",
          "data": {
            "text/plain": [
              "1          50800\n",
              "2          11081\n",
              "3          10791\n",
              "4          61111\n",
              "5          64723\n",
              "         ...    \n",
              "378        34417\n",
              "379        42222\n",
              "380         9561\n",
              "381        13346\n",
              "0      0.0118146\n",
              "Length: 382, dtype: object"
            ]
          },
          "metadata": {
            "tags": []
          },
          "execution_count": 147
        },
        {
          "output_type": "execute_result",
          "data": {
            "text/plain": [
              "1          153784\n",
              "2           36663\n",
              "3           27744\n",
              "4          198300\n",
              "5          212376\n",
              "          ...    \n",
              "378         98108\n",
              "379        111568\n",
              "380         45752\n",
              "381         57292\n",
              "0      0.00908327\n",
              "Length: 382, dtype: object"
            ]
          },
          "metadata": {
            "tags": []
          },
          "execution_count": 147
        },
        {
          "output_type": "execute_result",
          "data": {
            "text/plain": [
              "1           13318\n",
              "2            4057\n",
              "3           10483\n",
              "4           42999\n",
              "5          438681\n",
              "          ...    \n",
              "378         30643\n",
              "379         17895\n",
              "380         49389\n",
              "381        128465\n",
              "0      0.00440701\n",
              "Length: 382, dtype: object"
            ]
          },
          "metadata": {
            "tags": []
          },
          "execution_count": 147
        },
        {
          "output_type": "execute_result",
          "data": {
            "text/plain": [
              "1          50800\n",
              "2          11081\n",
              "3          10791\n",
              "4          61111\n",
              "5          64723\n",
              "         ...    \n",
              "378        34417\n",
              "379        42222\n",
              "380         9561\n",
              "381        13346\n",
              "0      0.0198554\n",
              "Length: 382, dtype: object"
            ]
          },
          "metadata": {
            "tags": []
          },
          "execution_count": 147
        },
        {
          "output_type": "execute_result",
          "data": {
            "text/plain": [
              "1         153784\n",
              "2          36663\n",
              "3          27744\n",
              "4         198300\n",
              "5         212376\n",
              "         ...    \n",
              "378        98108\n",
              "379       111568\n",
              "380        45752\n",
              "381        57292\n",
              "0      0.0149867\n",
              "Length: 382, dtype: object"
            ]
          },
          "metadata": {
            "tags": []
          },
          "execution_count": 147
        },
        {
          "output_type": "execute_result",
          "data": {
            "text/plain": [
              "1          13318\n",
              "2           4057\n",
              "3          10483\n",
              "4          42999\n",
              "5         438681\n",
              "         ...    \n",
              "378        30643\n",
              "379        17895\n",
              "380        49389\n",
              "381       128465\n",
              "0      0.0016582\n",
              "Length: 382, dtype: object"
            ]
          },
          "metadata": {
            "tags": []
          },
          "execution_count": 147
        },
        {
          "output_type": "execute_result",
          "data": {
            "text/plain": [
              "1          50800\n",
              "2          11081\n",
              "3          10791\n",
              "4          61111\n",
              "5          64723\n",
              "         ...    \n",
              "378        34417\n",
              "379        42222\n",
              "380         9561\n",
              "381        13346\n",
              "0      0.0236588\n",
              "Length: 382, dtype: object"
            ]
          },
          "metadata": {
            "tags": []
          },
          "execution_count": 147
        },
        {
          "output_type": "execute_result",
          "data": {
            "text/plain": [
              "1         153784\n",
              "2          36663\n",
              "3          27744\n",
              "4         198300\n",
              "5         212376\n",
              "         ...    \n",
              "378        98108\n",
              "379       111568\n",
              "380        45752\n",
              "381        57292\n",
              "0      0.0165573\n",
              "Length: 382, dtype: object"
            ]
          },
          "metadata": {
            "tags": []
          },
          "execution_count": 147
        },
        {
          "output_type": "execute_result",
          "data": {
            "text/plain": [
              "1           13318\n",
              "2            4057\n",
              "3           10483\n",
              "4           42999\n",
              "5          438681\n",
              "          ...    \n",
              "378         30643\n",
              "379         17895\n",
              "380         49389\n",
              "381        128465\n",
              "0      0.00406831\n",
              "Length: 382, dtype: object"
            ]
          },
          "metadata": {
            "tags": []
          },
          "execution_count": 147
        },
        {
          "output_type": "execute_result",
          "data": {
            "text/plain": [
              "1          50800\n",
              "2          11081\n",
              "3          10791\n",
              "4          61111\n",
              "5          64723\n",
              "         ...    \n",
              "378        34417\n",
              "379        42222\n",
              "380         9561\n",
              "381        13346\n",
              "0      0.0233423\n",
              "Length: 382, dtype: object"
            ]
          },
          "metadata": {
            "tags": []
          },
          "execution_count": 147
        },
        {
          "output_type": "execute_result",
          "data": {
            "text/plain": [
              "1        153784\n",
              "2         36663\n",
              "3         27744\n",
              "4        198300\n",
              "5        212376\n",
              "         ...   \n",
              "378       98108\n",
              "379      111568\n",
              "380       45752\n",
              "381       57292\n",
              "0      0.016926\n",
              "Length: 382, dtype: object"
            ]
          },
          "metadata": {
            "tags": []
          },
          "execution_count": 147
        },
        {
          "output_type": "execute_result",
          "data": {
            "text/plain": [
              "1           13318\n",
              "2            4057\n",
              "3           10483\n",
              "4           42999\n",
              "5          438681\n",
              "          ...    \n",
              "378         30643\n",
              "379         17895\n",
              "380         49389\n",
              "381        128465\n",
              "0      0.00329681\n",
              "Length: 382, dtype: object"
            ]
          },
          "metadata": {
            "tags": []
          },
          "execution_count": 147
        },
        {
          "output_type": "execute_result",
          "data": {
            "text/plain": [
              "1          50800\n",
              "2          11081\n",
              "3          10791\n",
              "4          61111\n",
              "5          64723\n",
              "         ...    \n",
              "378        34417\n",
              "379        42222\n",
              "380         9561\n",
              "381        13346\n",
              "0      0.0446831\n",
              "Length: 382, dtype: object"
            ]
          },
          "metadata": {
            "tags": []
          },
          "execution_count": 147
        },
        {
          "output_type": "execute_result",
          "data": {
            "text/plain": [
              "1         153784\n",
              "2          36663\n",
              "3          27744\n",
              "4         198300\n",
              "5         212376\n",
              "         ...    \n",
              "378        98108\n",
              "379       111568\n",
              "380        45752\n",
              "381        57292\n",
              "0      0.0295961\n",
              "Length: 382, dtype: object"
            ]
          },
          "metadata": {
            "tags": []
          },
          "execution_count": 147
        },
        {
          "output_type": "execute_result",
          "data": {
            "text/plain": [
              "1           13318\n",
              "2            4057\n",
              "3           10483\n",
              "4           42999\n",
              "5          438681\n",
              "          ...    \n",
              "378         30643\n",
              "379         17895\n",
              "380         49389\n",
              "381        128465\n",
              "0      0.00475392\n",
              "Length: 382, dtype: object"
            ]
          },
          "metadata": {
            "tags": []
          },
          "execution_count": 147
        },
        {
          "output_type": "execute_result",
          "data": {
            "text/plain": [
              "1          50800\n",
              "2          11081\n",
              "3          10791\n",
              "4          61111\n",
              "5          64723\n",
              "         ...    \n",
              "378        34417\n",
              "379        42222\n",
              "380         9561\n",
              "381        13346\n",
              "0      0.0139902\n",
              "Length: 382, dtype: object"
            ]
          },
          "metadata": {
            "tags": []
          },
          "execution_count": 147
        },
        {
          "output_type": "execute_result",
          "data": {
            "text/plain": [
              "1          153784\n",
              "2           36663\n",
              "3           27744\n",
              "4          198300\n",
              "5          212376\n",
              "          ...    \n",
              "378         98108\n",
              "379        111568\n",
              "380         45752\n",
              "381         57292\n",
              "0      0.00992021\n",
              "Length: 382, dtype: object"
            ]
          },
          "metadata": {
            "tags": []
          },
          "execution_count": 147
        },
        {
          "output_type": "execute_result",
          "data": {
            "text/plain": [
              "1            13318\n",
              "2             4057\n",
              "3            10483\n",
              "4            42999\n",
              "5           438681\n",
              "          ...     \n",
              "378          30643\n",
              "379          17895\n",
              "380          49389\n",
              "381         128465\n",
              "0      0.000759951\n",
              "Length: 382, dtype: object"
            ]
          },
          "metadata": {
            "tags": []
          },
          "execution_count": 147
        },
        {
          "output_type": "execute_result",
          "data": {
            "text/plain": [
              "1          50800\n",
              "2          11081\n",
              "3          10791\n",
              "4          61111\n",
              "5          64723\n",
              "         ...    \n",
              "378        34417\n",
              "379        42222\n",
              "380         9561\n",
              "381        13346\n",
              "0      0.0365681\n",
              "Length: 382, dtype: object"
            ]
          },
          "metadata": {
            "tags": []
          },
          "execution_count": 147
        },
        {
          "output_type": "execute_result",
          "data": {
            "text/plain": [
              "1         153784\n",
              "2          36663\n",
              "3          27744\n",
              "4         198300\n",
              "5         212376\n",
              "         ...    \n",
              "378        98108\n",
              "379       111568\n",
              "380        45752\n",
              "381        57292\n",
              "0      0.0320697\n",
              "Length: 382, dtype: object"
            ]
          },
          "metadata": {
            "tags": []
          },
          "execution_count": 147
        },
        {
          "output_type": "execute_result",
          "data": {
            "text/plain": [
              "1         13318\n",
              "2          4057\n",
              "3         10483\n",
              "4         42999\n",
              "5        438681\n",
              "         ...   \n",
              "378       30643\n",
              "379       17895\n",
              "380       49389\n",
              "381      128465\n",
              "0      0.020248\n",
              "Length: 382, dtype: object"
            ]
          },
          "metadata": {
            "tags": []
          },
          "execution_count": 147
        },
        {
          "output_type": "execute_result",
          "data": {
            "text/plain": [
              "1          50800\n",
              "2          11081\n",
              "3          10791\n",
              "4          61111\n",
              "5          64723\n",
              "         ...    \n",
              "378        34417\n",
              "379        42222\n",
              "380         9561\n",
              "381        13346\n",
              "0      0.0364178\n",
              "Length: 382, dtype: object"
            ]
          },
          "metadata": {
            "tags": []
          },
          "execution_count": 147
        },
        {
          "output_type": "execute_result",
          "data": {
            "text/plain": [
              "1         153784\n",
              "2          36663\n",
              "3          27744\n",
              "4         198300\n",
              "5         212376\n",
              "         ...    \n",
              "378        98108\n",
              "379       111568\n",
              "380        45752\n",
              "381        57292\n",
              "0      0.0242162\n",
              "Length: 382, dtype: object"
            ]
          },
          "metadata": {
            "tags": []
          },
          "execution_count": 147
        },
        {
          "output_type": "execute_result",
          "data": {
            "text/plain": [
              "1           13318\n",
              "2            4057\n",
              "3           10483\n",
              "4           42999\n",
              "5          438681\n",
              "          ...    \n",
              "378         30643\n",
              "379         17895\n",
              "380         49389\n",
              "381        128465\n",
              "0      0.00237144\n",
              "Length: 382, dtype: object"
            ]
          },
          "metadata": {
            "tags": []
          },
          "execution_count": 147
        },
        {
          "output_type": "execute_result",
          "data": {
            "text/plain": [
              "1          50800\n",
              "2          11081\n",
              "3          10791\n",
              "4          61111\n",
              "5          64723\n",
              "         ...    \n",
              "378        34417\n",
              "379        42222\n",
              "380         9561\n",
              "381        13346\n",
              "0      0.0111787\n",
              "Length: 382, dtype: object"
            ]
          },
          "metadata": {
            "tags": []
          },
          "execution_count": 147
        },
        {
          "output_type": "execute_result",
          "data": {
            "text/plain": [
              "1          153784\n",
              "2           36663\n",
              "3           27744\n",
              "4          198300\n",
              "5          212376\n",
              "          ...    \n",
              "378         98108\n",
              "379        111568\n",
              "380         45752\n",
              "381         57292\n",
              "0      0.00640991\n",
              "Length: 382, dtype: object"
            ]
          },
          "metadata": {
            "tags": []
          },
          "execution_count": 147
        },
        {
          "output_type": "execute_result",
          "data": {
            "text/plain": [
              "1            13318\n",
              "2             4057\n",
              "3            10483\n",
              "4            42999\n",
              "5           438681\n",
              "          ...     \n",
              "378          30643\n",
              "379          17895\n",
              "380          49389\n",
              "381         128465\n",
              "0      0.000719936\n",
              "Length: 382, dtype: object"
            ]
          },
          "metadata": {
            "tags": []
          },
          "execution_count": 147
        },
        {
          "output_type": "execute_result",
          "data": {
            "text/plain": [
              "1           50800\n",
              "2           11081\n",
              "3           10791\n",
              "4           61111\n",
              "5           64723\n",
              "          ...    \n",
              "378         34417\n",
              "379         42222\n",
              "380          9561\n",
              "381         13346\n",
              "0      0.00917811\n",
              "Length: 382, dtype: object"
            ]
          },
          "metadata": {
            "tags": []
          },
          "execution_count": 147
        },
        {
          "output_type": "execute_result",
          "data": {
            "text/plain": [
              "1         153784\n",
              "2          36663\n",
              "3          27744\n",
              "4         198300\n",
              "5         212376\n",
              "         ...    \n",
              "378        98108\n",
              "379       111568\n",
              "380        45752\n",
              "381        57292\n",
              "0      0.0103511\n",
              "Length: 382, dtype: object"
            ]
          },
          "metadata": {
            "tags": []
          },
          "execution_count": 147
        },
        {
          "output_type": "execute_result",
          "data": {
            "text/plain": [
              "1          13318\n",
              "2           4057\n",
              "3          10483\n",
              "4          42999\n",
              "5         438681\n",
              "         ...    \n",
              "378        30643\n",
              "379        17895\n",
              "380        49389\n",
              "381       128465\n",
              "0      0.0007633\n",
              "Length: 382, dtype: object"
            ]
          },
          "metadata": {
            "tags": []
          },
          "execution_count": 147
        },
        {
          "output_type": "execute_result",
          "data": {
            "text/plain": [
              "1         50800\n",
              "2         11081\n",
              "3         10791\n",
              "4         61111\n",
              "5         64723\n",
              "         ...   \n",
              "378       34417\n",
              "379       42222\n",
              "380        9561\n",
              "381       13346\n",
              "0      0.009099\n",
              "Length: 382, dtype: object"
            ]
          },
          "metadata": {
            "tags": []
          },
          "execution_count": 147
        },
        {
          "output_type": "execute_result",
          "data": {
            "text/plain": [
              "1          153784\n",
              "2           36663\n",
              "3           27744\n",
              "4          198300\n",
              "5          212376\n",
              "          ...    \n",
              "378         98108\n",
              "379        111568\n",
              "380         45752\n",
              "381         57292\n",
              "0      0.00579283\n",
              "Length: 382, dtype: object"
            ]
          },
          "metadata": {
            "tags": []
          },
          "execution_count": 147
        },
        {
          "output_type": "execute_result",
          "data": {
            "text/plain": [
              "1            13318\n",
              "2             4057\n",
              "3            10483\n",
              "4            42999\n",
              "5           438681\n",
              "          ...     \n",
              "378          30643\n",
              "379          17895\n",
              "380          49389\n",
              "381         128465\n",
              "0      0.000690637\n",
              "Length: 382, dtype: object"
            ]
          },
          "metadata": {
            "tags": []
          },
          "execution_count": 147
        },
        {
          "output_type": "execute_result",
          "data": {
            "text/plain": [
              "1          50800\n",
              "2          11081\n",
              "3          10791\n",
              "4          61111\n",
              "5          64723\n",
              "         ...    \n",
              "378        34417\n",
              "379        42222\n",
              "380         9561\n",
              "381        13346\n",
              "0      0.0413178\n",
              "Length: 382, dtype: object"
            ]
          },
          "metadata": {
            "tags": []
          },
          "execution_count": 147
        },
        {
          "output_type": "execute_result",
          "data": {
            "text/plain": [
              "1         153784\n",
              "2          36663\n",
              "3          27744\n",
              "4         198300\n",
              "5         212376\n",
              "         ...    \n",
              "378        98108\n",
              "379       111568\n",
              "380        45752\n",
              "381        57292\n",
              "0      0.0434068\n",
              "Length: 382, dtype: object"
            ]
          },
          "metadata": {
            "tags": []
          },
          "execution_count": 147
        },
        {
          "output_type": "execute_result",
          "data": {
            "text/plain": [
              "1          13318\n",
              "2           4057\n",
              "3          10483\n",
              "4          42999\n",
              "5         438681\n",
              "         ...    \n",
              "378        30643\n",
              "379        17895\n",
              "380        49389\n",
              "381       128465\n",
              "0      0.0494924\n",
              "Length: 382, dtype: object"
            ]
          },
          "metadata": {
            "tags": []
          },
          "execution_count": 147
        },
        {
          "output_type": "execute_result",
          "data": {
            "text/plain": [
              "1           50800\n",
              "2           11081\n",
              "3           10791\n",
              "4           61111\n",
              "5           64723\n",
              "          ...    \n",
              "378         34417\n",
              "379         42222\n",
              "380          9561\n",
              "381         13346\n",
              "0      0.00861443\n",
              "Length: 382, dtype: object"
            ]
          },
          "metadata": {
            "tags": []
          },
          "execution_count": 147
        },
        {
          "output_type": "execute_result",
          "data": {
            "text/plain": [
              "1          153784\n",
              "2           36663\n",
              "3           27744\n",
              "4          198300\n",
              "5          212376\n",
              "          ...    \n",
              "378         98108\n",
              "379        111568\n",
              "380         45752\n",
              "381         57292\n",
              "0      0.00584813\n",
              "Length: 382, dtype: object"
            ]
          },
          "metadata": {
            "tags": []
          },
          "execution_count": 147
        },
        {
          "output_type": "execute_result",
          "data": {
            "text/plain": [
              "1            13318\n",
              "2             4057\n",
              "3            10483\n",
              "4            42999\n",
              "5           438681\n",
              "          ...     \n",
              "378          30643\n",
              "379          17895\n",
              "380          49389\n",
              "381         128465\n",
              "0      0.000684944\n",
              "Length: 382, dtype: object"
            ]
          },
          "metadata": {
            "tags": []
          },
          "execution_count": 147
        },
        {
          "output_type": "execute_result",
          "data": {
            "text/plain": [
              "1          50800\n",
              "2          11081\n",
              "3          10791\n",
              "4          61111\n",
              "5          64723\n",
              "         ...    \n",
              "378        34417\n",
              "379        42222\n",
              "380         9561\n",
              "381        13346\n",
              "0      0.0445456\n",
              "Length: 382, dtype: object"
            ]
          },
          "metadata": {
            "tags": []
          },
          "execution_count": 147
        },
        {
          "output_type": "execute_result",
          "data": {
            "text/plain": [
              "1         153784\n",
              "2          36663\n",
              "3          27744\n",
              "4         198300\n",
              "5         212376\n",
              "         ...    \n",
              "378        98108\n",
              "379       111568\n",
              "380        45752\n",
              "381        57292\n",
              "0      0.0321668\n",
              "Length: 382, dtype: object"
            ]
          },
          "metadata": {
            "tags": []
          },
          "execution_count": 147
        },
        {
          "output_type": "execute_result",
          "data": {
            "text/plain": [
              "1           13318\n",
              "2            4057\n",
              "3           10483\n",
              "4           42999\n",
              "5          438681\n",
              "          ...    \n",
              "378         30643\n",
              "379         17895\n",
              "380         49389\n",
              "381        128465\n",
              "0      0.00440082\n",
              "Length: 382, dtype: object"
            ]
          },
          "metadata": {
            "tags": []
          },
          "execution_count": 147
        },
        {
          "output_type": "execute_result",
          "data": {
            "text/plain": [
              "1         50800\n",
              "2         11081\n",
              "3         10791\n",
              "4         61111\n",
              "5         64723\n",
              "         ...   \n",
              "378       34417\n",
              "379       42222\n",
              "380        9561\n",
              "381       13346\n",
              "0      0.023372\n",
              "Length: 382, dtype: object"
            ]
          },
          "metadata": {
            "tags": []
          },
          "execution_count": 147
        },
        {
          "output_type": "execute_result",
          "data": {
            "text/plain": [
              "1         153784\n",
              "2          36663\n",
              "3          27744\n",
              "4         198300\n",
              "5         212376\n",
              "         ...    \n",
              "378        98108\n",
              "379       111568\n",
              "380        45752\n",
              "381        57292\n",
              "0      0.0211799\n",
              "Length: 382, dtype: object"
            ]
          },
          "metadata": {
            "tags": []
          },
          "execution_count": 147
        },
        {
          "output_type": "execute_result",
          "data": {
            "text/plain": [
              "1           13318\n",
              "2            4057\n",
              "3           10483\n",
              "4           42999\n",
              "5          438681\n",
              "          ...    \n",
              "378         30643\n",
              "379         17895\n",
              "380         49389\n",
              "381        128465\n",
              "0      0.00399146\n",
              "Length: 382, dtype: object"
            ]
          },
          "metadata": {
            "tags": []
          },
          "execution_count": 147
        },
        {
          "output_type": "execute_result",
          "data": {
            "text/plain": [
              "1         50800\n",
              "2         11081\n",
              "3         10791\n",
              "4         61111\n",
              "5         64723\n",
              "         ...   \n",
              "378       34417\n",
              "379       42222\n",
              "380        9561\n",
              "381       13346\n",
              "0      0.217425\n",
              "Length: 382, dtype: object"
            ]
          },
          "metadata": {
            "tags": []
          },
          "execution_count": 147
        },
        {
          "output_type": "execute_result",
          "data": {
            "text/plain": [
              "1        153784\n",
              "2         36663\n",
              "3         27744\n",
              "4        198300\n",
              "5        212376\n",
              "         ...   \n",
              "378       98108\n",
              "379      111568\n",
              "380       45752\n",
              "381       57292\n",
              "0      0.143254\n",
              "Length: 382, dtype: object"
            ]
          },
          "metadata": {
            "tags": []
          },
          "execution_count": 147
        },
        {
          "output_type": "execute_result",
          "data": {
            "text/plain": [
              "1          13318\n",
              "2           4057\n",
              "3          10483\n",
              "4          42999\n",
              "5         438681\n",
              "         ...    \n",
              "378        30643\n",
              "379        17895\n",
              "380        49389\n",
              "381       128465\n",
              "0      0.0919973\n",
              "Length: 382, dtype: object"
            ]
          },
          "metadata": {
            "tags": []
          },
          "execution_count": 147
        },
        {
          "output_type": "execute_result",
          "data": {
            "text/plain": [
              "1          50800\n",
              "2          11081\n",
              "3          10791\n",
              "4          61111\n",
              "5          64723\n",
              "         ...    \n",
              "378        34417\n",
              "379        42222\n",
              "380         9561\n",
              "381        13346\n",
              "0      0.0137024\n",
              "Length: 382, dtype: object"
            ]
          },
          "metadata": {
            "tags": []
          },
          "execution_count": 147
        },
        {
          "output_type": "execute_result",
          "data": {
            "text/plain": [
              "1          153784\n",
              "2           36663\n",
              "3           27744\n",
              "4          198300\n",
              "5          212376\n",
              "          ...    \n",
              "378         98108\n",
              "379        111568\n",
              "380         45752\n",
              "381         57292\n",
              "0      0.00917197\n",
              "Length: 382, dtype: object"
            ]
          },
          "metadata": {
            "tags": []
          },
          "execution_count": 147
        },
        {
          "output_type": "execute_result",
          "data": {
            "text/plain": [
              "1            13318\n",
              "2             4057\n",
              "3            10483\n",
              "4            42999\n",
              "5           438681\n",
              "          ...     \n",
              "378          30643\n",
              "379          17895\n",
              "380          49389\n",
              "381         128465\n",
              "0      0.000612281\n",
              "Length: 382, dtype: object"
            ]
          },
          "metadata": {
            "tags": []
          },
          "execution_count": 147
        },
        {
          "output_type": "execute_result",
          "data": {
            "text/plain": [
              "1           50800\n",
              "2           11081\n",
              "3           10791\n",
              "4           61111\n",
              "5           64723\n",
              "          ...    \n",
              "378         34417\n",
              "379         42222\n",
              "380          9561\n",
              "381         13346\n",
              "0      0.00950347\n",
              "Length: 382, dtype: object"
            ]
          },
          "metadata": {
            "tags": []
          },
          "execution_count": 147
        },
        {
          "output_type": "execute_result",
          "data": {
            "text/plain": [
              "1          153784\n",
              "2           36663\n",
              "3           27744\n",
              "4          198300\n",
              "5          212376\n",
              "          ...    \n",
              "378         98108\n",
              "379        111568\n",
              "380         45752\n",
              "381         57292\n",
              "0      0.00773764\n",
              "Length: 382, dtype: object"
            ]
          },
          "metadata": {
            "tags": []
          },
          "execution_count": 147
        },
        {
          "output_type": "execute_result",
          "data": {
            "text/plain": [
              "1          13318\n",
              "2           4057\n",
              "3          10483\n",
              "4          42999\n",
              "5         438681\n",
              "         ...    \n",
              "378        30643\n",
              "379        17895\n",
              "380        49389\n",
              "381       128465\n",
              "0      0.0014536\n",
              "Length: 382, dtype: object"
            ]
          },
          "metadata": {
            "tags": []
          },
          "execution_count": 147
        },
        {
          "output_type": "execute_result",
          "data": {
            "text/plain": [
              "1          50800\n",
              "2          11081\n",
              "3          10791\n",
              "4          61111\n",
              "5          64723\n",
              "         ...    \n",
              "378        34417\n",
              "379        42222\n",
              "380         9561\n",
              "381        13346\n",
              "0      0.0137607\n",
              "Length: 382, dtype: object"
            ]
          },
          "metadata": {
            "tags": []
          },
          "execution_count": 147
        },
        {
          "output_type": "execute_result",
          "data": {
            "text/plain": [
              "1          153784\n",
              "2           36663\n",
              "3           27744\n",
              "4          198300\n",
              "5          212376\n",
              "          ...    \n",
              "378         98108\n",
              "379        111568\n",
              "380         45752\n",
              "381         57292\n",
              "0      0.00252694\n",
              "Length: 382, dtype: object"
            ]
          },
          "metadata": {
            "tags": []
          },
          "execution_count": 147
        },
        {
          "output_type": "execute_result",
          "data": {
            "text/plain": [
              "1           13318\n",
              "2            4057\n",
              "3           10483\n",
              "4           42999\n",
              "5          438681\n",
              "          ...    \n",
              "378         30643\n",
              "379         17895\n",
              "380         49389\n",
              "381        128465\n",
              "0      0.00110636\n",
              "Length: 382, dtype: object"
            ]
          },
          "metadata": {
            "tags": []
          },
          "execution_count": 147
        },
        {
          "output_type": "execute_result",
          "data": {
            "text/plain": [
              "1          50800\n",
              "2          11081\n",
              "3          10791\n",
              "4          61111\n",
              "5          64723\n",
              "         ...    \n",
              "378        34417\n",
              "379        42222\n",
              "380         9561\n",
              "381        13346\n",
              "0      0.0446366\n",
              "Length: 382, dtype: object"
            ]
          },
          "metadata": {
            "tags": []
          },
          "execution_count": 147
        },
        {
          "output_type": "execute_result",
          "data": {
            "text/plain": [
              "1         153784\n",
              "2          36663\n",
              "3          27744\n",
              "4         198300\n",
              "5         212376\n",
              "         ...    \n",
              "378        98108\n",
              "379       111568\n",
              "380        45752\n",
              "381        57292\n",
              "0      0.0314542\n",
              "Length: 382, dtype: object"
            ]
          },
          "metadata": {
            "tags": []
          },
          "execution_count": 147
        },
        {
          "output_type": "execute_result",
          "data": {
            "text/plain": [
              "1           13318\n",
              "2            4057\n",
              "3           10483\n",
              "4           42999\n",
              "5          438681\n",
              "          ...    \n",
              "378         30643\n",
              "379         17895\n",
              "380         49389\n",
              "381        128465\n",
              "0      0.00670596\n",
              "Length: 382, dtype: object"
            ]
          },
          "metadata": {
            "tags": []
          },
          "execution_count": 147
        },
        {
          "output_type": "execute_result",
          "data": {
            "text/plain": [
              "1          50800\n",
              "2          11081\n",
              "3          10791\n",
              "4          61111\n",
              "5          64723\n",
              "         ...    \n",
              "378        34417\n",
              "379        42222\n",
              "380         9561\n",
              "381        13346\n",
              "0      0.0168827\n",
              "Length: 382, dtype: object"
            ]
          },
          "metadata": {
            "tags": []
          },
          "execution_count": 147
        },
        {
          "output_type": "execute_result",
          "data": {
            "text/plain": [
              "1         153784\n",
              "2          36663\n",
              "3          27744\n",
              "4         198300\n",
              "5         212376\n",
              "         ...    \n",
              "378        98108\n",
              "379       111568\n",
              "380        45752\n",
              "381        57292\n",
              "0      0.0112813\n",
              "Length: 382, dtype: object"
            ]
          },
          "metadata": {
            "tags": []
          },
          "execution_count": 147
        },
        {
          "output_type": "execute_result",
          "data": {
            "text/plain": [
              "1           13318\n",
              "2            4057\n",
              "3           10483\n",
              "4           42999\n",
              "5          438681\n",
              "          ...    \n",
              "378         30643\n",
              "379         17895\n",
              "380         49389\n",
              "381        128465\n",
              "0      0.00386589\n",
              "Length: 382, dtype: object"
            ]
          },
          "metadata": {
            "tags": []
          },
          "execution_count": 147
        },
        {
          "output_type": "execute_result",
          "data": {
            "text/plain": [
              "1          50800\n",
              "2          11081\n",
              "3          10791\n",
              "4          61111\n",
              "5          64723\n",
              "         ...    \n",
              "378        34417\n",
              "379        42222\n",
              "380         9561\n",
              "381        13346\n",
              "0      0.0193204\n",
              "Length: 382, dtype: object"
            ]
          },
          "metadata": {
            "tags": []
          },
          "execution_count": 147
        },
        {
          "output_type": "execute_result",
          "data": {
            "text/plain": [
              "1         153784\n",
              "2          36663\n",
              "3          27744\n",
              "4         198300\n",
              "5         212376\n",
              "         ...    \n",
              "378        98108\n",
              "379       111568\n",
              "380        45752\n",
              "381        57292\n",
              "0      0.0186861\n",
              "Length: 382, dtype: object"
            ]
          },
          "metadata": {
            "tags": []
          },
          "execution_count": 147
        },
        {
          "output_type": "execute_result",
          "data": {
            "text/plain": [
              "1          13318\n",
              "2           4057\n",
              "3          10483\n",
              "4          42999\n",
              "5         438681\n",
              "         ...    \n",
              "378        30643\n",
              "379        17895\n",
              "380        49389\n",
              "381       128465\n",
              "0      0.0105742\n",
              "Length: 382, dtype: object"
            ]
          },
          "metadata": {
            "tags": []
          },
          "execution_count": 147
        },
        {
          "output_type": "execute_result",
          "data": {
            "text/plain": [
              "1          50800\n",
              "2          11081\n",
              "3          10791\n",
              "4          61111\n",
              "5          64723\n",
              "         ...    \n",
              "378        34417\n",
              "379        42222\n",
              "380         9561\n",
              "381        13346\n",
              "0      0.0761612\n",
              "Length: 382, dtype: object"
            ]
          },
          "metadata": {
            "tags": []
          },
          "execution_count": 147
        },
        {
          "output_type": "execute_result",
          "data": {
            "text/plain": [
              "1         153784\n",
              "2          36663\n",
              "3          27744\n",
              "4         198300\n",
              "5         212376\n",
              "         ...    \n",
              "378        98108\n",
              "379       111568\n",
              "380        45752\n",
              "381        57292\n",
              "0      0.0533798\n",
              "Length: 382, dtype: object"
            ]
          },
          "metadata": {
            "tags": []
          },
          "execution_count": 147
        },
        {
          "output_type": "execute_result",
          "data": {
            "text/plain": [
              "1          13318\n",
              "2           4057\n",
              "3          10483\n",
              "4          42999\n",
              "5         438681\n",
              "         ...    \n",
              "378        30643\n",
              "379        17895\n",
              "380        49389\n",
              "381       128465\n",
              "0      0.0617156\n",
              "Length: 382, dtype: object"
            ]
          },
          "metadata": {
            "tags": []
          },
          "execution_count": 147
        },
        {
          "output_type": "execute_result",
          "data": {
            "text/plain": [
              "1          50800\n",
              "2          11081\n",
              "3          10791\n",
              "4          61111\n",
              "5          64723\n",
              "         ...    \n",
              "378        34417\n",
              "379        42222\n",
              "380         9561\n",
              "381        13346\n",
              "0      0.0686534\n",
              "Length: 382, dtype: object"
            ]
          },
          "metadata": {
            "tags": []
          },
          "execution_count": 147
        },
        {
          "output_type": "execute_result",
          "data": {
            "text/plain": [
              "1        153784\n",
              "2         36663\n",
              "3         27744\n",
              "4        198300\n",
              "5        212376\n",
              "         ...   \n",
              "378       98108\n",
              "379      111568\n",
              "380       45752\n",
              "381       57292\n",
              "0      0.052362\n",
              "Length: 382, dtype: object"
            ]
          },
          "metadata": {
            "tags": []
          },
          "execution_count": 147
        },
        {
          "output_type": "execute_result",
          "data": {
            "text/plain": [
              "1          13318\n",
              "2           4057\n",
              "3          10483\n",
              "4          42999\n",
              "5         438681\n",
              "         ...    \n",
              "378        30643\n",
              "379        17895\n",
              "380        49389\n",
              "381       128465\n",
              "0      0.0154112\n",
              "Length: 382, dtype: object"
            ]
          },
          "metadata": {
            "tags": []
          },
          "execution_count": 147
        },
        {
          "output_type": "execute_result",
          "data": {
            "text/plain": [
              "1          50800\n",
              "2          11081\n",
              "3          10791\n",
              "4          61111\n",
              "5          64723\n",
              "         ...    \n",
              "378        34417\n",
              "379        42222\n",
              "380         9561\n",
              "381        13346\n",
              "0      0.0153351\n",
              "Length: 382, dtype: object"
            ]
          },
          "metadata": {
            "tags": []
          },
          "execution_count": 147
        },
        {
          "output_type": "execute_result",
          "data": {
            "text/plain": [
              "1         153784\n",
              "2          36663\n",
              "3          27744\n",
              "4         198300\n",
              "5         212376\n",
              "         ...    \n",
              "378        98108\n",
              "379       111568\n",
              "380        45752\n",
              "381        57292\n",
              "0      0.0136727\n",
              "Length: 382, dtype: object"
            ]
          },
          "metadata": {
            "tags": []
          },
          "execution_count": 147
        },
        {
          "output_type": "execute_result",
          "data": {
            "text/plain": [
              "1           13318\n",
              "2            4057\n",
              "3           10483\n",
              "4           42999\n",
              "5          438681\n",
              "          ...    \n",
              "378         30643\n",
              "379         17895\n",
              "380         49389\n",
              "381        128465\n",
              "0      0.00136453\n",
              "Length: 382, dtype: object"
            ]
          },
          "metadata": {
            "tags": []
          },
          "execution_count": 147
        },
        {
          "output_type": "execute_result",
          "data": {
            "text/plain": [
              "1          50800\n",
              "2          11081\n",
              "3          10791\n",
              "4          61111\n",
              "5          64723\n",
              "         ...    \n",
              "378        34417\n",
              "379        42222\n",
              "380         9561\n",
              "381        13346\n",
              "0      0.0139071\n",
              "Length: 382, dtype: object"
            ]
          },
          "metadata": {
            "tags": []
          },
          "execution_count": 147
        },
        {
          "output_type": "execute_result",
          "data": {
            "text/plain": [
              "1         153784\n",
              "2          36663\n",
              "3          27744\n",
              "4         198300\n",
              "5         212376\n",
              "         ...    \n",
              "378        98108\n",
              "379       111568\n",
              "380        45752\n",
              "381        57292\n",
              "0      0.0123534\n",
              "Length: 382, dtype: object"
            ]
          },
          "metadata": {
            "tags": []
          },
          "execution_count": 147
        },
        {
          "output_type": "execute_result",
          "data": {
            "text/plain": [
              "1           13318\n",
              "2            4057\n",
              "3           10483\n",
              "4           42999\n",
              "5          438681\n",
              "          ...    \n",
              "378         30643\n",
              "379         17895\n",
              "380         49389\n",
              "381        128465\n",
              "0      0.00705337\n",
              "Length: 382, dtype: object"
            ]
          },
          "metadata": {
            "tags": []
          },
          "execution_count": 147
        },
        {
          "output_type": "execute_result",
          "data": {
            "text/plain": [
              "1          50800\n",
              "2          11081\n",
              "3          10791\n",
              "4          61111\n",
              "5          64723\n",
              "         ...    \n",
              "378        34417\n",
              "379        42222\n",
              "380         9561\n",
              "381        13346\n",
              "0      0.0492509\n",
              "Length: 382, dtype: object"
            ]
          },
          "metadata": {
            "tags": []
          },
          "execution_count": 147
        },
        {
          "output_type": "execute_result",
          "data": {
            "text/plain": [
              "1         153784\n",
              "2          36663\n",
              "3          27744\n",
              "4         198300\n",
              "5         212376\n",
              "         ...    \n",
              "378        98108\n",
              "379       111568\n",
              "380        45752\n",
              "381        57292\n",
              "0      0.0520784\n",
              "Length: 382, dtype: object"
            ]
          },
          "metadata": {
            "tags": []
          },
          "execution_count": 147
        },
        {
          "output_type": "execute_result",
          "data": {
            "text/plain": [
              "1          13318\n",
              "2           4057\n",
              "3          10483\n",
              "4          42999\n",
              "5         438681\n",
              "         ...    \n",
              "378        30643\n",
              "379        17895\n",
              "380        49389\n",
              "381       128465\n",
              "0      0.0159173\n",
              "Length: 382, dtype: object"
            ]
          },
          "metadata": {
            "tags": []
          },
          "execution_count": 147
        },
        {
          "output_type": "execute_result",
          "data": {
            "text/plain": [
              "1          50800\n",
              "2          11081\n",
              "3          10791\n",
              "4          61111\n",
              "5          64723\n",
              "         ...    \n",
              "378        34417\n",
              "379        42222\n",
              "380         9561\n",
              "381        13346\n",
              "0      0.0216167\n",
              "Length: 382, dtype: object"
            ]
          },
          "metadata": {
            "tags": []
          },
          "execution_count": 147
        },
        {
          "output_type": "execute_result",
          "data": {
            "text/plain": [
              "1         153784\n",
              "2          36663\n",
              "3          27744\n",
              "4         198300\n",
              "5         212376\n",
              "         ...    \n",
              "378        98108\n",
              "379       111568\n",
              "380        45752\n",
              "381        57292\n",
              "0      0.0142258\n",
              "Length: 382, dtype: object"
            ]
          },
          "metadata": {
            "tags": []
          },
          "execution_count": 147
        },
        {
          "output_type": "execute_result",
          "data": {
            "text/plain": [
              "1           13318\n",
              "2            4057\n",
              "3           10483\n",
              "4           42999\n",
              "5          438681\n",
              "          ...    \n",
              "378         30643\n",
              "379         17895\n",
              "380         49389\n",
              "381        128465\n",
              "0      0.00231434\n",
              "Length: 382, dtype: object"
            ]
          },
          "metadata": {
            "tags": []
          },
          "execution_count": 147
        },
        {
          "output_type": "execute_result",
          "data": {
            "text/plain": [
              "1           50800\n",
              "2           11081\n",
              "3           10791\n",
              "4           61111\n",
              "5           64723\n",
              "          ...    \n",
              "378         34417\n",
              "379         42222\n",
              "380          9561\n",
              "381         13346\n",
              "0      0.00838105\n",
              "Length: 382, dtype: object"
            ]
          },
          "metadata": {
            "tags": []
          },
          "execution_count": 147
        },
        {
          "output_type": "execute_result",
          "data": {
            "text/plain": [
              "1          153784\n",
              "2           36663\n",
              "3           27744\n",
              "4          198300\n",
              "5          212376\n",
              "          ...    \n",
              "378         98108\n",
              "379        111568\n",
              "380         45752\n",
              "381         57292\n",
              "0      0.00842174\n",
              "Length: 382, dtype: object"
            ]
          },
          "metadata": {
            "tags": []
          },
          "execution_count": 147
        },
        {
          "output_type": "execute_result",
          "data": {
            "text/plain": [
              "1           13318\n",
              "2            4057\n",
              "3           10483\n",
              "4           42999\n",
              "5          438681\n",
              "          ...    \n",
              "378         30643\n",
              "379         17895\n",
              "380         49389\n",
              "381        128465\n",
              "0      0.00145494\n",
              "Length: 382, dtype: object"
            ]
          },
          "metadata": {
            "tags": []
          },
          "execution_count": 147
        },
        {
          "output_type": "execute_result",
          "data": {
            "text/plain": [
              "1          50800\n",
              "2          11081\n",
              "3          10791\n",
              "4          61111\n",
              "5          64723\n",
              "         ...    \n",
              "378        34417\n",
              "379        42222\n",
              "380         9561\n",
              "381        13346\n",
              "0      0.0262962\n",
              "Length: 382, dtype: object"
            ]
          },
          "metadata": {
            "tags": []
          },
          "execution_count": 147
        },
        {
          "output_type": "execute_result",
          "data": {
            "text/plain": [
              "1         153784\n",
              "2          36663\n",
              "3          27744\n",
              "4         198300\n",
              "5         212376\n",
              "         ...    \n",
              "378        98108\n",
              "379       111568\n",
              "380        45752\n",
              "381        57292\n",
              "0      0.0232494\n",
              "Length: 382, dtype: object"
            ]
          },
          "metadata": {
            "tags": []
          },
          "execution_count": 147
        },
        {
          "output_type": "execute_result",
          "data": {
            "text/plain": [
              "1          13318\n",
              "2           4057\n",
              "3          10483\n",
              "4          42999\n",
              "5         438681\n",
              "         ...    \n",
              "378        30643\n",
              "379        17895\n",
              "380        49389\n",
              "381       128465\n",
              "0      0.0187682\n",
              "Length: 382, dtype: object"
            ]
          },
          "metadata": {
            "tags": []
          },
          "execution_count": 147
        },
        {
          "output_type": "execute_result",
          "data": {
            "text/plain": [
              "1           50800\n",
              "2           11081\n",
              "3           10791\n",
              "4           61111\n",
              "5           64723\n",
              "          ...    \n",
              "378         34417\n",
              "379         42222\n",
              "380          9561\n",
              "381         13346\n",
              "0      0.00539651\n",
              "Length: 382, dtype: object"
            ]
          },
          "metadata": {
            "tags": []
          },
          "execution_count": 147
        },
        {
          "output_type": "execute_result",
          "data": {
            "text/plain": [
              "1          153784\n",
              "2           36663\n",
              "3           27744\n",
              "4          198300\n",
              "5          212376\n",
              "          ...    \n",
              "378         98108\n",
              "379        111568\n",
              "380         45752\n",
              "381         57292\n",
              "0      0.00511603\n",
              "Length: 382, dtype: object"
            ]
          },
          "metadata": {
            "tags": []
          },
          "execution_count": 147
        },
        {
          "output_type": "execute_result",
          "data": {
            "text/plain": [
              "1           13318\n",
              "2            4057\n",
              "3           10483\n",
              "4           42999\n",
              "5          438681\n",
              "          ...    \n",
              "378         30643\n",
              "379         17895\n",
              "380         49389\n",
              "381        128465\n",
              "0      0.00750308\n",
              "Length: 382, dtype: object"
            ]
          },
          "metadata": {
            "tags": []
          },
          "execution_count": 147
        },
        {
          "output_type": "execute_result",
          "data": {
            "text/plain": [
              "1           50800\n",
              "2           11081\n",
              "3           10791\n",
              "4           61111\n",
              "5           64723\n",
              "          ...    \n",
              "378         34417\n",
              "379         42222\n",
              "380          9561\n",
              "381         13346\n",
              "0      0.00904857\n",
              "Length: 382, dtype: object"
            ]
          },
          "metadata": {
            "tags": []
          },
          "execution_count": 147
        },
        {
          "output_type": "execute_result",
          "data": {
            "text/plain": [
              "1          153784\n",
              "2           36663\n",
              "3           27744\n",
              "4          198300\n",
              "5          212376\n",
              "          ...    \n",
              "378         98108\n",
              "379        111568\n",
              "380         45752\n",
              "381         57292\n",
              "0      0.00805326\n",
              "Length: 382, dtype: object"
            ]
          },
          "metadata": {
            "tags": []
          },
          "execution_count": 147
        },
        {
          "output_type": "execute_result",
          "data": {
            "text/plain": [
              "1           13318\n",
              "2            4057\n",
              "3           10483\n",
              "4           42999\n",
              "5          438681\n",
              "          ...    \n",
              "378         30643\n",
              "379         17895\n",
              "380         49389\n",
              "381        128465\n",
              "0      0.00769595\n",
              "Length: 382, dtype: object"
            ]
          },
          "metadata": {
            "tags": []
          },
          "execution_count": 147
        },
        {
          "output_type": "execute_result",
          "data": {
            "text/plain": [
              "1         50800\n",
              "2         11081\n",
              "3         10791\n",
              "4         61111\n",
              "5         64723\n",
              "         ...   \n",
              "378       34417\n",
              "379       42222\n",
              "380        9561\n",
              "381       13346\n",
              "0      0.122503\n",
              "Length: 382, dtype: object"
            ]
          },
          "metadata": {
            "tags": []
          },
          "execution_count": 147
        },
        {
          "output_type": "execute_result",
          "data": {
            "text/plain": [
              "1         153784\n",
              "2          36663\n",
              "3          27744\n",
              "4         198300\n",
              "5         212376\n",
              "         ...    \n",
              "378        98108\n",
              "379       111568\n",
              "380        45752\n",
              "381        57292\n",
              "0      0.0953735\n",
              "Length: 382, dtype: object"
            ]
          },
          "metadata": {
            "tags": []
          },
          "execution_count": 147
        },
        {
          "output_type": "execute_result",
          "data": {
            "text/plain": [
              "1         13318\n",
              "2          4057\n",
              "3         10483\n",
              "4         42999\n",
              "5        438681\n",
              "         ...   \n",
              "378       30643\n",
              "379       17895\n",
              "380       49389\n",
              "381      128465\n",
              "0      0.018468\n",
              "Length: 382, dtype: object"
            ]
          },
          "metadata": {
            "tags": []
          },
          "execution_count": 147
        },
        {
          "output_type": "execute_result",
          "data": {
            "text/plain": [
              "1          50800\n",
              "2          11081\n",
              "3          10791\n",
              "4          61111\n",
              "5          64723\n",
              "         ...    \n",
              "378        34417\n",
              "379        42222\n",
              "380         9561\n",
              "381        13346\n",
              "0      0.0235352\n",
              "Length: 382, dtype: object"
            ]
          },
          "metadata": {
            "tags": []
          },
          "execution_count": 147
        },
        {
          "output_type": "execute_result",
          "data": {
            "text/plain": [
              "1         153784\n",
              "2          36663\n",
              "3          27744\n",
              "4         198300\n",
              "5         212376\n",
              "         ...    \n",
              "378        98108\n",
              "379       111568\n",
              "380        45752\n",
              "381        57292\n",
              "0      0.0292075\n",
              "Length: 382, dtype: object"
            ]
          },
          "metadata": {
            "tags": []
          },
          "execution_count": 147
        },
        {
          "output_type": "execute_result",
          "data": {
            "text/plain": [
              "1          13318\n",
              "2           4057\n",
              "3          10483\n",
              "4          42999\n",
              "5         438681\n",
              "         ...    \n",
              "378        30643\n",
              "379        17895\n",
              "380        49389\n",
              "381       128465\n",
              "0      0.0488664\n",
              "Length: 382, dtype: object"
            ]
          },
          "metadata": {
            "tags": []
          },
          "execution_count": 147
        },
        {
          "output_type": "execute_result",
          "data": {
            "text/plain": [
              "1          50800\n",
              "2          11081\n",
              "3          10791\n",
              "4          61111\n",
              "5          64723\n",
              "         ...    \n",
              "378        34417\n",
              "379        42222\n",
              "380         9561\n",
              "381        13346\n",
              "0      0.0159789\n",
              "Length: 382, dtype: object"
            ]
          },
          "metadata": {
            "tags": []
          },
          "execution_count": 147
        },
        {
          "output_type": "execute_result",
          "data": {
            "text/plain": [
              "1         153784\n",
              "2          36663\n",
              "3          27744\n",
              "4         198300\n",
              "5         212376\n",
              "         ...    \n",
              "378        98108\n",
              "379       111568\n",
              "380        45752\n",
              "381        57292\n",
              "0      0.0157141\n",
              "Length: 382, dtype: object"
            ]
          },
          "metadata": {
            "tags": []
          },
          "execution_count": 147
        },
        {
          "output_type": "execute_result",
          "data": {
            "text/plain": [
              "1          13318\n",
              "2           4057\n",
              "3          10483\n",
              "4          42999\n",
              "5         438681\n",
              "         ...    \n",
              "378        30643\n",
              "379        17895\n",
              "380        49389\n",
              "381       128465\n",
              "0      0.0112091\n",
              "Length: 382, dtype: object"
            ]
          },
          "metadata": {
            "tags": []
          },
          "execution_count": 147
        },
        {
          "output_type": "execute_result",
          "data": {
            "text/plain": [
              "1           50800\n",
              "2           11081\n",
              "3           10791\n",
              "4           61111\n",
              "5           64723\n",
              "          ...    \n",
              "378         34417\n",
              "379         42222\n",
              "380          9561\n",
              "381         13346\n",
              "0      0.00461625\n",
              "Length: 382, dtype: object"
            ]
          },
          "metadata": {
            "tags": []
          },
          "execution_count": 147
        },
        {
          "output_type": "execute_result",
          "data": {
            "text/plain": [
              "1          153784\n",
              "2           36663\n",
              "3           27744\n",
              "4          198300\n",
              "5          212376\n",
              "          ...    \n",
              "378         98108\n",
              "379        111568\n",
              "380         45752\n",
              "381         57292\n",
              "0      0.00353683\n",
              "Length: 382, dtype: object"
            ]
          },
          "metadata": {
            "tags": []
          },
          "execution_count": 147
        },
        {
          "output_type": "execute_result",
          "data": {
            "text/plain": [
              "1          13318\n",
              "2           4057\n",
              "3          10483\n",
              "4          42999\n",
              "5         438681\n",
              "         ...    \n",
              "378        30643\n",
              "379        17895\n",
              "380        49389\n",
              "381       128465\n",
              "0      0.0021645\n",
              "Length: 382, dtype: object"
            ]
          },
          "metadata": {
            "tags": []
          },
          "execution_count": 147
        },
        {
          "output_type": "execute_result",
          "data": {
            "text/plain": [
              "1          50800\n",
              "2          11081\n",
              "3          10791\n",
              "4          61111\n",
              "5          64723\n",
              "         ...    \n",
              "378        34417\n",
              "379        42222\n",
              "380         9561\n",
              "381        13346\n",
              "0      0.0113498\n",
              "Length: 382, dtype: object"
            ]
          },
          "metadata": {
            "tags": []
          },
          "execution_count": 147
        },
        {
          "output_type": "execute_result",
          "data": {
            "text/plain": [
              "1        153784\n",
              "2         36663\n",
              "3         27744\n",
              "4        198300\n",
              "5        212376\n",
              "         ...   \n",
              "378       98108\n",
              "379      111568\n",
              "380       45752\n",
              "381       57292\n",
              "0      0.010557\n",
              "Length: 382, dtype: object"
            ]
          },
          "metadata": {
            "tags": []
          },
          "execution_count": 147
        },
        {
          "output_type": "execute_result",
          "data": {
            "text/plain": [
              "1           13318\n",
              "2            4057\n",
              "3           10483\n",
              "4           42999\n",
              "5          438681\n",
              "          ...    \n",
              "378         30643\n",
              "379         17895\n",
              "380         49389\n",
              "381        128465\n",
              "0      0.00206438\n",
              "Length: 382, dtype: object"
            ]
          },
          "metadata": {
            "tags": []
          },
          "execution_count": 147
        },
        {
          "output_type": "execute_result",
          "data": {
            "text/plain": [
              "1         50800\n",
              "2         11081\n",
              "3         10791\n",
              "4         61111\n",
              "5         64723\n",
              "         ...   \n",
              "378       34417\n",
              "379       42222\n",
              "380        9561\n",
              "381       13346\n",
              "0      0.297734\n",
              "Length: 382, dtype: object"
            ]
          },
          "metadata": {
            "tags": []
          },
          "execution_count": 147
        },
        {
          "output_type": "execute_result",
          "data": {
            "text/plain": [
              "1        153784\n",
              "2         36663\n",
              "3         27744\n",
              "4        198300\n",
              "5        212376\n",
              "         ...   \n",
              "378       98108\n",
              "379      111568\n",
              "380       45752\n",
              "381       57292\n",
              "0      0.326306\n",
              "Length: 382, dtype: object"
            ]
          },
          "metadata": {
            "tags": []
          },
          "execution_count": 147
        },
        {
          "output_type": "execute_result",
          "data": {
            "text/plain": [
              "1         13318\n",
              "2          4057\n",
              "3         10483\n",
              "4         42999\n",
              "5        438681\n",
              "         ...   \n",
              "378       30643\n",
              "379       17895\n",
              "380       49389\n",
              "381      128465\n",
              "0      0.155734\n",
              "Length: 382, dtype: object"
            ]
          },
          "metadata": {
            "tags": []
          },
          "execution_count": 147
        },
        {
          "output_type": "execute_result",
          "data": {
            "text/plain": [
              "1          50800\n",
              "2          11081\n",
              "3          10791\n",
              "4          61111\n",
              "5          64723\n",
              "         ...    \n",
              "378        34417\n",
              "379        42222\n",
              "380         9561\n",
              "381        13346\n",
              "0      0.0133474\n",
              "Length: 382, dtype: object"
            ]
          },
          "metadata": {
            "tags": []
          },
          "execution_count": 147
        },
        {
          "output_type": "execute_result",
          "data": {
            "text/plain": [
              "1          153784\n",
              "2           36663\n",
              "3           27744\n",
              "4          198300\n",
              "5          212376\n",
              "          ...    \n",
              "378         98108\n",
              "379        111568\n",
              "380         45752\n",
              "381         57292\n",
              "0      0.00906204\n",
              "Length: 382, dtype: object"
            ]
          },
          "metadata": {
            "tags": []
          },
          "execution_count": 147
        },
        {
          "output_type": "execute_result",
          "data": {
            "text/plain": [
              "1           13318\n",
              "2            4057\n",
              "3           10483\n",
              "4           42999\n",
              "5          438681\n",
              "          ...    \n",
              "378         30643\n",
              "379         17895\n",
              "380         49389\n",
              "381        128465\n",
              "0      0.00102197\n",
              "Length: 382, dtype: object"
            ]
          },
          "metadata": {
            "tags": []
          },
          "execution_count": 147
        },
        {
          "output_type": "execute_result",
          "data": {
            "text/plain": [
              "1           50800\n",
              "2           11081\n",
              "3           10791\n",
              "4           61111\n",
              "5           64723\n",
              "          ...    \n",
              "378         34417\n",
              "379         42222\n",
              "380          9561\n",
              "381         13346\n",
              "0      0.00989508\n",
              "Length: 382, dtype: object"
            ]
          },
          "metadata": {
            "tags": []
          },
          "execution_count": 147
        },
        {
          "output_type": "execute_result",
          "data": {
            "text/plain": [
              "1          153784\n",
              "2           36663\n",
              "3           27744\n",
              "4          198300\n",
              "5          212376\n",
              "          ...    \n",
              "378         98108\n",
              "379        111568\n",
              "380         45752\n",
              "381         57292\n",
              "0      0.00724884\n",
              "Length: 382, dtype: object"
            ]
          },
          "metadata": {
            "tags": []
          },
          "execution_count": 147
        },
        {
          "output_type": "execute_result",
          "data": {
            "text/plain": [
              "1           13318\n",
              "2            4057\n",
              "3           10483\n",
              "4           42999\n",
              "5          438681\n",
              "          ...    \n",
              "378         30643\n",
              "379         17895\n",
              "380         49389\n",
              "381        128465\n",
              "0      0.00141727\n",
              "Length: 382, dtype: object"
            ]
          },
          "metadata": {
            "tags": []
          },
          "execution_count": 147
        },
        {
          "output_type": "execute_result",
          "data": {
            "text/plain": [
              "1          50800\n",
              "2          11081\n",
              "3          10791\n",
              "4          61111\n",
              "5          64723\n",
              "         ...    \n",
              "378        34417\n",
              "379        42222\n",
              "380         9561\n",
              "381        13346\n",
              "0      0.0119985\n",
              "Length: 382, dtype: object"
            ]
          },
          "metadata": {
            "tags": []
          },
          "execution_count": 147
        },
        {
          "output_type": "execute_result",
          "data": {
            "text/plain": [
              "1          153784\n",
              "2           36663\n",
              "3           27744\n",
              "4          198300\n",
              "5          212376\n",
              "          ...    \n",
              "378         98108\n",
              "379        111568\n",
              "380         45752\n",
              "381         57292\n",
              "0      0.00641014\n",
              "Length: 382, dtype: object"
            ]
          },
          "metadata": {
            "tags": []
          },
          "execution_count": 147
        },
        {
          "output_type": "execute_result",
          "data": {
            "text/plain": [
              "1            13318\n",
              "2             4057\n",
              "3            10483\n",
              "4            42999\n",
              "5           438681\n",
              "          ...     \n",
              "378          30643\n",
              "379          17895\n",
              "380          49389\n",
              "381         128465\n",
              "0      0.000606756\n",
              "Length: 382, dtype: object"
            ]
          },
          "metadata": {
            "tags": []
          },
          "execution_count": 147
        },
        {
          "output_type": "execute_result",
          "data": {
            "text/plain": [
              "1           50800\n",
              "2           11081\n",
              "3           10791\n",
              "4           61111\n",
              "5           64723\n",
              "          ...    \n",
              "378         34417\n",
              "379         42222\n",
              "380          9561\n",
              "381         13346\n",
              "0      0.00995046\n",
              "Length: 382, dtype: object"
            ]
          },
          "metadata": {
            "tags": []
          },
          "execution_count": 147
        },
        {
          "output_type": "execute_result",
          "data": {
            "text/plain": [
              "1          153784\n",
              "2           36663\n",
              "3           27744\n",
              "4          198300\n",
              "5          212376\n",
              "          ...    \n",
              "378         98108\n",
              "379        111568\n",
              "380         45752\n",
              "381         57292\n",
              "0      0.00535645\n",
              "Length: 382, dtype: object"
            ]
          },
          "metadata": {
            "tags": []
          },
          "execution_count": 147
        },
        {
          "output_type": "execute_result",
          "data": {
            "text/plain": [
              "1            13318\n",
              "2             4057\n",
              "3            10483\n",
              "4            42999\n",
              "5           438681\n",
              "          ...     \n",
              "378          30643\n",
              "379          17895\n",
              "380          49389\n",
              "381         128465\n",
              "0      0.000257168\n",
              "Length: 382, dtype: object"
            ]
          },
          "metadata": {
            "tags": []
          },
          "execution_count": 147
        },
        {
          "output_type": "execute_result",
          "data": {
            "text/plain": [
              "1          50800\n",
              "2          11081\n",
              "3          10791\n",
              "4          61111\n",
              "5          64723\n",
              "         ...    \n",
              "378        34417\n",
              "379        42222\n",
              "380         9561\n",
              "381        13346\n",
              "0      0.0109413\n",
              "Length: 382, dtype: object"
            ]
          },
          "metadata": {
            "tags": []
          },
          "execution_count": 147
        },
        {
          "output_type": "execute_result",
          "data": {
            "text/plain": [
              "1          153784\n",
              "2           36663\n",
              "3           27744\n",
              "4          198300\n",
              "5          212376\n",
              "          ...    \n",
              "378         98108\n",
              "379        111568\n",
              "380         45752\n",
              "381         57292\n",
              "0      0.00613013\n",
              "Length: 382, dtype: object"
            ]
          },
          "metadata": {
            "tags": []
          },
          "execution_count": 147
        },
        {
          "output_type": "execute_result",
          "data": {
            "text/plain": [
              "1          13318\n",
              "2           4057\n",
              "3          10483\n",
              "4          42999\n",
              "5         438681\n",
              "         ...    \n",
              "378        30643\n",
              "379        17895\n",
              "380        49389\n",
              "381       128465\n",
              "0      0.0055646\n",
              "Length: 382, dtype: object"
            ]
          },
          "metadata": {
            "tags": []
          },
          "execution_count": 147
        },
        {
          "output_type": "execute_result",
          "data": {
            "text/plain": [
              "1           50800\n",
              "2           11081\n",
              "3           10791\n",
              "4           61111\n",
              "5           64723\n",
              "          ...    \n",
              "378         34417\n",
              "379         42222\n",
              "380          9561\n",
              "381         13346\n",
              "0      0.00974872\n",
              "Length: 382, dtype: object"
            ]
          },
          "metadata": {
            "tags": []
          },
          "execution_count": 147
        },
        {
          "output_type": "execute_result",
          "data": {
            "text/plain": [
              "1          153784\n",
              "2           36663\n",
              "3           27744\n",
              "4          198300\n",
              "5          212376\n",
              "          ...    \n",
              "378         98108\n",
              "379        111568\n",
              "380         45752\n",
              "381         57292\n",
              "0      0.00625133\n",
              "Length: 382, dtype: object"
            ]
          },
          "metadata": {
            "tags": []
          },
          "execution_count": 147
        },
        {
          "output_type": "execute_result",
          "data": {
            "text/plain": [
              "1            13318\n",
              "2             4057\n",
              "3            10483\n",
              "4            42999\n",
              "5           438681\n",
              "          ...     \n",
              "378          30643\n",
              "379          17895\n",
              "380          49389\n",
              "381         128465\n",
              "0      0.000230045\n",
              "Length: 382, dtype: object"
            ]
          },
          "metadata": {
            "tags": []
          },
          "execution_count": 147
        },
        {
          "output_type": "execute_result",
          "data": {
            "text/plain": [
              "1          50800\n",
              "2          11081\n",
              "3          10791\n",
              "4          61111\n",
              "5          64723\n",
              "         ...    \n",
              "378        34417\n",
              "379        42222\n",
              "380         9561\n",
              "381        13346\n",
              "0      0.0479851\n",
              "Length: 382, dtype: object"
            ]
          },
          "metadata": {
            "tags": []
          },
          "execution_count": 147
        },
        {
          "output_type": "execute_result",
          "data": {
            "text/plain": [
              "1         153784\n",
              "2          36663\n",
              "3          27744\n",
              "4         198300\n",
              "5         212376\n",
              "         ...    \n",
              "378        98108\n",
              "379       111568\n",
              "380        45752\n",
              "381        57292\n",
              "0      0.0349713\n",
              "Length: 382, dtype: object"
            ]
          },
          "metadata": {
            "tags": []
          },
          "execution_count": 147
        },
        {
          "output_type": "execute_result",
          "data": {
            "text/plain": [
              "1          13318\n",
              "2           4057\n",
              "3          10483\n",
              "4          42999\n",
              "5         438681\n",
              "         ...    \n",
              "378        30643\n",
              "379        17895\n",
              "380        49389\n",
              "381       128465\n",
              "0      0.0134998\n",
              "Length: 382, dtype: object"
            ]
          },
          "metadata": {
            "tags": []
          },
          "execution_count": 147
        },
        {
          "output_type": "execute_result",
          "data": {
            "text/plain": [
              "1           50800\n",
              "2           11081\n",
              "3           10791\n",
              "4           61111\n",
              "5           64723\n",
              "          ...    \n",
              "378         34417\n",
              "379         42222\n",
              "380          9561\n",
              "381         13346\n",
              "0      0.00869849\n",
              "Length: 382, dtype: object"
            ]
          },
          "metadata": {
            "tags": []
          },
          "execution_count": 147
        },
        {
          "output_type": "execute_result",
          "data": {
            "text/plain": [
              "1          153784\n",
              "2           36663\n",
              "3           27744\n",
              "4          198300\n",
              "5          212376\n",
              "          ...    \n",
              "378         98108\n",
              "379        111568\n",
              "380         45752\n",
              "381         57292\n",
              "0      0.00873735\n",
              "Length: 382, dtype: object"
            ]
          },
          "metadata": {
            "tags": []
          },
          "execution_count": 147
        },
        {
          "output_type": "execute_result",
          "data": {
            "text/plain": [
              "1           13318\n",
              "2            4057\n",
              "3           10483\n",
              "4           42999\n",
              "5          438681\n",
              "          ...    \n",
              "378         30643\n",
              "379         17895\n",
              "380         49389\n",
              "381        128465\n",
              "0      0.00430974\n",
              "Length: 382, dtype: object"
            ]
          },
          "metadata": {
            "tags": []
          },
          "execution_count": 147
        },
        {
          "output_type": "execute_result",
          "data": {
            "text/plain": [
              "1           50800\n",
              "2           11081\n",
              "3           10791\n",
              "4           61111\n",
              "5           64723\n",
              "          ...    \n",
              "378         34417\n",
              "379         42222\n",
              "380          9561\n",
              "381         13346\n",
              "0      0.00960532\n",
              "Length: 382, dtype: object"
            ]
          },
          "metadata": {
            "tags": []
          },
          "execution_count": 147
        },
        {
          "output_type": "execute_result",
          "data": {
            "text/plain": [
              "1          153784\n",
              "2           36663\n",
              "3           27744\n",
              "4          198300\n",
              "5          212376\n",
              "          ...    \n",
              "378         98108\n",
              "379        111568\n",
              "380         45752\n",
              "381         57292\n",
              "0      0.00538874\n",
              "Length: 382, dtype: object"
            ]
          },
          "metadata": {
            "tags": []
          },
          "execution_count": 147
        },
        {
          "output_type": "execute_result",
          "data": {
            "text/plain": [
              "1            13318\n",
              "2             4057\n",
              "3            10483\n",
              "4            42999\n",
              "5           438681\n",
              "          ...     \n",
              "378          30643\n",
              "379          17895\n",
              "380          49389\n",
              "381         128465\n",
              "0      0.000369009\n",
              "Length: 382, dtype: object"
            ]
          },
          "metadata": {
            "tags": []
          },
          "execution_count": 147
        },
        {
          "output_type": "execute_result",
          "data": {
            "text/plain": [
              "1          50800\n",
              "2          11081\n",
              "3          10791\n",
              "4          61111\n",
              "5          64723\n",
              "         ...    \n",
              "378        34417\n",
              "379        42222\n",
              "380         9561\n",
              "381        13346\n",
              "0      0.0226837\n",
              "Length: 382, dtype: object"
            ]
          },
          "metadata": {
            "tags": []
          },
          "execution_count": 147
        },
        {
          "output_type": "execute_result",
          "data": {
            "text/plain": [
              "1         153784\n",
              "2          36663\n",
              "3          27744\n",
              "4         198300\n",
              "5         212376\n",
              "         ...    \n",
              "378        98108\n",
              "379       111568\n",
              "380        45752\n",
              "381        57292\n",
              "0      0.0147671\n",
              "Length: 382, dtype: object"
            ]
          },
          "metadata": {
            "tags": []
          },
          "execution_count": 147
        },
        {
          "output_type": "execute_result",
          "data": {
            "text/plain": [
              "1           13318\n",
              "2            4057\n",
              "3           10483\n",
              "4           42999\n",
              "5          438681\n",
              "          ...    \n",
              "378         30643\n",
              "379         17895\n",
              "380         49389\n",
              "381        128465\n",
              "0      0.00264099\n",
              "Length: 382, dtype: object"
            ]
          },
          "metadata": {
            "tags": []
          },
          "execution_count": 147
        },
        {
          "output_type": "execute_result",
          "data": {
            "text/plain": [
              "1           50800\n",
              "2           11081\n",
              "3           10791\n",
              "4           61111\n",
              "5           64723\n",
              "          ...    \n",
              "378         34417\n",
              "379         42222\n",
              "380          9561\n",
              "381         13346\n",
              "0      0.00967059\n",
              "Length: 382, dtype: object"
            ]
          },
          "metadata": {
            "tags": []
          },
          "execution_count": 147
        },
        {
          "output_type": "execute_result",
          "data": {
            "text/plain": [
              "1         153784\n",
              "2          36663\n",
              "3          27744\n",
              "4         198300\n",
              "5         212376\n",
              "         ...    \n",
              "378        98108\n",
              "379       111568\n",
              "380        45752\n",
              "381        57292\n",
              "0      0.0069372\n",
              "Length: 382, dtype: object"
            ]
          },
          "metadata": {
            "tags": []
          },
          "execution_count": 147
        },
        {
          "output_type": "execute_result",
          "data": {
            "text/plain": [
              "1           13318\n",
              "2            4057\n",
              "3           10483\n",
              "4           42999\n",
              "5          438681\n",
              "          ...    \n",
              "378         30643\n",
              "379         17895\n",
              "380         49389\n",
              "381        128465\n",
              "0      0.00192206\n",
              "Length: 382, dtype: object"
            ]
          },
          "metadata": {
            "tags": []
          },
          "execution_count": 147
        },
        {
          "output_type": "execute_result",
          "data": {
            "text/plain": [
              "1          50800\n",
              "2          11081\n",
              "3          10791\n",
              "4          61111\n",
              "5          64723\n",
              "         ...    \n",
              "378        34417\n",
              "379        42222\n",
              "380         9561\n",
              "381        13346\n",
              "0      0.0475114\n",
              "Length: 382, dtype: object"
            ]
          },
          "metadata": {
            "tags": []
          },
          "execution_count": 147
        },
        {
          "output_type": "execute_result",
          "data": {
            "text/plain": [
              "1         153784\n",
              "2          36663\n",
              "3          27744\n",
              "4         198300\n",
              "5         212376\n",
              "         ...    \n",
              "378        98108\n",
              "379       111568\n",
              "380        45752\n",
              "381        57292\n",
              "0      0.0318087\n",
              "Length: 382, dtype: object"
            ]
          },
          "metadata": {
            "tags": []
          },
          "execution_count": 147
        },
        {
          "output_type": "execute_result",
          "data": {
            "text/plain": [
              "1          13318\n",
              "2           4057\n",
              "3          10483\n",
              "4          42999\n",
              "5         438681\n",
              "         ...    \n",
              "378        30643\n",
              "379        17895\n",
              "380        49389\n",
              "381       128465\n",
              "0      0.0110073\n",
              "Length: 382, dtype: object"
            ]
          },
          "metadata": {
            "tags": []
          },
          "execution_count": 147
        },
        {
          "output_type": "execute_result",
          "data": {
            "text/plain": [
              "1         50800\n",
              "2         11081\n",
              "3         10791\n",
              "4         61111\n",
              "5         64723\n",
              "         ...   \n",
              "378       34417\n",
              "379       42222\n",
              "380        9561\n",
              "381       13346\n",
              "0      0.060038\n",
              "Length: 382, dtype: object"
            ]
          },
          "metadata": {
            "tags": []
          },
          "execution_count": 147
        },
        {
          "output_type": "execute_result",
          "data": {
            "text/plain": [
              "1        153784\n",
              "2         36663\n",
              "3         27744\n",
              "4        198300\n",
              "5        212376\n",
              "         ...   \n",
              "378       98108\n",
              "379      111568\n",
              "380       45752\n",
              "381       57292\n",
              "0      0.046486\n",
              "Length: 382, dtype: object"
            ]
          },
          "metadata": {
            "tags": []
          },
          "execution_count": 147
        },
        {
          "output_type": "execute_result",
          "data": {
            "text/plain": [
              "1          13318\n",
              "2           4057\n",
              "3          10483\n",
              "4          42999\n",
              "5         438681\n",
              "         ...    \n",
              "378        30643\n",
              "379        17895\n",
              "380        49389\n",
              "381       128465\n",
              "0      0.0169806\n",
              "Length: 382, dtype: object"
            ]
          },
          "metadata": {
            "tags": []
          },
          "execution_count": 147
        },
        {
          "output_type": "execute_result",
          "data": {
            "text/plain": [
              "1          50800\n",
              "2          11081\n",
              "3          10791\n",
              "4          61111\n",
              "5          64723\n",
              "         ...    \n",
              "378        34417\n",
              "379        42222\n",
              "380         9561\n",
              "381        13346\n",
              "0      0.0166949\n",
              "Length: 382, dtype: object"
            ]
          },
          "metadata": {
            "tags": []
          },
          "execution_count": 147
        },
        {
          "output_type": "execute_result",
          "data": {
            "text/plain": [
              "1         153784\n",
              "2          36663\n",
              "3          27744\n",
              "4         198300\n",
              "5         212376\n",
              "         ...    \n",
              "378        98108\n",
              "379       111568\n",
              "380        45752\n",
              "381        57292\n",
              "0      0.0148655\n",
              "Length: 382, dtype: object"
            ]
          },
          "metadata": {
            "tags": []
          },
          "execution_count": 147
        },
        {
          "output_type": "execute_result",
          "data": {
            "text/plain": [
              "1          13318\n",
              "2           4057\n",
              "3          10483\n",
              "4          42999\n",
              "5         438681\n",
              "         ...    \n",
              "378        30643\n",
              "379        17895\n",
              "380        49389\n",
              "381       128465\n",
              "0      0.0201046\n",
              "Length: 382, dtype: object"
            ]
          },
          "metadata": {
            "tags": []
          },
          "execution_count": 147
        },
        {
          "output_type": "execute_result",
          "data": {
            "text/plain": [
              "1          50800\n",
              "2          11081\n",
              "3          10791\n",
              "4          61111\n",
              "5          64723\n",
              "         ...    \n",
              "378        34417\n",
              "379        42222\n",
              "380         9561\n",
              "381        13346\n",
              "0      0.0340355\n",
              "Length: 382, dtype: object"
            ]
          },
          "metadata": {
            "tags": []
          },
          "execution_count": 147
        },
        {
          "output_type": "execute_result",
          "data": {
            "text/plain": [
              "1         153784\n",
              "2          36663\n",
              "3          27744\n",
              "4         198300\n",
              "5         212376\n",
              "         ...    \n",
              "378        98108\n",
              "379       111568\n",
              "380        45752\n",
              "381        57292\n",
              "0      0.0216992\n",
              "Length: 382, dtype: object"
            ]
          },
          "metadata": {
            "tags": []
          },
          "execution_count": 147
        },
        {
          "output_type": "execute_result",
          "data": {
            "text/plain": [
              "1           13318\n",
              "2            4057\n",
              "3           10483\n",
              "4           42999\n",
              "5          438681\n",
              "          ...    \n",
              "378         30643\n",
              "379         17895\n",
              "380         49389\n",
              "381        128465\n",
              "0      0.00513047\n",
              "Length: 382, dtype: object"
            ]
          },
          "metadata": {
            "tags": []
          },
          "execution_count": 147
        },
        {
          "output_type": "execute_result",
          "data": {
            "text/plain": [
              "1          50800\n",
              "2          11081\n",
              "3          10791\n",
              "4          61111\n",
              "5          64723\n",
              "         ...    \n",
              "378        34417\n",
              "379        42222\n",
              "380         9561\n",
              "381        13346\n",
              "0      0.0417539\n",
              "Length: 382, dtype: object"
            ]
          },
          "metadata": {
            "tags": []
          },
          "execution_count": 147
        },
        {
          "output_type": "execute_result",
          "data": {
            "text/plain": [
              "1         153784\n",
              "2          36663\n",
              "3          27744\n",
              "4         198300\n",
              "5         212376\n",
              "         ...    \n",
              "378        98108\n",
              "379       111568\n",
              "380        45752\n",
              "381        57292\n",
              "0      0.0246762\n",
              "Length: 382, dtype: object"
            ]
          },
          "metadata": {
            "tags": []
          },
          "execution_count": 147
        },
        {
          "output_type": "execute_result",
          "data": {
            "text/plain": [
              "1           13318\n",
              "2            4057\n",
              "3           10483\n",
              "4           42999\n",
              "5          438681\n",
              "          ...    \n",
              "378         30643\n",
              "379         17895\n",
              "380         49389\n",
              "381        128465\n",
              "0      0.00299611\n",
              "Length: 382, dtype: object"
            ]
          },
          "metadata": {
            "tags": []
          },
          "execution_count": 147
        },
        {
          "output_type": "execute_result",
          "data": {
            "text/plain": [
              "1           50800\n",
              "2           11081\n",
              "3           10791\n",
              "4           61111\n",
              "5           64723\n",
              "          ...    \n",
              "378         34417\n",
              "379         42222\n",
              "380          9561\n",
              "381         13346\n",
              "0      0.00945501\n",
              "Length: 382, dtype: object"
            ]
          },
          "metadata": {
            "tags": []
          },
          "execution_count": 147
        },
        {
          "output_type": "execute_result",
          "data": {
            "text/plain": [
              "1         153784\n",
              "2          36663\n",
              "3          27744\n",
              "4         198300\n",
              "5         212376\n",
              "         ...    \n",
              "378        98108\n",
              "379       111568\n",
              "380        45752\n",
              "381        57292\n",
              "0      0.0101193\n",
              "Length: 382, dtype: object"
            ]
          },
          "metadata": {
            "tags": []
          },
          "execution_count": 147
        },
        {
          "output_type": "execute_result",
          "data": {
            "text/plain": [
              "1           13318\n",
              "2            4057\n",
              "3           10483\n",
              "4           42999\n",
              "5          438681\n",
              "          ...    \n",
              "378         30643\n",
              "379         17895\n",
              "380         49389\n",
              "381        128465\n",
              "0      0.00826905\n",
              "Length: 382, dtype: object"
            ]
          },
          "metadata": {
            "tags": []
          },
          "execution_count": 147
        },
        {
          "output_type": "execute_result",
          "data": {
            "text/plain": [
              "1         50800\n",
              "2         11081\n",
              "3         10791\n",
              "4         61111\n",
              "5         64723\n",
              "         ...   \n",
              "378       34417\n",
              "379       42222\n",
              "380        9561\n",
              "381       13346\n",
              "0      0.013198\n",
              "Length: 382, dtype: object"
            ]
          },
          "metadata": {
            "tags": []
          },
          "execution_count": 147
        },
        {
          "output_type": "execute_result",
          "data": {
            "text/plain": [
              "1         153784\n",
              "2          36663\n",
              "3          27744\n",
              "4         198300\n",
              "5         212376\n",
              "         ...    \n",
              "378        98108\n",
              "379       111568\n",
              "380        45752\n",
              "381        57292\n",
              "0      0.0126716\n",
              "Length: 382, dtype: object"
            ]
          },
          "metadata": {
            "tags": []
          },
          "execution_count": 147
        },
        {
          "output_type": "execute_result",
          "data": {
            "text/plain": [
              "1          13318\n",
              "2           4057\n",
              "3          10483\n",
              "4          42999\n",
              "5         438681\n",
              "         ...    \n",
              "378        30643\n",
              "379        17895\n",
              "380        49389\n",
              "381       128465\n",
              "0      0.0215085\n",
              "Length: 382, dtype: object"
            ]
          },
          "metadata": {
            "tags": []
          },
          "execution_count": 147
        }
      ]
    },
    {
      "cell_type": "code",
      "metadata": {
        "id": "aE0yhbpRnGCZ",
        "colab_type": "code",
        "colab": {}
      },
      "source": [
        "df5['Household'] = Household\n",
        "df5['AR'] = AR\n",
        "df5['HP'] = HP\n",
        "#convert each parameter to percentages\n",
        "percentmean = []\n",
        "for i, row in df5.iterrows():\n",
        "    Mean = (df5['Household'][i] + df5['AR'][i]+ df5['HP'][i])/3\n",
        "    percentmean.append(Mean)\n",
        "df5['percentmean'] = percentmean "
      ],
      "execution_count": 0,
      "outputs": []
    },
    {
      "cell_type": "code",
      "metadata": {
        "id": "a1FBbVOynbKY",
        "colab_type": "code",
        "outputId": "4d221538-b425-4169-b668-247c7d772408",
        "colab": {
          "base_uri": "https://localhost:8080/",
          "height": 51
        }
      },
      "source": [
        "print(df5.loc[df5['percentmean'] == max(df5['percentmean'])])"
      ],
      "execution_count": 0,
      "outputs": [
        {
          "output_type": "stream",
          "text": [
            "       Household           AR          HP  percentmean\n",
            "249  1.01121e+06  4.52128e+06  4.8636e+06    3465363.0\n"
          ],
          "name": "stdout"
        }
      ]
    },
    {
      "cell_type": "code",
      "metadata": {
        "id": "c1THlmEO5GWv",
        "colab_type": "code",
        "outputId": "b28b9a0a-41bd-4981-fc95-aae68fb3046b",
        "colab": {
          "base_uri": "https://localhost:8080/",
          "height": 419
        }
      },
      "source": [
        "df2"
      ],
      "execution_count": 0,
      "outputs": [
        {
          "output_type": "execute_result",
          "data": {
            "text/html": [
              "<div>\n",
              "<style scoped>\n",
              "    .dataframe tbody tr th:only-of-type {\n",
              "        vertical-align: middle;\n",
              "    }\n",
              "\n",
              "    .dataframe tbody tr th {\n",
              "        vertical-align: top;\n",
              "    }\n",
              "\n",
              "    .dataframe thead th {\n",
              "        text-align: right;\n",
              "    }\n",
              "</style>\n",
              "<table border=\"1\" class=\"dataframe\">\n",
              "  <thead>\n",
              "    <tr style=\"text-align: right;\">\n",
              "      <th></th>\n",
              "      <th>country</th>\n",
              "      <th>population</th>\n",
              "    </tr>\n",
              "  </thead>\n",
              "  <tbody>\n",
              "    <tr>\n",
              "      <th>1</th>\n",
              "      <td>[31000US10420]</td>\n",
              "      <td>50800</td>\n",
              "    </tr>\n",
              "    <tr>\n",
              "      <th>2</th>\n",
              "      <td>[31000US10500]</td>\n",
              "      <td>11081</td>\n",
              "    </tr>\n",
              "    <tr>\n",
              "      <th>3</th>\n",
              "      <td>[31000US10540]</td>\n",
              "      <td>10791</td>\n",
              "    </tr>\n",
              "    <tr>\n",
              "      <th>4</th>\n",
              "      <td>[31000US10580]</td>\n",
              "      <td>61111</td>\n",
              "    </tr>\n",
              "    <tr>\n",
              "      <th>5</th>\n",
              "      <td>[31000US10740]</td>\n",
              "      <td>64723</td>\n",
              "    </tr>\n",
              "    <tr>\n",
              "      <th>...</th>\n",
              "      <td>...</td>\n",
              "      <td>...</td>\n",
              "    </tr>\n",
              "    <tr>\n",
              "      <th>377</th>\n",
              "      <td>[31000US49420]</td>\n",
              "      <td>16882</td>\n",
              "    </tr>\n",
              "    <tr>\n",
              "      <th>378</th>\n",
              "      <td>[31000US49620]</td>\n",
              "      <td>34417</td>\n",
              "    </tr>\n",
              "    <tr>\n",
              "      <th>379</th>\n",
              "      <td>[31000US49660]</td>\n",
              "      <td>42222</td>\n",
              "    </tr>\n",
              "    <tr>\n",
              "      <th>380</th>\n",
              "      <td>[31000US49700]</td>\n",
              "      <td>9561</td>\n",
              "    </tr>\n",
              "    <tr>\n",
              "      <th>381</th>\n",
              "      <td>[31000US49740]</td>\n",
              "      <td>13346</td>\n",
              "    </tr>\n",
              "  </tbody>\n",
              "</table>\n",
              "<p>381 rows × 2 columns</p>\n",
              "</div>"
            ],
            "text/plain": [
              "            country population\n",
              "1    [31000US10420]      50800\n",
              "2    [31000US10500]      11081\n",
              "3    [31000US10540]      10791\n",
              "4    [31000US10580]      61111\n",
              "5    [31000US10740]      64723\n",
              "..              ...        ...\n",
              "377  [31000US49420]      16882\n",
              "378  [31000US49620]      34417\n",
              "379  [31000US49660]      42222\n",
              "380  [31000US49700]       9561\n",
              "381  [31000US49740]      13346\n",
              "\n",
              "[381 rows x 2 columns]"
            ]
          },
          "metadata": {
            "tags": []
          },
          "execution_count": 169
        }
      ]
    },
    {
      "cell_type": "code",
      "metadata": {
        "id": "LyCxXzmXoC7S",
        "colab_type": "code",
        "outputId": "e62ec833-de0a-4643-9dca-00216563bf7d",
        "colab": {
          "base_uri": "https://localhost:8080/",
          "height": 51
        }
      },
      "source": [
        "print(df2.loc[df2['population']==1011210]) "
      ],
      "execution_count": 0,
      "outputs": [
        {
          "output_type": "stream",
          "text": [
            "            country   population\n",
            "249  [31000US35620]  1.01121e+06\n"
          ],
          "name": "stdout"
        }
      ]
    },
    {
      "cell_type": "code",
      "metadata": {
        "id": "udohWKUNnuJi",
        "colab_type": "code",
        "outputId": "bc838bd9-31b7-40a0-d761-ed9a64ece953",
        "colab": {
          "base_uri": "https://localhost:8080/",
          "height": 51
        }
      },
      "source": [
        "#print to see which city\n",
        "print(msas.loc[msas['CBSA'] == 35620])"
      ],
      "execution_count": 0,
      "outputs": [
        {
          "output_type": "stream",
          "text": [
            "      CBSA                                   NAME  POPESTIMATE2017\n",
            "249  35620  New York-Newark-Jersey City, NY-NJ-PA         20320876\n"
          ],
          "name": "stdout"
        }
      ]
    },
    {
      "cell_type": "code",
      "metadata": {
        "id": "em4ASJVnttYe",
        "colab_type": "code",
        "colab": {}
      },
      "source": [
        ""
      ],
      "execution_count": 0,
      "outputs": []
    }
  ]
}